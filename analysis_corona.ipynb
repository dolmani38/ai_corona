{
  "nbformat": 4,
  "nbformat_minor": 0,
  "metadata": {
    "kernelspec": {
      "display_name": "Python 3",
      "language": "python",
      "name": "python3"
    },
    "language_info": {
      "codemirror_mode": {
        "name": "ipython",
        "version": 3
      },
      "file_extension": ".py",
      "mimetype": "text/x-python",
      "name": "python",
      "nbconvert_exporter": "python",
      "pygments_lexer": "ipython3",
      "version": "3.6.8"
    },
    "colab": {
      "name": "analysis_corona.ipynb",
      "provenance": [],
      "include_colab_link": true
    },
    "accelerator": "GPU"
  },
  "cells": [
    {
      "cell_type": "markdown",
      "metadata": {
        "id": "view-in-github",
        "colab_type": "text"
      },
      "source": [
        "<a href=\"https://colab.research.google.com/github/dolmani38/ai_corona/blob/master/analysis_corona.ipynb\" target=\"_parent\"><img src=\"https://colab.research.google.com/assets/colab-badge.svg\" alt=\"Open In Colab\"/></a>"
      ]
    },
    {
      "cell_type": "markdown",
      "metadata": {
        "id": "miLXad5ebLQQ",
        "colab_type": "text"
      },
      "source": [
        "코로나19에 대한 입국자수 예측 분석은 Numeric timeseries data와 Unstructured text data를 혼합하여 미래를 예측하는 전형적인 분석 방식이다.\n",
        "이하 분석 방법과 알고리즘은 이번 코로나 상황에서 우리나라 입국자 수를 예측하는데 뿐만아니라 \n",
        "일반화 하여 뉴스 정보를 포함한 각종 시계열 정보를 예측하는데도 효과적으로 사용 될 수 있을 것으로 기대한다.\n",
        "\n",
        "\n",
        "<b>1. Forecast with numeric timeseries data</b>\n",
        "   <br>먼저 로밍등록자 추세에 대해 1D Convolution에 의한 regression으로 입국자를 추정한다.\n",
        "\n",
        "<b>2. Forecast with unstructured timeseries data</b>\n",
        "   <br>news를 doc2vec으로 vector화 하여 Convolution에 의한 regression으로 입국자를 추정한다.\n",
        "\n",
        "<b>3. Forecast with combined numeric timeseries and unstructured timeseries data</b>\n",
        "   <br>마지막으로 두개의 feature group을 합친 알고리즘에 의해 입국자를 추정한다.\n",
        "\n",
        "로밍등록자 정보는 과거 추세를 잘 설명할 것이나, 예측력은 떨어질 듯..\n",
        "news에 의한 입국자수 추정은 과거 추세 설명력도 떨어지고 예측력도 로밍등록자 Case보다는 떨어지겠지만 미래 예측적인 측면에서는 정형(수치) 시계열 추정보다는 좋을 듯...\n",
        "\n"
      ]
    },
    {
      "cell_type": "markdown",
      "metadata": {
        "id": "ZK8r665JcK48",
        "colab_type": "text"
      },
      "source": [
        "1. Forecast with numeric timeseries data<br>\n",
        "  1.1 Roaming Data의 load<br>\n",
        " \t1.2 Roaming Data에 대한 EDA\n",
        " \t\t1.2.1 도착일을 기준으로 입국자(로밍등록자)의 합산\n",
        " \t\t1.2.2 입국자(로밍등록자) 추세 chart 확인\n",
        " \t1.3 Roaming Data의 전처리\n",
        " \t\t1.3.1 iso 별로 재배열\n",
        " \t\t1.3.2 2주 (14일) 평균 추세 추가.\n",
        " \t\t1.3.3 Trainingset의 구성\n",
        " \t1.4 CNN model 구성 \n",
        " \t1.5 model training\n",
        " \t\t1.5.1 model training\n",
        " \t\t1.5.2 학습에 대한 mean_absolute_error 확인.\n",
        " \t\t1.5.3 trainset에 의한 과거 data의 예측 입국자 count \n",
        " \t\t1.5.4 과거 Data에서 실등록자 count와 예측 count의 비교 \n",
        " \t1.6  향후 15일 예측\n",
        " \t\t1.6.1 testset (마지막 30일)의 inference\n",
        " \t\t1.6.2 로밍등록자 예측 Count에서 실입국자 보정 처리 및 결과 표출\n",
        "\n",
        "\n"
      ]
    },
    {
      "cell_type": "code",
      "metadata": {
        "id": "gOxxPLoQDHaw",
        "colab_type": "code",
        "outputId": "fea4e741-8b52-4e6a-fe16-7269bfb349b6",
        "colab": {
          "base_uri": "https://localhost:8080/",
          "height": 424
        }
      },
      "source": [
        "# 1. Forecast with numeric timeseries data\n",
        "# 1.1 Roaming Data의 load\n",
        "\n",
        "import pandas as pd\n",
        "import numpy as np\n",
        "import matplotlib.pyplot as plt\n",
        "\n",
        "#공개된 Roaming Dataset을 읽고, 중간 중간 나온것을 합친다.\n",
        "rm1 = pd.read_csv(\"https://raw.githubusercontent.com/dolmani38/ai_corona/master/corona_contest_data_0406/Roaming_data.csv\",encoding=\"utf-8\")\n",
        "rm2 = pd.read_csv(\"https://raw.githubusercontent.com/dolmani38/ai_corona/master/corona_contest_data_0429/Roaming_data.csv\",encoding=\"utf-8\")\n",
        "rm = pd.concat([rm1, rm2], ignore_index=True, sort=False)\n",
        "\n",
        "# 합친 Dataset의 내용 확인\n",
        "rm"
      ],
      "execution_count": 0,
      "outputs": [
        {
          "output_type": "execute_result",
          "data": {
            "text/html": [
              "<div>\n",
              "<style scoped>\n",
              "    .dataframe tbody tr th:only-of-type {\n",
              "        vertical-align: middle;\n",
              "    }\n",
              "\n",
              "    .dataframe tbody tr th {\n",
              "        vertical-align: top;\n",
              "    }\n",
              "\n",
              "    .dataframe thead th {\n",
              "        text-align: right;\n",
              "    }\n",
              "</style>\n",
              "<table border=\"1\" class=\"dataframe\">\n",
              "  <thead>\n",
              "    <tr style=\"text-align: right;\">\n",
              "      <th></th>\n",
              "      <th>return</th>\n",
              "      <th>iso</th>\n",
              "      <th>arrival</th>\n",
              "      <th>departure</th>\n",
              "      <th>count</th>\n",
              "    </tr>\n",
              "  </thead>\n",
              "  <tbody>\n",
              "    <tr>\n",
              "      <th>0</th>\n",
              "      <td>20200131</td>\n",
              "      <td>ad</td>\n",
              "      <td>20200130</td>\n",
              "      <td>20200130</td>\n",
              "      <td>3</td>\n",
              "    </tr>\n",
              "    <tr>\n",
              "      <th>1</th>\n",
              "      <td>20200131</td>\n",
              "      <td>ae</td>\n",
              "      <td>20191231</td>\n",
              "      <td>20200125</td>\n",
              "      <td>3</td>\n",
              "    </tr>\n",
              "    <tr>\n",
              "      <th>2</th>\n",
              "      <td>20200131</td>\n",
              "      <td>ae</td>\n",
              "      <td>20191231</td>\n",
              "      <td>20200131</td>\n",
              "      <td>3</td>\n",
              "    </tr>\n",
              "    <tr>\n",
              "      <th>3</th>\n",
              "      <td>20200131</td>\n",
              "      <td>ae</td>\n",
              "      <td>20200102</td>\n",
              "      <td>20200102</td>\n",
              "      <td>3</td>\n",
              "    </tr>\n",
              "    <tr>\n",
              "      <th>4</th>\n",
              "      <td>20200131</td>\n",
              "      <td>ae</td>\n",
              "      <td>20200104</td>\n",
              "      <td>20200131</td>\n",
              "      <td>3</td>\n",
              "    </tr>\n",
              "    <tr>\n",
              "      <th>...</th>\n",
              "      <td>...</td>\n",
              "      <td>...</td>\n",
              "      <td>...</td>\n",
              "      <td>...</td>\n",
              "      <td>...</td>\n",
              "    </tr>\n",
              "    <tr>\n",
              "      <th>217800</th>\n",
              "      <td>20200401</td>\n",
              "      <td>vn</td>\n",
              "      <td>20200330</td>\n",
              "      <td>20200401</td>\n",
              "      <td>3</td>\n",
              "    </tr>\n",
              "    <tr>\n",
              "      <th>217801</th>\n",
              "      <td>20200401</td>\n",
              "      <td>vn</td>\n",
              "      <td>20200331</td>\n",
              "      <td>20200331</td>\n",
              "      <td>20</td>\n",
              "    </tr>\n",
              "    <tr>\n",
              "      <th>217802</th>\n",
              "      <td>20200401</td>\n",
              "      <td>vn</td>\n",
              "      <td>20200331</td>\n",
              "      <td>20200401</td>\n",
              "      <td>6</td>\n",
              "    </tr>\n",
              "    <tr>\n",
              "      <th>217803</th>\n",
              "      <td>20200401</td>\n",
              "      <td>vn</td>\n",
              "      <td>20200401</td>\n",
              "      <td>20200401</td>\n",
              "      <td>45</td>\n",
              "    </tr>\n",
              "    <tr>\n",
              "      <th>217804</th>\n",
              "      <td>20200401</td>\n",
              "      <td>zm</td>\n",
              "      <td>20200331</td>\n",
              "      <td>20200331</td>\n",
              "      <td>3</td>\n",
              "    </tr>\n",
              "  </tbody>\n",
              "</table>\n",
              "<p>217805 rows × 5 columns</p>\n",
              "</div>"
            ],
            "text/plain": [
              "          return iso   arrival  departure  count\n",
              "0       20200131  ad  20200130   20200130      3\n",
              "1       20200131  ae  20191231   20200125      3\n",
              "2       20200131  ae  20191231   20200131      3\n",
              "3       20200131  ae  20200102   20200102      3\n",
              "4       20200131  ae  20200104   20200131      3\n",
              "...          ...  ..       ...        ...    ...\n",
              "217800  20200401  vn  20200330   20200401      3\n",
              "217801  20200401  vn  20200331   20200331     20\n",
              "217802  20200401  vn  20200331   20200401      6\n",
              "217803  20200401  vn  20200401   20200401     45\n",
              "217804  20200401  zm  20200331   20200331      3\n",
              "\n",
              "[217805 rows x 5 columns]"
            ]
          },
          "metadata": {
            "tags": []
          },
          "execution_count": 2
        }
      ]
    },
    {
      "cell_type": "code",
      "metadata": {
        "id": "fD8qX6MSDPPv",
        "colab_type": "code",
        "outputId": "1947b764-55d9-427b-804d-9bdefb55c4cf",
        "colab": {
          "base_uri": "https://localhost:8080/",
          "height": 456
        }
      },
      "source": [
        "# 1.2 Roaming Data에 대한 EDA\n",
        "# 1.2.1 도착일을 기준으로 입국자(로밍등록자)의 합산\n",
        "\n",
        "ar = pd.DataFrame(rm.groupby('arrival')['count'].sum())\n",
        "ar['date'] =  ar.index.astype('object')\n",
        "#date column을 datetime 으로 casting 한다.\n",
        "ar['date'] =  pd.to_datetime(ar['date'], format='%Y%m%d')\n",
        "\n",
        "# 날자별 입국자(로밍등록자) 정리 dataset 확인\n",
        "ar"
      ],
      "execution_count": 0,
      "outputs": [
        {
          "output_type": "execute_result",
          "data": {
            "text/html": [
              "<div>\n",
              "<style scoped>\n",
              "    .dataframe tbody tr th:only-of-type {\n",
              "        vertical-align: middle;\n",
              "    }\n",
              "\n",
              "    .dataframe tbody tr th {\n",
              "        vertical-align: top;\n",
              "    }\n",
              "\n",
              "    .dataframe thead th {\n",
              "        text-align: right;\n",
              "    }\n",
              "</style>\n",
              "<table border=\"1\" class=\"dataframe\">\n",
              "  <thead>\n",
              "    <tr style=\"text-align: right;\">\n",
              "      <th></th>\n",
              "      <th>count</th>\n",
              "      <th>date</th>\n",
              "    </tr>\n",
              "    <tr>\n",
              "      <th>arrival</th>\n",
              "      <th></th>\n",
              "      <th></th>\n",
              "    </tr>\n",
              "  </thead>\n",
              "  <tbody>\n",
              "    <tr>\n",
              "      <th>20191031</th>\n",
              "      <td>91</td>\n",
              "      <td>2019-10-31</td>\n",
              "    </tr>\n",
              "    <tr>\n",
              "      <th>20191101</th>\n",
              "      <td>36</td>\n",
              "      <td>2019-11-01</td>\n",
              "    </tr>\n",
              "    <tr>\n",
              "      <th>20191102</th>\n",
              "      <td>120</td>\n",
              "      <td>2019-11-02</td>\n",
              "    </tr>\n",
              "    <tr>\n",
              "      <th>20191103</th>\n",
              "      <td>159</td>\n",
              "      <td>2019-11-03</td>\n",
              "    </tr>\n",
              "    <tr>\n",
              "      <th>20191104</th>\n",
              "      <td>179</td>\n",
              "      <td>2019-11-04</td>\n",
              "    </tr>\n",
              "    <tr>\n",
              "      <th>...</th>\n",
              "      <td>...</td>\n",
              "      <td>...</td>\n",
              "    </tr>\n",
              "    <tr>\n",
              "      <th>20200424</th>\n",
              "      <td>711</td>\n",
              "      <td>2020-04-24</td>\n",
              "    </tr>\n",
              "    <tr>\n",
              "      <th>20200425</th>\n",
              "      <td>463</td>\n",
              "      <td>2020-04-25</td>\n",
              "    </tr>\n",
              "    <tr>\n",
              "      <th>20200426</th>\n",
              "      <td>447</td>\n",
              "      <td>2020-04-26</td>\n",
              "    </tr>\n",
              "    <tr>\n",
              "      <th>20200427</th>\n",
              "      <td>315</td>\n",
              "      <td>2020-04-27</td>\n",
              "    </tr>\n",
              "    <tr>\n",
              "      <th>20200428</th>\n",
              "      <td>251</td>\n",
              "      <td>2020-04-28</td>\n",
              "    </tr>\n",
              "  </tbody>\n",
              "</table>\n",
              "<p>181 rows × 2 columns</p>\n",
              "</div>"
            ],
            "text/plain": [
              "          count       date\n",
              "arrival                   \n",
              "20191031     91 2019-10-31\n",
              "20191101     36 2019-11-01\n",
              "20191102    120 2019-11-02\n",
              "20191103    159 2019-11-03\n",
              "20191104    179 2019-11-04\n",
              "...         ...        ...\n",
              "20200424    711 2020-04-24\n",
              "20200425    463 2020-04-25\n",
              "20200426    447 2020-04-26\n",
              "20200427    315 2020-04-27\n",
              "20200428    251 2020-04-28\n",
              "\n",
              "[181 rows x 2 columns]"
            ]
          },
          "metadata": {
            "tags": []
          },
          "execution_count": 3
        }
      ]
    },
    {
      "cell_type": "code",
      "metadata": {
        "id": "ApFH95j0DU5a",
        "colab_type": "code",
        "outputId": "0960e357-f0da-4eb2-81aa-46476631752b",
        "colab": {
          "base_uri": "https://localhost:8080/",
          "height": 309
        }
      },
      "source": [
        "# 1.2.2 입국자(로밍등록자) 추세 chart 확인\n",
        "ar.plot(x='date',y='count')"
      ],
      "execution_count": 0,
      "outputs": [
        {
          "output_type": "execute_result",
          "data": {
            "text/plain": [
              "<matplotlib.axes._subplots.AxesSubplot at 0x7fe6816802e8>"
            ]
          },
          "metadata": {
            "tags": []
          },
          "execution_count": 150
        },
        {
          "output_type": "display_data",
          "data": {
            "image/png": "[encoded data removed]",
            "text/plain": [
              "<Figure size 432x288 with 1 Axes>"
            ]
          },
          "metadata": {
            "tags": [],
            "needs_background": "light"
          }
        }
      ]
    },
    {
      "cell_type": "code",
      "metadata": {
        "id": "4GXe1BixDZwj",
        "colab_type": "code",
        "outputId": "1a46a6dd-cc5b-4a7c-f10a-7577681b5415",
        "colab": {
          "base_uri": "https://localhost:8080/",
          "height": 655
        }
      },
      "source": [
        "# 1.3 Roaming Data의 전처리\n",
        "# 1.3.1 iso 별로 재배열\n",
        "\n",
        "ar_iso = pd.DataFrame(rm.groupby(['arrival','iso'])['count'].sum())\n",
        "rows = []\n",
        "date = None\n",
        "r = None\n",
        "for row in ar_iso.iterrows():\n",
        "  if date == row[0][0]:\n",
        "    pass\n",
        "  else:\n",
        "    if not r is None:\n",
        "      rows.append(r)\n",
        "    r = {}\n",
        "\n",
        "  r['arrival'] = row[0][0]\n",
        "  r[row[0][1]] = row[1][0]\n",
        "  date = row[0][0]\n",
        "rows.append(r)\n",
        "ds_iso = pd.DataFrame(rows)\n",
        "ds_iso.fillna(0, inplace=True)\n",
        "ds_iso = ds_iso.set_index('arrival')\n",
        "ds_iso['total'] = ar['count']\n",
        "ds_iso.index =  ds_iso.index.astype('object')\n",
        "#index을 datetime 으로 casting 한다.\n",
        "ds_iso.index =  pd.to_datetime(ds_iso.index, format='%Y%m%d')\n",
        "ds_iso"
      ],
      "execution_count": 0,
      "outputs": [
        {
          "output_type": "execute_result",
          "data": {
            "text/html": [
              "<div>\n",
              "<style scoped>\n",
              "    .dataframe tbody tr th:only-of-type {\n",
              "        vertical-align: middle;\n",
              "    }\n",
              "\n",
              "    .dataframe tbody tr th {\n",
              "        vertical-align: top;\n",
              "    }\n",
              "\n",
              "    .dataframe thead th {\n",
              "        text-align: right;\n",
              "    }\n",
              "</style>\n",
              "<table border=\"1\" class=\"dataframe\">\n",
              "  <thead>\n",
              "    <tr style=\"text-align: right;\">\n",
              "      <th></th>\n",
              "      <th>ae</th>\n",
              "      <th>at</th>\n",
              "      <th>cn</th>\n",
              "      <th>de</th>\n",
              "      <th>hk</th>\n",
              "      <th>jp</th>\n",
              "      <th>kh</th>\n",
              "      <th>kw</th>\n",
              "      <th>la</th>\n",
              "      <th>mm</th>\n",
              "      <th>my</th>\n",
              "      <th>no</th>\n",
              "      <th>pe</th>\n",
              "      <th>ph</th>\n",
              "      <th>pl</th>\n",
              "      <th>th</th>\n",
              "      <th>us</th>\n",
              "      <th>vn</th>\n",
              "      <th>hu</th>\n",
              "      <th>ma</th>\n",
              "      <th>mn</th>\n",
              "      <th>au</th>\n",
              "      <th>ch</th>\n",
              "      <th>fr</th>\n",
              "      <th>gb</th>\n",
              "      <th>in</th>\n",
              "      <th>iq</th>\n",
              "      <th>lk</th>\n",
              "      <th>qa</th>\n",
              "      <th>sg</th>\n",
              "      <th>uz</th>\n",
              "      <th>cz</th>\n",
              "      <th>dk</th>\n",
              "      <th>es</th>\n",
              "      <th>fi</th>\n",
              "      <th>id</th>\n",
              "      <th>nz</th>\n",
              "      <th>ru</th>\n",
              "      <th>sa</th>\n",
              "      <th>sk</th>\n",
              "      <th>...</th>\n",
              "      <th>tp</th>\n",
              "      <th>vu</th>\n",
              "      <th>zw</th>\n",
              "      <th>rs</th>\n",
              "      <th>tk</th>\n",
              "      <th>ug</th>\n",
              "      <th>bz</th>\n",
              "      <th>bo</th>\n",
              "      <th>cy</th>\n",
              "      <th>na</th>\n",
              "      <th>pg</th>\n",
              "      <th>rw</th>\n",
              "      <th>bt</th>\n",
              "      <th>lr</th>\n",
              "      <th>mz</th>\n",
              "      <th>pr</th>\n",
              "      <th>tg</th>\n",
              "      <th>mk</th>\n",
              "      <th>an</th>\n",
              "      <th>cv</th>\n",
              "      <th>tt</th>\n",
              "      <th>md</th>\n",
              "      <th>ad</th>\n",
              "      <th>ga</th>\n",
              "      <th>gn</th>\n",
              "      <th>re</th>\n",
              "      <th>ky</th>\n",
              "      <th>bf</th>\n",
              "      <th>bj</th>\n",
              "      <th>cf</th>\n",
              "      <th>tc</th>\n",
              "      <th>ls</th>\n",
              "      <th>td</th>\n",
              "      <th>mr</th>\n",
              "      <th>to</th>\n",
              "      <th>ws</th>\n",
              "      <th>gm</th>\n",
              "      <th>ye</th>\n",
              "      <th>ml</th>\n",
              "      <th>total</th>\n",
              "    </tr>\n",
              "    <tr>\n",
              "      <th>arrival</th>\n",
              "      <th></th>\n",
              "      <th></th>\n",
              "      <th></th>\n",
              "      <th></th>\n",
              "      <th></th>\n",
              "      <th></th>\n",
              "      <th></th>\n",
              "      <th></th>\n",
              "      <th></th>\n",
              "      <th></th>\n",
              "      <th></th>\n",
              "      <th></th>\n",
              "      <th></th>\n",
              "      <th></th>\n",
              "      <th></th>\n",
              "      <th></th>\n",
              "      <th></th>\n",
              "      <th></th>\n",
              "      <th></th>\n",
              "      <th></th>\n",
              "      <th></th>\n",
              "      <th></th>\n",
              "      <th></th>\n",
              "      <th></th>\n",
              "      <th></th>\n",
              "      <th></th>\n",
              "      <th></th>\n",
              "      <th></th>\n",
              "      <th></th>\n",
              "      <th></th>\n",
              "      <th></th>\n",
              "      <th></th>\n",
              "      <th></th>\n",
              "      <th></th>\n",
              "      <th></th>\n",
              "      <th></th>\n",
              "      <th></th>\n",
              "      <th></th>\n",
              "      <th></th>\n",
              "      <th></th>\n",
              "      <th></th>\n",
              "      <th></th>\n",
              "      <th></th>\n",
              "      <th></th>\n",
              "      <th></th>\n",
              "      <th></th>\n",
              "      <th></th>\n",
              "      <th></th>\n",
              "      <th></th>\n",
              "      <th></th>\n",
              "      <th></th>\n",
              "      <th></th>\n",
              "      <th></th>\n",
              "      <th></th>\n",
              "      <th></th>\n",
              "      <th></th>\n",
              "      <th></th>\n",
              "      <th></th>\n",
              "      <th></th>\n",
              "      <th></th>\n",
              "      <th></th>\n",
              "      <th></th>\n",
              "      <th></th>\n",
              "      <th></th>\n",
              "      <th></th>\n",
              "      <th></th>\n",
              "      <th></th>\n",
              "      <th></th>\n",
              "      <th></th>\n",
              "      <th></th>\n",
              "      <th></th>\n",
              "      <th></th>\n",
              "      <th></th>\n",
              "      <th></th>\n",
              "      <th></th>\n",
              "      <th></th>\n",
              "      <th></th>\n",
              "      <th></th>\n",
              "      <th></th>\n",
              "      <th></th>\n",
              "      <th></th>\n",
              "    </tr>\n",
              "  </thead>\n",
              "  <tbody>\n",
              "    <tr>\n",
              "      <th>2019-10-31</th>\n",
              "      <td>3.0</td>\n",
              "      <td>3.0</td>\n",
              "      <td>20</td>\n",
              "      <td>3.0</td>\n",
              "      <td>6.0</td>\n",
              "      <td>6</td>\n",
              "      <td>3.0</td>\n",
              "      <td>3.0</td>\n",
              "      <td>3.0</td>\n",
              "      <td>3.0</td>\n",
              "      <td>3.0</td>\n",
              "      <td>3.0</td>\n",
              "      <td>3.0</td>\n",
              "      <td>3.0</td>\n",
              "      <td>3.0</td>\n",
              "      <td>8</td>\n",
              "      <td>12.0</td>\n",
              "      <td>3.0</td>\n",
              "      <td>0.0</td>\n",
              "      <td>0.0</td>\n",
              "      <td>0.0</td>\n",
              "      <td>0.0</td>\n",
              "      <td>0.0</td>\n",
              "      <td>0.0</td>\n",
              "      <td>0.0</td>\n",
              "      <td>0.0</td>\n",
              "      <td>0.0</td>\n",
              "      <td>0.0</td>\n",
              "      <td>0.0</td>\n",
              "      <td>0.0</td>\n",
              "      <td>0.0</td>\n",
              "      <td>0.0</td>\n",
              "      <td>0.0</td>\n",
              "      <td>0.0</td>\n",
              "      <td>0.0</td>\n",
              "      <td>0.0</td>\n",
              "      <td>0.0</td>\n",
              "      <td>0.0</td>\n",
              "      <td>0.0</td>\n",
              "      <td>0.0</td>\n",
              "      <td>...</td>\n",
              "      <td>0.0</td>\n",
              "      <td>0.0</td>\n",
              "      <td>0.0</td>\n",
              "      <td>0.0</td>\n",
              "      <td>0.0</td>\n",
              "      <td>0.0</td>\n",
              "      <td>0.0</td>\n",
              "      <td>0.0</td>\n",
              "      <td>0.0</td>\n",
              "      <td>0.0</td>\n",
              "      <td>0.0</td>\n",
              "      <td>0.0</td>\n",
              "      <td>0.0</td>\n",
              "      <td>0.0</td>\n",
              "      <td>0.0</td>\n",
              "      <td>0.0</td>\n",
              "      <td>0.0</td>\n",
              "      <td>0.0</td>\n",
              "      <td>0.0</td>\n",
              "      <td>0.0</td>\n",
              "      <td>0.0</td>\n",
              "      <td>0.0</td>\n",
              "      <td>0.0</td>\n",
              "      <td>0.0</td>\n",
              "      <td>0.0</td>\n",
              "      <td>0.0</td>\n",
              "      <td>0.0</td>\n",
              "      <td>0.0</td>\n",
              "      <td>0.0</td>\n",
              "      <td>0.0</td>\n",
              "      <td>0.0</td>\n",
              "      <td>0.0</td>\n",
              "      <td>0.0</td>\n",
              "      <td>0.0</td>\n",
              "      <td>0.0</td>\n",
              "      <td>0.0</td>\n",
              "      <td>0.0</td>\n",
              "      <td>0.0</td>\n",
              "      <td>0.0</td>\n",
              "      <td>91</td>\n",
              "    </tr>\n",
              "    <tr>\n",
              "      <th>2019-11-01</th>\n",
              "      <td>0.0</td>\n",
              "      <td>0.0</td>\n",
              "      <td>6</td>\n",
              "      <td>3.0</td>\n",
              "      <td>0.0</td>\n",
              "      <td>3</td>\n",
              "      <td>3.0</td>\n",
              "      <td>0.0</td>\n",
              "      <td>0.0</td>\n",
              "      <td>3.0</td>\n",
              "      <td>0.0</td>\n",
              "      <td>0.0</td>\n",
              "      <td>0.0</td>\n",
              "      <td>0.0</td>\n",
              "      <td>0.0</td>\n",
              "      <td>9</td>\n",
              "      <td>0.0</td>\n",
              "      <td>0.0</td>\n",
              "      <td>3.0</td>\n",
              "      <td>3.0</td>\n",
              "      <td>3.0</td>\n",
              "      <td>0.0</td>\n",
              "      <td>0.0</td>\n",
              "      <td>0.0</td>\n",
              "      <td>0.0</td>\n",
              "      <td>0.0</td>\n",
              "      <td>0.0</td>\n",
              "      <td>0.0</td>\n",
              "      <td>0.0</td>\n",
              "      <td>0.0</td>\n",
              "      <td>0.0</td>\n",
              "      <td>0.0</td>\n",
              "      <td>0.0</td>\n",
              "      <td>0.0</td>\n",
              "      <td>0.0</td>\n",
              "      <td>0.0</td>\n",
              "      <td>0.0</td>\n",
              "      <td>0.0</td>\n",
              "      <td>0.0</td>\n",
              "      <td>0.0</td>\n",
              "      <td>...</td>\n",
              "      <td>0.0</td>\n",
              "      <td>0.0</td>\n",
              "      <td>0.0</td>\n",
              "      <td>0.0</td>\n",
              "      <td>0.0</td>\n",
              "      <td>0.0</td>\n",
              "      <td>0.0</td>\n",
              "      <td>0.0</td>\n",
              "      <td>0.0</td>\n",
              "      <td>0.0</td>\n",
              "      <td>0.0</td>\n",
              "      <td>0.0</td>\n",
              "      <td>0.0</td>\n",
              "      <td>0.0</td>\n",
              "      <td>0.0</td>\n",
              "      <td>0.0</td>\n",
              "      <td>0.0</td>\n",
              "      <td>0.0</td>\n",
              "      <td>0.0</td>\n",
              "      <td>0.0</td>\n",
              "      <td>0.0</td>\n",
              "      <td>0.0</td>\n",
              "      <td>0.0</td>\n",
              "      <td>0.0</td>\n",
              "      <td>0.0</td>\n",
              "      <td>0.0</td>\n",
              "      <td>0.0</td>\n",
              "      <td>0.0</td>\n",
              "      <td>0.0</td>\n",
              "      <td>0.0</td>\n",
              "      <td>0.0</td>\n",
              "      <td>0.0</td>\n",
              "      <td>0.0</td>\n",
              "      <td>0.0</td>\n",
              "      <td>0.0</td>\n",
              "      <td>0.0</td>\n",
              "      <td>0.0</td>\n",
              "      <td>0.0</td>\n",
              "      <td>0.0</td>\n",
              "      <td>36</td>\n",
              "    </tr>\n",
              "    <tr>\n",
              "      <th>2019-11-02</th>\n",
              "      <td>0.0</td>\n",
              "      <td>0.0</td>\n",
              "      <td>26</td>\n",
              "      <td>6.0</td>\n",
              "      <td>3.0</td>\n",
              "      <td>9</td>\n",
              "      <td>3.0</td>\n",
              "      <td>0.0</td>\n",
              "      <td>0.0</td>\n",
              "      <td>0.0</td>\n",
              "      <td>0.0</td>\n",
              "      <td>0.0</td>\n",
              "      <td>0.0</td>\n",
              "      <td>3.0</td>\n",
              "      <td>0.0</td>\n",
              "      <td>6</td>\n",
              "      <td>19.0</td>\n",
              "      <td>3.0</td>\n",
              "      <td>0.0</td>\n",
              "      <td>0.0</td>\n",
              "      <td>0.0</td>\n",
              "      <td>6.0</td>\n",
              "      <td>3.0</td>\n",
              "      <td>6.0</td>\n",
              "      <td>3.0</td>\n",
              "      <td>6.0</td>\n",
              "      <td>3.0</td>\n",
              "      <td>3.0</td>\n",
              "      <td>3.0</td>\n",
              "      <td>3.0</td>\n",
              "      <td>3.0</td>\n",
              "      <td>0.0</td>\n",
              "      <td>0.0</td>\n",
              "      <td>0.0</td>\n",
              "      <td>0.0</td>\n",
              "      <td>0.0</td>\n",
              "      <td>0.0</td>\n",
              "      <td>0.0</td>\n",
              "      <td>0.0</td>\n",
              "      <td>0.0</td>\n",
              "      <td>...</td>\n",
              "      <td>0.0</td>\n",
              "      <td>0.0</td>\n",
              "      <td>0.0</td>\n",
              "      <td>0.0</td>\n",
              "      <td>0.0</td>\n",
              "      <td>0.0</td>\n",
              "      <td>0.0</td>\n",
              "      <td>0.0</td>\n",
              "      <td>0.0</td>\n",
              "      <td>0.0</td>\n",
              "      <td>0.0</td>\n",
              "      <td>0.0</td>\n",
              "      <td>0.0</td>\n",
              "      <td>0.0</td>\n",
              "      <td>0.0</td>\n",
              "      <td>0.0</td>\n",
              "      <td>0.0</td>\n",
              "      <td>0.0</td>\n",
              "      <td>0.0</td>\n",
              "      <td>0.0</td>\n",
              "      <td>0.0</td>\n",
              "      <td>0.0</td>\n",
              "      <td>0.0</td>\n",
              "      <td>0.0</td>\n",
              "      <td>0.0</td>\n",
              "      <td>0.0</td>\n",
              "      <td>0.0</td>\n",
              "      <td>0.0</td>\n",
              "      <td>0.0</td>\n",
              "      <td>0.0</td>\n",
              "      <td>0.0</td>\n",
              "      <td>0.0</td>\n",
              "      <td>0.0</td>\n",
              "      <td>0.0</td>\n",
              "      <td>0.0</td>\n",
              "      <td>0.0</td>\n",
              "      <td>0.0</td>\n",
              "      <td>0.0</td>\n",
              "      <td>0.0</td>\n",
              "      <td>120</td>\n",
              "    </tr>\n",
              "    <tr>\n",
              "      <th>2019-11-03</th>\n",
              "      <td>3.0</td>\n",
              "      <td>3.0</td>\n",
              "      <td>30</td>\n",
              "      <td>0.0</td>\n",
              "      <td>12.0</td>\n",
              "      <td>14</td>\n",
              "      <td>0.0</td>\n",
              "      <td>0.0</td>\n",
              "      <td>0.0</td>\n",
              "      <td>0.0</td>\n",
              "      <td>3.0</td>\n",
              "      <td>0.0</td>\n",
              "      <td>0.0</td>\n",
              "      <td>3.0</td>\n",
              "      <td>3.0</td>\n",
              "      <td>13</td>\n",
              "      <td>21.0</td>\n",
              "      <td>6.0</td>\n",
              "      <td>3.0</td>\n",
              "      <td>0.0</td>\n",
              "      <td>0.0</td>\n",
              "      <td>0.0</td>\n",
              "      <td>3.0</td>\n",
              "      <td>0.0</td>\n",
              "      <td>6.0</td>\n",
              "      <td>3.0</td>\n",
              "      <td>0.0</td>\n",
              "      <td>0.0</td>\n",
              "      <td>0.0</td>\n",
              "      <td>0.0</td>\n",
              "      <td>0.0</td>\n",
              "      <td>3.0</td>\n",
              "      <td>3.0</td>\n",
              "      <td>3.0</td>\n",
              "      <td>3.0</td>\n",
              "      <td>3.0</td>\n",
              "      <td>3.0</td>\n",
              "      <td>9.0</td>\n",
              "      <td>3.0</td>\n",
              "      <td>3.0</td>\n",
              "      <td>...</td>\n",
              "      <td>0.0</td>\n",
              "      <td>0.0</td>\n",
              "      <td>0.0</td>\n",
              "      <td>0.0</td>\n",
              "      <td>0.0</td>\n",
              "      <td>0.0</td>\n",
              "      <td>0.0</td>\n",
              "      <td>0.0</td>\n",
              "      <td>0.0</td>\n",
              "      <td>0.0</td>\n",
              "      <td>0.0</td>\n",
              "      <td>0.0</td>\n",
              "      <td>0.0</td>\n",
              "      <td>0.0</td>\n",
              "      <td>0.0</td>\n",
              "      <td>0.0</td>\n",
              "      <td>0.0</td>\n",
              "      <td>0.0</td>\n",
              "      <td>0.0</td>\n",
              "      <td>0.0</td>\n",
              "      <td>0.0</td>\n",
              "      <td>0.0</td>\n",
              "      <td>0.0</td>\n",
              "      <td>0.0</td>\n",
              "      <td>0.0</td>\n",
              "      <td>0.0</td>\n",
              "      <td>0.0</td>\n",
              "      <td>0.0</td>\n",
              "      <td>0.0</td>\n",
              "      <td>0.0</td>\n",
              "      <td>0.0</td>\n",
              "      <td>0.0</td>\n",
              "      <td>0.0</td>\n",
              "      <td>0.0</td>\n",
              "      <td>0.0</td>\n",
              "      <td>0.0</td>\n",
              "      <td>0.0</td>\n",
              "      <td>0.0</td>\n",
              "      <td>0.0</td>\n",
              "      <td>159</td>\n",
              "    </tr>\n",
              "    <tr>\n",
              "      <th>2019-11-04</th>\n",
              "      <td>12.0</td>\n",
              "      <td>3.0</td>\n",
              "      <td>40</td>\n",
              "      <td>3.0</td>\n",
              "      <td>3.0</td>\n",
              "      <td>10</td>\n",
              "      <td>0.0</td>\n",
              "      <td>0.0</td>\n",
              "      <td>0.0</td>\n",
              "      <td>0.0</td>\n",
              "      <td>6.0</td>\n",
              "      <td>0.0</td>\n",
              "      <td>0.0</td>\n",
              "      <td>6.0</td>\n",
              "      <td>0.0</td>\n",
              "      <td>6</td>\n",
              "      <td>24.0</td>\n",
              "      <td>9.0</td>\n",
              "      <td>3.0</td>\n",
              "      <td>0.0</td>\n",
              "      <td>0.0</td>\n",
              "      <td>3.0</td>\n",
              "      <td>0.0</td>\n",
              "      <td>3.0</td>\n",
              "      <td>3.0</td>\n",
              "      <td>0.0</td>\n",
              "      <td>0.0</td>\n",
              "      <td>0.0</td>\n",
              "      <td>0.0</td>\n",
              "      <td>6.0</td>\n",
              "      <td>6.0</td>\n",
              "      <td>3.0</td>\n",
              "      <td>0.0</td>\n",
              "      <td>0.0</td>\n",
              "      <td>3.0</td>\n",
              "      <td>3.0</td>\n",
              "      <td>0.0</td>\n",
              "      <td>6.0</td>\n",
              "      <td>0.0</td>\n",
              "      <td>0.0</td>\n",
              "      <td>...</td>\n",
              "      <td>0.0</td>\n",
              "      <td>0.0</td>\n",
              "      <td>0.0</td>\n",
              "      <td>0.0</td>\n",
              "      <td>0.0</td>\n",
              "      <td>0.0</td>\n",
              "      <td>0.0</td>\n",
              "      <td>0.0</td>\n",
              "      <td>0.0</td>\n",
              "      <td>0.0</td>\n",
              "      <td>0.0</td>\n",
              "      <td>0.0</td>\n",
              "      <td>0.0</td>\n",
              "      <td>0.0</td>\n",
              "      <td>0.0</td>\n",
              "      <td>0.0</td>\n",
              "      <td>0.0</td>\n",
              "      <td>0.0</td>\n",
              "      <td>0.0</td>\n",
              "      <td>0.0</td>\n",
              "      <td>0.0</td>\n",
              "      <td>0.0</td>\n",
              "      <td>0.0</td>\n",
              "      <td>0.0</td>\n",
              "      <td>0.0</td>\n",
              "      <td>0.0</td>\n",
              "      <td>0.0</td>\n",
              "      <td>0.0</td>\n",
              "      <td>0.0</td>\n",
              "      <td>0.0</td>\n",
              "      <td>0.0</td>\n",
              "      <td>0.0</td>\n",
              "      <td>0.0</td>\n",
              "      <td>0.0</td>\n",
              "      <td>0.0</td>\n",
              "      <td>0.0</td>\n",
              "      <td>0.0</td>\n",
              "      <td>0.0</td>\n",
              "      <td>0.0</td>\n",
              "      <td>179</td>\n",
              "    </tr>\n",
              "    <tr>\n",
              "      <th>...</th>\n",
              "      <td>...</td>\n",
              "      <td>...</td>\n",
              "      <td>...</td>\n",
              "      <td>...</td>\n",
              "      <td>...</td>\n",
              "      <td>...</td>\n",
              "      <td>...</td>\n",
              "      <td>...</td>\n",
              "      <td>...</td>\n",
              "      <td>...</td>\n",
              "      <td>...</td>\n",
              "      <td>...</td>\n",
              "      <td>...</td>\n",
              "      <td>...</td>\n",
              "      <td>...</td>\n",
              "      <td>...</td>\n",
              "      <td>...</td>\n",
              "      <td>...</td>\n",
              "      <td>...</td>\n",
              "      <td>...</td>\n",
              "      <td>...</td>\n",
              "      <td>...</td>\n",
              "      <td>...</td>\n",
              "      <td>...</td>\n",
              "      <td>...</td>\n",
              "      <td>...</td>\n",
              "      <td>...</td>\n",
              "      <td>...</td>\n",
              "      <td>...</td>\n",
              "      <td>...</td>\n",
              "      <td>...</td>\n",
              "      <td>...</td>\n",
              "      <td>...</td>\n",
              "      <td>...</td>\n",
              "      <td>...</td>\n",
              "      <td>...</td>\n",
              "      <td>...</td>\n",
              "      <td>...</td>\n",
              "      <td>...</td>\n",
              "      <td>...</td>\n",
              "      <td>...</td>\n",
              "      <td>...</td>\n",
              "      <td>...</td>\n",
              "      <td>...</td>\n",
              "      <td>...</td>\n",
              "      <td>...</td>\n",
              "      <td>...</td>\n",
              "      <td>...</td>\n",
              "      <td>...</td>\n",
              "      <td>...</td>\n",
              "      <td>...</td>\n",
              "      <td>...</td>\n",
              "      <td>...</td>\n",
              "      <td>...</td>\n",
              "      <td>...</td>\n",
              "      <td>...</td>\n",
              "      <td>...</td>\n",
              "      <td>...</td>\n",
              "      <td>...</td>\n",
              "      <td>...</td>\n",
              "      <td>...</td>\n",
              "      <td>...</td>\n",
              "      <td>...</td>\n",
              "      <td>...</td>\n",
              "      <td>...</td>\n",
              "      <td>...</td>\n",
              "      <td>...</td>\n",
              "      <td>...</td>\n",
              "      <td>...</td>\n",
              "      <td>...</td>\n",
              "      <td>...</td>\n",
              "      <td>...</td>\n",
              "      <td>...</td>\n",
              "      <td>...</td>\n",
              "      <td>...</td>\n",
              "      <td>...</td>\n",
              "      <td>...</td>\n",
              "      <td>...</td>\n",
              "      <td>...</td>\n",
              "      <td>...</td>\n",
              "      <td>...</td>\n",
              "    </tr>\n",
              "    <tr>\n",
              "      <th>2020-04-24</th>\n",
              "      <td>0.0</td>\n",
              "      <td>12.0</td>\n",
              "      <td>84</td>\n",
              "      <td>34.0</td>\n",
              "      <td>19.0</td>\n",
              "      <td>157</td>\n",
              "      <td>0.0</td>\n",
              "      <td>0.0</td>\n",
              "      <td>0.0</td>\n",
              "      <td>3.0</td>\n",
              "      <td>3.0</td>\n",
              "      <td>0.0</td>\n",
              "      <td>0.0</td>\n",
              "      <td>30.0</td>\n",
              "      <td>0.0</td>\n",
              "      <td>18</td>\n",
              "      <td>62.0</td>\n",
              "      <td>44.0</td>\n",
              "      <td>6.0</td>\n",
              "      <td>0.0</td>\n",
              "      <td>3.0</td>\n",
              "      <td>3.0</td>\n",
              "      <td>0.0</td>\n",
              "      <td>9.0</td>\n",
              "      <td>12.0</td>\n",
              "      <td>6.0</td>\n",
              "      <td>0.0</td>\n",
              "      <td>0.0</td>\n",
              "      <td>0.0</td>\n",
              "      <td>6.0</td>\n",
              "      <td>6.0</td>\n",
              "      <td>0.0</td>\n",
              "      <td>6.0</td>\n",
              "      <td>3.0</td>\n",
              "      <td>0.0</td>\n",
              "      <td>28.0</td>\n",
              "      <td>0.0</td>\n",
              "      <td>10.0</td>\n",
              "      <td>0.0</td>\n",
              "      <td>0.0</td>\n",
              "      <td>...</td>\n",
              "      <td>0.0</td>\n",
              "      <td>0.0</td>\n",
              "      <td>0.0</td>\n",
              "      <td>0.0</td>\n",
              "      <td>0.0</td>\n",
              "      <td>0.0</td>\n",
              "      <td>0.0</td>\n",
              "      <td>0.0</td>\n",
              "      <td>0.0</td>\n",
              "      <td>0.0</td>\n",
              "      <td>0.0</td>\n",
              "      <td>0.0</td>\n",
              "      <td>0.0</td>\n",
              "      <td>0.0</td>\n",
              "      <td>0.0</td>\n",
              "      <td>0.0</td>\n",
              "      <td>0.0</td>\n",
              "      <td>0.0</td>\n",
              "      <td>0.0</td>\n",
              "      <td>0.0</td>\n",
              "      <td>0.0</td>\n",
              "      <td>0.0</td>\n",
              "      <td>0.0</td>\n",
              "      <td>0.0</td>\n",
              "      <td>0.0</td>\n",
              "      <td>0.0</td>\n",
              "      <td>0.0</td>\n",
              "      <td>0.0</td>\n",
              "      <td>0.0</td>\n",
              "      <td>0.0</td>\n",
              "      <td>0.0</td>\n",
              "      <td>0.0</td>\n",
              "      <td>0.0</td>\n",
              "      <td>0.0</td>\n",
              "      <td>0.0</td>\n",
              "      <td>0.0</td>\n",
              "      <td>0.0</td>\n",
              "      <td>0.0</td>\n",
              "      <td>0.0</td>\n",
              "      <td>711</td>\n",
              "    </tr>\n",
              "    <tr>\n",
              "      <th>2020-04-25</th>\n",
              "      <td>0.0</td>\n",
              "      <td>9.0</td>\n",
              "      <td>39</td>\n",
              "      <td>15.0</td>\n",
              "      <td>4.0</td>\n",
              "      <td>111</td>\n",
              "      <td>21.0</td>\n",
              "      <td>0.0</td>\n",
              "      <td>0.0</td>\n",
              "      <td>6.0</td>\n",
              "      <td>3.0</td>\n",
              "      <td>0.0</td>\n",
              "      <td>0.0</td>\n",
              "      <td>6.0</td>\n",
              "      <td>0.0</td>\n",
              "      <td>6</td>\n",
              "      <td>73.0</td>\n",
              "      <td>27.0</td>\n",
              "      <td>0.0</td>\n",
              "      <td>0.0</td>\n",
              "      <td>3.0</td>\n",
              "      <td>0.0</td>\n",
              "      <td>0.0</td>\n",
              "      <td>0.0</td>\n",
              "      <td>6.0</td>\n",
              "      <td>3.0</td>\n",
              "      <td>0.0</td>\n",
              "      <td>0.0</td>\n",
              "      <td>6.0</td>\n",
              "      <td>6.0</td>\n",
              "      <td>6.0</td>\n",
              "      <td>0.0</td>\n",
              "      <td>0.0</td>\n",
              "      <td>0.0</td>\n",
              "      <td>0.0</td>\n",
              "      <td>0.0</td>\n",
              "      <td>0.0</td>\n",
              "      <td>11.0</td>\n",
              "      <td>0.0</td>\n",
              "      <td>0.0</td>\n",
              "      <td>...</td>\n",
              "      <td>0.0</td>\n",
              "      <td>0.0</td>\n",
              "      <td>0.0</td>\n",
              "      <td>0.0</td>\n",
              "      <td>0.0</td>\n",
              "      <td>0.0</td>\n",
              "      <td>0.0</td>\n",
              "      <td>0.0</td>\n",
              "      <td>0.0</td>\n",
              "      <td>0.0</td>\n",
              "      <td>0.0</td>\n",
              "      <td>0.0</td>\n",
              "      <td>0.0</td>\n",
              "      <td>0.0</td>\n",
              "      <td>0.0</td>\n",
              "      <td>0.0</td>\n",
              "      <td>0.0</td>\n",
              "      <td>0.0</td>\n",
              "      <td>0.0</td>\n",
              "      <td>0.0</td>\n",
              "      <td>0.0</td>\n",
              "      <td>0.0</td>\n",
              "      <td>0.0</td>\n",
              "      <td>0.0</td>\n",
              "      <td>0.0</td>\n",
              "      <td>0.0</td>\n",
              "      <td>0.0</td>\n",
              "      <td>0.0</td>\n",
              "      <td>0.0</td>\n",
              "      <td>0.0</td>\n",
              "      <td>0.0</td>\n",
              "      <td>0.0</td>\n",
              "      <td>0.0</td>\n",
              "      <td>0.0</td>\n",
              "      <td>0.0</td>\n",
              "      <td>0.0</td>\n",
              "      <td>0.0</td>\n",
              "      <td>0.0</td>\n",
              "      <td>0.0</td>\n",
              "      <td>463</td>\n",
              "    </tr>\n",
              "    <tr>\n",
              "      <th>2020-04-26</th>\n",
              "      <td>0.0</td>\n",
              "      <td>0.0</td>\n",
              "      <td>42</td>\n",
              "      <td>14.0</td>\n",
              "      <td>10.0</td>\n",
              "      <td>98</td>\n",
              "      <td>6.0</td>\n",
              "      <td>0.0</td>\n",
              "      <td>0.0</td>\n",
              "      <td>0.0</td>\n",
              "      <td>3.0</td>\n",
              "      <td>0.0</td>\n",
              "      <td>0.0</td>\n",
              "      <td>12.0</td>\n",
              "      <td>0.0</td>\n",
              "      <td>3</td>\n",
              "      <td>50.0</td>\n",
              "      <td>40.0</td>\n",
              "      <td>3.0</td>\n",
              "      <td>0.0</td>\n",
              "      <td>0.0</td>\n",
              "      <td>0.0</td>\n",
              "      <td>0.0</td>\n",
              "      <td>3.0</td>\n",
              "      <td>6.0</td>\n",
              "      <td>0.0</td>\n",
              "      <td>0.0</td>\n",
              "      <td>0.0</td>\n",
              "      <td>0.0</td>\n",
              "      <td>3.0</td>\n",
              "      <td>3.0</td>\n",
              "      <td>0.0</td>\n",
              "      <td>0.0</td>\n",
              "      <td>0.0</td>\n",
              "      <td>0.0</td>\n",
              "      <td>27.0</td>\n",
              "      <td>0.0</td>\n",
              "      <td>9.0</td>\n",
              "      <td>0.0</td>\n",
              "      <td>0.0</td>\n",
              "      <td>...</td>\n",
              "      <td>0.0</td>\n",
              "      <td>0.0</td>\n",
              "      <td>0.0</td>\n",
              "      <td>0.0</td>\n",
              "      <td>0.0</td>\n",
              "      <td>0.0</td>\n",
              "      <td>0.0</td>\n",
              "      <td>0.0</td>\n",
              "      <td>0.0</td>\n",
              "      <td>0.0</td>\n",
              "      <td>0.0</td>\n",
              "      <td>0.0</td>\n",
              "      <td>0.0</td>\n",
              "      <td>0.0</td>\n",
              "      <td>0.0</td>\n",
              "      <td>0.0</td>\n",
              "      <td>0.0</td>\n",
              "      <td>0.0</td>\n",
              "      <td>0.0</td>\n",
              "      <td>0.0</td>\n",
              "      <td>0.0</td>\n",
              "      <td>0.0</td>\n",
              "      <td>0.0</td>\n",
              "      <td>0.0</td>\n",
              "      <td>0.0</td>\n",
              "      <td>0.0</td>\n",
              "      <td>0.0</td>\n",
              "      <td>0.0</td>\n",
              "      <td>0.0</td>\n",
              "      <td>0.0</td>\n",
              "      <td>0.0</td>\n",
              "      <td>0.0</td>\n",
              "      <td>0.0</td>\n",
              "      <td>0.0</td>\n",
              "      <td>0.0</td>\n",
              "      <td>0.0</td>\n",
              "      <td>0.0</td>\n",
              "      <td>0.0</td>\n",
              "      <td>0.0</td>\n",
              "      <td>447</td>\n",
              "    </tr>\n",
              "    <tr>\n",
              "      <th>2020-04-27</th>\n",
              "      <td>0.0</td>\n",
              "      <td>3.0</td>\n",
              "      <td>35</td>\n",
              "      <td>9.0</td>\n",
              "      <td>0.0</td>\n",
              "      <td>77</td>\n",
              "      <td>16.0</td>\n",
              "      <td>0.0</td>\n",
              "      <td>0.0</td>\n",
              "      <td>3.0</td>\n",
              "      <td>0.0</td>\n",
              "      <td>0.0</td>\n",
              "      <td>0.0</td>\n",
              "      <td>10.0</td>\n",
              "      <td>0.0</td>\n",
              "      <td>3</td>\n",
              "      <td>34.0</td>\n",
              "      <td>31.0</td>\n",
              "      <td>0.0</td>\n",
              "      <td>0.0</td>\n",
              "      <td>0.0</td>\n",
              "      <td>0.0</td>\n",
              "      <td>0.0</td>\n",
              "      <td>3.0</td>\n",
              "      <td>0.0</td>\n",
              "      <td>16.0</td>\n",
              "      <td>0.0</td>\n",
              "      <td>0.0</td>\n",
              "      <td>3.0</td>\n",
              "      <td>0.0</td>\n",
              "      <td>0.0</td>\n",
              "      <td>0.0</td>\n",
              "      <td>0.0</td>\n",
              "      <td>0.0</td>\n",
              "      <td>0.0</td>\n",
              "      <td>3.0</td>\n",
              "      <td>0.0</td>\n",
              "      <td>6.0</td>\n",
              "      <td>0.0</td>\n",
              "      <td>0.0</td>\n",
              "      <td>...</td>\n",
              "      <td>0.0</td>\n",
              "      <td>0.0</td>\n",
              "      <td>0.0</td>\n",
              "      <td>0.0</td>\n",
              "      <td>0.0</td>\n",
              "      <td>0.0</td>\n",
              "      <td>0.0</td>\n",
              "      <td>0.0</td>\n",
              "      <td>0.0</td>\n",
              "      <td>0.0</td>\n",
              "      <td>0.0</td>\n",
              "      <td>0.0</td>\n",
              "      <td>0.0</td>\n",
              "      <td>0.0</td>\n",
              "      <td>0.0</td>\n",
              "      <td>0.0</td>\n",
              "      <td>0.0</td>\n",
              "      <td>0.0</td>\n",
              "      <td>0.0</td>\n",
              "      <td>0.0</td>\n",
              "      <td>0.0</td>\n",
              "      <td>0.0</td>\n",
              "      <td>0.0</td>\n",
              "      <td>0.0</td>\n",
              "      <td>0.0</td>\n",
              "      <td>0.0</td>\n",
              "      <td>0.0</td>\n",
              "      <td>0.0</td>\n",
              "      <td>0.0</td>\n",
              "      <td>0.0</td>\n",
              "      <td>0.0</td>\n",
              "      <td>0.0</td>\n",
              "      <td>0.0</td>\n",
              "      <td>0.0</td>\n",
              "      <td>0.0</td>\n",
              "      <td>0.0</td>\n",
              "      <td>0.0</td>\n",
              "      <td>0.0</td>\n",
              "      <td>0.0</td>\n",
              "      <td>315</td>\n",
              "    </tr>\n",
              "    <tr>\n",
              "      <th>2020-04-28</th>\n",
              "      <td>0.0</td>\n",
              "      <td>3.0</td>\n",
              "      <td>47</td>\n",
              "      <td>3.0</td>\n",
              "      <td>15.0</td>\n",
              "      <td>46</td>\n",
              "      <td>0.0</td>\n",
              "      <td>0.0</td>\n",
              "      <td>0.0</td>\n",
              "      <td>3.0</td>\n",
              "      <td>3.0</td>\n",
              "      <td>0.0</td>\n",
              "      <td>0.0</td>\n",
              "      <td>11.0</td>\n",
              "      <td>0.0</td>\n",
              "      <td>13</td>\n",
              "      <td>13.0</td>\n",
              "      <td>25.0</td>\n",
              "      <td>0.0</td>\n",
              "      <td>0.0</td>\n",
              "      <td>0.0</td>\n",
              "      <td>0.0</td>\n",
              "      <td>0.0</td>\n",
              "      <td>0.0</td>\n",
              "      <td>0.0</td>\n",
              "      <td>0.0</td>\n",
              "      <td>0.0</td>\n",
              "      <td>0.0</td>\n",
              "      <td>0.0</td>\n",
              "      <td>3.0</td>\n",
              "      <td>0.0</td>\n",
              "      <td>0.0</td>\n",
              "      <td>3.0</td>\n",
              "      <td>0.0</td>\n",
              "      <td>0.0</td>\n",
              "      <td>0.0</td>\n",
              "      <td>0.0</td>\n",
              "      <td>6.0</td>\n",
              "      <td>0.0</td>\n",
              "      <td>0.0</td>\n",
              "      <td>...</td>\n",
              "      <td>0.0</td>\n",
              "      <td>0.0</td>\n",
              "      <td>0.0</td>\n",
              "      <td>0.0</td>\n",
              "      <td>0.0</td>\n",
              "      <td>0.0</td>\n",
              "      <td>0.0</td>\n",
              "      <td>0.0</td>\n",
              "      <td>0.0</td>\n",
              "      <td>3.0</td>\n",
              "      <td>0.0</td>\n",
              "      <td>0.0</td>\n",
              "      <td>0.0</td>\n",
              "      <td>0.0</td>\n",
              "      <td>0.0</td>\n",
              "      <td>0.0</td>\n",
              "      <td>0.0</td>\n",
              "      <td>0.0</td>\n",
              "      <td>0.0</td>\n",
              "      <td>0.0</td>\n",
              "      <td>0.0</td>\n",
              "      <td>0.0</td>\n",
              "      <td>0.0</td>\n",
              "      <td>0.0</td>\n",
              "      <td>0.0</td>\n",
              "      <td>0.0</td>\n",
              "      <td>0.0</td>\n",
              "      <td>0.0</td>\n",
              "      <td>0.0</td>\n",
              "      <td>0.0</td>\n",
              "      <td>0.0</td>\n",
              "      <td>0.0</td>\n",
              "      <td>0.0</td>\n",
              "      <td>0.0</td>\n",
              "      <td>0.0</td>\n",
              "      <td>0.0</td>\n",
              "      <td>0.0</td>\n",
              "      <td>0.0</td>\n",
              "      <td>0.0</td>\n",
              "      <td>251</td>\n",
              "    </tr>\n",
              "  </tbody>\n",
              "</table>\n",
              "<p>181 rows × 174 columns</p>\n",
              "</div>"
            ],
            "text/plain": [
              "              ae    at  cn    de    hk   jp  ...   to   ws   gm   ye   ml  total\n",
              "arrival                                      ...                                \n",
              "2019-10-31   3.0   3.0  20   3.0   6.0    6  ...  0.0  0.0  0.0  0.0  0.0     91\n",
              "2019-11-01   0.0   0.0   6   3.0   0.0    3  ...  0.0  0.0  0.0  0.0  0.0     36\n",
              "2019-11-02   0.0   0.0  26   6.0   3.0    9  ...  0.0  0.0  0.0  0.0  0.0    120\n",
              "2019-11-03   3.0   3.0  30   0.0  12.0   14  ...  0.0  0.0  0.0  0.0  0.0    159\n",
              "2019-11-04  12.0   3.0  40   3.0   3.0   10  ...  0.0  0.0  0.0  0.0  0.0    179\n",
              "...          ...   ...  ..   ...   ...  ...  ...  ...  ...  ...  ...  ...    ...\n",
              "2020-04-24   0.0  12.0  84  34.0  19.0  157  ...  0.0  0.0  0.0  0.0  0.0    711\n",
              "2020-04-25   0.0   9.0  39  15.0   4.0  111  ...  0.0  0.0  0.0  0.0  0.0    463\n",
              "2020-04-26   0.0   0.0  42  14.0  10.0   98  ...  0.0  0.0  0.0  0.0  0.0    447\n",
              "2020-04-27   0.0   3.0  35   9.0   0.0   77  ...  0.0  0.0  0.0  0.0  0.0    315\n",
              "2020-04-28   0.0   3.0  47   3.0  15.0   46  ...  0.0  0.0  0.0  0.0  0.0    251\n",
              "\n",
              "[181 rows x 174 columns]"
            ]
          },
          "metadata": {
            "tags": []
          },
          "execution_count": 4
        }
      ]
    },
    {
      "cell_type": "code",
      "metadata": {
        "id": "qWgSseCJDdvN",
        "colab_type": "code",
        "outputId": "cccfbaa9-f04b-4d86-9ce8-40084b671990",
        "colab": {
          "base_uri": "https://localhost:8080/",
          "height": 526
        }
      },
      "source": [
        "ds_iso.plot(legend=False,figsize=(16,8))"
      ],
      "execution_count": 0,
      "outputs": [
        {
          "output_type": "execute_result",
          "data": {
            "text/plain": [
              "<matplotlib.axes._subplots.AxesSubplot at 0x7fe68174a128>"
            ]
          },
          "metadata": {
            "tags": []
          },
          "execution_count": 152
        },
        {
          "output_type": "display_data",
          "data": {
            "image/png": "[encoded data removed]",
            "text/plain": [
              "<Figure size 1152x576 with 1 Axes>"
            ]
          },
          "metadata": {
            "tags": [],
            "needs_background": "light"
          }
        }
      ]
    },
    {
      "cell_type": "code",
      "metadata": {
        "id": "B5frIsJWDhkD",
        "colab_type": "code",
        "outputId": "69cc1e57-40c4-4034-953a-802e56a89ed9",
        "colab": {
          "base_uri": "https://localhost:8080/",
          "height": 526
        }
      },
      "source": [
        "# 1.3.2 2주 (14일) 평균 추세 추가.\n",
        "raw_ds = ds_iso.copy()\n",
        "raw_ds['arrival_14ma'] = raw_ds['total'].rolling(window=14, min_periods=0).mean()\n",
        "raw_ds.plot(legend=False,figsize=(16,8))"
      ],
      "execution_count": 0,
      "outputs": [
        {
          "output_type": "execute_result",
          "data": {
            "text/plain": [
              "<matplotlib.axes._subplots.AxesSubplot at 0x7ff2c47093c8>"
            ]
          },
          "metadata": {
            "tags": []
          },
          "execution_count": 6
        },
        {
          "output_type": "display_data",
          "data": {
            "image/png": "[encoded data removed]",
            "text/plain": [
              "<Figure size 1152x576 with 1 Axes>"
            ]
          },
          "metadata": {
            "tags": [],
            "needs_background": "light"
          }
        }
      ]
    },
    {
      "cell_type": "code",
      "metadata": {
        "id": "MZ1ZkC5vD8NB",
        "colab_type": "code",
        "colab": {}
      },
      "source": [
        "# 1.3.3 Trainingset의 구성\n",
        "\n",
        "# Time-series CNN을 적용하기 위한 전처리\n",
        "# 1D Convolution을 적용하기 위해..\n",
        "\n",
        "import numpy as np\n",
        "\n",
        "# window를 30일로 설정 -> 그냥 잡은 수치\n",
        "window = 30\n",
        "#입력 feature 개수.\n",
        "size = len(raw_ds.columns) - 1 # totoal column 제외\n",
        "#향후 15일 예측\n",
        "forecast_days = 15\n",
        "\n",
        "\n",
        "train_org_y = raw_ds['total'].to_numpy()\n",
        "data = (raw_ds.drop(columns=['total'])).to_numpy()\n",
        "\n",
        "train_x = []\n",
        "train_y = []\n",
        "\n",
        "for i in range(data.shape[0]-window-forecast_days + 1):\n",
        "    sub_x = []\n",
        "    for j in range(window):\n",
        "        sub_x.append(data[i+j,:])\n",
        "    train_x.append(sub_x)\n",
        "\n",
        "    sub_y = []\n",
        "    for z in range(forecast_days):\n",
        "        sub_y.append(train_org_y[i + window + z])\n",
        "    train_y.append(sub_y)\n",
        "\n",
        "#train_x ,train_y의 준비\n",
        "train_x = np.asarray(train_x)\n",
        "train_x = train_x.reshape(-1,window,size)\n",
        "train_y = np.asarray(train_y)\n",
        "\n",
        "test_x = data[data.shape[0]-window:data.shape[0],:]"
      ],
      "execution_count": 0,
      "outputs": []
    },
    {
      "cell_type": "code",
      "metadata": {
        "id": "rgudLW7GEGtb",
        "colab_type": "code",
        "outputId": "5b7c23a8-5397-40c9-ffbc-36121827df7c",
        "colab": {
          "base_uri": "https://localhost:8080/",
          "height": 1000
        }
      },
      "source": [
        "#train_x ,train_y의 내용 확인.\n",
        "train_x, train_x.shape, train_y, train_y.shape, test_x, test_x.shape"
      ],
      "execution_count": 0,
      "outputs": [
        {
          "output_type": "execute_result",
          "data": {
            "text/plain": [
              "(array([[[3.00000000e+00, 3.00000000e+00, 2.00000000e+01, ...,\n",
              "          0.00000000e+00, 0.00000000e+00, 9.10000000e+01],\n",
              "         [0.00000000e+00, 0.00000000e+00, 6.00000000e+00, ...,\n",
              "          0.00000000e+00, 0.00000000e+00, 6.35000000e+01],\n",
              "         [0.00000000e+00, 0.00000000e+00, 2.60000000e+01, ...,\n",
              "          0.00000000e+00, 0.00000000e+00, 8.23333333e+01],\n",
              "         ...,\n",
              "         [7.20000000e+01, 1.21000000e+02, 1.00200000e+03, ...,\n",
              "          0.00000000e+00, 0.00000000e+00, 2.35085714e+03],\n",
              "         [1.20000000e+02, 1.44000000e+02, 1.68200000e+03, ...,\n",
              "          0.00000000e+00, 0.00000000e+00, 3.25900000e+03],\n",
              "         [1.41000000e+02, 1.56000000e+02, 2.22900000e+03, ...,\n",
              "          0.00000000e+00, 0.00000000e+00, 4.38428571e+03]],\n",
              " \n",
              "        [[0.00000000e+00, 0.00000000e+00, 6.00000000e+00, ...,\n",
              "          0.00000000e+00, 0.00000000e+00, 6.35000000e+01],\n",
              "         [0.00000000e+00, 0.00000000e+00, 2.60000000e+01, ...,\n",
              "          0.00000000e+00, 0.00000000e+00, 8.23333333e+01],\n",
              "         [3.00000000e+00, 3.00000000e+00, 3.00000000e+01, ...,\n",
              "          0.00000000e+00, 0.00000000e+00, 1.01500000e+02],\n",
              "         ...,\n",
              "         [1.20000000e+02, 1.44000000e+02, 1.68200000e+03, ...,\n",
              "          0.00000000e+00, 0.00000000e+00, 3.25900000e+03],\n",
              "         [1.41000000e+02, 1.56000000e+02, 2.22900000e+03, ...,\n",
              "          0.00000000e+00, 0.00000000e+00, 4.38428571e+03],\n",
              "         [1.66000000e+02, 1.43000000e+02, 2.19300000e+03, ...,\n",
              "          0.00000000e+00, 0.00000000e+00, 5.72185714e+03]],\n",
              " \n",
              "        [[0.00000000e+00, 0.00000000e+00, 2.60000000e+01, ...,\n",
              "          0.00000000e+00, 0.00000000e+00, 8.23333333e+01],\n",
              "         [3.00000000e+00, 3.00000000e+00, 3.00000000e+01, ...,\n",
              "          0.00000000e+00, 0.00000000e+00, 1.01500000e+02],\n",
              "         [1.20000000e+01, 3.00000000e+00, 4.00000000e+01, ...,\n",
              "          0.00000000e+00, 0.00000000e+00, 1.17000000e+02],\n",
              "         ...,\n",
              "         [1.41000000e+02, 1.56000000e+02, 2.22900000e+03, ...,\n",
              "          0.00000000e+00, 0.00000000e+00, 4.38428571e+03],\n",
              "         [1.66000000e+02, 1.43000000e+02, 2.19300000e+03, ...,\n",
              "          0.00000000e+00, 0.00000000e+00, 5.72185714e+03],\n",
              "         [2.24000000e+02, 1.56000000e+02, 2.73100000e+03, ...,\n",
              "          0.00000000e+00, 0.00000000e+00, 7.22164286e+03]],\n",
              " \n",
              "        ...,\n",
              " \n",
              "        [[4.20000000e+01, 9.00000000e+00, 2.05000000e+02, ...,\n",
              "          0.00000000e+00, 0.00000000e+00, 3.41078571e+03],\n",
              "         [1.60000000e+01, 2.00000000e+01, 2.19000000e+02, ...,\n",
              "          0.00000000e+00, 0.00000000e+00, 3.13292857e+03],\n",
              "         [6.30000000e+01, 6.00000000e+00, 2.44000000e+02, ...,\n",
              "          0.00000000e+00, 0.00000000e+00, 2.88935714e+03],\n",
              "         ...,\n",
              "         [3.00000000e+00, 3.00000000e+00, 9.40000000e+01, ...,\n",
              "          0.00000000e+00, 0.00000000e+00, 8.84500000e+02],\n",
              "         [6.00000000e+00, 1.00000000e+01, 1.03000000e+02, ...,\n",
              "          0.00000000e+00, 0.00000000e+00, 8.62642857e+02],\n",
              "         [3.00000000e+00, 9.00000000e+00, 9.00000000e+01, ...,\n",
              "          0.00000000e+00, 0.00000000e+00, 8.25785714e+02]],\n",
              " \n",
              "        [[1.60000000e+01, 2.00000000e+01, 2.19000000e+02, ...,\n",
              "          0.00000000e+00, 0.00000000e+00, 3.13292857e+03],\n",
              "         [6.30000000e+01, 6.00000000e+00, 2.44000000e+02, ...,\n",
              "          0.00000000e+00, 0.00000000e+00, 2.88935714e+03],\n",
              "         [2.70000000e+01, 1.20000000e+01, 2.33000000e+02, ...,\n",
              "          0.00000000e+00, 0.00000000e+00, 2.69157143e+03],\n",
              "         ...,\n",
              "         [6.00000000e+00, 1.00000000e+01, 1.03000000e+02, ...,\n",
              "          0.00000000e+00, 0.00000000e+00, 8.62642857e+02],\n",
              "         [3.00000000e+00, 9.00000000e+00, 9.00000000e+01, ...,\n",
              "          0.00000000e+00, 0.00000000e+00, 8.25785714e+02],\n",
              "         [3.00000000e+00, 3.00000000e+00, 7.80000000e+01, ...,\n",
              "          0.00000000e+00, 0.00000000e+00, 7.96000000e+02]],\n",
              " \n",
              "        [[6.30000000e+01, 6.00000000e+00, 2.44000000e+02, ...,\n",
              "          0.00000000e+00, 0.00000000e+00, 2.88935714e+03],\n",
              "         [2.70000000e+01, 1.20000000e+01, 2.33000000e+02, ...,\n",
              "          0.00000000e+00, 0.00000000e+00, 2.69157143e+03],\n",
              "         [3.50000000e+01, 1.20000000e+01, 1.18000000e+02, ...,\n",
              "          0.00000000e+00, 0.00000000e+00, 2.48764286e+03],\n",
              "         ...,\n",
              "         [3.00000000e+00, 9.00000000e+00, 9.00000000e+01, ...,\n",
              "          0.00000000e+00, 0.00000000e+00, 8.25785714e+02],\n",
              "         [3.00000000e+00, 3.00000000e+00, 7.80000000e+01, ...,\n",
              "          0.00000000e+00, 0.00000000e+00, 7.96000000e+02],\n",
              "         [1.20000000e+01, 6.00000000e+00, 9.90000000e+01, ...,\n",
              "          0.00000000e+00, 0.00000000e+00, 7.62785714e+02]]]),\n",
              " (137, 30, 174),\n",
              " array([[19412, 21782, 22534, ..., 23302, 24291, 23201],\n",
              "        [21782, 22534, 20817, ..., 24291, 23201, 22027],\n",
              "        [22534, 20817, 21052, ..., 23201, 22027, 23078],\n",
              "        ...,\n",
              "        [  641,   578,   738, ...,   711,   463,   447],\n",
              "        [  578,   738,   640, ...,   463,   447,   315],\n",
              "        [  738,   640,   686, ...,   447,   315,   251]]),\n",
              " (137, 15),\n",
              " array([[   0.        ,   12.        ,  110.        , ...,    0.        ,\n",
              "            0.        , 1189.5       ],\n",
              "        [   3.        ,    9.        ,  107.        , ...,    0.        ,\n",
              "            0.        , 1158.92857143],\n",
              "        [   3.        ,   15.        ,   76.        , ...,    0.        ,\n",
              "            0.        , 1125.28571429],\n",
              "        ...,\n",
              "        [   0.        ,    0.        ,   42.        , ...,    0.        ,\n",
              "            0.        ,  616.78571429],\n",
              "        [   0.        ,    3.        ,   35.        , ...,    0.        ,\n",
              "            0.        ,  598.        ],\n",
              "        [   0.        ,    3.        ,   47.        , ...,    0.        ,\n",
              "            0.        ,  563.21428571]]),\n",
              " (30, 174))"
            ]
          },
          "metadata": {
            "tags": []
          },
          "execution_count": 465
        }
      ]
    },
    {
      "cell_type": "code",
      "metadata": {
        "id": "XBjpzjuyEVzg",
        "colab_type": "code",
        "outputId": "a27f959f-addd-4053-f768-ea54047f277b",
        "colab": {
          "base_uri": "https://localhost:8080/",
          "height": 613
        }
      },
      "source": [
        "# 1.4 CNN model 구성 \n",
        "\n",
        "# custom R2-score metrics for keras backend\n",
        "from keras import backend as K\n",
        "\n",
        "def r2(y_true, y_pred):\n",
        "    SS_res =  K.sum(K.square(y_true - y_pred)) \n",
        "    SS_tot = K.sum(K.square(y_true - K.mean(y_true))) \n",
        "    return ( 1 - SS_res/(SS_tot + K.epsilon()) )\n",
        "\n",
        "# 이게 최적의 layer 구성인지는 모름... 일반적/직관적으로 layer 설정 \n",
        "import keras\n",
        "from keras.layers import Dense, Activation, Flatten, Conv1D, MaxPooling1D\n",
        "from keras.models import Sequential\n",
        "\n",
        "model = Sequential()\n",
        "model.add(Conv1D(128,4, input_shape=(window, size),padding=\"same\"))\n",
        "model.add(Activation('relu'))\n",
        "model.add(MaxPooling1D(pool_size=2))\n",
        "\n",
        "model.add(Conv1D(64, 4,padding=\"same\"))\n",
        "model.add(Activation('relu'))\n",
        "model.add(MaxPooling1D(pool_size=2))\n",
        "\n",
        "model.add(Conv1D(32, 4,padding=\"same\"))\n",
        "model.add(Activation('relu'))\n",
        "model.add(MaxPooling1D(pool_size=2))\n",
        "\n",
        "model.add(Flatten())\n",
        "model.add(Dense(32))\n",
        "model.add(Dense(forecast_days))\n",
        "model.add(Activation('linear'))\n",
        "\n",
        "model.compile(loss=keras.losses.mean_squared_error, optimizer=keras.optimizers.Adam(),metrics=['mae',r2])\n",
        "\n",
        "model.summary()"
      ],
      "execution_count": 0,
      "outputs": [
        {
          "output_type": "stream",
          "text": [
            "Model: \"sequential_1\"\n",
            "_________________________________________________________________\n",
            "Layer (type)                 Output Shape              Param #   \n",
            "=================================================================\n",
            "conv1d_7 (Conv1D)            (None, 30, 128)           89216     \n",
            "_________________________________________________________________\n",
            "activation_1 (Activation)    (None, 30, 128)           0         \n",
            "_________________________________________________________________\n",
            "max_pooling1d_7 (MaxPooling1 (None, 15, 128)           0         \n",
            "_________________________________________________________________\n",
            "conv1d_8 (Conv1D)            (None, 15, 64)            32832     \n",
            "_________________________________________________________________\n",
            "activation_2 (Activation)    (None, 15, 64)            0         \n",
            "_________________________________________________________________\n",
            "max_pooling1d_8 (MaxPooling1 (None, 7, 64)             0         \n",
            "_________________________________________________________________\n",
            "conv1d_9 (Conv1D)            (None, 7, 32)             8224      \n",
            "_________________________________________________________________\n",
            "activation_3 (Activation)    (None, 7, 32)             0         \n",
            "_________________________________________________________________\n",
            "max_pooling1d_9 (MaxPooling1 (None, 3, 32)             0         \n",
            "_________________________________________________________________\n",
            "flatten_5 (Flatten)          (None, 96)                0         \n",
            "_________________________________________________________________\n",
            "dense_9 (Dense)              (None, 32)                3104      \n",
            "_________________________________________________________________\n",
            "dense_10 (Dense)             (None, 15)                495       \n",
            "_________________________________________________________________\n",
            "activation_4 (Activation)    (None, 15)                0         \n",
            "=================================================================\n",
            "Total params: 133,871\n",
            "Trainable params: 133,871\n",
            "Non-trainable params: 0\n",
            "_________________________________________________________________\n"
          ],
          "name": "stdout"
        }
      ]
    },
    {
      "cell_type": "code",
      "metadata": {
        "id": "FTx8Ykn9Ea3h",
        "colab_type": "code",
        "outputId": "f0c1542b-2f5f-4b88-b903-afbb9301007f",
        "colab": {
          "base_uri": "https://localhost:8080/",
          "height": 1000
        }
      },
      "source": [
        "# 1.5 model training\n",
        "# 1.5.1 model training\n",
        "\n",
        "#학습 시작...\n",
        "hist = model.fit(train_x, train_y, epochs=50,verbose=1)"
      ],
      "execution_count": 0,
      "outputs": [
        {
          "output_type": "stream",
          "text": [
            "Epoch 1/50\n",
            "137/137 [==============================] - 0s 2ms/step - loss: 240335413.7226 - mae: 12155.2490 - r2: -1.6920\n",
            "Epoch 2/50\n",
            "137/137 [==============================] - 0s 243us/step - loss: 161849807.6496 - mae: 9496.3809 - r2: -0.6274\n",
            "Epoch 3/50\n",
            "137/137 [==============================] - 0s 246us/step - loss: 109275436.8175 - mae: 7750.2061 - r2: -0.0603\n",
            "Epoch 4/50\n",
            "137/137 [==============================] - 0s 240us/step - loss: 69451924.8467 - mae: 6213.5361 - r2: 0.2852\n",
            "Epoch 5/50\n",
            "137/137 [==============================] - 0s 249us/step - loss: 51494873.0219 - mae: 5428.8311 - r2: 0.4251\n",
            "Epoch 6/50\n",
            "137/137 [==============================] - 0s 244us/step - loss: 37374075.4161 - mae: 4411.5283 - r2: 0.6357\n",
            "Epoch 7/50\n",
            "137/137 [==============================] - 0s 240us/step - loss: 24996663.5620 - mae: 3420.4600 - r2: 0.6988\n",
            "Epoch 8/50\n",
            "137/137 [==============================] - 0s 238us/step - loss: 17829713.2263 - mae: 2816.9719 - r2: 0.8014\n",
            "Epoch 9/50\n",
            "137/137 [==============================] - 0s 284us/step - loss: 15197939.3942 - mae: 2612.5564 - r2: 0.8490\n",
            "Epoch 10/50\n",
            "137/137 [==============================] - 0s 264us/step - loss: 12555684.5255 - mae: 2372.9148 - r2: 0.8739\n",
            "Epoch 11/50\n",
            "137/137 [==============================] - 0s 261us/step - loss: 11136365.0164 - mae: 2249.8699 - r2: 0.8579\n",
            "Epoch 12/50\n",
            "137/137 [==============================] - 0s 261us/step - loss: 9663509.6314 - mae: 2030.0199 - r2: 0.9044\n",
            "Epoch 13/50\n",
            "137/137 [==============================] - 0s 262us/step - loss: 8743692.3978 - mae: 1922.8298 - r2: 0.9126\n",
            "Epoch 14/50\n",
            "137/137 [==============================] - 0s 238us/step - loss: 8097292.0036 - mae: 1871.3833 - r2: 0.9177\n",
            "Epoch 15/50\n",
            "137/137 [==============================] - 0s 266us/step - loss: 7555570.4927 - mae: 1781.1602 - r2: 0.9254\n",
            "Epoch 16/50\n",
            "137/137 [==============================] - 0s 265us/step - loss: 7194900.5620 - mae: 1793.2267 - r2: 0.9066\n",
            "Epoch 17/50\n",
            "137/137 [==============================] - 0s 267us/step - loss: 6923052.9161 - mae: 1759.6223 - r2: 0.9231\n",
            "Epoch 18/50\n",
            "137/137 [==============================] - 0s 256us/step - loss: 6763583.2226 - mae: 1763.1395 - r2: 0.9228\n",
            "Epoch 19/50\n",
            "137/137 [==============================] - 0s 259us/step - loss: 6241641.0365 - mae: 1678.6127 - r2: 0.9336\n",
            "Epoch 20/50\n",
            "137/137 [==============================] - 0s 283us/step - loss: 6294740.0584 - mae: 1635.9568 - r2: 0.9358\n",
            "Epoch 21/50\n",
            "137/137 [==============================] - 0s 253us/step - loss: 5635237.2518 - mae: 1578.2283 - r2: 0.9452\n",
            "Epoch 22/50\n",
            "137/137 [==============================] - 0s 259us/step - loss: 5620131.8193 - mae: 1597.9968 - r2: 0.9442\n",
            "Epoch 23/50\n",
            "137/137 [==============================] - 0s 296us/step - loss: 5145885.8102 - mae: 1498.7367 - r2: 0.9193\n",
            "Epoch 24/50\n",
            "137/137 [==============================] - 0s 278us/step - loss: 4986350.9799 - mae: 1467.8796 - r2: 0.9509\n",
            "Epoch 25/50\n",
            "137/137 [==============================] - 0s 272us/step - loss: 4954154.9307 - mae: 1495.5809 - r2: 0.9483\n",
            "Epoch 26/50\n",
            "137/137 [==============================] - 0s 328us/step - loss: 4528895.2208 - mae: 1432.9601 - r2: 0.9557\n",
            "Epoch 27/50\n",
            "137/137 [==============================] - 0s 247us/step - loss: 4785766.1898 - mae: 1454.9453 - r2: 0.9448\n",
            "Epoch 28/50\n",
            "137/137 [==============================] - 0s 250us/step - loss: 4754804.3942 - mae: 1453.3827 - r2: 0.9474\n",
            "Epoch 29/50\n",
            "137/137 [==============================] - 0s 266us/step - loss: 4460115.0438 - mae: 1423.3422 - r2: 0.9534\n",
            "Epoch 30/50\n",
            "137/137 [==============================] - 0s 271us/step - loss: 4587350.8102 - mae: 1462.4471 - r2: 0.9547\n",
            "Epoch 31/50\n",
            "137/137 [==============================] - 0s 294us/step - loss: 4547011.1496 - mae: 1418.4110 - r2: 0.9474\n",
            "Epoch 32/50\n",
            "137/137 [==============================] - 0s 292us/step - loss: 4344538.5237 - mae: 1375.4138 - r2: 0.9550\n",
            "Epoch 33/50\n",
            "137/137 [==============================] - 0s 253us/step - loss: 3954502.9927 - mae: 1336.7714 - r2: 0.9559\n",
            "Epoch 34/50\n",
            "137/137 [==============================] - 0s 292us/step - loss: 3823530.7847 - mae: 1292.0507 - r2: 0.9548\n",
            "Epoch 35/50\n",
            "137/137 [==============================] - 0s 249us/step - loss: 3720145.9471 - mae: 1287.3484 - r2: 0.9630\n",
            "Epoch 36/50\n",
            "137/137 [==============================] - 0s 244us/step - loss: 3666458.0073 - mae: 1279.2032 - r2: 0.9620\n",
            "Epoch 37/50\n",
            "137/137 [==============================] - 0s 246us/step - loss: 3919913.8613 - mae: 1329.9230 - r2: 0.9592\n",
            "Epoch 38/50\n",
            "137/137 [==============================] - 0s 273us/step - loss: 3873218.5511 - mae: 1300.1804 - r2: 0.9586\n",
            "Epoch 39/50\n",
            "137/137 [==============================] - 0s 277us/step - loss: 4371647.6861 - mae: 1395.4293 - r2: 0.9554\n",
            "Epoch 40/50\n",
            "137/137 [==============================] - 0s 260us/step - loss: 3725179.8869 - mae: 1279.4318 - r2: 0.9635\n",
            "Epoch 41/50\n",
            "137/137 [==============================] - 0s 263us/step - loss: 3557161.8558 - mae: 1231.3004 - r2: 0.9606\n",
            "Epoch 42/50\n",
            "137/137 [==============================] - 0s 273us/step - loss: 3422694.3266 - mae: 1216.2330 - r2: 0.9644\n",
            "Epoch 43/50\n",
            "137/137 [==============================] - 0s 273us/step - loss: 3235466.5584 - mae: 1173.4327 - r2: 0.9657\n",
            "Epoch 44/50\n",
            "137/137 [==============================] - 0s 295us/step - loss: 3179548.5657 - mae: 1160.1445 - r2: 0.9667\n",
            "Epoch 45/50\n",
            "137/137 [==============================] - 0s 248us/step - loss: 3049197.3577 - mae: 1137.8087 - r2: 0.9584\n",
            "Epoch 46/50\n",
            "137/137 [==============================] - 0s 261us/step - loss: 3023202.5292 - mae: 1144.3785 - r2: 0.9674\n",
            "Epoch 47/50\n",
            "137/137 [==============================] - 0s 280us/step - loss: 3020528.3568 - mae: 1146.9216 - r2: 0.9700\n",
            "Epoch 48/50\n",
            "137/137 [==============================] - 0s 265us/step - loss: 2982099.8339 - mae: 1125.4960 - r2: 0.9685\n",
            "Epoch 49/50\n",
            "137/137 [==============================] - 0s 265us/step - loss: 3004931.8704 - mae: 1137.3879 - r2: 0.9663\n",
            "Epoch 50/50\n",
            "137/137 [==============================] - 0s 258us/step - loss: 2890088.8942 - mae: 1112.1969 - r2: 0.9690\n"
          ],
          "name": "stdout"
        }
      ]
    },
    {
      "cell_type": "code",
      "metadata": {
        "id": "iyGEYibtE0kX",
        "colab_type": "code",
        "outputId": "9f116ece-e585-4a07-bc67-64cda3b1be36",
        "colab": {
          "base_uri": "https://localhost:8080/",
          "height": 296
        }
      },
      "source": [
        "# 1.5.2 학습에 대한 mean_absolute_error 확인.\n",
        "\n",
        "def plot_mae(hist):\n",
        "  plt.plot(hist.history['mae'])\n",
        "  plt.title('mean_absolute_error')\n",
        "  plt.ylabel('mae')\n",
        "  plt.xlabel('Epoch')\n",
        "  plt.legend(['mae'], loc='upper right')\n",
        "  plt.show()\n",
        "\n",
        "plot_mae(hist)"
      ],
      "execution_count": 0,
      "outputs": [
        {
          "output_type": "display_data",
          "data": {
            "image/png": "[encoded data removed]",
            "text/plain": [
              "<Figure size 432x288 with 1 Axes>"
            ]
          },
          "metadata": {
            "tags": [],
            "needs_background": "light"
          }
        }
      ]
    },
    {
      "cell_type": "code",
      "metadata": {
        "id": "TPiG5OcXUqPF",
        "colab_type": "code",
        "outputId": "b442a7e2-38ec-4541-efb3-876536960992",
        "colab": {
          "base_uri": "https://localhost:8080/",
          "height": 296
        }
      },
      "source": [
        "def plot_r2(hist):\n",
        "  plt.plot(hist.history['r2'])\n",
        "  plt.title('R square')\n",
        "  plt.ylabel('R^2')\n",
        "  plt.xlabel('Epoch')\n",
        "  #plt.legend(['mae'], loc='upper right')\n",
        "  plt.show()\n",
        "\n",
        "plot_r2(hist) "
      ],
      "execution_count": 0,
      "outputs": [
        {
          "output_type": "display_data",
          "data": {
            "image/png": "[encoded data removed]",
            "text/plain": [
              "<Figure size 432x288 with 1 Axes>"
            ]
          },
          "metadata": {
            "tags": [],
            "needs_background": "light"
          }
        }
      ]
    },
    {
      "cell_type": "code",
      "metadata": {
        "id": "hTliLN4UE4tl",
        "colab_type": "code",
        "outputId": "05154910-e4e4-40f6-81fd-3d1ce49c1611",
        "colab": {
          "base_uri": "https://localhost:8080/",
          "height": 245
        }
      },
      "source": [
        "# 1.5.3 trainset에 의한 과거 data의 예측 입국자 count \n",
        "predit_y = model.predict(train_x)\n",
        "predit_y,predit_y.shape"
      ],
      "execution_count": 0,
      "outputs": [
        {
          "output_type": "execute_result",
          "data": {
            "text/plain": [
              "(array([[16787.174  , 15253.548  , 15508.8    , ..., 17380.56   ,\n",
              "         16631.783  , 15993.624  ],\n",
              "        [20413.46   , 18938.67   , 19278.164  , ..., 21358.818  ,\n",
              "         20498.799  , 19879.033  ],\n",
              "        [22741.617  , 21554.205  , 21889.729  , ..., 24055.664  ,\n",
              "         23173.936  , 22766.545  ],\n",
              "        ...,\n",
              "        [  620.4637 ,   633.7502 ,   528.9909 , ...,   352.7433 ,\n",
              "           332.82846,   314.194  ],\n",
              "        [  615.674  ,   601.45435,   518.8906 , ...,   342.7455 ,\n",
              "           329.59625,   298.4336 ],\n",
              "        [  613.2533 ,   571.2588 ,   503.92126, ...,   326.87296,\n",
              "           331.71124,   292.13947]], dtype=float32), (137, 15))"
            ]
          },
          "metadata": {
            "tags": []
          },
          "execution_count": 27
        }
      ]
    },
    {
      "cell_type": "code",
      "metadata": {
        "id": "_d2l_thnFCvL",
        "colab_type": "code",
        "outputId": "2da67181-2f1d-4e22-835b-515cf8bd20ae",
        "colab": {
          "base_uri": "https://localhost:8080/",
          "height": 508
        }
      },
      "source": [
        "# 1.5.4 과거 Data에서 실등록자 count와 예측 count의 비교 \n",
        "\n",
        "def compare_backdata(predit_y):\n",
        "  predit = []\n",
        "  for forecast in range(forecast_days):\n",
        "    predit.append(list(np.concatenate((np.zeros(window+ forecast), predit_y[:,forecast],np.zeros(forecast_days-forecast-1)), axis=0)))\n",
        "  # 예측치를 chart에 같이 그려서 확인\n",
        "  comp_ds = raw_ds.copy()\n",
        "  comp_ds['predict_arrival_1'] = predit[0]\n",
        "  comp_ds['predict_arrival_15'] = predit[14]\n",
        "  comp_ds.plot(y=['total','predict_arrival_1','predict_arrival_15'],figsize=(16,8))\n",
        "\n",
        "compare_backdata(predit_y)"
      ],
      "execution_count": 0,
      "outputs": [
        {
          "output_type": "display_data",
          "data": {
            "image/png": "[encoded data removed]",
            "text/plain": [
              "<Figure size 1152x576 with 1 Axes>"
            ]
          },
          "metadata": {
            "tags": [],
            "needs_background": "light"
          }
        }
      ]
    },
    {
      "cell_type": "code",
      "metadata": {
        "id": "tBcvWJF2FHFi",
        "colab_type": "code",
        "outputId": "d7b64c10-18c9-4a78-f125-66c2eea58747",
        "colab": {
          "base_uri": "https://localhost:8080/",
          "height": 70
        }
      },
      "source": [
        "# 1.6  향후 15일 예측\n",
        "# 1.6.1 testset (마지막 30일)의 inference\n",
        "\n",
        "# trainset의 마지막 날에서 15일까지의 예측\n",
        "# 마지막 30일치 정보를 input으로...\n",
        "\n",
        "test_x = test_x.reshape(-1,window,size)\n",
        "predit_y = model.predict(test_x)\n",
        "predit_y, predit_y.shape"
      ],
      "execution_count": 0,
      "outputs": [
        {
          "output_type": "execute_result",
          "data": {
            "text/plain": [
              "(array([[394.7677 , 374.9302 , 376.81052, 358.85104, 353.61786, 370.4644 ,\n",
              "         283.29547, 296.39508, 300.04376, 259.38138, 255.25455, 282.3695 ,\n",
              "         228.00061, 223.98926, 197.75592]], dtype=float32), (1, 15))"
            ]
          },
          "metadata": {
            "tags": []
          },
          "execution_count": 33
        }
      ]
    },
    {
      "cell_type": "code",
      "metadata": {
        "id": "iteCMHETFR3N",
        "colab_type": "code",
        "outputId": "776b5994-1aa2-4ecc-8b42-c103cb273f60",
        "colab": {
          "base_uri": "https://localhost:8080/",
          "height": 877
        }
      },
      "source": [
        "# 1.6.2 로밍등록자 예측 Count에서 실입국자 보정 처리 및 결과 표출\n",
        "def display_result(predit_y):\n",
        "  predic_ds = []\n",
        "  # 로밍등록자는 실 입국자의 약 24%에 해당되므로.. 이를 보정 처리 한다.\n",
        "  #predit_y1 = predit_y * 100/24\n",
        "  from datetime import datetime, timedelta\n",
        "  last_date = raw_ds.index[-1]\n",
        "  #print('============================================================')\n",
        "  for predict_count in predit_y[0]:\n",
        "    last_date += timedelta(days=1)\n",
        "    #print('Forecast of the number of immigrants on ' +str(last_date)[10]+ ':',int(predict_count))\n",
        "    predic_ds.append({'date':last_date,'roaming register forecate':predict_count, 'immigrantion forecast':int(predict_count * 100/24)})\n",
        "  #print('============================================================')\n",
        "\n",
        "  predic_ds = pd.DataFrame(predic_ds)\n",
        "  predic_ds.plot(x='date',y='immigrantion forecast',kind='bar')\n",
        "  return predic_ds\n",
        "\n",
        "display_result(predit_y)"
      ],
      "execution_count": 0,
      "outputs": [
        {
          "output_type": "execute_result",
          "data": {
            "text/html": [
              "<div>\n",
              "<style scoped>\n",
              "    .dataframe tbody tr th:only-of-type {\n",
              "        vertical-align: middle;\n",
              "    }\n",
              "\n",
              "    .dataframe tbody tr th {\n",
              "        vertical-align: top;\n",
              "    }\n",
              "\n",
              "    .dataframe thead th {\n",
              "        text-align: right;\n",
              "    }\n",
              "</style>\n",
              "<table border=\"1\" class=\"dataframe\">\n",
              "  <thead>\n",
              "    <tr style=\"text-align: right;\">\n",
              "      <th></th>\n",
              "      <th>date</th>\n",
              "      <th>roaming register forecate</th>\n",
              "      <th>immigrantion forecast</th>\n",
              "    </tr>\n",
              "  </thead>\n",
              "  <tbody>\n",
              "    <tr>\n",
              "      <th>0</th>\n",
              "      <td>2020-04-29</td>\n",
              "      <td>394.767700</td>\n",
              "      <td>1644</td>\n",
              "    </tr>\n",
              "    <tr>\n",
              "      <th>1</th>\n",
              "      <td>2020-04-30</td>\n",
              "      <td>374.930206</td>\n",
              "      <td>1562</td>\n",
              "    </tr>\n",
              "    <tr>\n",
              "      <th>2</th>\n",
              "      <td>2020-05-01</td>\n",
              "      <td>376.810516</td>\n",
              "      <td>1570</td>\n",
              "    </tr>\n",
              "    <tr>\n",
              "      <th>3</th>\n",
              "      <td>2020-05-02</td>\n",
              "      <td>358.851044</td>\n",
              "      <td>1495</td>\n",
              "    </tr>\n",
              "    <tr>\n",
              "      <th>4</th>\n",
              "      <td>2020-05-03</td>\n",
              "      <td>353.617859</td>\n",
              "      <td>1473</td>\n",
              "    </tr>\n",
              "    <tr>\n",
              "      <th>5</th>\n",
              "      <td>2020-05-04</td>\n",
              "      <td>370.464386</td>\n",
              "      <td>1543</td>\n",
              "    </tr>\n",
              "    <tr>\n",
              "      <th>6</th>\n",
              "      <td>2020-05-05</td>\n",
              "      <td>283.295471</td>\n",
              "      <td>1180</td>\n",
              "    </tr>\n",
              "    <tr>\n",
              "      <th>7</th>\n",
              "      <td>2020-05-06</td>\n",
              "      <td>296.395081</td>\n",
              "      <td>1234</td>\n",
              "    </tr>\n",
              "    <tr>\n",
              "      <th>8</th>\n",
              "      <td>2020-05-07</td>\n",
              "      <td>300.043762</td>\n",
              "      <td>1250</td>\n",
              "    </tr>\n",
              "    <tr>\n",
              "      <th>9</th>\n",
              "      <td>2020-05-08</td>\n",
              "      <td>259.381378</td>\n",
              "      <td>1080</td>\n",
              "    </tr>\n",
              "    <tr>\n",
              "      <th>10</th>\n",
              "      <td>2020-05-09</td>\n",
              "      <td>255.254547</td>\n",
              "      <td>1063</td>\n",
              "    </tr>\n",
              "    <tr>\n",
              "      <th>11</th>\n",
              "      <td>2020-05-10</td>\n",
              "      <td>282.369507</td>\n",
              "      <td>1176</td>\n",
              "    </tr>\n",
              "    <tr>\n",
              "      <th>12</th>\n",
              "      <td>2020-05-11</td>\n",
              "      <td>228.000610</td>\n",
              "      <td>950</td>\n",
              "    </tr>\n",
              "    <tr>\n",
              "      <th>13</th>\n",
              "      <td>2020-05-12</td>\n",
              "      <td>223.989258</td>\n",
              "      <td>933</td>\n",
              "    </tr>\n",
              "    <tr>\n",
              "      <th>14</th>\n",
              "      <td>2020-05-13</td>\n",
              "      <td>197.755920</td>\n",
              "      <td>823</td>\n",
              "    </tr>\n",
              "  </tbody>\n",
              "</table>\n",
              "</div>"
            ],
            "text/plain": [
              "         date  roaming register forecate  immigrantion forecast\n",
              "0  2020-04-29                 394.767700                   1644\n",
              "1  2020-04-30                 374.930206                   1562\n",
              "2  2020-05-01                 376.810516                   1570\n",
              "3  2020-05-02                 358.851044                   1495\n",
              "4  2020-05-03                 353.617859                   1473\n",
              "5  2020-05-04                 370.464386                   1543\n",
              "6  2020-05-05                 283.295471                   1180\n",
              "7  2020-05-06                 296.395081                   1234\n",
              "8  2020-05-07                 300.043762                   1250\n",
              "9  2020-05-08                 259.381378                   1080\n",
              "10 2020-05-09                 255.254547                   1063\n",
              "11 2020-05-10                 282.369507                   1176\n",
              "12 2020-05-11                 228.000610                    950\n",
              "13 2020-05-12                 223.989258                    933\n",
              "14 2020-05-13                 197.755920                    823"
            ]
          },
          "metadata": {
            "tags": []
          },
          "execution_count": 34
        },
        {
          "output_type": "display_data",
          "data": {
            "image/png": "[encoded data removed]",
            "text/plain": [
              "<Figure size 432x288 with 1 Axes>"
            ]
          },
          "metadata": {
            "tags": [],
            "needs_background": "light"
          }
        }
      ]
    },
    {
      "cell_type": "markdown",
      "metadata": {
        "id": "KOdcXgQp1bug",
        "colab_type": "text"
      },
      "source": [
        "2. Forecast with unstructured timeseries data<br>\n",
        "  2.0 개요<br>\n",
        " \t2.1 News Data의 load<br>\n",
        " \t2.2 News Data에 대한 EDA<br>\n",
        " \t\t2.2.1 게시일을 기준으로 News buzz의 합산\n",
        " \t\t2.2.2 하루 최대 buzz count 추출\n",
        " \t\t2.2.3 News buzz 추세 Chart\n",
        " \t2.3 News Data의 전처리\n",
        "\t\t2.3.1 News Data의 doc2vec 처리\n",
        "\t\t\t2.3.1.1 document의 tokenize & tagging\n",
        "\t\t\t2.3.1.2 doc2vec model training\n",
        "\t\t2.3.4 원시(origin) Trainset의 구성\n",
        "\t2.4 doc2vec에 의한 Regression Test (Not forecast)\n",
        "\t\t2.4.1 doc2vec의 Timeseries model 구성\n",
        "\t\t2.4.2 원시(origin) Trainset으로 model training\n",
        "\t\t2.4.3 학습에 대한 mean_absolute_error 확인.\n",
        "\t\t2.4.4 trainset에 의한 과거 data의 예측 입국자 count \n",
        "\t\t2.4.5 실등록자 count와 news기반 예측 count의 비교 chart\n",
        "\t2.5 doc2vec에 의한 Forecast regression\n",
        "\t\t2.5.1 doc2vec의 Window 적용 Timeseries Trainset의 구성\n",
        "\t\t2.5.2 doc2vec Window 의 Timeseries model 구성\n",
        "\t\t2.5.3 doc2vec의 Window 적용 Timeseries Trainset으로 model training\n",
        "\t\t2.5.4 학습에 대한 mean_absolute_error 확인.\n",
        "\t\t2.5.5 trainset에 의한 과거 data의 예측 입국자 추정 \n",
        "\t\t2.5.6 실등록자 count와 news기반 예측 count의 비교 chart\n",
        " \t2.6  향후 15일 예측\n",
        " \t\t2.6.1 testset (마지막 30일)의 inference\n",
        " \t\t2.6.2 로밍등록자 예측 Count에서 실입국자 보정 처리 및 결과 표출\n"
      ]
    },
    {
      "cell_type": "markdown",
      "metadata": {
        "id": "M0xK8yTb20U7",
        "colab_type": "text"
      },
      "source": [
        "2.0 Forecast with unstructured timeseries data의 개요\n",
        " <br>corona 관련 news가 입국자에 어떻게 영향을 주었는지 분석하기 위해서는 news의 내용을 알아야 하고 labeling 의 과정이\n",
        " 사람에 의해 이루어 져야 하나, 그럴 공수는 들이지 못하므로, doc2vec을 활용하여 news를 vector화 하고 이를 입국자수에 대해 regression한다.\n",
        " <br>news vector는 하루의 최대 뉴스수를 기준으로 Metrics를 만든다.\n",
        " EDA과정에 의해 corona로 분류된 뉴스는 하루 최대 1948, 이며 document의 vector 사이즈는 임으로 40을 정했다. \n",
        " <br>자원의 활용상 news의 title만 vector화 하였다. 만약, contents 를 vector화 한다면 vector sizr를 400~1000으로 충분히 크게 잡으면 될 것이고,\n",
        " 전체적인 과정 및 알고리즘은 동일하다.\n",
        "<br><br>\n",
        " 즉, 전체 분석 알고리즘은 \n",
        " 분석대상 날짜수 (=로밍데이터와 동일한 날자수) 약 181일, 따라서 전체 metric은 (181,1948,40) \n",
        " <br>이것을 시계열로 학습해서 예측을 하기 위해서는 로밍등록자 예측과 유사하게 30일 window로 15일을 예측하도록 한다.\n",
        " <br>따라서 학습셋(train_news_x)의 최종 shape은 (136,30,1948,40) 이될것.. train_news_y 는 (136,15)...\n",
        " <br>train_news_x (136,30,1948,40) -> convolutional regression to train_news_y (136,15)\n"
      ]
    },
    {
      "cell_type": "code",
      "metadata": {
        "id": "nt4QbPsFFmOY",
        "colab_type": "code",
        "colab": {}
      },
      "source": [
        "\n",
        "# \t2.1 News Data의 load\n",
        "\n",
        "# 뉴스 기사 정보를 읽어서... 나뉘어 있는 Dataset을 합친다.\n",
        "ns1 = pd.read_excel(\"https://raw.githubusercontent.com/dolmani38/ai_corona/master/corona_contest_data_0406/NewsList.xls\")\n",
        "ns2 = pd.read_excel(\"https://raw.githubusercontent.com/dolmani38/ai_corona/master/corona_contest_data_0429/NewsList.xls\")\n",
        "ns =pd.concat([ns1, ns2], ignore_index=True, sort=False)"
      ],
      "execution_count": 0,
      "outputs": []
    },
    {
      "cell_type": "code",
      "metadata": {
        "id": "FXLw5mt8Fzdb",
        "colab_type": "code",
        "outputId": "9186574f-2059-4173-9d0f-1a90b0f15800",
        "colab": {
          "base_uri": "https://localhost:8080/",
          "height": 945
        }
      },
      "source": [
        "ns"
      ],
      "execution_count": 0,
      "outputs": [
        {
          "output_type": "execute_result",
          "data": {
            "text/html": [
              "<div>\n",
              "<style scoped>\n",
              "    .dataframe tbody tr th:only-of-type {\n",
              "        vertical-align: middle;\n",
              "    }\n",
              "\n",
              "    .dataframe tbody tr th {\n",
              "        vertical-align: top;\n",
              "    }\n",
              "\n",
              "    .dataframe thead th {\n",
              "        text-align: right;\n",
              "    }\n",
              "</style>\n",
              "<table border=\"1\" class=\"dataframe\">\n",
              "  <thead>\n",
              "    <tr style=\"text-align: right;\">\n",
              "      <th></th>\n",
              "      <th>파일명</th>\n",
              "      <th>제목</th>\n",
              "      <th>URL</th>\n",
              "      <th>수집일자</th>\n",
              "      <th>게시일자</th>\n",
              "      <th>채널명</th>\n",
              "      <th>감염병명</th>\n",
              "      <th>분류명</th>\n",
              "    </tr>\n",
              "  </thead>\n",
              "  <tbody>\n",
              "    <tr>\n",
              "      <th>0</th>\n",
              "      <td>AFRO2019120200003</td>\n",
              "      <td>WHO supports Angola’s Government efforts to en...</td>\n",
              "      <td>https://www.afro.who.int/news/who-supports-ang...</td>\n",
              "      <td>2019-12-02 21:00:16.0</td>\n",
              "      <td>2019-12-02 00:00:00</td>\n",
              "      <td>AFRO</td>\n",
              "      <td>Poliomyelitis</td>\n",
              "      <td>Viral</td>\n",
              "    </tr>\n",
              "    <tr>\n",
              "      <th>1</th>\n",
              "      <td>AFRO2019120300001</td>\n",
              "      <td>African First Ladies laud progress against HIV...</td>\n",
              "      <td>https://www.afro.who.int/news/african-first-la...</td>\n",
              "      <td>2019-12-03 00:00:17.0</td>\n",
              "      <td>2019-12-02 00:00:00</td>\n",
              "      <td>AFRO</td>\n",
              "      <td>Acquired immuno deficiency syndrome</td>\n",
              "      <td>Viral</td>\n",
              "    </tr>\n",
              "    <tr>\n",
              "      <th>2</th>\n",
              "      <td>AFRO2019120300002</td>\n",
              "      <td>Eritrea Observed World AIDS Day 2019</td>\n",
              "      <td>https://www.afro.who.int/news/eritrea-observed...</td>\n",
              "      <td>2019-12-03 00:00:18.0</td>\n",
              "      <td>2019-12-02 00:00:00</td>\n",
              "      <td>AFRO</td>\n",
              "      <td>Acquired immuno deficiency syndrome</td>\n",
              "      <td>Viral</td>\n",
              "    </tr>\n",
              "    <tr>\n",
              "      <th>3</th>\n",
              "      <td>AFRO2019120400003</td>\n",
              "      <td>West and Central Africa Expands Access to HIV ...</td>\n",
              "      <td>https://www.afro.who.int/news/west-and-central...</td>\n",
              "      <td>2019-12-04 03:00:14.0</td>\n",
              "      <td>2019-12-03 00:00:00</td>\n",
              "      <td>AFRO</td>\n",
              "      <td>Acquired immuno deficiency syndrome</td>\n",
              "      <td>Viral</td>\n",
              "    </tr>\n",
              "    <tr>\n",
              "      <th>4</th>\n",
              "      <td>AFRO2019120400004</td>\n",
              "      <td>Nearly 23 million voluntary male medical circu...</td>\n",
              "      <td>https://www.afro.who.int/news/nearly-23-millio...</td>\n",
              "      <td>2019-12-04 22:00:14.0</td>\n",
              "      <td>2019-12-04 00:00:00</td>\n",
              "      <td>AFRO</td>\n",
              "      <td>Acquired immuno deficiency syndrome</td>\n",
              "      <td>Viral</td>\n",
              "    </tr>\n",
              "    <tr>\n",
              "      <th>...</th>\n",
              "      <td>...</td>\n",
              "      <td>...</td>\n",
              "      <td>...</td>\n",
              "      <td>...</td>\n",
              "      <td>...</td>\n",
              "      <td>...</td>\n",
              "      <td>...</td>\n",
              "      <td>...</td>\n",
              "    </tr>\n",
              "    <tr>\n",
              "      <th>103822</th>\n",
              "      <td>XWFB2020040900020</td>\n",
              "      <td>Ching Ming remembrance, home country forever! ...</td>\n",
              "      <td>http://wsjkw.sh.gov.cn/xwfb/20200404/2f54e0e14...</td>\n",
              "      <td>2020-04-09 16:05:21.0</td>\n",
              "      <td>2020-04-04 00:00:00</td>\n",
              "      <td>Shanghai Municioal Health Commission</td>\n",
              "      <td>COVID-19</td>\n",
              "      <td>Viral</td>\n",
              "    </tr>\n",
              "    <tr>\n",
              "      <th>103823</th>\n",
              "      <td>ZWYW2020041000002</td>\n",
              "      <td>Guangdong Provincial Health Commission notifie...</td>\n",
              "      <td>http://wsjkw.gd.gov.cn/zwyw_yqxx/content/post_...</td>\n",
              "      <td>2020-04-10 18:00:45.0</td>\n",
              "      <td>2020-04-10 00:00:00</td>\n",
              "      <td>Health Commission of Guangdong Province</td>\n",
              "      <td>Dengue fever</td>\n",
              "      <td>Viral</td>\n",
              "    </tr>\n",
              "    <tr>\n",
              "      <th>103824</th>\n",
              "      <td>ZWYW2020041500002</td>\n",
              "      <td>Guangdong Provincial Health Commission announc...</td>\n",
              "      <td>http://wsjkw.gd.gov.cn/zwyw_yqxx/content/post_...</td>\n",
              "      <td>2020-04-15 23:01:04.0</td>\n",
              "      <td>2020-04-15 00:00:00</td>\n",
              "      <td>Health Commission of Guangdong Province</td>\n",
              "      <td>Influenza</td>\n",
              "      <td>Viral</td>\n",
              "    </tr>\n",
              "    <tr>\n",
              "      <th>103825</th>\n",
              "      <td>ZWYW2020041500003</td>\n",
              "      <td>Guangdong Provincial Health Commission release...</td>\n",
              "      <td>http://wsjkw.gd.gov.cn/zwyw_yqxx/content/post_...</td>\n",
              "      <td>2020-04-15 23:01:13.0</td>\n",
              "      <td>2020-04-15 00:00:00</td>\n",
              "      <td>Health Commission of Guangdong Province</td>\n",
              "      <td>Influenza</td>\n",
              "      <td>Viral</td>\n",
              "    </tr>\n",
              "    <tr>\n",
              "      <th>103826</th>\n",
              "      <td>ZWYW2020041700002</td>\n",
              "      <td>The Guangdong Provincial Health Commission not...</td>\n",
              "      <td>http://wsjkw.gd.gov.cn/zwyw_yqxx/content/post_...</td>\n",
              "      <td>2020-04-17 17:01:02.0</td>\n",
              "      <td>2020-04-17 00:00:00</td>\n",
              "      <td>Health Commission of Guangdong Province</td>\n",
              "      <td>Dengue fever</td>\n",
              "      <td>Viral</td>\n",
              "    </tr>\n",
              "  </tbody>\n",
              "</table>\n",
              "<p>103827 rows × 8 columns</p>\n",
              "</div>"
            ],
            "text/plain": [
              "                      파일명  ...    분류명\n",
              "0       AFRO2019120200003  ...  Viral\n",
              "1       AFRO2019120300001  ...  Viral\n",
              "2       AFRO2019120300002  ...  Viral\n",
              "3       AFRO2019120400003  ...  Viral\n",
              "4       AFRO2019120400004  ...  Viral\n",
              "...                   ...  ...    ...\n",
              "103822  XWFB2020040900020  ...  Viral\n",
              "103823  ZWYW2020041000002  ...  Viral\n",
              "103824  ZWYW2020041500002  ...  Viral\n",
              "103825  ZWYW2020041500003  ...  Viral\n",
              "103826  ZWYW2020041700002  ...  Viral\n",
              "\n",
              "[103827 rows x 8 columns]"
            ]
          },
          "metadata": {
            "tags": []
          },
          "execution_count": 167
        }
      ]
    },
    {
      "cell_type": "code",
      "metadata": {
        "id": "AwogV4oFF5pP",
        "colab_type": "code",
        "outputId": "fa5824ea-9395-472d-e136-cc590d571845",
        "colab": {
          "base_uri": "https://localhost:8080/",
          "height": 561
        }
      },
      "source": [
        "# \t2.2 News Data에 대한 EDA\n",
        "# \t\t2.2.1 게시일을 기준으로 News buzz의 합산\n",
        "\n",
        "cov_news = ns.loc[ns['감염병명'] == 'COVID-19']\n",
        "cov_news['게시일자'] =  cov_news['게시일자'].str[:10]\n",
        "cov_buz = pd.DataFrame(cov_news.groupby('게시일자')['감염병명'].count())\n",
        "cov_buz = cov_buz.loc[cov_buz.index >= '2019-10-31']\n",
        "cov_buz['date'] = pd.to_datetime(cov_buz.index, format='%Y-%m-%d')\n",
        "cov_buz = cov_buz.rename(columns={\"감염병명\":\"buz_count\"})\n",
        "cov_buz"
      ],
      "execution_count": 0,
      "outputs": [
        {
          "output_type": "stream",
          "text": [
            "/usr/local/lib/python3.6/dist-packages/ipykernel_launcher.py:3: SettingWithCopyWarning: \n",
            "A value is trying to be set on a copy of a slice from a DataFrame.\n",
            "Try using .loc[row_indexer,col_indexer] = value instead\n",
            "\n",
            "See the caveats in the documentation: https://pandas.pydata.org/pandas-docs/stable/user_guide/indexing.html#returning-a-view-versus-a-copy\n",
            "  This is separate from the ipykernel package so we can avoid doing imports until\n"
          ],
          "name": "stderr"
        },
        {
          "output_type": "execute_result",
          "data": {
            "text/html": [
              "<div>\n",
              "<style scoped>\n",
              "    .dataframe tbody tr th:only-of-type {\n",
              "        vertical-align: middle;\n",
              "    }\n",
              "\n",
              "    .dataframe tbody tr th {\n",
              "        vertical-align: top;\n",
              "    }\n",
              "\n",
              "    .dataframe thead th {\n",
              "        text-align: right;\n",
              "    }\n",
              "</style>\n",
              "<table border=\"1\" class=\"dataframe\">\n",
              "  <thead>\n",
              "    <tr style=\"text-align: right;\">\n",
              "      <th></th>\n",
              "      <th>buz_count</th>\n",
              "      <th>date</th>\n",
              "    </tr>\n",
              "    <tr>\n",
              "      <th>게시일자</th>\n",
              "      <th></th>\n",
              "      <th></th>\n",
              "    </tr>\n",
              "  </thead>\n",
              "  <tbody>\n",
              "    <tr>\n",
              "      <th>2019-12-01</th>\n",
              "      <td>1</td>\n",
              "      <td>2019-12-01</td>\n",
              "    </tr>\n",
              "    <tr>\n",
              "      <th>2019-12-14</th>\n",
              "      <td>2</td>\n",
              "      <td>2019-12-14</td>\n",
              "    </tr>\n",
              "    <tr>\n",
              "      <th>2019-12-30</th>\n",
              "      <td>3</td>\n",
              "      <td>2019-12-30</td>\n",
              "    </tr>\n",
              "    <tr>\n",
              "      <th>2019-12-31</th>\n",
              "      <td>5</td>\n",
              "      <td>2019-12-31</td>\n",
              "    </tr>\n",
              "    <tr>\n",
              "      <th>2020-01-02</th>\n",
              "      <td>1</td>\n",
              "      <td>2020-01-02</td>\n",
              "    </tr>\n",
              "    <tr>\n",
              "      <th>...</th>\n",
              "      <td>...</td>\n",
              "      <td>...</td>\n",
              "    </tr>\n",
              "    <tr>\n",
              "      <th>2020-04-26</th>\n",
              "      <td>1176</td>\n",
              "      <td>2020-04-26</td>\n",
              "    </tr>\n",
              "    <tr>\n",
              "      <th>2020-04-27</th>\n",
              "      <td>1353</td>\n",
              "      <td>2020-04-27</td>\n",
              "    </tr>\n",
              "    <tr>\n",
              "      <th>2020-04-28</th>\n",
              "      <td>999</td>\n",
              "      <td>2020-04-28</td>\n",
              "    </tr>\n",
              "    <tr>\n",
              "      <th>2020-05-02</th>\n",
              "      <td>3</td>\n",
              "      <td>2020-05-02</td>\n",
              "    </tr>\n",
              "    <tr>\n",
              "      <th>2020-05-09</th>\n",
              "      <td>2</td>\n",
              "      <td>2020-05-09</td>\n",
              "    </tr>\n",
              "  </tbody>\n",
              "</table>\n",
              "<p>121 rows × 2 columns</p>\n",
              "</div>"
            ],
            "text/plain": [
              "            buz_count       date\n",
              "게시일자                            \n",
              "2019-12-01          1 2019-12-01\n",
              "2019-12-14          2 2019-12-14\n",
              "2019-12-30          3 2019-12-30\n",
              "2019-12-31          5 2019-12-31\n",
              "2020-01-02          1 2020-01-02\n",
              "...               ...        ...\n",
              "2020-04-26       1176 2020-04-26\n",
              "2020-04-27       1353 2020-04-27\n",
              "2020-04-28        999 2020-04-28\n",
              "2020-05-02          3 2020-05-02\n",
              "2020-05-09          2 2020-05-09\n",
              "\n",
              "[121 rows x 2 columns]"
            ]
          },
          "metadata": {
            "tags": []
          },
          "execution_count": 9
        }
      ]
    },
    {
      "cell_type": "code",
      "metadata": {
        "id": "Ha05in9aF9On",
        "colab_type": "code",
        "outputId": "c873fa51-70a4-4290-85a6-5887796ea459",
        "colab": {
          "base_uri": "https://localhost:8080/",
          "height": 35
        }
      },
      "source": [
        "# \t\t2.2.2 하루 최대 buzz count 추출\n",
        "\n",
        "max_buz_per_day = cov_buz['buz_count'].max()\n",
        "max_buz_per_day"
      ],
      "execution_count": 0,
      "outputs": [
        {
          "output_type": "execute_result",
          "data": {
            "text/plain": [
              "1948"
            ]
          },
          "metadata": {
            "tags": []
          },
          "execution_count": 10
        }
      ]
    },
    {
      "cell_type": "code",
      "metadata": {
        "id": "MMJEhmUfGCLx",
        "colab_type": "code",
        "outputId": "c93bd124-a4b6-40a8-a1fa-f07d318c9934",
        "colab": {
          "base_uri": "https://localhost:8080/",
          "height": 296
        }
      },
      "source": [
        "# \t\t2.2.3 News buzz 추세 Chart\n",
        "\n",
        "cov_buz.plot(x='date',y='buz_count')"
      ],
      "execution_count": 0,
      "outputs": [
        {
          "output_type": "execute_result",
          "data": {
            "text/plain": [
              "<matplotlib.axes._subplots.AxesSubplot at 0x7fe27c20db38>"
            ]
          },
          "metadata": {
            "tags": []
          },
          "execution_count": 170
        },
        {
          "output_type": "display_data",
          "data": {
            "image/png": "[encoded data removed]",
            "text/plain": [
              "<Figure size 432x288 with 1 Axes>"
            ]
          },
          "metadata": {
            "tags": [],
            "needs_background": "light"
          }
        }
      ]
    },
    {
      "cell_type": "code",
      "metadata": {
        "id": "f6yZmuOeGF7M",
        "colab_type": "code",
        "outputId": "f5ad24c6-5e2a-4f94-f104-a05dcb8294bb",
        "colab": {
          "base_uri": "https://localhost:8080/",
          "height": 105
        }
      },
      "source": [
        "# \t2.3 News Data의 전처리\n",
        "#\t\t2.3.1 News Data의 doc2vec 처리\n",
        "\n",
        "!pip install nltk\n",
        "#Import all the dependencies\n",
        "from gensim.models.doc2vec import Doc2Vec, TaggedDocument\n",
        "from nltk.tokenize import word_tokenize\n",
        "import nltk\n",
        "nltk.download('punkt')"
      ],
      "execution_count": 0,
      "outputs": [
        {
          "output_type": "stream",
          "text": [
            "Requirement already satisfied: nltk in /usr/local/lib/python3.6/dist-packages (3.2.5)\n",
            "Requirement already satisfied: six in /usr/local/lib/python3.6/dist-packages (from nltk) (1.12.0)\n",
            "[nltk_data] Downloading package punkt to /root/nltk_data...\n",
            "[nltk_data]   Unzipping tokenizers/punkt.zip.\n"
          ],
          "name": "stdout"
        },
        {
          "output_type": "execute_result",
          "data": {
            "text/plain": [
              "True"
            ]
          },
          "metadata": {
            "tags": []
          },
          "execution_count": 11
        }
      ]
    },
    {
      "cell_type": "code",
      "metadata": {
        "id": "eduqLaErGKGW",
        "colab_type": "code",
        "outputId": "3d660069-b9ba-4108-cc8e-eaff3ede6711",
        "colab": {
          "base_uri": "https://localhost:8080/",
          "height": 35
        }
      },
      "source": [
        "#\t\t\t2.3.1.1 document의 tokenize & tagging\n",
        "# 실 Contents는 사용하지 않고 title만 doc2vec 처리...\n",
        "tagged_data = []\n",
        "for row in cov_news.iterrows():\n",
        "    file_name = row[1][0]\n",
        "    title = str(row[1][1])\n",
        "    pub_datetime = row[1][4]\n",
        "    tagged_data.append(TaggedDocument(words=word_tokenize(title.lower()), tags=[file_name]))\n",
        "    \n",
        "len(tagged_data)"
      ],
      "execution_count": 0,
      "outputs": [
        {
          "output_type": "execute_result",
          "data": {
            "text/plain": [
              "73752"
            ]
          },
          "metadata": {
            "tags": []
          },
          "execution_count": 12
        }
      ]
    },
    {
      "cell_type": "code",
      "metadata": {
        "id": "40TcC5cGGTaX",
        "colab_type": "code",
        "outputId": "f294c076-87da-4a80-a78a-078e51737499",
        "colab": {
          "base_uri": "https://localhost:8080/",
          "height": 265
        }
      },
      "source": [
        "#\t\t\t2.3.1.2 doc2vec model training\n",
        "# 시간 무지 걸림... 돌리고 커피 한잔 마시기.\n",
        "\n",
        "max_epochs = 10 # 이건 나중에 100 정도로 수정...\n",
        "vec_size = 40\n",
        "alpha = 0.025\n",
        "\n",
        "d2v_model = Doc2Vec(vector_size=vec_size,\n",
        "                alpha=alpha, \n",
        "                min_alpha=0.00025,\n",
        "                min_count=1,\n",
        "                dm =1)\n",
        "  \n",
        "d2v_model.build_vocab(tagged_data)\n",
        "\n",
        "for epoch in range(max_epochs):\n",
        "    print('iteration {0}'.format(epoch))\n",
        "    d2v_model.train(tagged_data,\n",
        "                total_examples=d2v_model.corpus_count,\n",
        "                epochs=d2v_model.epochs )\n",
        "    # decrease the learning rate\n",
        "    d2v_model.alpha -= 0.0002\n",
        "    # fix the learning rate, no decay\n",
        "    d2v_model.min_alpha = d2v_model.alpha\n",
        "\n",
        "d2v_model.save(\"d2v.model\")\n",
        "\n",
        "print(\"Model Saved\")"
      ],
      "execution_count": 0,
      "outputs": [
        {
          "output_type": "stream",
          "text": [
            "iteration 0\n",
            "iteration 1\n",
            "iteration 2\n",
            "iteration 3\n",
            "iteration 4\n",
            "iteration 5\n",
            "iteration 6\n",
            "iteration 7\n",
            "iteration 8\n",
            "iteration 9\n"
          ],
          "name": "stdout"
        },
        {
          "output_type": "stream",
          "text": [
            "/usr/local/lib/python3.6/dist-packages/smart_open/smart_open_lib.py:253: UserWarning: This function is deprecated, use smart_open.open instead. See the migration notes for details: https://github.com/RaRe-Technologies/smart_open/blob/master/README.rst#migrating-to-the-new-open-function\n",
            "  'See the migration notes for details: %s' % _MIGRATION_NOTES_URL\n"
          ],
          "name": "stderr"
        },
        {
          "output_type": "stream",
          "text": [
            "Model Saved\n"
          ],
          "name": "stdout"
        }
      ]
    },
    {
      "cell_type": "code",
      "metadata": {
        "id": "t5VRXLbrIAq-",
        "colab_type": "code",
        "outputId": "4618f965-d9cc-4349-f8fd-051dd7dfa439",
        "colab": {
          "base_uri": "https://localhost:8080/",
          "height": 198
        }
      },
      "source": [
        "# doc2vec 모델 학습 결과 확인..\n",
        "from gensim.models.doc2vec import Doc2Vec\n",
        "\n",
        "d2v_model= Doc2Vec.load(\"d2v.model\")\n",
        "\n",
        "# to find vector of doc in training data using tags or in other words, printing the vector of document at index 1 in training data\n",
        "print(d2v_model.docvecs['AFRO2020013100001'])"
      ],
      "execution_count": 0,
      "outputs": [
        {
          "output_type": "stream",
          "text": [
            "/usr/local/lib/python3.6/dist-packages/smart_open/smart_open_lib.py:253: UserWarning: This function is deprecated, use smart_open.open instead. See the migration notes for details: https://github.com/RaRe-Technologies/smart_open/blob/master/README.rst#migrating-to-the-new-open-function\n",
            "  'See the migration notes for details: %s' % _MIGRATION_NOTES_URL\n"
          ],
          "name": "stderr"
        },
        {
          "output_type": "stream",
          "text": [
            "[-0.09079774  0.48010975 -0.10375205 -0.33124164 -0.11768059  0.38018024\n",
            "  0.05207051  0.624525   -0.8547646  -0.23749787  0.24862057  0.86797816\n",
            "  0.72920626  1.5347681  -0.22332563 -0.11285394 -0.7149125   0.92713666\n",
            " -0.09239367 -1.0503224  -0.24533594 -0.47663394 -0.10466555  0.3915448\n",
            "  0.36355245  0.6298816   2.2442222   0.2446794   0.60762495  0.43015188\n",
            " -0.17143549  0.8928351   0.88989925  0.7619737   0.43718365  0.2034556\n",
            "  0.3672626   0.5054691   0.44811204 -1.2212632 ]\n"
          ],
          "name": "stdout"
        }
      ]
    },
    {
      "cell_type": "code",
      "metadata": {
        "id": "sx1pJOcRIKY9",
        "colab_type": "code",
        "outputId": "499003f5-e3ea-4448-aa2d-66310e20f22f",
        "colab": {
          "base_uri": "https://localhost:8080/",
          "height": 140
        }
      },
      "source": [
        "#\t\t2.3.4 원시(origin) Trainset의 구성\n",
        "\n",
        "# doc2vec을 feature로 하는 원시 학습셋을 구성한다.\n",
        "# 이때, 입국일자을 기준으로 Set을 만드는데...\n",
        "# 입국일에 news가 없을 때도 있어서, 일관성 있는 양질의 학습셋이 되기는 어려울 듯...\n",
        "# 준대로 해야지 어쩔 수 없음.\n",
        "\n",
        "cov_news['게시일자'] = pd.to_datetime(cov_news['게시일자'], format='%Y-%m-%d')\n",
        "news_metric = []\n",
        "from datetime import datetime, timedelta\n",
        "import numpy as np\n",
        "# 날짜별 (1948,40) 구성\n",
        "for row in ar.iterrows():\n",
        "    date = row[1][1]#datetime(2019,12,31)\n",
        "    selected_ns = cov_news.loc[cov_news['게시일자'] >= date].loc[cov_news['게시일자'] < (date + timedelta(days=1))]\n",
        "    #print(date,selected_ns.shape)\n",
        "    if selected_ns.shape[0] == 0:\n",
        "        # news가 없는 경우..\n",
        "        news_metric.append(np.zeros((max_buz_per_day,vec_size)))\n",
        "    else:\n",
        "        docv = []\n",
        "        for nrow in selected_ns.iterrows():\n",
        "            #print('tag name:',nrow[1][0])\n",
        "            docv.append(d2v_model.docvecs[nrow[1][0]])\n",
        "        for i in range(max_buz_per_day-selected_ns.shape[0]):\n",
        "            docv.append(np.zeros(vec_size))\n",
        "        news_metric.append(docv)\n",
        "        \n",
        "train_temp_x = np.asarray(news_metric)\n",
        "train_temp_x.shape"
      ],
      "execution_count": 0,
      "outputs": [
        {
          "output_type": "stream",
          "text": [
            "/usr/local/lib/python3.6/dist-packages/ipykernel_launcher.py:2: SettingWithCopyWarning: \n",
            "A value is trying to be set on a copy of a slice from a DataFrame.\n",
            "Try using .loc[row_indexer,col_indexer] = value instead\n",
            "\n",
            "See the caveats in the documentation: https://pandas.pydata.org/pandas-docs/stable/user_guide/indexing.html#returning-a-view-versus-a-copy\n",
            "  \n"
          ],
          "name": "stderr"
        },
        {
          "output_type": "execute_result",
          "data": {
            "text/plain": [
              "(181, 1948, 40)"
            ]
          },
          "metadata": {
            "tags": []
          },
          "execution_count": 15
        }
      ]
    },
    {
      "cell_type": "code",
      "metadata": {
        "id": "KHH2k_jTLdoy",
        "colab_type": "code",
        "outputId": "7ea2d6d7-398c-46be-ad05-58a7b3f254fa",
        "colab": {
          "base_uri": "https://localhost:8080/",
          "height": 245
        }
      },
      "source": [
        "# 학습셋의 내용 확인...\n",
        "train_temp_x[162]"
      ],
      "execution_count": 0,
      "outputs": [
        {
          "output_type": "execute_result",
          "data": {
            "text/plain": [
              "array([[ 0.28283137,  1.06882739, -0.12190193, ..., -0.23948856,\n",
              "         0.21534981,  0.04779973],\n",
              "       [ 0.15436789, -0.15003371,  0.45241836, ..., -0.19940799,\n",
              "        -0.28196228, -0.64907414],\n",
              "       [ 0.66975719,  0.0785162 , -0.22798842, ..., -0.14946999,\n",
              "         0.1023725 ,  0.15110791],\n",
              "       ...,\n",
              "       [ 0.        ,  0.        ,  0.        , ...,  0.        ,\n",
              "         0.        ,  0.        ],\n",
              "       [ 0.        ,  0.        ,  0.        , ...,  0.        ,\n",
              "         0.        ,  0.        ],\n",
              "       [ 0.        ,  0.        ,  0.        , ...,  0.        ,\n",
              "         0.        ,  0.        ]])"
            ]
          },
          "metadata": {
            "tags": []
          },
          "execution_count": 438
        }
      ]
    },
    {
      "cell_type": "code",
      "metadata": {
        "id": "YSMlpNWNLktM",
        "colab_type": "code",
        "outputId": "82816055-d726-47b7-ceca-5c8ac4b505e3",
        "colab": {
          "base_uri": "https://localhost:8080/",
          "height": 35
        }
      },
      "source": [
        "# 학습셋의 label... 원시 train_temp_y의 구성\n",
        "train_temp_y = np.asanyarray(ar['count'])\n",
        "train_temp_y.shape\n",
        "                                   "
      ],
      "execution_count": 0,
      "outputs": [
        {
          "output_type": "execute_result",
          "data": {
            "text/plain": [
              "(181,)"
            ]
          },
          "metadata": {
            "tags": []
          },
          "execution_count": 16
        }
      ]
    },
    {
      "cell_type": "code",
      "metadata": {
        "id": "e-Ri5LgMOhWt",
        "colab_type": "code",
        "outputId": "be6ce7ef-4420-43c7-cac2-4277853543cd",
        "colab": {
          "base_uri": "https://localhost:8080/",
          "height": 613
        }
      },
      "source": [
        "#\t2.4 doc2vec에 의한 Regression Test (Not forecast)\n",
        "#\t\t2.4.1 doc2vec의 Timeseries model 구성\n",
        "\n",
        "# 일단, news regression의 설명력을 확인하기 위해...원시 학습을 test 한다.\n",
        "import keras\n",
        "from keras.layers import Dense, Activation, Flatten, Conv1D, MaxPooling1D\n",
        "from keras.models import Sequential\n",
        "\n",
        "model = Sequential()\n",
        "model.add(Conv1D(128,2, input_shape=(max_buz_per_day,vec_size),padding=\"same\"))\n",
        "model.add(Activation('relu'))\n",
        "model.add(MaxPooling1D(pool_size=2))\n",
        "\n",
        "model.add(Conv1D(64, 2,padding=\"same\"))\n",
        "model.add(Activation('relu'))\n",
        "model.add(MaxPooling1D(pool_size=2))\n",
        "\n",
        "model.add(Conv1D(32, 2,padding=\"same\"))\n",
        "model.add(Activation('relu'))\n",
        "model.add(MaxPooling1D(pool_size=2))\n",
        "\n",
        "model.add(Flatten())\n",
        "model.add(Dense(128))\n",
        "model.add(Dense(1))\n",
        "model.add(Activation('linear'))\n",
        "\n",
        "model.compile(loss=keras.losses.mean_squared_error, optimizer=keras.optimizers.Adam(),metrics=['mae',r2])\n",
        "\n",
        "model.summary()"
      ],
      "execution_count": 0,
      "outputs": [
        {
          "output_type": "stream",
          "text": [
            "Model: \"sequential_27\"\n",
            "_________________________________________________________________\n",
            "Layer (type)                 Output Shape              Param #   \n",
            "=================================================================\n",
            "conv1d_82 (Conv1D)           (None, 1948, 128)         10368     \n",
            "_________________________________________________________________\n",
            "activation_99 (Activation)   (None, 1948, 128)         0         \n",
            "_________________________________________________________________\n",
            "max_pooling1d_82 (MaxPooling (None, 974, 128)          0         \n",
            "_________________________________________________________________\n",
            "conv1d_83 (Conv1D)           (None, 974, 64)           16448     \n",
            "_________________________________________________________________\n",
            "activation_100 (Activation)  (None, 974, 64)           0         \n",
            "_________________________________________________________________\n",
            "max_pooling1d_83 (MaxPooling (None, 487, 64)           0         \n",
            "_________________________________________________________________\n",
            "conv1d_84 (Conv1D)           (None, 487, 32)           4128      \n",
            "_________________________________________________________________\n",
            "activation_101 (Activation)  (None, 487, 32)           0         \n",
            "_________________________________________________________________\n",
            "max_pooling1d_84 (MaxPooling (None, 243, 32)           0         \n",
            "_________________________________________________________________\n",
            "flatten_62 (Flatten)         (None, 7776)              0         \n",
            "_________________________________________________________________\n",
            "dense_123 (Dense)            (None, 128)               995456    \n",
            "_________________________________________________________________\n",
            "dense_124 (Dense)            (None, 1)                 129       \n",
            "_________________________________________________________________\n",
            "activation_102 (Activation)  (None, 1)                 0         \n",
            "=================================================================\n",
            "Total params: 1,026,529\n",
            "Trainable params: 1,026,529\n",
            "Non-trainable params: 0\n",
            "_________________________________________________________________\n"
          ],
          "name": "stdout"
        }
      ]
    },
    {
      "cell_type": "code",
      "metadata": {
        "id": "_l3xGHphOhzm",
        "colab_type": "code",
        "outputId": "c793f1fa-18b3-44be-fa24-195166cf0c84",
        "colab": {
          "base_uri": "https://localhost:8080/",
          "height": 1000
        }
      },
      "source": [
        "#\t\t2.4.2 원시(origin) Trainset으로 model training\n",
        "\n",
        "hist = model.fit(train_temp_x, train_temp_y, epochs=100,verbose=1)"
      ],
      "execution_count": 0,
      "outputs": [
        {
          "output_type": "stream",
          "text": [
            "Epoch 1/100\n",
            "181/181 [==============================] - 0s 2ms/step - loss: 218027537.9448 - mae: 10872.3281 - r2: -1.2262\n",
            "Epoch 2/100\n",
            "181/181 [==============================] - 0s 603us/step - loss: 215756058.8729 - mae: 10742.8174 - r2: -1.1922\n",
            "Epoch 3/100\n",
            "181/181 [==============================] - 0s 612us/step - loss: 208560106.1657 - mae: 10701.9111 - r2: -1.1594\n",
            "Epoch 4/100\n",
            "181/181 [==============================] - 0s 586us/step - loss: 201643850.1657 - mae: 11040.6426 - r2: -1.0727\n",
            "Epoch 5/100\n",
            "181/181 [==============================] - 0s 624us/step - loss: 192333126.0110 - mae: 10928.5488 - r2: -0.9440\n",
            "Epoch 6/100\n",
            "181/181 [==============================] - 0s 692us/step - loss: 183622292.6851 - mae: 10598.0508 - r2: -0.8794\n",
            "Epoch 7/100\n",
            "181/181 [==============================] - 0s 611us/step - loss: 173788255.2044 - mae: 10433.9072 - r2: -0.7681\n",
            "Epoch 8/100\n",
            "181/181 [==============================] - 0s 606us/step - loss: 162806906.9613 - mae: 10401.8359 - r2: -0.7011\n",
            "Epoch 9/100\n",
            "181/181 [==============================] - 0s 649us/step - loss: 149304269.5249 - mae: 10136.7295 - r2: -0.5165\n",
            "Epoch 10/100\n",
            "181/181 [==============================] - 0s 589us/step - loss: 133204931.5359 - mae: 9740.0840 - r2: -0.3411\n",
            "Epoch 11/100\n",
            "181/181 [==============================] - 0s 587us/step - loss: 117271465.4586 - mae: 9618.9775 - r2: -0.2009\n",
            "Epoch 12/100\n",
            "181/181 [==============================] - 0s 623us/step - loss: 101653222.9834 - mae: 9280.8457 - r2: -0.0364\n",
            "Epoch 13/100\n",
            "181/181 [==============================] - 0s 600us/step - loss: 94114721.5028 - mae: 9054.3574 - r2: 0.0192\n",
            "Epoch 14/100\n",
            "181/181 [==============================] - 0s 582us/step - loss: 91672534.9834 - mae: 8957.1943 - r2: 0.0562\n",
            "Epoch 15/100\n",
            "181/181 [==============================] - 0s 635us/step - loss: 91011351.9116 - mae: 8915.6543 - r2: 0.0153\n",
            "Epoch 16/100\n",
            "181/181 [==============================] - 0s 646us/step - loss: 88945662.3646 - mae: 8788.2441 - r2: 0.0986\n",
            "Epoch 17/100\n",
            "181/181 [==============================] - 0s 593us/step - loss: 86219964.5083 - mae: 8650.4102 - r2: 0.1177\n",
            "Epoch 18/100\n",
            "181/181 [==============================] - 0s 680us/step - loss: 84766480.1768 - mae: 8536.7861 - r2: 0.1090\n",
            "Epoch 19/100\n",
            "181/181 [==============================] - 0s 590us/step - loss: 84571134.8950 - mae: 8494.7930 - r2: 0.0990\n",
            "Epoch 20/100\n",
            "181/181 [==============================] - 0s 610us/step - loss: 80420430.8066 - mae: 8272.5430 - r2: 0.1804\n",
            "Epoch 21/100\n",
            "181/181 [==============================] - 0s 588us/step - loss: 78825490.9171 - mae: 8154.5532 - r2: 0.1983\n",
            "Epoch 22/100\n",
            "181/181 [==============================] - 0s 609us/step - loss: 76510738.6519 - mae: 8023.1250 - r2: 0.2146\n",
            "Epoch 23/100\n",
            "181/181 [==============================] - 0s 598us/step - loss: 74205704.8398 - mae: 7845.6602 - r2: 0.2528\n",
            "Epoch 24/100\n",
            "181/181 [==============================] - 0s 584us/step - loss: 72255152.0884 - mae: 7723.8350 - r2: 0.2630\n",
            "Epoch 25/100\n",
            "181/181 [==============================] - 0s 585us/step - loss: 69959849.2818 - mae: 7547.2998 - r2: 0.2800\n",
            "Epoch 26/100\n",
            "181/181 [==============================] - 0s 589us/step - loss: 68302190.6740 - mae: 7393.7769 - r2: 0.2829\n",
            "Epoch 27/100\n",
            "181/181 [==============================] - 0s 622us/step - loss: 67139668.2210 - mae: 7289.1694 - r2: 0.2942\n",
            "Epoch 28/100\n",
            "181/181 [==============================] - 0s 591us/step - loss: 64545075.2707 - mae: 7052.5952 - r2: 0.3450\n",
            "Epoch 29/100\n",
            "181/181 [==============================] - 0s 612us/step - loss: 62108053.2155 - mae: 6770.8604 - r2: 0.2882\n",
            "Epoch 30/100\n",
            "181/181 [==============================] - 0s 612us/step - loss: 60491096.1547 - mae: 6601.1221 - r2: 0.3883\n",
            "Epoch 31/100\n",
            "181/181 [==============================] - 0s 573us/step - loss: 59536704.3978 - mae: 6402.1533 - r2: 0.3764\n",
            "Epoch 32/100\n",
            "181/181 [==============================] - 0s 602us/step - loss: 57733492.2210 - mae: 6203.9067 - r2: 0.4084\n",
            "Epoch 33/100\n",
            "181/181 [==============================] - 0s 617us/step - loss: 57219611.3149 - mae: 6084.5347 - r2: 0.4236\n",
            "Epoch 34/100\n",
            "181/181 [==============================] - 0s 602us/step - loss: 56801042.3425 - mae: 6008.5444 - r2: 0.4178\n",
            "Epoch 35/100\n",
            "181/181 [==============================] - 0s 603us/step - loss: 57411428.5746 - mae: 6008.9482 - r2: 0.4049\n",
            "Epoch 36/100\n",
            "181/181 [==============================] - 0s 647us/step - loss: 57616454.0110 - mae: 6057.3950 - r2: 0.3805\n",
            "Epoch 37/100\n",
            "181/181 [==============================] - 0s 609us/step - loss: 54941266.6077 - mae: 5758.5928 - r2: 0.4441\n",
            "Epoch 38/100\n",
            "181/181 [==============================] - 0s 640us/step - loss: 55457252.5967 - mae: 5905.0171 - r2: 0.4272\n",
            "Epoch 39/100\n",
            "181/181 [==============================] - 0s 584us/step - loss: 56515555.6685 - mae: 5900.8047 - r2: 0.4198\n",
            "Epoch 40/100\n",
            "181/181 [==============================] - 0s 592us/step - loss: 56701277.5028 - mae: 5975.2686 - r2: 0.4156\n",
            "Epoch 41/100\n",
            "181/181 [==============================] - 0s 616us/step - loss: 59714883.0055 - mae: 6236.2031 - r2: 0.3729\n",
            "Epoch 42/100\n",
            "181/181 [==============================] - 0s 620us/step - loss: 58388275.4033 - mae: 6178.0063 - r2: 0.3725\n",
            "Epoch 43/100\n",
            "181/181 [==============================] - 0s 608us/step - loss: 53906621.7459 - mae: 5679.4980 - r2: 0.3913\n",
            "Epoch 44/100\n",
            "181/181 [==============================] - 0s 632us/step - loss: 54629823.5801 - mae: 5718.5449 - r2: 0.4467\n",
            "Epoch 45/100\n",
            "181/181 [==============================] - 0s 649us/step - loss: 53188186.5856 - mae: 5576.9004 - r2: 0.4556\n",
            "Epoch 46/100\n",
            "181/181 [==============================] - 0s 607us/step - loss: 53597268.9945 - mae: 5649.4712 - r2: 0.4563\n",
            "Epoch 47/100\n",
            "181/181 [==============================] - 0s 614us/step - loss: 52619564.5967 - mae: 5532.2983 - r2: 0.4542\n",
            "Epoch 48/100\n",
            "181/181 [==============================] - 0s 652us/step - loss: 52413232.0000 - mae: 5509.7598 - r2: 0.4679\n",
            "Epoch 49/100\n",
            "181/181 [==============================] - 0s 607us/step - loss: 51846064.6851 - mae: 5415.8423 - r2: 0.4769\n",
            "Epoch 50/100\n",
            "181/181 [==============================] - 0s 594us/step - loss: 51468688.8840 - mae: 5356.5894 - r2: 0.4740\n",
            "Epoch 51/100\n",
            "181/181 [==============================] - 0s 595us/step - loss: 53274439.4475 - mae: 5392.2563 - r2: 0.4391\n",
            "Epoch 52/100\n",
            "181/181 [==============================] - 0s 586us/step - loss: 52958105.0608 - mae: 5637.3848 - r2: 0.4775\n",
            "Epoch 53/100\n",
            "181/181 [==============================] - 0s 586us/step - loss: 54721451.8232 - mae: 5798.8555 - r2: 0.4246\n",
            "Epoch 54/100\n",
            "181/181 [==============================] - 0s 670us/step - loss: 55183017.9890 - mae: 5900.5649 - r2: 0.4331\n",
            "Epoch 55/100\n",
            "181/181 [==============================] - 0s 586us/step - loss: 51452000.7735 - mae: 5451.8945 - r2: 0.4692\n",
            "Epoch 56/100\n",
            "181/181 [==============================] - 0s 630us/step - loss: 51698274.8508 - mae: 5470.1445 - r2: 0.4444\n",
            "Epoch 57/100\n",
            "181/181 [==============================] - 0s 596us/step - loss: 50893828.7514 - mae: 5358.7217 - r2: 0.4634\n",
            "Epoch 58/100\n",
            "181/181 [==============================] - 0s 597us/step - loss: 52095213.8785 - mae: 5515.8237 - r2: 0.4514\n",
            "Epoch 59/100\n",
            "181/181 [==============================] - 0s 609us/step - loss: 51319913.5249 - mae: 5484.8560 - r2: 0.4699\n",
            "Epoch 60/100\n",
            "181/181 [==============================] - 0s 625us/step - loss: 52389979.9337 - mae: 5501.9263 - r2: 0.4732\n",
            "Epoch 61/100\n",
            "181/181 [==============================] - 0s 594us/step - loss: 52642129.1050 - mae: 5652.0254 - r2: 0.4558\n",
            "Epoch 62/100\n",
            "181/181 [==============================] - 0s 587us/step - loss: 49810738.7182 - mae: 5326.4253 - r2: 0.4758\n",
            "Epoch 63/100\n",
            "181/181 [==============================] - 0s 658us/step - loss: 51196953.5470 - mae: 5372.0776 - r2: 0.4318\n",
            "Epoch 64/100\n",
            "181/181 [==============================] - 0s 637us/step - loss: 51327217.7680 - mae: 5445.3452 - r2: 0.4613\n",
            "Epoch 65/100\n",
            "181/181 [==============================] - 0s 578us/step - loss: 50562679.5801 - mae: 5208.7173 - r2: 0.4769\n",
            "Epoch 66/100\n",
            "181/181 [==============================] - 0s 590us/step - loss: 49807847.4254 - mae: 5162.2666 - r2: 0.4841\n",
            "Epoch 67/100\n",
            "181/181 [==============================] - 0s 609us/step - loss: 50294380.9503 - mae: 5216.0132 - r2: 0.4451\n",
            "Epoch 68/100\n",
            "181/181 [==============================] - 0s 601us/step - loss: 49350347.1381 - mae: 5065.7935 - r2: 0.4785\n",
            "Epoch 69/100\n",
            "181/181 [==============================] - 0s 586us/step - loss: 49851059.0055 - mae: 5110.4287 - r2: 0.4977\n",
            "Epoch 70/100\n",
            "181/181 [==============================] - 0s 586us/step - loss: 49146006.7403 - mae: 5103.8237 - r2: 0.4873\n",
            "Epoch 71/100\n",
            "181/181 [==============================] - 0s 605us/step - loss: 49134742.1215 - mae: 5032.5132 - r2: 0.4716\n",
            "Epoch 72/100\n",
            "181/181 [==============================] - 0s 649us/step - loss: 49035472.8840 - mae: 4993.0142 - r2: 0.4879\n",
            "Epoch 73/100\n",
            "181/181 [==============================] - 0s 608us/step - loss: 48521275.7348 - mae: 5001.1372 - r2: 0.4565\n",
            "Epoch 74/100\n",
            "181/181 [==============================] - 0s 597us/step - loss: 48981351.9337 - mae: 5070.5039 - r2: 0.4878\n",
            "Epoch 75/100\n",
            "181/181 [==============================] - 0s 600us/step - loss: 48433248.2652 - mae: 5041.1128 - r2: 0.5033\n",
            "Epoch 76/100\n",
            "181/181 [==============================] - 0s 632us/step - loss: 48552228.8177 - mae: 5011.0386 - r2: 0.5164\n",
            "Epoch 77/100\n",
            "181/181 [==============================] - 0s 595us/step - loss: 48267531.3149 - mae: 4906.0322 - r2: 0.5119\n",
            "Epoch 78/100\n",
            "181/181 [==============================] - 0s 579us/step - loss: 48221321.3260 - mae: 4926.7915 - r2: 0.5091\n",
            "Epoch 79/100\n",
            "181/181 [==============================] - 0s 594us/step - loss: 48265145.4365 - mae: 4975.9253 - r2: 0.4755\n",
            "Epoch 80/100\n",
            "181/181 [==============================] - 0s 586us/step - loss: 48656822.2320 - mae: 5097.6758 - r2: 0.5080\n",
            "Epoch 81/100\n",
            "181/181 [==============================] - 0s 662us/step - loss: 47900904.5304 - mae: 5073.7305 - r2: 0.4961\n",
            "Epoch 82/100\n",
            "181/181 [==============================] - 0s 604us/step - loss: 47718078.0773 - mae: 4920.5034 - r2: 0.4951\n",
            "Epoch 83/100\n",
            "181/181 [==============================] - 0s 586us/step - loss: 47557367.9337 - mae: 4864.1353 - r2: 0.4997\n",
            "Epoch 84/100\n",
            "181/181 [==============================] - 0s 590us/step - loss: 47387864.5083 - mae: 4940.3638 - r2: 0.5144\n",
            "Epoch 85/100\n",
            "181/181 [==============================] - 0s 610us/step - loss: 47301870.8066 - mae: 4930.0220 - r2: 0.5123\n",
            "Epoch 86/100\n",
            "181/181 [==============================] - 0s 589us/step - loss: 47284317.4144 - mae: 4902.9780 - r2: 0.5059\n",
            "Epoch 87/100\n",
            "181/181 [==============================] - 0s 586us/step - loss: 46974109.7017 - mae: 4799.6953 - r2: 0.5181\n",
            "Epoch 88/100\n",
            "181/181 [==============================] - 0s 597us/step - loss: 47151760.7514 - mae: 4836.2427 - r2: 0.5127\n",
            "Epoch 89/100\n",
            "181/181 [==============================] - 0s 591us/step - loss: 46746193.9779 - mae: 4828.7246 - r2: 0.5067\n",
            "Epoch 90/100\n",
            "181/181 [==============================] - 0s 634us/step - loss: 46848775.4917 - mae: 4780.8164 - r2: 0.5138\n",
            "Epoch 91/100\n",
            "181/181 [==============================] - 0s 615us/step - loss: 47355442.9834 - mae: 4963.2637 - r2: 0.5208\n",
            "Epoch 92/100\n",
            "181/181 [==============================] - 0s 590us/step - loss: 47815181.9669 - mae: 5052.3179 - r2: 0.4958\n",
            "Epoch 93/100\n",
            "181/181 [==============================] - 0s 615us/step - loss: 47947619.8674 - mae: 5111.9126 - r2: 0.5056\n",
            "Epoch 94/100\n",
            "181/181 [==============================] - 0s 608us/step - loss: 46302723.3591 - mae: 4871.6304 - r2: 0.5299\n",
            "Epoch 95/100\n",
            "181/181 [==============================] - 0s 591us/step - loss: 46572092.7072 - mae: 4915.2983 - r2: 0.5245\n",
            "Epoch 96/100\n",
            "181/181 [==============================] - 0s 606us/step - loss: 47178342.7624 - mae: 4834.7788 - r2: 0.4815\n",
            "Epoch 97/100\n",
            "181/181 [==============================] - 0s 607us/step - loss: 46522300.0000 - mae: 4884.3247 - r2: 0.4932\n",
            "Epoch 98/100\n",
            "181/181 [==============================] - 0s 656us/step - loss: 45442861.0166 - mae: 4762.7822 - r2: 0.5199\n",
            "Epoch 99/100\n",
            "181/181 [==============================] - 0s 626us/step - loss: 46007256.2652 - mae: 4863.4678 - r2: 0.5277\n",
            "Epoch 100/100\n",
            "181/181 [==============================] - 0s 613us/step - loss: 44931174.1878 - mae: 4643.8613 - r2: 0.5367\n"
          ],
          "name": "stdout"
        }
      ]
    },
    {
      "cell_type": "code",
      "metadata": {
        "id": "tyoA8Au5PzWs",
        "colab_type": "code",
        "outputId": "b9fd65d4-9d75-4d31-d024-4d8218c263d9",
        "colab": {
          "base_uri": "https://localhost:8080/",
          "height": 573
        }
      },
      "source": [
        "#\t\t2.4.3 학습에 대한 mean_absolute_error 확인.\n",
        "\n",
        "plot_mae(hist)\n",
        "plot_r2(hist)\n"
      ],
      "execution_count": 0,
      "outputs": [
        {
          "output_type": "display_data",
          "data": {
            "image/png": "[encoded data removed]",
            "text/plain": [
              "<Figure size 432x288 with 1 Axes>"
            ]
          },
          "metadata": {
            "tags": [],
            "needs_background": "light"
          }
        },
        {
          "output_type": "display_data",
          "data": {
            "image/png": "[encoded data removed]",
            "text/plain": [
              "<Figure size 432x288 with 1 Axes>"
            ]
          },
          "metadata": {
            "tags": [],
            "needs_background": "light"
          }
        }
      ]
    },
    {
      "cell_type": "code",
      "metadata": {
        "id": "i6OxuoUjQc9u",
        "colab_type": "code",
        "colab": {}
      },
      "source": [
        "#\t\t2.4.4 trainset에 의한 과거 data의 예측 입국자 count \n",
        "predit_y = model.predict(train_temp_x)\n",
        "predit = predit_y.reshape(predit_y.shape[0])"
      ],
      "execution_count": 0,
      "outputs": []
    },
    {
      "cell_type": "code",
      "metadata": {
        "id": "bkIYAWqyQdsq",
        "colab_type": "code",
        "outputId": "07f5d4ef-0228-4a3f-e703-d8c14e039e26",
        "colab": {
          "base_uri": "https://localhost:8080/",
          "height": 526
        }
      },
      "source": [
        "#\t\t2.4.5 실등록자 count와 news기반 예측 count의 비교 chart\n",
        "predit_result = ar.copy()\n",
        "predit_result['forecast'] = predit\n",
        "predit_result.plot(x='date',y=['count','forecast'],figsize=(16,8))"
      ],
      "execution_count": 0,
      "outputs": [
        {
          "output_type": "execute_result",
          "data": {
            "text/plain": [
              "<matplotlib.axes._subplots.AxesSubplot at 0x7fe2695a14e0>"
            ]
          },
          "metadata": {
            "tags": []
          },
          "execution_count": 444
        },
        {
          "output_type": "display_data",
          "data": {
            "image/png": "[encoded data removed]",
            "text/plain": [
              "<Figure size 1152x576 with 1 Axes>"
            ]
          },
          "metadata": {
            "tags": [],
            "needs_background": "light"
          }
        }
      ]
    },
    {
      "cell_type": "code",
      "metadata": {
        "id": "Hx-NES4XRGTH",
        "colab_type": "code",
        "colab": {}
      },
      "source": [
        "#\t2.5 doc2vec에 의한 Forecast regression\n",
        "#\t\t2.5.1 doc2vec의 Window 적용 Timeseries Trainset의 구성\n",
        "\n",
        "# 2D Convolution을 적용하여 마치 Image를 convolution 하듯이 학습할 것임\n",
        "# window의 depth를 image의 channel 처럼 사용\n",
        "# tensorflow는 image의 chennel을 channel_last로 사용, \n",
        "# 이것을 맞추기 위해 moveaxis 를 적용할 것임\n",
        "# 여기 돌다가 colab 다운 잘됨... 다운 되면 처음부터 다시!\n",
        "\n",
        "from numpy import moveaxis\n",
        "# window를 30일로 설정 -> 그냥 잡은 수치\n",
        "news_window = 30\n",
        "#향후 15일 예측\n",
        "news_forecast_days = 15\n",
        "\n",
        "# 원시 trainset의 사용...\n",
        "train_news_org_y = train_temp_y\n",
        "data = train_temp_x\n",
        "\n",
        "train_news_x = []\n",
        "train_news_y = []\n",
        "\n",
        "for i in range(data.shape[0]-news_window-news_forecast_days + 1):\n",
        "    sub_x = []\n",
        "    for j in range(news_window):\n",
        "        sub_x.append(data[i+j,:,:])\n",
        "    # change channels first to channels last format\n",
        "    sub_x = np.asarray(sub_x)\n",
        "    sub_x = moveaxis(sub_x, 0, 2)        \n",
        "    train_news_x.append(sub_x)\n",
        "\n",
        "    sub_y = []\n",
        "    for z in range(news_forecast_days):\n",
        "        sub_y.append(train_news_org_y[i + news_window + z])\n",
        "    train_news_y.append(sub_y)\n",
        "\n",
        "#train_news_x ,train_news_y 준비\n",
        "train_news_x = np.asarray(train_news_x)\n",
        "#train_news_x = train_news_x.reshape(-1,news_window,max_buz_per_day,vec_size)\n",
        "train_news_y = np.asarray(train_news_y)\n",
        "\n",
        "test_news_x = np.asarray(data[data.shape[0]-news_window:data.shape[0],:,:])\n",
        "test_news_x = moveaxis(test_news_x, 0, 2) "
      ],
      "execution_count": 0,
      "outputs": []
    },
    {
      "cell_type": "code",
      "metadata": {
        "id": "uJjzS_NNVfwy",
        "colab_type": "code",
        "outputId": "62f0f802-2dd7-44e3-bc7d-4ded698eda78",
        "colab": {
          "base_uri": "https://localhost:8080/",
          "height": 35
        }
      },
      "source": [
        "#train_news_x ,train_news_y (사실이거는 그냥 train_y와 동일...)의 내용 확인.\n",
        "train_news_x.shape,  train_news_y.shape, test_news_x.shape"
      ],
      "execution_count": 0,
      "outputs": [
        {
          "output_type": "execute_result",
          "data": {
            "text/plain": [
              "((137, 1948, 40, 30), (137, 15), (1948, 40, 30))"
            ]
          },
          "metadata": {
            "tags": []
          },
          "execution_count": 18
        }
      ]
    },
    {
      "cell_type": "code",
      "metadata": {
        "id": "W0ejS1PMWBZY",
        "colab_type": "code",
        "outputId": "9014ce09-9821-482a-eeef-0f6777f0d5f0",
        "colab": {
          "base_uri": "https://localhost:8080/",
          "height": 543
        }
      },
      "source": [
        "#\t\t2.5.2 doc2vec Window 의 Timeseries model 구성\n",
        "\n",
        "# 이게 최적의 layer 구성인지는 모름... 일반적/직관적으로 layer 설정 \n",
        "# 정성적 비정형 데이터로 정량적 수치 데이터를 추정 하기 때문에... overfit 가능성이 큼\n",
        "import keras\n",
        "from keras.layers import Dense, Activation, Flatten, Conv1D, MaxPooling1D, Conv2D, MaxPooling2D, Dropout\n",
        "from keras.models import Sequential\n",
        "\n",
        "#keras.backend.set_image_data_format('channels_last')\n",
        "\n",
        "model = Sequential()\n",
        "model.add(Conv2D(64,(3,3), input_shape=(max_buz_per_day,vec_size,news_window)))\n",
        "model.add(Activation('relu'))\n",
        "model.add(MaxPooling2D(pool_size=(3,3)))\n",
        "\n",
        "model.add(Conv2D(32,(3,3)))\n",
        "model.add(Activation('relu'))\n",
        "model.add(MaxPooling2D(pool_size=(3,3)))\n",
        "\n",
        "model.add(Flatten())\n",
        "model.add(Dense(1024,activation=\"relu\"))\n",
        "#model.add(Dropout(0.3))\n",
        "model.add(Dense(32,activation=\"relu\"))\n",
        "model.add(Dense(news_forecast_days))\n",
        "model.add(Activation('linear'))\n",
        "\n",
        "model.compile(loss=keras.losses.mean_squared_error, optimizer=keras.optimizers.Adam(),metrics=['mae',r2])\n",
        "\n",
        "model.summary()"
      ],
      "execution_count": 0,
      "outputs": [
        {
          "output_type": "stream",
          "text": [
            "Model: \"sequential_28\"\n",
            "_________________________________________________________________\n",
            "Layer (type)                 Output Shape              Param #   \n",
            "=================================================================\n",
            "conv2d_100 (Conv2D)          (None, 1946, 38, 64)      17344     \n",
            "_________________________________________________________________\n",
            "activation_103 (Activation)  (None, 1946, 38, 64)      0         \n",
            "_________________________________________________________________\n",
            "max_pooling2d_100 (MaxPoolin (None, 648, 12, 64)       0         \n",
            "_________________________________________________________________\n",
            "conv2d_101 (Conv2D)          (None, 646, 10, 32)       18464     \n",
            "_________________________________________________________________\n",
            "activation_104 (Activation)  (None, 646, 10, 32)       0         \n",
            "_________________________________________________________________\n",
            "max_pooling2d_101 (MaxPoolin (None, 215, 3, 32)        0         \n",
            "_________________________________________________________________\n",
            "flatten_63 (Flatten)         (None, 20640)             0         \n",
            "_________________________________________________________________\n",
            "dense_125 (Dense)            (None, 1024)              21136384  \n",
            "_________________________________________________________________\n",
            "dense_126 (Dense)            (None, 32)                32800     \n",
            "_________________________________________________________________\n",
            "dense_127 (Dense)            (None, 15)                495       \n",
            "_________________________________________________________________\n",
            "activation_105 (Activation)  (None, 15)                0         \n",
            "=================================================================\n",
            "Total params: 21,205,487\n",
            "Trainable params: 21,205,487\n",
            "Non-trainable params: 0\n",
            "_________________________________________________________________\n"
          ],
          "name": "stdout"
        }
      ]
    },
    {
      "cell_type": "code",
      "metadata": {
        "id": "LVqTw5qIXbHY",
        "colab_type": "code",
        "outputId": "74d29dd2-6907-49d4-d0b8-110c56abe44a",
        "colab": {
          "base_uri": "https://localhost:8080/",
          "height": 1000
        }
      },
      "source": [
        "#\t\t2.5.3 doc2vec의 Window 적용 Timeseries Trainset으로 model training\n",
        "\n",
        "hist = model.fit(train_news_x, train_news_y, epochs=50,verbose=1)"
      ],
      "execution_count": 0,
      "outputs": [
        {
          "output_type": "stream",
          "text": [
            "Epoch 1/50\n",
            "137/137 [==============================] - 2s 13ms/step - loss: 259917798.8905 - mae: 12764.6865 - r2: -1.6431\n",
            "Epoch 2/50\n",
            "137/137 [==============================] - 2s 12ms/step - loss: 257760550.3066 - mae: 12576.0459 - r2: -1.7097\n",
            "Epoch 3/50\n",
            "137/137 [==============================] - 2s 12ms/step - loss: 250704322.2190 - mae: 12494.4775 - r2: -1.6257\n",
            "Epoch 4/50\n",
            "137/137 [==============================] - 2s 12ms/step - loss: 246190005.3723 - mae: 12751.3496 - r2: -1.6456\n",
            "Epoch 5/50\n",
            "137/137 [==============================] - 2s 12ms/step - loss: 240719399.7080 - mae: 12576.8008 - r2: -1.5352\n",
            "Epoch 6/50\n",
            "137/137 [==============================] - 2s 12ms/step - loss: 235192798.1898 - mae: 12407.7598 - r2: -1.3560\n",
            "Epoch 7/50\n",
            "137/137 [==============================] - 2s 12ms/step - loss: 228210853.6058 - mae: 12310.4326 - r2: -1.5344\n",
            "Epoch 8/50\n",
            "137/137 [==============================] - 2s 12ms/step - loss: 219270021.8394 - mae: 12298.8496 - r2: -1.2148\n",
            "Epoch 9/50\n",
            "137/137 [==============================] - 2s 12ms/step - loss: 206101434.9781 - mae: 11997.2139 - r2: -1.7383\n",
            "Epoch 10/50\n",
            "137/137 [==============================] - 2s 12ms/step - loss: 185776149.6058 - mae: 11468.0234 - r2: -0.9660\n",
            "Epoch 11/50\n",
            "137/137 [==============================] - 2s 12ms/step - loss: 153148807.4161 - mae: 10496.5000 - r2: -0.5691\n",
            "Epoch 12/50\n",
            "137/137 [==============================] - 2s 12ms/step - loss: 102607939.6204 - mae: 8545.3115 - r2: -0.0273\n",
            "Epoch 13/50\n",
            "137/137 [==============================] - 2s 12ms/step - loss: 46135104.2628 - mae: 5928.6421 - r2: 0.5308\n",
            "Epoch 14/50\n",
            "137/137 [==============================] - 2s 12ms/step - loss: 27650594.8321 - mae: 3890.3320 - r2: 0.6162\n",
            "Epoch 15/50\n",
            "137/137 [==============================] - 2s 12ms/step - loss: 21335847.8978 - mae: 3871.4014 - r2: 0.7651\n",
            "Epoch 16/50\n",
            "137/137 [==============================] - 2s 12ms/step - loss: 20121785.2336 - mae: 3828.1528 - r2: 0.7785\n",
            "Epoch 17/50\n",
            "137/137 [==============================] - 2s 12ms/step - loss: 16151611.2701 - mae: 3337.7891 - r2: 0.8051\n",
            "Epoch 18/50\n",
            "137/137 [==============================] - 2s 12ms/step - loss: 13733112.9708 - mae: 3073.0808 - r2: 0.8523\n",
            "Epoch 19/50\n",
            "137/137 [==============================] - 2s 12ms/step - loss: 12375779.0803 - mae: 2827.1890 - r2: 0.8641\n",
            "Epoch 20/50\n",
            "137/137 [==============================] - 2s 12ms/step - loss: 10752667.8029 - mae: 2656.5017 - r2: 0.8721\n",
            "Epoch 21/50\n",
            "137/137 [==============================] - 2s 12ms/step - loss: 9334769.4015 - mae: 2463.4219 - r2: 0.8719\n",
            "Epoch 22/50\n",
            "137/137 [==============================] - 2s 12ms/step - loss: 8261704.7810 - mae: 2313.9617 - r2: 0.9122\n",
            "Epoch 23/50\n",
            "137/137 [==============================] - 2s 12ms/step - loss: 7618101.2628 - mae: 2179.3809 - r2: 0.8961\n",
            "Epoch 24/50\n",
            "137/137 [==============================] - 2s 12ms/step - loss: 6516913.3723 - mae: 1996.2952 - r2: 0.9343\n",
            "Epoch 25/50\n",
            "137/137 [==============================] - 2s 12ms/step - loss: 6545107.8175 - mae: 2049.7551 - r2: 0.9345\n",
            "Epoch 26/50\n",
            "137/137 [==============================] - 2s 12ms/step - loss: 6062858.7737 - mae: 1816.1923 - r2: 0.9210\n",
            "Epoch 27/50\n",
            "137/137 [==============================] - 2s 12ms/step - loss: 5625540.2956 - mae: 1877.5098 - r2: 0.9399\n",
            "Epoch 28/50\n",
            "137/137 [==============================] - 2s 12ms/step - loss: 5232907.8321 - mae: 1745.1533 - r2: 0.9448\n",
            "Epoch 29/50\n",
            "137/137 [==============================] - 2s 12ms/step - loss: 4789699.4434 - mae: 1621.2006 - r2: 0.9513\n",
            "Epoch 30/50\n",
            "137/137 [==============================] - 2s 12ms/step - loss: 4351167.9964 - mae: 1551.0953 - r2: 0.9543\n",
            "Epoch 31/50\n",
            "137/137 [==============================] - 2s 12ms/step - loss: 4213241.2482 - mae: 1494.2068 - r2: 0.9556\n",
            "Epoch 32/50\n",
            "137/137 [==============================] - 2s 12ms/step - loss: 3903950.0693 - mae: 1469.0862 - r2: 0.9507\n",
            "Epoch 33/50\n",
            "137/137 [==============================] - 2s 12ms/step - loss: 3885114.8869 - mae: 1371.8051 - r2: 0.9554\n",
            "Epoch 34/50\n",
            "137/137 [==============================] - 2s 12ms/step - loss: 3558731.5310 - mae: 1394.0034 - r2: 0.9634\n",
            "Epoch 35/50\n",
            "137/137 [==============================] - 2s 12ms/step - loss: 3323927.1953 - mae: 1297.1018 - r2: 0.9625\n",
            "Epoch 36/50\n",
            "137/137 [==============================] - 2s 12ms/step - loss: 3183028.0657 - mae: 1257.2263 - r2: 0.9616\n",
            "Epoch 37/50\n",
            "137/137 [==============================] - 2s 12ms/step - loss: 3137091.8723 - mae: 1276.5494 - r2: 0.9630\n",
            "Epoch 38/50\n",
            "137/137 [==============================] - 2s 12ms/step - loss: 2961607.7372 - mae: 1195.0148 - r2: 0.9667\n",
            "Epoch 39/50\n",
            "137/137 [==============================] - 2s 12ms/step - loss: 2945650.1916 - mae: 1156.2222 - r2: 0.9682\n",
            "Epoch 40/50\n",
            "137/137 [==============================] - 2s 12ms/step - loss: 2813824.7609 - mae: 1158.7245 - r2: 0.9680\n",
            "Epoch 41/50\n",
            "137/137 [==============================] - 2s 12ms/step - loss: 2734489.7007 - mae: 1118.4172 - r2: 0.9724\n",
            "Epoch 42/50\n",
            "137/137 [==============================] - 2s 12ms/step - loss: 2687705.9252 - mae: 1097.3845 - r2: 0.9670\n",
            "Epoch 43/50\n",
            "137/137 [==============================] - 2s 12ms/step - loss: 2663902.5529 - mae: 1107.6583 - r2: 0.9733\n",
            "Epoch 44/50\n",
            "137/137 [==============================] - 2s 12ms/step - loss: 2631161.2737 - mae: 1072.5480 - r2: 0.9735\n",
            "Epoch 45/50\n",
            "137/137 [==============================] - 2s 12ms/step - loss: 2573644.8558 - mae: 1059.8284 - r2: 0.9691\n",
            "Epoch 46/50\n",
            "137/137 [==============================] - 2s 12ms/step - loss: 2586084.9599 - mae: 1064.0553 - r2: 0.9689\n",
            "Epoch 47/50\n",
            "137/137 [==============================] - 2s 12ms/step - loss: 2625228.7701 - mae: 1086.5902 - r2: 0.9660\n",
            "Epoch 48/50\n",
            "137/137 [==============================] - 2s 12ms/step - loss: 2542081.8212 - mae: 1054.3317 - r2: 0.9751\n",
            "Epoch 49/50\n",
            "137/137 [==============================] - 2s 12ms/step - loss: 2584232.4617 - mae: 1055.0327 - r2: 0.9730\n",
            "Epoch 50/50\n",
            "137/137 [==============================] - 2s 12ms/step - loss: 2536900.3723 - mae: 1051.8246 - r2: 0.9693\n"
          ],
          "name": "stdout"
        }
      ]
    },
    {
      "cell_type": "code",
      "metadata": {
        "id": "cw0Veu4iaqJT",
        "colab_type": "code",
        "outputId": "7ff3001e-d10f-45c6-d214-98fa9e25d97b",
        "colab": {
          "base_uri": "https://localhost:8080/",
          "height": 573
        }
      },
      "source": [
        "#\t\t2.5.4 학습에 대한 mean_absolute_error 확인.\n",
        "\n",
        "plot_mae(hist)\n",
        "plot_r2(hist)"
      ],
      "execution_count": 0,
      "outputs": [
        {
          "output_type": "display_data",
          "data": {
            "image/png": "[encoded data removed]",
            "text/plain": [
              "<Figure size 432x288 with 1 Axes>"
            ]
          },
          "metadata": {
            "tags": [],
            "needs_background": "light"
          }
        },
        {
          "output_type": "display_data",
          "data": {
            "image/png": "[encoded data removed]",
            "text/plain": [
              "<Figure size 432x288 with 1 Axes>"
            ]
          },
          "metadata": {
            "tags": [],
            "needs_background": "light"
          }
        }
      ]
    },
    {
      "cell_type": "code",
      "metadata": {
        "id": "rK6QIpMIa2N7",
        "colab_type": "code",
        "outputId": "5280313b-1fdd-4c33-9492-7555a07ef024",
        "colab": {
          "base_uri": "https://localhost:8080/",
          "height": 245
        }
      },
      "source": [
        "#\t\t2.5.5 trainset에 의한 과거 data의 예측 입국자 추정 \n",
        "\n",
        "predit_news_y = model.predict(train_news_x)\n",
        "predit_news_y,predit_news_y.shape"
      ],
      "execution_count": 0,
      "outputs": [
        {
          "output_type": "execute_result",
          "data": {
            "text/plain": [
              "(array([[22701.238  , 23130.393  , 23101.488  , ..., 23253.736  ,\n",
              "         23423.725  , 22858.53   ],\n",
              "        [22701.238  , 23130.393  , 23101.488  , ..., 23253.736  ,\n",
              "         23423.725  , 22858.53   ],\n",
              "        [22773.893  , 23201.404  , 23173.203  , ..., 23320.854  ,\n",
              "         23490.602  , 22924.316  ],\n",
              "        ...,\n",
              "        [  671.1489 ,   716.06323,   711.15454, ...,   675.3702 ,\n",
              "           657.7959 ,   632.806  ],\n",
              "        [  630.6653 ,   692.6644 ,   677.44305, ...,   646.57806,\n",
              "           631.0878 ,   602.6096 ],\n",
              "        [  660.59985,   717.6774 ,   706.9543 , ...,   680.2914 ,\n",
              "           669.9627 ,   648.5213 ]], dtype=float32), (137, 15))"
            ]
          },
          "metadata": {
            "tags": []
          },
          "execution_count": 448
        }
      ]
    },
    {
      "cell_type": "code",
      "metadata": {
        "id": "oxmUppOtbMXl",
        "colab_type": "code",
        "outputId": "3af9d836-507b-4ebf-aae5-3be33c4929a8",
        "colab": {
          "base_uri": "https://localhost:8080/",
          "height": 508
        }
      },
      "source": [
        "# window와 forecast_days에 의해 실제 날자와 차이나는 부분의 보정 처리...\n",
        "compare_backdata(predit_news_y)"
      ],
      "execution_count": 0,
      "outputs": [
        {
          "output_type": "display_data",
          "data": {
            "image/png": "[encoded data removed]",
            "text/plain": [
              "<Figure size 1152x576 with 1 Axes>"
            ]
          },
          "metadata": {
            "tags": [],
            "needs_background": "light"
          }
        }
      ]
    },
    {
      "cell_type": "code",
      "metadata": {
        "id": "TskEUuiycpIM",
        "colab_type": "code",
        "outputId": "69eb1c17-82ad-4b04-9bcf-384eb2e381ee",
        "colab": {
          "base_uri": "https://localhost:8080/",
          "height": 70
        }
      },
      "source": [
        "# \t2.6  향후 15일 예측\n",
        "# \t\t2.6.1 testset (마지막 30일)의 inference\n",
        "\n",
        "test_news_x = test_news_x.reshape(-1,max_buz_per_day,vec_size,news_window)\n",
        "predit_y = model.predict(test_news_x)\n",
        "predit_y,predit_y.shape"
      ],
      "execution_count": 0,
      "outputs": [
        {
          "output_type": "execute_result",
          "data": {
            "text/plain": [
              "(array([[10625.403, 10628.501, 11097.655,  9698.702,  9834.002,  8935.024,\n",
              "          9424.747,  9656.729,  9835.457,  8780.454,  9800.582,  9749.447,\n",
              "          9367.989,  9897.247,  9303.627]], dtype=float32), (1, 15))"
            ]
          },
          "metadata": {
            "tags": []
          },
          "execution_count": 450
        }
      ]
    },
    {
      "cell_type": "code",
      "metadata": {
        "id": "ufKipfSydXI9",
        "colab_type": "code",
        "outputId": "99554638-dc5e-4557-d839-4b4bf6023745",
        "colab": {
          "base_uri": "https://localhost:8080/",
          "height": 877
        }
      },
      "source": [
        "# \t\t2.6.2 로밍등록자 예측 Count에서 실입국자 보정 처리 및 결과 표출\n",
        "\n",
        "display_result(predit_y)"
      ],
      "execution_count": 0,
      "outputs": [
        {
          "output_type": "execute_result",
          "data": {
            "text/html": [
              "<div>\n",
              "<style scoped>\n",
              "    .dataframe tbody tr th:only-of-type {\n",
              "        vertical-align: middle;\n",
              "    }\n",
              "\n",
              "    .dataframe tbody tr th {\n",
              "        vertical-align: top;\n",
              "    }\n",
              "\n",
              "    .dataframe thead th {\n",
              "        text-align: right;\n",
              "    }\n",
              "</style>\n",
              "<table border=\"1\" class=\"dataframe\">\n",
              "  <thead>\n",
              "    <tr style=\"text-align: right;\">\n",
              "      <th></th>\n",
              "      <th>date</th>\n",
              "      <th>roaming register forecate</th>\n",
              "      <th>immigrantion forecast</th>\n",
              "    </tr>\n",
              "  </thead>\n",
              "  <tbody>\n",
              "    <tr>\n",
              "      <th>0</th>\n",
              "      <td>2020-04-29</td>\n",
              "      <td>10625.403320</td>\n",
              "      <td>44272</td>\n",
              "    </tr>\n",
              "    <tr>\n",
              "      <th>1</th>\n",
              "      <td>2020-04-30</td>\n",
              "      <td>10628.500977</td>\n",
              "      <td>44285</td>\n",
              "    </tr>\n",
              "    <tr>\n",
              "      <th>2</th>\n",
              "      <td>2020-05-01</td>\n",
              "      <td>11097.655273</td>\n",
              "      <td>46240</td>\n",
              "    </tr>\n",
              "    <tr>\n",
              "      <th>3</th>\n",
              "      <td>2020-05-02</td>\n",
              "      <td>9698.702148</td>\n",
              "      <td>40411</td>\n",
              "    </tr>\n",
              "    <tr>\n",
              "      <th>4</th>\n",
              "      <td>2020-05-03</td>\n",
              "      <td>9834.001953</td>\n",
              "      <td>40975</td>\n",
              "    </tr>\n",
              "    <tr>\n",
              "      <th>5</th>\n",
              "      <td>2020-05-04</td>\n",
              "      <td>8935.024414</td>\n",
              "      <td>37229</td>\n",
              "    </tr>\n",
              "    <tr>\n",
              "      <th>6</th>\n",
              "      <td>2020-05-05</td>\n",
              "      <td>9424.747070</td>\n",
              "      <td>39269</td>\n",
              "    </tr>\n",
              "    <tr>\n",
              "      <th>7</th>\n",
              "      <td>2020-05-06</td>\n",
              "      <td>9656.728516</td>\n",
              "      <td>40236</td>\n",
              "    </tr>\n",
              "    <tr>\n",
              "      <th>8</th>\n",
              "      <td>2020-05-07</td>\n",
              "      <td>9835.457031</td>\n",
              "      <td>40981</td>\n",
              "    </tr>\n",
              "    <tr>\n",
              "      <th>9</th>\n",
              "      <td>2020-05-08</td>\n",
              "      <td>8780.454102</td>\n",
              "      <td>36585</td>\n",
              "    </tr>\n",
              "    <tr>\n",
              "      <th>10</th>\n",
              "      <td>2020-05-09</td>\n",
              "      <td>9800.582031</td>\n",
              "      <td>40835</td>\n",
              "    </tr>\n",
              "    <tr>\n",
              "      <th>11</th>\n",
              "      <td>2020-05-10</td>\n",
              "      <td>9749.447266</td>\n",
              "      <td>40622</td>\n",
              "    </tr>\n",
              "    <tr>\n",
              "      <th>12</th>\n",
              "      <td>2020-05-11</td>\n",
              "      <td>9367.989258</td>\n",
              "      <td>39033</td>\n",
              "    </tr>\n",
              "    <tr>\n",
              "      <th>13</th>\n",
              "      <td>2020-05-12</td>\n",
              "      <td>9897.247070</td>\n",
              "      <td>41238</td>\n",
              "    </tr>\n",
              "    <tr>\n",
              "      <th>14</th>\n",
              "      <td>2020-05-13</td>\n",
              "      <td>9303.626953</td>\n",
              "      <td>38765</td>\n",
              "    </tr>\n",
              "  </tbody>\n",
              "</table>\n",
              "</div>"
            ],
            "text/plain": [
              "         date  roaming register forecate  immigrantion forecast\n",
              "0  2020-04-29               10625.403320                  44272\n",
              "1  2020-04-30               10628.500977                  44285\n",
              "2  2020-05-01               11097.655273                  46240\n",
              "3  2020-05-02                9698.702148                  40411\n",
              "4  2020-05-03                9834.001953                  40975\n",
              "5  2020-05-04                8935.024414                  37229\n",
              "6  2020-05-05                9424.747070                  39269\n",
              "7  2020-05-06                9656.728516                  40236\n",
              "8  2020-05-07                9835.457031                  40981\n",
              "9  2020-05-08                8780.454102                  36585\n",
              "10 2020-05-09                9800.582031                  40835\n",
              "11 2020-05-10                9749.447266                  40622\n",
              "12 2020-05-11                9367.989258                  39033\n",
              "13 2020-05-12                9897.247070                  41238\n",
              "14 2020-05-13                9303.626953                  38765"
            ]
          },
          "metadata": {
            "tags": []
          },
          "execution_count": 451
        },
        {
          "output_type": "display_data",
          "data": {
            "image/png": "[encoded data removed]",
            "text/plain": [
              "<Figure size 432x288 with 1 Axes>"
            ]
          },
          "metadata": {
            "tags": [],
            "needs_background": "light"
          }
        }
      ]
    },
    {
      "cell_type": "markdown",
      "metadata": {
        "id": "tMwskjbE1AVz",
        "colab_type": "text"
      },
      "source": [
        "학습 때 마나 결과가 조금씩 틀리다. 크게 보면 증가하는 경향이 나옴.<br>\n",
        "이유는 모르겠으나.. 틀린건지 맞는 건지 모르겠음...<br>\n",
        "정성적인 Data를 분석해서 정량적 수치를 예측하는 것이 모순이 있으나,<br>\n",
        "지금 Test에서는 News 내용이 등록자 감소, 증가 추세의 영향을 내포 할 수 있느냐가 논점!<br>\n",
        "<br>\n",
        "이후, 로밍등록자 추정 알고리즘과 병합 하면서 News의 영향이 반영될 것.."
      ]
    },
    {
      "cell_type": "markdown",
      "metadata": {
        "id": "7M1kjfl04oMx",
        "colab_type": "text"
      },
      "source": [
        "3. Forecast with combined numeric timeseries and unstructured timeseries <br>\n",
        "\t3.1 개요<br>\n",
        "\t3.2 Numeric timeseries and unstructured timeseries combined model 구성<br>\n",
        "\t3.3 Numeric timeseries and unstructured timeseries data train\n",
        "\t\t3.3.1 학습에 대한 mean_absolute_error 확인.\n",
        "\t\t3.3.2 trainset에 의한 과거 data의 예측 입국자 count \n",
        "\t\t3.3.3 실등록자 count와 news기반 예측 count의 비교 chart\n",
        " \t3.4  향후 15일 예측\n",
        " \t\t3.4.1 testset (마지막 30일)의 inference\n",
        " \t\t3.4.2 로밍등록자 예측 Count에서 실입국자 보정 처리 및 결과 표출\n",
        "\t3.5 ensemble에 의한 일관된 결과 예측\n",
        "\t\t3.5.1 ensemble model 생성\n",
        "\t\t3.5.2 최종 결과"
      ]
    },
    {
      "cell_type": "markdown",
      "metadata": {
        "id": "7fe_Gl4R4o-A",
        "colab_type": "text"
      },
      "source": [
        "3.1 개요<br>\n",
        "\n",
        " 마지막으로 Roaming trainset의 1D Convolution과 News doc2vec trainset의 2D Convolution을 합성하여 하나의 모델로 만들고 두개의 trainset으로 학습하여 미래 15일을 예측한다.\n",
        " <br><br>Keras: Multiple Inputs and Mixed Data<br>\n",
        "https://www.pyimagesearch.com/2019/02/04/keras-multiple-inputs-and-mixed-data/"
      ]
    },
    {
      "cell_type": "code",
      "metadata": {
        "id": "8e1M6rsyheh_",
        "colab_type": "code",
        "outputId": "69c6f2aa-379b-4039-d5b1-5f9b8557b9bf",
        "colab": {
          "base_uri": "https://localhost:8080/",
          "height": 876
        }
      },
      "source": [
        "#\t3.2 Numeric timeseries and unstructured timeseries combined model 구성\n",
        "import keras\n",
        "from keras import Input, Model\n",
        "from keras.layers import Dense, Activation, Flatten, Conv1D, MaxPooling1D, Conv2D, MaxPooling2D, concatenate\n",
        "\n",
        "# custom R2-score metrics for keras backend\n",
        "from keras import backend as K\n",
        "\n",
        "def r2(y_true, y_pred):\n",
        "    SS_res =  K.sum(K.square(y_true - y_pred)) \n",
        "    SS_tot = K.sum(K.square(y_true - K.mean(y_true))) \n",
        "    return ( 1 - SS_res/(SS_tot + K.epsilon()) )\n",
        "    \n",
        "# define two sets of inputs\n",
        "input_roaming = Input(shape=(window, size))\n",
        "input_news = Input(shape=(max_buz_per_day,vec_size,news_window))\n",
        "\n",
        "# 로밍등록자에 대한 1D Convilution layer 구성\n",
        "x = Conv1D(128,4, activation=\"relu\",padding=\"same\")(input_roaming)\n",
        "x = MaxPooling1D(pool_size=2)(x)\n",
        "x = Conv1D(64,4, activation=\"relu\",padding=\"same\")(x)\n",
        "x = MaxPooling1D(pool_size=2)(x)\n",
        "x = Conv1D(32,4, activation=\"relu\",padding=\"same\")(x)\n",
        "x = MaxPooling1D(pool_size=2)(x)\n",
        "x = Flatten()(x)\n",
        "x = Dense(256)(x)\n",
        "x = Model(inputs=input_roaming, outputs=x)\n",
        "\n",
        "\n",
        "# news에 대한 2D Convolution layer 구성\n",
        "y = Conv2D(64,(3,3), activation=\"relu\")(input_news)\n",
        "y = MaxPooling2D(pool_size=(3,3))(y)\n",
        "y = Conv2D(32,(2,2), activation=\"relu\")(y)\n",
        "y = MaxPooling2D(pool_size=(3,3))(y)\n",
        "y = Flatten()(y)\n",
        "y = Dense(1024,activation=\"relu\")(y)\n",
        "#y = Dropout(0.5)(y)\n",
        "y = Dense(32,activation=\"relu\")(y)\n",
        "y = Model(inputs=input_news, outputs=y)\n",
        "\n",
        "# combine the output of the two branches\n",
        "combined = concatenate([x.output, y.output])\n",
        "\n",
        "# apply a FC layer and then a regression prediction on the\n",
        "# combined outputs\n",
        "z = Dense(forecast_days, activation=\"linear\")(combined)\n",
        "\n",
        "# our model will accept the inputs of the two branches and\n",
        "# then output a single value\n",
        "model = Model(inputs=[x.input, y.input], outputs=z)\n",
        "\n",
        "model.compile(loss=keras.losses.mean_squared_error, optimizer=keras.optimizers.Adam(),metrics=['mae',r2])\n",
        "\n",
        "print(model.summary())\n",
        "\n",
        "model_json = model.to_json()\n",
        "with open(\"combined_model.json\", \"w\") as json_file:\n",
        "    json_file.write(model_json)\n",
        "json_file.close()\n",
        "\n",
        "print(\"save to combined_model.json\")"
      ],
      "execution_count": 0,
      "outputs": [
        {
          "output_type": "stream",
          "text": [
            "Model: \"model_6\"\n",
            "__________________________________________________________________________________________________\n",
            "Layer (type)                    Output Shape         Param #     Connected to                     \n",
            "==================================================================================================\n",
            "input_3 (InputLayer)            (None, 30, 174)      0                                            \n",
            "__________________________________________________________________________________________________\n",
            "conv1d_4 (Conv1D)               (None, 30, 128)      89216       input_3[0][0]                    \n",
            "__________________________________________________________________________________________________\n",
            "input_4 (InputLayer)            (None, 1948, 40, 30) 0                                            \n",
            "__________________________________________________________________________________________________\n",
            "max_pooling1d_4 (MaxPooling1D)  (None, 15, 128)      0           conv1d_4[0][0]                   \n",
            "__________________________________________________________________________________________________\n",
            "conv2d_3 (Conv2D)               (None, 1946, 38, 64) 17344       input_4[0][0]                    \n",
            "__________________________________________________________________________________________________\n",
            "conv1d_5 (Conv1D)               (None, 15, 64)       32832       max_pooling1d_4[0][0]            \n",
            "__________________________________________________________________________________________________\n",
            "max_pooling2d_3 (MaxPooling2D)  (None, 648, 12, 64)  0           conv2d_3[0][0]                   \n",
            "__________________________________________________________________________________________________\n",
            "max_pooling1d_5 (MaxPooling1D)  (None, 7, 64)        0           conv1d_5[0][0]                   \n",
            "__________________________________________________________________________________________________\n",
            "conv2d_4 (Conv2D)               (None, 647, 11, 32)  8224        max_pooling2d_3[0][0]            \n",
            "__________________________________________________________________________________________________\n",
            "conv1d_6 (Conv1D)               (None, 7, 32)        8224        max_pooling1d_5[0][0]            \n",
            "__________________________________________________________________________________________________\n",
            "max_pooling2d_4 (MaxPooling2D)  (None, 215, 3, 32)   0           conv2d_4[0][0]                   \n",
            "__________________________________________________________________________________________________\n",
            "max_pooling1d_6 (MaxPooling1D)  (None, 3, 32)        0           conv1d_6[0][0]                   \n",
            "__________________________________________________________________________________________________\n",
            "flatten_4 (Flatten)             (None, 20640)        0           max_pooling2d_4[0][0]            \n",
            "__________________________________________________________________________________________________\n",
            "flatten_3 (Flatten)             (None, 96)           0           max_pooling1d_6[0][0]            \n",
            "__________________________________________________________________________________________________\n",
            "dense_6 (Dense)                 (None, 1024)         21136384    flatten_4[0][0]                  \n",
            "__________________________________________________________________________________________________\n",
            "dense_5 (Dense)                 (None, 256)          24832       flatten_3[0][0]                  \n",
            "__________________________________________________________________________________________________\n",
            "dense_7 (Dense)                 (None, 32)           32800       dense_6[0][0]                    \n",
            "__________________________________________________________________________________________________\n",
            "concatenate_2 (Concatenate)     (None, 288)          0           dense_5[0][0]                    \n",
            "                                                                 dense_7[0][0]                    \n",
            "__________________________________________________________________________________________________\n",
            "dense_8 (Dense)                 (None, 15)           4335        concatenate_2[0][0]              \n",
            "==================================================================================================\n",
            "Total params: 21,354,191\n",
            "Trainable params: 21,354,191\n",
            "Non-trainable params: 0\n",
            "__________________________________________________________________________________________________\n",
            "None\n",
            "save to combined_model.json\n"
          ],
          "name": "stdout"
        }
      ]
    },
    {
      "cell_type": "code",
      "metadata": {
        "id": "8sZIBFjXn1a0",
        "colab_type": "code",
        "outputId": "c6be31e0-f8cc-4c46-8cbc-f1a6188c7838",
        "colab": {
          "base_uri": "https://localhost:8080/",
          "height": 385
        }
      },
      "source": [
        "#\t3.3 Numeric timeseries and unstructured timeseries data train\n",
        "\n",
        "def train_combined_model(trial,epochs=30,verbose=1):\n",
        "  from keras.models import model_from_json\n",
        "  json_file = open(\"combined_model.json\", \"r\")\n",
        "  loaded_model_json = json_file.read()\n",
        "  json_file.close()\n",
        "  model = model_from_json(loaded_model_json)\n",
        "  model.compile(loss=keras.losses.mean_squared_error, optimizer=keras.optimizers.Adam(),metrics=['mae',r2])\n",
        "  #print(model.summary())\n",
        "  print(str(trial),\"th learning attempt\")\n",
        "  hist = model.fit([train_x,train_news_x], train_y, epochs=epochs,verbose=verbose)\n",
        "  return model,hist\n",
        "\n",
        "model,hist = train_combined_model(1,epochs=200)"
      ],
      "execution_count": 0,
      "outputs": [
        {
          "output_type": "stream",
          "text": [
            "1 th learning attempt\n",
            "Epoch 1/10\n",
            "137/137 [==============================] - 8s 61ms/step - loss: 221296772.5547 - mae: 11510.6377 - r2: -1.4430\n",
            "Epoch 2/10\n",
            "137/137 [==============================] - 2s 11ms/step - loss: 105297450.9781 - mae: 8152.6963 - r2: -0.2576\n",
            "Epoch 3/10\n",
            "137/137 [==============================] - 2s 11ms/step - loss: 67189101.8394 - mae: 6462.8716 - r2: 0.2731\n",
            "Epoch 4/10\n",
            "137/137 [==============================] - 2s 12ms/step - loss: 62551096.7883 - mae: 5919.8823 - r2: 0.3515\n",
            "Epoch 5/10\n",
            "137/137 [==============================] - 2s 11ms/step - loss: 40899856.6715 - mae: 5016.4985 - r2: 0.5832\n",
            "Epoch 6/10\n",
            "137/137 [==============================] - 2s 11ms/step - loss: 28252225.4964 - mae: 3815.2107 - r2: 0.7240\n",
            "Epoch 7/10\n",
            "137/137 [==============================] - 2s 11ms/step - loss: 19207210.2628 - mae: 3087.0474 - r2: 0.8038\n",
            "Epoch 8/10\n",
            "137/137 [==============================] - 2s 11ms/step - loss: 12034816.0602 - mae: 2244.8506 - r2: 0.8841\n",
            "Epoch 9/10\n",
            "137/137 [==============================] - 2s 11ms/step - loss: 11218658.1168 - mae: 2243.4414 - r2: 0.8474\n",
            "Epoch 10/10\n",
            "137/137 [==============================] - 2s 11ms/step - loss: 10891703.1168 - mae: 2282.6892 - r2: 0.8905\n"
          ],
          "name": "stdout"
        }
      ]
    },
    {
      "cell_type": "code",
      "metadata": {
        "id": "NgLIjPMupk_7",
        "colab_type": "code",
        "outputId": "34e17a24-10b0-4616-bcf7-d985f4e9e681",
        "colab": {
          "base_uri": "https://localhost:8080/",
          "height": 573
        }
      },
      "source": [
        "#\t\t3.3.1 학습에 대한 mean_absolute_error 확인.\n",
        "\n",
        "plot_mae(hist)\n",
        "plot_r2(hist)"
      ],
      "execution_count": 0,
      "outputs": [
        {
          "output_type": "display_data",
          "data": {
            "image/png": "[encoded data removed]",
            "text/plain": [
              "<Figure size 432x288 with 1 Axes>"
            ]
          },
          "metadata": {
            "tags": [],
            "needs_background": "light"
          }
        },
        {
          "output_type": "display_data",
          "data": {
            "image/png": "[encoded data removed]",
            "text/plain": [
              "<Figure size 432x288 with 1 Axes>"
            ]
          },
          "metadata": {
            "tags": [],
            "needs_background": "light"
          }
        }
      ]
    },
    {
      "cell_type": "code",
      "metadata": {
        "id": "O5fK57trpr3y",
        "colab_type": "code",
        "outputId": "1d9f882b-a038-4907-bd0d-57300b1163ee",
        "colab": {
          "base_uri": "https://localhost:8080/",
          "height": 245
        }
      },
      "source": [
        "#\t\t3.3.2 trainset에 의한 과거 data의 예측 입국자 count \n",
        "\n",
        "predit_y = model.predict([train_x,train_news_x])\n",
        "predit_y,predit_y.shape"
      ],
      "execution_count": 0,
      "outputs": [
        {
          "output_type": "execute_result",
          "data": {
            "text/plain": [
              "(array([[20539.236  , 21197.064  , 21005.037  , ..., 23638.258  ,\n",
              "         23170.992  , 22541.559  ],\n",
              "        [21414.305  , 21847.17   , 21850.186  , ..., 23884.17   ,\n",
              "         23976.783  , 23150.742  ],\n",
              "        [21176.652  , 21660.56   , 21872.588  , ..., 23143.957  ,\n",
              "         23419.812  , 22739.146  ],\n",
              "        ...,\n",
              "        [  599.1993 ,   647.3119 ,   695.9803 , ...,   520.7305 ,\n",
              "           571.2171 ,   498.7918 ],\n",
              "        [  596.1109 ,   633.5563 ,   679.36487, ...,   473.8724 ,\n",
              "           523.68054,   448.5091 ],\n",
              "        [  610.49646,   679.41266,   709.8535 , ...,   478.11774,\n",
              "           536.92316,   456.56644]], dtype=float32), (137, 15))"
            ]
          },
          "metadata": {
            "tags": []
          },
          "execution_count": 455
        }
      ]
    },
    {
      "cell_type": "code",
      "metadata": {
        "id": "yWn_0trNqCcP",
        "colab_type": "code",
        "outputId": "5dd4f330-fcbf-4477-ac20-025c3faee632",
        "colab": {
          "base_uri": "https://localhost:8080/",
          "height": 508
        }
      },
      "source": [
        "# window와 forecast_days에 의해 실제 날자와 차이나는 부분의 보정 처리...\n",
        "compare_backdata(predit_y)"
      ],
      "execution_count": 0,
      "outputs": [
        {
          "output_type": "display_data",
          "data": {
            "image/png": "[encoded data removed]",
            "text/plain": [
              "<Figure size 1152x576 with 1 Axes>"
            ]
          },
          "metadata": {
            "tags": [],
            "needs_background": "light"
          }
        }
      ]
    },
    {
      "cell_type": "code",
      "metadata": {
        "id": "dk6C8AnNq_Eg",
        "colab_type": "code",
        "outputId": "aec3f073-65a2-43ca-d131-32c3bf77df9c",
        "colab": {
          "base_uri": "https://localhost:8080/",
          "height": 87
        }
      },
      "source": [
        "# \t3.4  향후 15일 예측\n",
        "# \t\t3.4.1 testset (마지막 30일)의 inference\n",
        "\n",
        "predit_y = model.predict([test_x,test_news_x])\n",
        "predit_y,predit_y.shape"
      ],
      "execution_count": 0,
      "outputs": [
        {
          "output_type": "execute_result",
          "data": {
            "text/plain": [
              "(array([[1066.3455 , 1015.6477 ,  820.35767,  483.97375,  454.9204 ,\n",
              "          644.3252 ,  631.014  ,  626.68335,  353.4066 ,  283.47742,\n",
              "          320.74017,  291.76404,  352.79224,  287.2389 ,  298.64285]],\n",
              "       dtype=float32), (1, 15))"
            ]
          },
          "metadata": {
            "tags": []
          },
          "execution_count": 457
        }
      ]
    },
    {
      "cell_type": "code",
      "metadata": {
        "id": "7lwUalc2sAwJ",
        "colab_type": "code",
        "outputId": "9e3cb8a8-0d04-45f5-cee7-13406d04ebe8",
        "colab": {
          "base_uri": "https://localhost:8080/",
          "height": 877
        }
      },
      "source": [
        "# \t\t3.4.2 로밍등록자 예측 Count에서 실입국자 보정 처리 및 결과 표출\n",
        "\n",
        "display_result(predit_y)\n"
      ],
      "execution_count": 0,
      "outputs": [
        {
          "output_type": "execute_result",
          "data": {
            "text/html": [
              "<div>\n",
              "<style scoped>\n",
              "    .dataframe tbody tr th:only-of-type {\n",
              "        vertical-align: middle;\n",
              "    }\n",
              "\n",
              "    .dataframe tbody tr th {\n",
              "        vertical-align: top;\n",
              "    }\n",
              "\n",
              "    .dataframe thead th {\n",
              "        text-align: right;\n",
              "    }\n",
              "</style>\n",
              "<table border=\"1\" class=\"dataframe\">\n",
              "  <thead>\n",
              "    <tr style=\"text-align: right;\">\n",
              "      <th></th>\n",
              "      <th>date</th>\n",
              "      <th>roaming register forecate</th>\n",
              "      <th>immigrantion forecast</th>\n",
              "    </tr>\n",
              "  </thead>\n",
              "  <tbody>\n",
              "    <tr>\n",
              "      <th>0</th>\n",
              "      <td>2020-04-29</td>\n",
              "      <td>1066.345459</td>\n",
              "      <td>4443</td>\n",
              "    </tr>\n",
              "    <tr>\n",
              "      <th>1</th>\n",
              "      <td>2020-04-30</td>\n",
              "      <td>1015.647705</td>\n",
              "      <td>4231</td>\n",
              "    </tr>\n",
              "    <tr>\n",
              "      <th>2</th>\n",
              "      <td>2020-05-01</td>\n",
              "      <td>820.357666</td>\n",
              "      <td>3418</td>\n",
              "    </tr>\n",
              "    <tr>\n",
              "      <th>3</th>\n",
              "      <td>2020-05-02</td>\n",
              "      <td>483.973755</td>\n",
              "      <td>2016</td>\n",
              "    </tr>\n",
              "    <tr>\n",
              "      <th>4</th>\n",
              "      <td>2020-05-03</td>\n",
              "      <td>454.920410</td>\n",
              "      <td>1895</td>\n",
              "    </tr>\n",
              "    <tr>\n",
              "      <th>5</th>\n",
              "      <td>2020-05-04</td>\n",
              "      <td>644.325195</td>\n",
              "      <td>2684</td>\n",
              "    </tr>\n",
              "    <tr>\n",
              "      <th>6</th>\n",
              "      <td>2020-05-05</td>\n",
              "      <td>631.013977</td>\n",
              "      <td>2629</td>\n",
              "    </tr>\n",
              "    <tr>\n",
              "      <th>7</th>\n",
              "      <td>2020-05-06</td>\n",
              "      <td>626.683350</td>\n",
              "      <td>2611</td>\n",
              "    </tr>\n",
              "    <tr>\n",
              "      <th>8</th>\n",
              "      <td>2020-05-07</td>\n",
              "      <td>353.406586</td>\n",
              "      <td>1472</td>\n",
              "    </tr>\n",
              "    <tr>\n",
              "      <th>9</th>\n",
              "      <td>2020-05-08</td>\n",
              "      <td>283.477417</td>\n",
              "      <td>1181</td>\n",
              "    </tr>\n",
              "    <tr>\n",
              "      <th>10</th>\n",
              "      <td>2020-05-09</td>\n",
              "      <td>320.740173</td>\n",
              "      <td>1336</td>\n",
              "    </tr>\n",
              "    <tr>\n",
              "      <th>11</th>\n",
              "      <td>2020-05-10</td>\n",
              "      <td>291.764038</td>\n",
              "      <td>1215</td>\n",
              "    </tr>\n",
              "    <tr>\n",
              "      <th>12</th>\n",
              "      <td>2020-05-11</td>\n",
              "      <td>352.792236</td>\n",
              "      <td>1469</td>\n",
              "    </tr>\n",
              "    <tr>\n",
              "      <th>13</th>\n",
              "      <td>2020-05-12</td>\n",
              "      <td>287.238892</td>\n",
              "      <td>1196</td>\n",
              "    </tr>\n",
              "    <tr>\n",
              "      <th>14</th>\n",
              "      <td>2020-05-13</td>\n",
              "      <td>298.642853</td>\n",
              "      <td>1244</td>\n",
              "    </tr>\n",
              "  </tbody>\n",
              "</table>\n",
              "</div>"
            ],
            "text/plain": [
              "         date  roaming register forecate  immigrantion forecast\n",
              "0  2020-04-29                1066.345459                   4443\n",
              "1  2020-04-30                1015.647705                   4231\n",
              "2  2020-05-01                 820.357666                   3418\n",
              "3  2020-05-02                 483.973755                   2016\n",
              "4  2020-05-03                 454.920410                   1895\n",
              "5  2020-05-04                 644.325195                   2684\n",
              "6  2020-05-05                 631.013977                   2629\n",
              "7  2020-05-06                 626.683350                   2611\n",
              "8  2020-05-07                 353.406586                   1472\n",
              "9  2020-05-08                 283.477417                   1181\n",
              "10 2020-05-09                 320.740173                   1336\n",
              "11 2020-05-10                 291.764038                   1215\n",
              "12 2020-05-11                 352.792236                   1469\n",
              "13 2020-05-12                 287.238892                   1196\n",
              "14 2020-05-13                 298.642853                   1244"
            ]
          },
          "metadata": {
            "tags": []
          },
          "execution_count": 458
        },
        {
          "output_type": "display_data",
          "data": {
            "image/png": "[encoded data removed]",
            "text/plain": [
              "<Figure size 432x288 with 1 Axes>"
            ]
          },
          "metadata": {
            "tags": [],
            "needs_background": "light"
          }
        }
      ]
    },
    {
      "cell_type": "code",
      "metadata": {
        "id": "HVycoP0t219d",
        "colab_type": "code",
        "outputId": "02e0a0f9-4aa9-4b25-8870-7818bcd25919",
        "colab": {
          "base_uri": "https://localhost:8080/",
          "height": 210
        }
      },
      "source": [
        "#\t3.5 ensemble에 의한 일관된 결과 예측\n",
        "#\t\t3.5.1 ensemble model 생성\n",
        "\n",
        "# 일관된 예측 결과를 만들기 위해, 동일 모델 10개의 앙상블 처리\n",
        "# 시간 무지 오래 걸림 식사하고 오세요~\n",
        "# 밥먹고 왔는데 중간에 실패 (Resource exhaustion) 되어 있을 수 있음...\n",
        "# 너무 오래 걸리면, epoch=200 을 조정 한다.\n",
        "\n",
        "ensemble = []\n",
        "for i in range(10):\n",
        "  model,hist = train_combined_model(i+1,epochs=200,verbose=0)\n",
        "  ensemble.append(model)\n",
        "print(\"Complete!!\")\n",
        "\n",
        "#\t\tensemble_predict method define~\n",
        "def ensemble_predict(input_roam,input_news):\n",
        "  ensemble_predit_y =  np.asarray([m.predict([input_roam,input_news]) for m in ensemble])\n",
        "  predit_y = np.mean(ensemble_predit_y,axis=0)\n",
        "  return predit_y  "
      ],
      "execution_count": 0,
      "outputs": [
        {
          "output_type": "stream",
          "text": [
            "1 th learning attempt\n",
            "2 th learning attempt\n",
            "3 th learning attempt\n",
            "4 th learning attempt\n",
            "5 th learning attempt\n",
            "6 th learning attempt\n",
            "7 th learning attempt\n",
            "8 th learning attempt\n",
            "9 th learning attempt\n",
            "10 th learning attempt\n",
            "Complete!!\n"
          ],
          "name": "stdout"
        }
      ]
    },
    {
      "cell_type": "code",
      "metadata": {
        "id": "OxeHMcakMgdb",
        "colab_type": "code",
        "outputId": "7ab92d03-45d9-438c-ea4f-f3495fc513d3",
        "colab": {
          "base_uri": "https://localhost:8080/",
          "height": 245
        }
      },
      "source": [
        "# trainset에 의한 과거 data의 예측 입국자 count \n",
        "\n",
        "predit_y = ensemble_predict(train_x,train_news_x)\n",
        "predit_y,predit_y.shape"
      ],
      "execution_count": 0,
      "outputs": [
        {
          "output_type": "execute_result",
          "data": {
            "text/plain": [
              "(array([[13811.323  , 14126.711  , 14142.416  , ..., 16021.461  ,\n",
              "         16287.693  , 16213.87   ],\n",
              "        [17632.64   , 17983.652  , 18018.229  , ..., 20131.377  ,\n",
              "         20467.844  , 20359.195  ],\n",
              "        [20698.902  , 21073.209  , 21107.719  , ..., 23344.676  ,\n",
              "         23691.635  , 23588.969  ],\n",
              "        ...,\n",
              "        [  729.61523,   713.989  ,   675.7732 , ...,   764.74243,\n",
              "           632.7706 ,   697.1881 ],\n",
              "        [  703.87634,   681.7516 ,   645.4697 , ...,   696.9294 ,\n",
              "           581.7555 ,   630.8254 ],\n",
              "        [  681.3722 ,   664.4434 ,   631.5255 , ...,   720.7542 ,\n",
              "           599.9429 ,   652.55304]], dtype=float32), (137, 15))"
            ]
          },
          "metadata": {
            "tags": []
          },
          "execution_count": 24
        }
      ]
    },
    {
      "cell_type": "code",
      "metadata": {
        "id": "IztZ3jqGMwjc",
        "colab_type": "code",
        "outputId": "f92d87a5-4ad9-47cc-d956-d02a5b457647",
        "colab": {
          "base_uri": "https://localhost:8080/",
          "height": 508
        }
      },
      "source": [
        "compare_backdata(predit_y)"
      ],
      "execution_count": 0,
      "outputs": [
        {
          "output_type": "display_data",
          "data": {
            "image/png": "[encoded data removed]",
            "text/plain": [
              "<Figure size 1152x576 with 1 Axes>"
            ]
          },
          "metadata": {
            "tags": [],
            "needs_background": "light"
          }
        }
      ]
    },
    {
      "cell_type": "code",
      "metadata": {
        "id": "2HJRjbGU3seB",
        "colab_type": "code",
        "outputId": "065f9d4c-f5cc-4037-bbc6-5384bf5afe47",
        "colab": {
          "base_uri": "https://localhost:8080/",
          "height": 87
        }
      },
      "source": [
        "# \n",
        "test_x = test_x.reshape(-1,window,size)\n",
        "test_news_x = test_news_x.reshape(-1,max_buz_per_day,vec_size,news_window)\n",
        "\n",
        "predit_y = ensemble_predict(test_x,test_news_x)\n",
        "predit_y, predit_y.shape"
      ],
      "execution_count": 0,
      "outputs": [
        {
          "output_type": "execute_result",
          "data": {
            "text/plain": [
              "(array([[ 393.90436,  594.45966,  576.3454 ,  539.11475,  926.251  ,\n",
              "          920.9334 ,  867.19006, 1029.378  , 1007.4624 , 1103.2302 ,\n",
              "         1123.397  , 1074.1274 , 1561.346  , 1189.7183 , 1480.2689 ]],\n",
              "       dtype=float32), (1, 15))"
            ]
          },
          "metadata": {
            "tags": []
          },
          "execution_count": 31
        }
      ]
    },
    {
      "cell_type": "code",
      "metadata": {
        "id": "HsKL3FLyMWOR",
        "colab_type": "code",
        "outputId": "25e01c0b-4da9-4e82-fe8e-47ad68576a23",
        "colab": {
          "base_uri": "https://localhost:8080/",
          "height": 877
        }
      },
      "source": [
        "#\t\t3.5.2 최종 결과\n",
        "display_result(predit_y)"
      ],
      "execution_count": 0,
      "outputs": [
        {
          "output_type": "execute_result",
          "data": {
            "text/html": [
              "<div>\n",
              "<style scoped>\n",
              "    .dataframe tbody tr th:only-of-type {\n",
              "        vertical-align: middle;\n",
              "    }\n",
              "\n",
              "    .dataframe tbody tr th {\n",
              "        vertical-align: top;\n",
              "    }\n",
              "\n",
              "    .dataframe thead th {\n",
              "        text-align: right;\n",
              "    }\n",
              "</style>\n",
              "<table border=\"1\" class=\"dataframe\">\n",
              "  <thead>\n",
              "    <tr style=\"text-align: right;\">\n",
              "      <th></th>\n",
              "      <th>date</th>\n",
              "      <th>roaming register forecate</th>\n",
              "      <th>immigrantion forecast</th>\n",
              "    </tr>\n",
              "  </thead>\n",
              "  <tbody>\n",
              "    <tr>\n",
              "      <th>0</th>\n",
              "      <td>2020-04-29</td>\n",
              "      <td>394.767700</td>\n",
              "      <td>1644</td>\n",
              "    </tr>\n",
              "    <tr>\n",
              "      <th>1</th>\n",
              "      <td>2020-04-30</td>\n",
              "      <td>374.930206</td>\n",
              "      <td>1562</td>\n",
              "    </tr>\n",
              "    <tr>\n",
              "      <th>2</th>\n",
              "      <td>2020-05-01</td>\n",
              "      <td>376.810516</td>\n",
              "      <td>1570</td>\n",
              "    </tr>\n",
              "    <tr>\n",
              "      <th>3</th>\n",
              "      <td>2020-05-02</td>\n",
              "      <td>358.851044</td>\n",
              "      <td>1495</td>\n",
              "    </tr>\n",
              "    <tr>\n",
              "      <th>4</th>\n",
              "      <td>2020-05-03</td>\n",
              "      <td>353.617859</td>\n",
              "      <td>1473</td>\n",
              "    </tr>\n",
              "    <tr>\n",
              "      <th>5</th>\n",
              "      <td>2020-05-04</td>\n",
              "      <td>370.464386</td>\n",
              "      <td>1543</td>\n",
              "    </tr>\n",
              "    <tr>\n",
              "      <th>6</th>\n",
              "      <td>2020-05-05</td>\n",
              "      <td>283.295471</td>\n",
              "      <td>1180</td>\n",
              "    </tr>\n",
              "    <tr>\n",
              "      <th>7</th>\n",
              "      <td>2020-05-06</td>\n",
              "      <td>296.395081</td>\n",
              "      <td>1234</td>\n",
              "    </tr>\n",
              "    <tr>\n",
              "      <th>8</th>\n",
              "      <td>2020-05-07</td>\n",
              "      <td>300.043762</td>\n",
              "      <td>1250</td>\n",
              "    </tr>\n",
              "    <tr>\n",
              "      <th>9</th>\n",
              "      <td>2020-05-08</td>\n",
              "      <td>259.381378</td>\n",
              "      <td>1080</td>\n",
              "    </tr>\n",
              "    <tr>\n",
              "      <th>10</th>\n",
              "      <td>2020-05-09</td>\n",
              "      <td>255.254547</td>\n",
              "      <td>1063</td>\n",
              "    </tr>\n",
              "    <tr>\n",
              "      <th>11</th>\n",
              "      <td>2020-05-10</td>\n",
              "      <td>282.369507</td>\n",
              "      <td>1176</td>\n",
              "    </tr>\n",
              "    <tr>\n",
              "      <th>12</th>\n",
              "      <td>2020-05-11</td>\n",
              "      <td>228.000610</td>\n",
              "      <td>950</td>\n",
              "    </tr>\n",
              "    <tr>\n",
              "      <th>13</th>\n",
              "      <td>2020-05-12</td>\n",
              "      <td>223.989258</td>\n",
              "      <td>933</td>\n",
              "    </tr>\n",
              "    <tr>\n",
              "      <th>14</th>\n",
              "      <td>2020-05-13</td>\n",
              "      <td>197.755920</td>\n",
              "      <td>823</td>\n",
              "    </tr>\n",
              "  </tbody>\n",
              "</table>\n",
              "</div>"
            ],
            "text/plain": [
              "         date  roaming register forecate  immigrantion forecast\n",
              "0  2020-04-29                 394.767700                   1644\n",
              "1  2020-04-30                 374.930206                   1562\n",
              "2  2020-05-01                 376.810516                   1570\n",
              "3  2020-05-02                 358.851044                   1495\n",
              "4  2020-05-03                 353.617859                   1473\n",
              "5  2020-05-04                 370.464386                   1543\n",
              "6  2020-05-05                 283.295471                   1180\n",
              "7  2020-05-06                 296.395081                   1234\n",
              "8  2020-05-07                 300.043762                   1250\n",
              "9  2020-05-08                 259.381378                   1080\n",
              "10 2020-05-09                 255.254547                   1063\n",
              "11 2020-05-10                 282.369507                   1176\n",
              "12 2020-05-11                 228.000610                    950\n",
              "13 2020-05-12                 223.989258                    933\n",
              "14 2020-05-13                 197.755920                    823"
            ]
          },
          "metadata": {
            "tags": []
          },
          "execution_count": 35
        },
        {
          "output_type": "display_data",
          "data": {
            "image/png": "[encoded data removed]",
            "text/plain": [
              "<Figure size 432x288 with 1 Axes>"
            ]
          },
          "metadata": {
            "tags": [],
            "needs_background": "light"
          }
        }
      ]
    }
  ]
}