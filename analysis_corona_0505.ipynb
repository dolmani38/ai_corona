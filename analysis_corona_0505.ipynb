{
  "nbformat": 4,
  "nbformat_minor": 0,
  "metadata": {
    "kernelspec": {
      "display_name": "Python 3",
      "language": "python",
      "name": "python3"
    },
    "language_info": {
      "codemirror_mode": {
        "name": "ipython",
        "version": 3
      },
      "file_extension": ".py",
      "mimetype": "text/x-python",
      "name": "python",
      "nbconvert_exporter": "python",
      "pygments_lexer": "ipython3",
      "version": "3.6.8"
    },
    "colab": {
      "name": "analysis_corona_0505.ipynb",
      "provenance": [],
      "machine_shape": "hm",
      "include_colab_link": true
    }
  },
  "cells": [
    {
      "cell_type": "markdown",
      "metadata": {
        "id": "view-in-github",
        "colab_type": "text"
      },
      "source": [
        "<a href=\"https://colab.research.google.com/github/dolmani38/ai_corona/blob/master/analysis_corona_0505.ipynb\" target=\"_parent\"><img src=\"https://colab.research.google.com/assets/colab-badge.svg\" alt=\"Open In Colab\"/></a>"
      ]
    },
    {
      "cell_type": "code",
      "metadata": {
        "id": "JPRa4wkjmBFd",
        "colab_type": "code",
        "outputId": "91195e7f-b7bb-4e72-b596-8d7adb4af123",
        "colab": {
          "base_uri": "https://localhost:8080/",
          "height": 34
        }
      },
      "source": [
        "# 1. Forecast with numeric timeseries data\n",
        "# 1.1 Roaming Data의 load\n",
        "\n",
        "import pandas as pd\n",
        "import numpy as np\n",
        "import matplotlib.pyplot as plt\n",
        "\n",
        "import keras\n",
        "# custom R2-score metrics for keras backend\n",
        "from keras import backend as K\n",
        "\n",
        "def r2(y_true, y_pred):\n",
        "    SS_res =  K.sum(K.square(y_true - y_pred)) \n",
        "    SS_tot = K.sum(K.square(y_true - K.mean(y_true))) \n",
        "    return ( 1 - SS_res/(SS_tot + K.epsilon()) )\n",
        "\n",
        "def plot_mae(hist):\n",
        "    plt.plot(hist.history['mae'])\n",
        "    plt.title('mean_absolute_error')\n",
        "    plt.ylabel('mae')\n",
        "    plt.xlabel('Epoch')\n",
        "    plt.legend(['mae'], loc='upper right')\n",
        "    plt.show()\n",
        "\n",
        "def plot_r2(hist):\n",
        "    plt.plot(hist.history['r2'])\n",
        "    plt.title('R square')\n",
        "    plt.ylabel('R^2')\n",
        "    plt.xlabel('Epoch')\n",
        "    #plt.legend(['mae'], loc='upper right')\n",
        "    plt.show()\n",
        "\n",
        "def compare_backdata(predit_y):\n",
        "    predit = []\n",
        "    for forecast in range(forecast_days):\n",
        "        predit.append(list(np.concatenate((np.zeros(window+ forecast), predit_y[:,forecast],np.zeros(forecast_days-forecast-1)), axis=0)))\n",
        "    # 예측치를 chart에 같이 그려서 확인\n",
        "    comp_ds = raw_ds.copy()\n",
        "    comp_ds['predict_arrival_1'] = predit[0]\n",
        "    comp_ds['predict_arrival_15'] = predit[14]\n",
        "    comp_ds.plot(y=['total','predict_arrival_1','predict_arrival_15'],figsize=(16,8))\n",
        "\n",
        "def display_result(predit_y):\n",
        "    predic_ds = []\n",
        "    # 로밍등록자는 실 입국자의 약 24%에 해당되므로.. 이를 보정 처리 한다.\n",
        "    #predit_y1 = predit_y * 100/24\n",
        "    from datetime import datetime, timedelta\n",
        "    last_date = raw_ds.index[-1]\n",
        "    for predict_count in predit_y[0]:\n",
        "        last_date += timedelta(days=1)\n",
        "        predic_ds.append({'date':last_date,'roaming register forecate':predict_count, 'immigrantion forecast':int(predict_count * 100/24)})\n",
        "    predic_ds = pd.DataFrame(predic_ds)\n",
        "    predic_ds.plot(x='date',y='immigrantion forecast',kind='bar')\n",
        "    return predic_ds\n",
        "\n",
        "class VerboseCallback(keras.callbacks.Callback):\n",
        "    def __init__(self,epoch):\n",
        "        self.epoch = epoch\n",
        "        self.progress(\"learning:\",0,[])\n",
        "        \n",
        "    def progress(self,text,current=0,log=None):\n",
        "        pg = ['=' for i in range(current)] + ['.' for i in range(self.epoch-current)]\n",
        "        print(\"\\r\" + str(text) + \"[{}] {}/{} {}\".format(''.join(pg),current,self.epoch, ('' if log is None else log)), end=\"\", flush=True)\n",
        "        if self.epoch-current == 0:\n",
        "            print(\"\")        \n",
        "            \n",
        "    def on_epoch_end(self, epoch, logs=None):\n",
        "        self.progress(\"learning:\",epoch+1,logs)\n",
        "\n"
      ],
      "execution_count": 1,
      "outputs": [
        {
          "output_type": "stream",
          "text": [
            "Using TensorFlow backend.\n"
          ],
          "name": "stderr"
        }
      ]
    },
    {
      "cell_type": "code",
      "metadata": {
        "id": "QHy9ALDgmBGB",
        "colab_type": "code",
        "outputId": "7cb72a65-9126-4ce3-850f-52d7d4fa13d0",
        "colab": {
          "base_uri": "https://localhost:8080/",
          "height": 407
        }
      },
      "source": [
        "#공개된 Roaming Dataset을 읽고, 중간 중간 나온것을 합친다.\n",
        "rm1 = pd.read_csv(\"https://raw.githubusercontent.com/dolmani38/ai_corona/master/corona_contest_data_0406/Roaming_data.csv\",encoding=\"utf-8\")\n",
        "rm2 = pd.read_csv(\"https://raw.githubusercontent.com/dolmani38/ai_corona/master/corona_contest_data_0429/Roaming_data.csv\",encoding=\"utf-8\")\n",
        "rm = pd.concat([rm1, rm2], ignore_index=True, sort=False)\n",
        "\n",
        "# 합친 Dataset의 내용 확인\n",
        "rm"
      ],
      "execution_count": 2,
      "outputs": [
        {
          "output_type": "execute_result",
          "data": {
            "text/html": [
              "<div>\n",
              "<style scoped>\n",
              "    .dataframe tbody tr th:only-of-type {\n",
              "        vertical-align: middle;\n",
              "    }\n",
              "\n",
              "    .dataframe tbody tr th {\n",
              "        vertical-align: top;\n",
              "    }\n",
              "\n",
              "    .dataframe thead th {\n",
              "        text-align: right;\n",
              "    }\n",
              "</style>\n",
              "<table border=\"1\" class=\"dataframe\">\n",
              "  <thead>\n",
              "    <tr style=\"text-align: right;\">\n",
              "      <th></th>\n",
              "      <th>return</th>\n",
              "      <th>iso</th>\n",
              "      <th>arrival</th>\n",
              "      <th>departure</th>\n",
              "      <th>count</th>\n",
              "    </tr>\n",
              "  </thead>\n",
              "  <tbody>\n",
              "    <tr>\n",
              "      <th>0</th>\n",
              "      <td>20200131</td>\n",
              "      <td>ad</td>\n",
              "      <td>20200130</td>\n",
              "      <td>20200130</td>\n",
              "      <td>3</td>\n",
              "    </tr>\n",
              "    <tr>\n",
              "      <th>1</th>\n",
              "      <td>20200131</td>\n",
              "      <td>ae</td>\n",
              "      <td>20191231</td>\n",
              "      <td>20200125</td>\n",
              "      <td>3</td>\n",
              "    </tr>\n",
              "    <tr>\n",
              "      <th>2</th>\n",
              "      <td>20200131</td>\n",
              "      <td>ae</td>\n",
              "      <td>20191231</td>\n",
              "      <td>20200131</td>\n",
              "      <td>3</td>\n",
              "    </tr>\n",
              "    <tr>\n",
              "      <th>3</th>\n",
              "      <td>20200131</td>\n",
              "      <td>ae</td>\n",
              "      <td>20200102</td>\n",
              "      <td>20200102</td>\n",
              "      <td>3</td>\n",
              "    </tr>\n",
              "    <tr>\n",
              "      <th>4</th>\n",
              "      <td>20200131</td>\n",
              "      <td>ae</td>\n",
              "      <td>20200104</td>\n",
              "      <td>20200131</td>\n",
              "      <td>3</td>\n",
              "    </tr>\n",
              "    <tr>\n",
              "      <th>...</th>\n",
              "      <td>...</td>\n",
              "      <td>...</td>\n",
              "      <td>...</td>\n",
              "      <td>...</td>\n",
              "      <td>...</td>\n",
              "    </tr>\n",
              "    <tr>\n",
              "      <th>217800</th>\n",
              "      <td>20200401</td>\n",
              "      <td>vn</td>\n",
              "      <td>20200330</td>\n",
              "      <td>20200401</td>\n",
              "      <td>3</td>\n",
              "    </tr>\n",
              "    <tr>\n",
              "      <th>217801</th>\n",
              "      <td>20200401</td>\n",
              "      <td>vn</td>\n",
              "      <td>20200331</td>\n",
              "      <td>20200331</td>\n",
              "      <td>20</td>\n",
              "    </tr>\n",
              "    <tr>\n",
              "      <th>217802</th>\n",
              "      <td>20200401</td>\n",
              "      <td>vn</td>\n",
              "      <td>20200331</td>\n",
              "      <td>20200401</td>\n",
              "      <td>6</td>\n",
              "    </tr>\n",
              "    <tr>\n",
              "      <th>217803</th>\n",
              "      <td>20200401</td>\n",
              "      <td>vn</td>\n",
              "      <td>20200401</td>\n",
              "      <td>20200401</td>\n",
              "      <td>45</td>\n",
              "    </tr>\n",
              "    <tr>\n",
              "      <th>217804</th>\n",
              "      <td>20200401</td>\n",
              "      <td>zm</td>\n",
              "      <td>20200331</td>\n",
              "      <td>20200331</td>\n",
              "      <td>3</td>\n",
              "    </tr>\n",
              "  </tbody>\n",
              "</table>\n",
              "<p>217805 rows × 5 columns</p>\n",
              "</div>"
            ],
            "text/plain": [
              "          return iso   arrival  departure  count\n",
              "0       20200131  ad  20200130   20200130      3\n",
              "1       20200131  ae  20191231   20200125      3\n",
              "2       20200131  ae  20191231   20200131      3\n",
              "3       20200131  ae  20200102   20200102      3\n",
              "4       20200131  ae  20200104   20200131      3\n",
              "...          ...  ..       ...        ...    ...\n",
              "217800  20200401  vn  20200330   20200401      3\n",
              "217801  20200401  vn  20200331   20200331     20\n",
              "217802  20200401  vn  20200331   20200401      6\n",
              "217803  20200401  vn  20200401   20200401     45\n",
              "217804  20200401  zm  20200331   20200331      3\n",
              "\n",
              "[217805 rows x 5 columns]"
            ]
          },
          "metadata": {
            "tags": []
          },
          "execution_count": 2
        }
      ]
    },
    {
      "cell_type": "code",
      "metadata": {
        "id": "uGiXRQLBmBGI",
        "colab_type": "code",
        "outputId": "992b9ef0-42f9-43fc-e38f-5be9068c2ab9",
        "colab": {
          "base_uri": "https://localhost:8080/",
          "height": 437
        }
      },
      "source": [
        "# 1.2 Roaming Data에 대한 EDA\n",
        "# 1.2.1 도착일을 기준으로 입국자(로밍등록자)의 합산\n",
        "\n",
        "ar = pd.DataFrame(rm.groupby('arrival')['count'].sum())\n",
        "ar['date'] =  ar.index.astype('object')\n",
        "#date column을 datetime 으로 casting 한다.\n",
        "ar['date'] =  pd.to_datetime(ar['date'], format='%Y%m%d')\n",
        "\n",
        "# 날자별 입국자(로밍등록자) 정리 dataset 확인\n",
        "ar"
      ],
      "execution_count": 3,
      "outputs": [
        {
          "output_type": "execute_result",
          "data": {
            "text/html": [
              "<div>\n",
              "<style scoped>\n",
              "    .dataframe tbody tr th:only-of-type {\n",
              "        vertical-align: middle;\n",
              "    }\n",
              "\n",
              "    .dataframe tbody tr th {\n",
              "        vertical-align: top;\n",
              "    }\n",
              "\n",
              "    .dataframe thead th {\n",
              "        text-align: right;\n",
              "    }\n",
              "</style>\n",
              "<table border=\"1\" class=\"dataframe\">\n",
              "  <thead>\n",
              "    <tr style=\"text-align: right;\">\n",
              "      <th></th>\n",
              "      <th>count</th>\n",
              "      <th>date</th>\n",
              "    </tr>\n",
              "    <tr>\n",
              "      <th>arrival</th>\n",
              "      <th></th>\n",
              "      <th></th>\n",
              "    </tr>\n",
              "  </thead>\n",
              "  <tbody>\n",
              "    <tr>\n",
              "      <th>20191031</th>\n",
              "      <td>91</td>\n",
              "      <td>2019-10-31</td>\n",
              "    </tr>\n",
              "    <tr>\n",
              "      <th>20191101</th>\n",
              "      <td>36</td>\n",
              "      <td>2019-11-01</td>\n",
              "    </tr>\n",
              "    <tr>\n",
              "      <th>20191102</th>\n",
              "      <td>120</td>\n",
              "      <td>2019-11-02</td>\n",
              "    </tr>\n",
              "    <tr>\n",
              "      <th>20191103</th>\n",
              "      <td>159</td>\n",
              "      <td>2019-11-03</td>\n",
              "    </tr>\n",
              "    <tr>\n",
              "      <th>20191104</th>\n",
              "      <td>179</td>\n",
              "      <td>2019-11-04</td>\n",
              "    </tr>\n",
              "    <tr>\n",
              "      <th>...</th>\n",
              "      <td>...</td>\n",
              "      <td>...</td>\n",
              "    </tr>\n",
              "    <tr>\n",
              "      <th>20200424</th>\n",
              "      <td>711</td>\n",
              "      <td>2020-04-24</td>\n",
              "    </tr>\n",
              "    <tr>\n",
              "      <th>20200425</th>\n",
              "      <td>463</td>\n",
              "      <td>2020-04-25</td>\n",
              "    </tr>\n",
              "    <tr>\n",
              "      <th>20200426</th>\n",
              "      <td>447</td>\n",
              "      <td>2020-04-26</td>\n",
              "    </tr>\n",
              "    <tr>\n",
              "      <th>20200427</th>\n",
              "      <td>315</td>\n",
              "      <td>2020-04-27</td>\n",
              "    </tr>\n",
              "    <tr>\n",
              "      <th>20200428</th>\n",
              "      <td>251</td>\n",
              "      <td>2020-04-28</td>\n",
              "    </tr>\n",
              "  </tbody>\n",
              "</table>\n",
              "<p>181 rows × 2 columns</p>\n",
              "</div>"
            ],
            "text/plain": [
              "          count       date\n",
              "arrival                   \n",
              "20191031     91 2019-10-31\n",
              "20191101     36 2019-11-01\n",
              "20191102    120 2019-11-02\n",
              "20191103    159 2019-11-03\n",
              "20191104    179 2019-11-04\n",
              "...         ...        ...\n",
              "20200424    711 2020-04-24\n",
              "20200425    463 2020-04-25\n",
              "20200426    447 2020-04-26\n",
              "20200427    315 2020-04-27\n",
              "20200428    251 2020-04-28\n",
              "\n",
              "[181 rows x 2 columns]"
            ]
          },
          "metadata": {
            "tags": []
          },
          "execution_count": 3
        }
      ]
    },
    {
      "cell_type": "code",
      "metadata": {
        "id": "lc7yrTKFmBGN",
        "colab_type": "code",
        "outputId": "571d26c9-4f17-4fd5-c8da-0d15b5fe5bbf",
        "colab": {
          "base_uri": "https://localhost:8080/",
          "height": 308
        }
      },
      "source": [
        "# 1.2.2 입국자(로밍등록자) 추세 chart 확인\n",
        "ar.plot(x='date',y='count')"
      ],
      "execution_count": 4,
      "outputs": [
        {
          "output_type": "execute_result",
          "data": {
            "text/plain": [
              "<matplotlib.axes._subplots.AxesSubplot at 0x7f9ed8b23c88>"
            ]
          },
          "metadata": {
            "tags": []
          },
          "execution_count": 4
        },
        {
          "output_type": "display_data",
          "data": {
            "image/png": "[encoded data removed]",
            "text/plain": [
              "<Figure size 432x288 with 1 Axes>"
            ]
          },
          "metadata": {
            "tags": [],
            "needs_background": "light"
          }
        }
      ]
    },
    {
      "cell_type": "code",
      "metadata": {
        "id": "qWaXh-0gmBGS",
        "colab_type": "code",
        "outputId": "f6352888-be26-4ac9-8104-5c776c920ed4",
        "colab": {
          "base_uri": "https://localhost:8080/",
          "height": 623
        }
      },
      "source": [
        "# 1.3 Roaming Data의 전처리\n",
        "# 1.3.1 iso 별로 재배열\n",
        "\n",
        "ar_iso = pd.DataFrame(rm.groupby(['arrival','iso'])['count'].sum())\n",
        "rows = []\n",
        "date = None\n",
        "r = None\n",
        "for row in ar_iso.iterrows():\n",
        "    if date == row[0][0]:\n",
        "        pass\n",
        "    else:\n",
        "        if not r is None:\n",
        "            rows.append(r)\n",
        "        r = {}\n",
        "    r['arrival'] = row[0][0]\n",
        "    r[row[0][1]] = row[1][0]\n",
        "    date = row[0][0]\n",
        "rows.append(r)\n",
        "ds_iso = pd.DataFrame(rows)\n",
        "ds_iso.fillna(0, inplace=True)\n",
        "ds_iso = ds_iso.set_index('arrival')\n",
        "ds_iso['total'] = ar['count']\n",
        "ds_iso.index =  ds_iso.index.astype('object')\n",
        "#index을 datetime 으로 casting 한다.\n",
        "ds_iso.index =  pd.to_datetime(ds_iso.index, format='%Y%m%d')\n",
        "ds_iso"
      ],
      "execution_count": 5,
      "outputs": [
        {
          "output_type": "execute_result",
          "data": {
            "text/html": [
              "<div>\n",
              "<style scoped>\n",
              "    .dataframe tbody tr th:only-of-type {\n",
              "        vertical-align: middle;\n",
              "    }\n",
              "\n",
              "    .dataframe tbody tr th {\n",
              "        vertical-align: top;\n",
              "    }\n",
              "\n",
              "    .dataframe thead th {\n",
              "        text-align: right;\n",
              "    }\n",
              "</style>\n",
              "<table border=\"1\" class=\"dataframe\">\n",
              "  <thead>\n",
              "    <tr style=\"text-align: right;\">\n",
              "      <th></th>\n",
              "      <th>ae</th>\n",
              "      <th>at</th>\n",
              "      <th>cn</th>\n",
              "      <th>de</th>\n",
              "      <th>hk</th>\n",
              "      <th>jp</th>\n",
              "      <th>kh</th>\n",
              "      <th>kw</th>\n",
              "      <th>la</th>\n",
              "      <th>mm</th>\n",
              "      <th>my</th>\n",
              "      <th>no</th>\n",
              "      <th>pe</th>\n",
              "      <th>ph</th>\n",
              "      <th>pl</th>\n",
              "      <th>th</th>\n",
              "      <th>us</th>\n",
              "      <th>vn</th>\n",
              "      <th>hu</th>\n",
              "      <th>ma</th>\n",
              "      <th>mn</th>\n",
              "      <th>au</th>\n",
              "      <th>ch</th>\n",
              "      <th>fr</th>\n",
              "      <th>gb</th>\n",
              "      <th>in</th>\n",
              "      <th>iq</th>\n",
              "      <th>lk</th>\n",
              "      <th>qa</th>\n",
              "      <th>sg</th>\n",
              "      <th>uz</th>\n",
              "      <th>cz</th>\n",
              "      <th>dk</th>\n",
              "      <th>es</th>\n",
              "      <th>fi</th>\n",
              "      <th>id</th>\n",
              "      <th>nz</th>\n",
              "      <th>ru</th>\n",
              "      <th>sa</th>\n",
              "      <th>sk</th>\n",
              "      <th>...</th>\n",
              "      <th>tp</th>\n",
              "      <th>vu</th>\n",
              "      <th>zw</th>\n",
              "      <th>rs</th>\n",
              "      <th>tk</th>\n",
              "      <th>ug</th>\n",
              "      <th>bz</th>\n",
              "      <th>bo</th>\n",
              "      <th>cy</th>\n",
              "      <th>na</th>\n",
              "      <th>pg</th>\n",
              "      <th>rw</th>\n",
              "      <th>bt</th>\n",
              "      <th>lr</th>\n",
              "      <th>mz</th>\n",
              "      <th>pr</th>\n",
              "      <th>tg</th>\n",
              "      <th>mk</th>\n",
              "      <th>an</th>\n",
              "      <th>cv</th>\n",
              "      <th>tt</th>\n",
              "      <th>md</th>\n",
              "      <th>ad</th>\n",
              "      <th>ga</th>\n",
              "      <th>gn</th>\n",
              "      <th>re</th>\n",
              "      <th>ky</th>\n",
              "      <th>bf</th>\n",
              "      <th>bj</th>\n",
              "      <th>cf</th>\n",
              "      <th>tc</th>\n",
              "      <th>ls</th>\n",
              "      <th>td</th>\n",
              "      <th>mr</th>\n",
              "      <th>to</th>\n",
              "      <th>ws</th>\n",
              "      <th>gm</th>\n",
              "      <th>ye</th>\n",
              "      <th>ml</th>\n",
              "      <th>total</th>\n",
              "    </tr>\n",
              "    <tr>\n",
              "      <th>arrival</th>\n",
              "      <th></th>\n",
              "      <th></th>\n",
              "      <th></th>\n",
              "      <th></th>\n",
              "      <th></th>\n",
              "      <th></th>\n",
              "      <th></th>\n",
              "      <th></th>\n",
              "      <th></th>\n",
              "      <th></th>\n",
              "      <th></th>\n",
              "      <th></th>\n",
              "      <th></th>\n",
              "      <th></th>\n",
              "      <th></th>\n",
              "      <th></th>\n",
              "      <th></th>\n",
              "      <th></th>\n",
              "      <th></th>\n",
              "      <th></th>\n",
              "      <th></th>\n",
              "      <th></th>\n",
              "      <th></th>\n",
              "      <th></th>\n",
              "      <th></th>\n",
              "      <th></th>\n",
              "      <th></th>\n",
              "      <th></th>\n",
              "      <th></th>\n",
              "      <th></th>\n",
              "      <th></th>\n",
              "      <th></th>\n",
              "      <th></th>\n",
              "      <th></th>\n",
              "      <th></th>\n",
              "      <th></th>\n",
              "      <th></th>\n",
              "      <th></th>\n",
              "      <th></th>\n",
              "      <th></th>\n",
              "      <th></th>\n",
              "      <th></th>\n",
              "      <th></th>\n",
              "      <th></th>\n",
              "      <th></th>\n",
              "      <th></th>\n",
              "      <th></th>\n",
              "      <th></th>\n",
              "      <th></th>\n",
              "      <th></th>\n",
              "      <th></th>\n",
              "      <th></th>\n",
              "      <th></th>\n",
              "      <th></th>\n",
              "      <th></th>\n",
              "      <th></th>\n",
              "      <th></th>\n",
              "      <th></th>\n",
              "      <th></th>\n",
              "      <th></th>\n",
              "      <th></th>\n",
              "      <th></th>\n",
              "      <th></th>\n",
              "      <th></th>\n",
              "      <th></th>\n",
              "      <th></th>\n",
              "      <th></th>\n",
              "      <th></th>\n",
              "      <th></th>\n",
              "      <th></th>\n",
              "      <th></th>\n",
              "      <th></th>\n",
              "      <th></th>\n",
              "      <th></th>\n",
              "      <th></th>\n",
              "      <th></th>\n",
              "      <th></th>\n",
              "      <th></th>\n",
              "      <th></th>\n",
              "      <th></th>\n",
              "      <th></th>\n",
              "    </tr>\n",
              "  </thead>\n",
              "  <tbody>\n",
              "    <tr>\n",
              "      <th>2019-10-31</th>\n",
              "      <td>3.0</td>\n",
              "      <td>3.0</td>\n",
              "      <td>20</td>\n",
              "      <td>3.0</td>\n",
              "      <td>6.0</td>\n",
              "      <td>6</td>\n",
              "      <td>3.0</td>\n",
              "      <td>3.0</td>\n",
              "      <td>3.0</td>\n",
              "      <td>3.0</td>\n",
              "      <td>3.0</td>\n",
              "      <td>3.0</td>\n",
              "      <td>3.0</td>\n",
              "      <td>3.0</td>\n",
              "      <td>3.0</td>\n",
              "      <td>8</td>\n",
              "      <td>12.0</td>\n",
              "      <td>3.0</td>\n",
              "      <td>0.0</td>\n",
              "      <td>0.0</td>\n",
              "      <td>0.0</td>\n",
              "      <td>0.0</td>\n",
              "      <td>0.0</td>\n",
              "      <td>0.0</td>\n",
              "      <td>0.0</td>\n",
              "      <td>0.0</td>\n",
              "      <td>0.0</td>\n",
              "      <td>0.0</td>\n",
              "      <td>0.0</td>\n",
              "      <td>0.0</td>\n",
              "      <td>0.0</td>\n",
              "      <td>0.0</td>\n",
              "      <td>0.0</td>\n",
              "      <td>0.0</td>\n",
              "      <td>0.0</td>\n",
              "      <td>0.0</td>\n",
              "      <td>0.0</td>\n",
              "      <td>0.0</td>\n",
              "      <td>0.0</td>\n",
              "      <td>0.0</td>\n",
              "      <td>...</td>\n",
              "      <td>0.0</td>\n",
              "      <td>0.0</td>\n",
              "      <td>0.0</td>\n",
              "      <td>0.0</td>\n",
              "      <td>0.0</td>\n",
              "      <td>0.0</td>\n",
              "      <td>0.0</td>\n",
              "      <td>0.0</td>\n",
              "      <td>0.0</td>\n",
              "      <td>0.0</td>\n",
              "      <td>0.0</td>\n",
              "      <td>0.0</td>\n",
              "      <td>0.0</td>\n",
              "      <td>0.0</td>\n",
              "      <td>0.0</td>\n",
              "      <td>0.0</td>\n",
              "      <td>0.0</td>\n",
              "      <td>0.0</td>\n",
              "      <td>0.0</td>\n",
              "      <td>0.0</td>\n",
              "      <td>0.0</td>\n",
              "      <td>0.0</td>\n",
              "      <td>0.0</td>\n",
              "      <td>0.0</td>\n",
              "      <td>0.0</td>\n",
              "      <td>0.0</td>\n",
              "      <td>0.0</td>\n",
              "      <td>0.0</td>\n",
              "      <td>0.0</td>\n",
              "      <td>0.0</td>\n",
              "      <td>0.0</td>\n",
              "      <td>0.0</td>\n",
              "      <td>0.0</td>\n",
              "      <td>0.0</td>\n",
              "      <td>0.0</td>\n",
              "      <td>0.0</td>\n",
              "      <td>0.0</td>\n",
              "      <td>0.0</td>\n",
              "      <td>0.0</td>\n",
              "      <td>91</td>\n",
              "    </tr>\n",
              "    <tr>\n",
              "      <th>2019-11-01</th>\n",
              "      <td>0.0</td>\n",
              "      <td>0.0</td>\n",
              "      <td>6</td>\n",
              "      <td>3.0</td>\n",
              "      <td>0.0</td>\n",
              "      <td>3</td>\n",
              "      <td>3.0</td>\n",
              "      <td>0.0</td>\n",
              "      <td>0.0</td>\n",
              "      <td>3.0</td>\n",
              "      <td>0.0</td>\n",
              "      <td>0.0</td>\n",
              "      <td>0.0</td>\n",
              "      <td>0.0</td>\n",
              "      <td>0.0</td>\n",
              "      <td>9</td>\n",
              "      <td>0.0</td>\n",
              "      <td>0.0</td>\n",
              "      <td>3.0</td>\n",
              "      <td>3.0</td>\n",
              "      <td>3.0</td>\n",
              "      <td>0.0</td>\n",
              "      <td>0.0</td>\n",
              "      <td>0.0</td>\n",
              "      <td>0.0</td>\n",
              "      <td>0.0</td>\n",
              "      <td>0.0</td>\n",
              "      <td>0.0</td>\n",
              "      <td>0.0</td>\n",
              "      <td>0.0</td>\n",
              "      <td>0.0</td>\n",
              "      <td>0.0</td>\n",
              "      <td>0.0</td>\n",
              "      <td>0.0</td>\n",
              "      <td>0.0</td>\n",
              "      <td>0.0</td>\n",
              "      <td>0.0</td>\n",
              "      <td>0.0</td>\n",
              "      <td>0.0</td>\n",
              "      <td>0.0</td>\n",
              "      <td>...</td>\n",
              "      <td>0.0</td>\n",
              "      <td>0.0</td>\n",
              "      <td>0.0</td>\n",
              "      <td>0.0</td>\n",
              "      <td>0.0</td>\n",
              "      <td>0.0</td>\n",
              "      <td>0.0</td>\n",
              "      <td>0.0</td>\n",
              "      <td>0.0</td>\n",
              "      <td>0.0</td>\n",
              "      <td>0.0</td>\n",
              "      <td>0.0</td>\n",
              "      <td>0.0</td>\n",
              "      <td>0.0</td>\n",
              "      <td>0.0</td>\n",
              "      <td>0.0</td>\n",
              "      <td>0.0</td>\n",
              "      <td>0.0</td>\n",
              "      <td>0.0</td>\n",
              "      <td>0.0</td>\n",
              "      <td>0.0</td>\n",
              "      <td>0.0</td>\n",
              "      <td>0.0</td>\n",
              "      <td>0.0</td>\n",
              "      <td>0.0</td>\n",
              "      <td>0.0</td>\n",
              "      <td>0.0</td>\n",
              "      <td>0.0</td>\n",
              "      <td>0.0</td>\n",
              "      <td>0.0</td>\n",
              "      <td>0.0</td>\n",
              "      <td>0.0</td>\n",
              "      <td>0.0</td>\n",
              "      <td>0.0</td>\n",
              "      <td>0.0</td>\n",
              "      <td>0.0</td>\n",
              "      <td>0.0</td>\n",
              "      <td>0.0</td>\n",
              "      <td>0.0</td>\n",
              "      <td>36</td>\n",
              "    </tr>\n",
              "    <tr>\n",
              "      <th>2019-11-02</th>\n",
              "      <td>0.0</td>\n",
              "      <td>0.0</td>\n",
              "      <td>26</td>\n",
              "      <td>6.0</td>\n",
              "      <td>3.0</td>\n",
              "      <td>9</td>\n",
              "      <td>3.0</td>\n",
              "      <td>0.0</td>\n",
              "      <td>0.0</td>\n",
              "      <td>0.0</td>\n",
              "      <td>0.0</td>\n",
              "      <td>0.0</td>\n",
              "      <td>0.0</td>\n",
              "      <td>3.0</td>\n",
              "      <td>0.0</td>\n",
              "      <td>6</td>\n",
              "      <td>19.0</td>\n",
              "      <td>3.0</td>\n",
              "      <td>0.0</td>\n",
              "      <td>0.0</td>\n",
              "      <td>0.0</td>\n",
              "      <td>6.0</td>\n",
              "      <td>3.0</td>\n",
              "      <td>6.0</td>\n",
              "      <td>3.0</td>\n",
              "      <td>6.0</td>\n",
              "      <td>3.0</td>\n",
              "      <td>3.0</td>\n",
              "      <td>3.0</td>\n",
              "      <td>3.0</td>\n",
              "      <td>3.0</td>\n",
              "      <td>0.0</td>\n",
              "      <td>0.0</td>\n",
              "      <td>0.0</td>\n",
              "      <td>0.0</td>\n",
              "      <td>0.0</td>\n",
              "      <td>0.0</td>\n",
              "      <td>0.0</td>\n",
              "      <td>0.0</td>\n",
              "      <td>0.0</td>\n",
              "      <td>...</td>\n",
              "      <td>0.0</td>\n",
              "      <td>0.0</td>\n",
              "      <td>0.0</td>\n",
              "      <td>0.0</td>\n",
              "      <td>0.0</td>\n",
              "      <td>0.0</td>\n",
              "      <td>0.0</td>\n",
              "      <td>0.0</td>\n",
              "      <td>0.0</td>\n",
              "      <td>0.0</td>\n",
              "      <td>0.0</td>\n",
              "      <td>0.0</td>\n",
              "      <td>0.0</td>\n",
              "      <td>0.0</td>\n",
              "      <td>0.0</td>\n",
              "      <td>0.0</td>\n",
              "      <td>0.0</td>\n",
              "      <td>0.0</td>\n",
              "      <td>0.0</td>\n",
              "      <td>0.0</td>\n",
              "      <td>0.0</td>\n",
              "      <td>0.0</td>\n",
              "      <td>0.0</td>\n",
              "      <td>0.0</td>\n",
              "      <td>0.0</td>\n",
              "      <td>0.0</td>\n",
              "      <td>0.0</td>\n",
              "      <td>0.0</td>\n",
              "      <td>0.0</td>\n",
              "      <td>0.0</td>\n",
              "      <td>0.0</td>\n",
              "      <td>0.0</td>\n",
              "      <td>0.0</td>\n",
              "      <td>0.0</td>\n",
              "      <td>0.0</td>\n",
              "      <td>0.0</td>\n",
              "      <td>0.0</td>\n",
              "      <td>0.0</td>\n",
              "      <td>0.0</td>\n",
              "      <td>120</td>\n",
              "    </tr>\n",
              "    <tr>\n",
              "      <th>2019-11-03</th>\n",
              "      <td>3.0</td>\n",
              "      <td>3.0</td>\n",
              "      <td>30</td>\n",
              "      <td>0.0</td>\n",
              "      <td>12.0</td>\n",
              "      <td>14</td>\n",
              "      <td>0.0</td>\n",
              "      <td>0.0</td>\n",
              "      <td>0.0</td>\n",
              "      <td>0.0</td>\n",
              "      <td>3.0</td>\n",
              "      <td>0.0</td>\n",
              "      <td>0.0</td>\n",
              "      <td>3.0</td>\n",
              "      <td>3.0</td>\n",
              "      <td>13</td>\n",
              "      <td>21.0</td>\n",
              "      <td>6.0</td>\n",
              "      <td>3.0</td>\n",
              "      <td>0.0</td>\n",
              "      <td>0.0</td>\n",
              "      <td>0.0</td>\n",
              "      <td>3.0</td>\n",
              "      <td>0.0</td>\n",
              "      <td>6.0</td>\n",
              "      <td>3.0</td>\n",
              "      <td>0.0</td>\n",
              "      <td>0.0</td>\n",
              "      <td>0.0</td>\n",
              "      <td>0.0</td>\n",
              "      <td>0.0</td>\n",
              "      <td>3.0</td>\n",
              "      <td>3.0</td>\n",
              "      <td>3.0</td>\n",
              "      <td>3.0</td>\n",
              "      <td>3.0</td>\n",
              "      <td>3.0</td>\n",
              "      <td>9.0</td>\n",
              "      <td>3.0</td>\n",
              "      <td>3.0</td>\n",
              "      <td>...</td>\n",
              "      <td>0.0</td>\n",
              "      <td>0.0</td>\n",
              "      <td>0.0</td>\n",
              "      <td>0.0</td>\n",
              "      <td>0.0</td>\n",
              "      <td>0.0</td>\n",
              "      <td>0.0</td>\n",
              "      <td>0.0</td>\n",
              "      <td>0.0</td>\n",
              "      <td>0.0</td>\n",
              "      <td>0.0</td>\n",
              "      <td>0.0</td>\n",
              "      <td>0.0</td>\n",
              "      <td>0.0</td>\n",
              "      <td>0.0</td>\n",
              "      <td>0.0</td>\n",
              "      <td>0.0</td>\n",
              "      <td>0.0</td>\n",
              "      <td>0.0</td>\n",
              "      <td>0.0</td>\n",
              "      <td>0.0</td>\n",
              "      <td>0.0</td>\n",
              "      <td>0.0</td>\n",
              "      <td>0.0</td>\n",
              "      <td>0.0</td>\n",
              "      <td>0.0</td>\n",
              "      <td>0.0</td>\n",
              "      <td>0.0</td>\n",
              "      <td>0.0</td>\n",
              "      <td>0.0</td>\n",
              "      <td>0.0</td>\n",
              "      <td>0.0</td>\n",
              "      <td>0.0</td>\n",
              "      <td>0.0</td>\n",
              "      <td>0.0</td>\n",
              "      <td>0.0</td>\n",
              "      <td>0.0</td>\n",
              "      <td>0.0</td>\n",
              "      <td>0.0</td>\n",
              "      <td>159</td>\n",
              "    </tr>\n",
              "    <tr>\n",
              "      <th>2019-11-04</th>\n",
              "      <td>12.0</td>\n",
              "      <td>3.0</td>\n",
              "      <td>40</td>\n",
              "      <td>3.0</td>\n",
              "      <td>3.0</td>\n",
              "      <td>10</td>\n",
              "      <td>0.0</td>\n",
              "      <td>0.0</td>\n",
              "      <td>0.0</td>\n",
              "      <td>0.0</td>\n",
              "      <td>6.0</td>\n",
              "      <td>0.0</td>\n",
              "      <td>0.0</td>\n",
              "      <td>6.0</td>\n",
              "      <td>0.0</td>\n",
              "      <td>6</td>\n",
              "      <td>24.0</td>\n",
              "      <td>9.0</td>\n",
              "      <td>3.0</td>\n",
              "      <td>0.0</td>\n",
              "      <td>0.0</td>\n",
              "      <td>3.0</td>\n",
              "      <td>0.0</td>\n",
              "      <td>3.0</td>\n",
              "      <td>3.0</td>\n",
              "      <td>0.0</td>\n",
              "      <td>0.0</td>\n",
              "      <td>0.0</td>\n",
              "      <td>0.0</td>\n",
              "      <td>6.0</td>\n",
              "      <td>6.0</td>\n",
              "      <td>3.0</td>\n",
              "      <td>0.0</td>\n",
              "      <td>0.0</td>\n",
              "      <td>3.0</td>\n",
              "      <td>3.0</td>\n",
              "      <td>0.0</td>\n",
              "      <td>6.0</td>\n",
              "      <td>0.0</td>\n",
              "      <td>0.0</td>\n",
              "      <td>...</td>\n",
              "      <td>0.0</td>\n",
              "      <td>0.0</td>\n",
              "      <td>0.0</td>\n",
              "      <td>0.0</td>\n",
              "      <td>0.0</td>\n",
              "      <td>0.0</td>\n",
              "      <td>0.0</td>\n",
              "      <td>0.0</td>\n",
              "      <td>0.0</td>\n",
              "      <td>0.0</td>\n",
              "      <td>0.0</td>\n",
              "      <td>0.0</td>\n",
              "      <td>0.0</td>\n",
              "      <td>0.0</td>\n",
              "      <td>0.0</td>\n",
              "      <td>0.0</td>\n",
              "      <td>0.0</td>\n",
              "      <td>0.0</td>\n",
              "      <td>0.0</td>\n",
              "      <td>0.0</td>\n",
              "      <td>0.0</td>\n",
              "      <td>0.0</td>\n",
              "      <td>0.0</td>\n",
              "      <td>0.0</td>\n",
              "      <td>0.0</td>\n",
              "      <td>0.0</td>\n",
              "      <td>0.0</td>\n",
              "      <td>0.0</td>\n",
              "      <td>0.0</td>\n",
              "      <td>0.0</td>\n",
              "      <td>0.0</td>\n",
              "      <td>0.0</td>\n",
              "      <td>0.0</td>\n",
              "      <td>0.0</td>\n",
              "      <td>0.0</td>\n",
              "      <td>0.0</td>\n",
              "      <td>0.0</td>\n",
              "      <td>0.0</td>\n",
              "      <td>0.0</td>\n",
              "      <td>179</td>\n",
              "    </tr>\n",
              "    <tr>\n",
              "      <th>...</th>\n",
              "      <td>...</td>\n",
              "      <td>...</td>\n",
              "      <td>...</td>\n",
              "      <td>...</td>\n",
              "      <td>...</td>\n",
              "      <td>...</td>\n",
              "      <td>...</td>\n",
              "      <td>...</td>\n",
              "      <td>...</td>\n",
              "      <td>...</td>\n",
              "      <td>...</td>\n",
              "      <td>...</td>\n",
              "      <td>...</td>\n",
              "      <td>...</td>\n",
              "      <td>...</td>\n",
              "      <td>...</td>\n",
              "      <td>...</td>\n",
              "      <td>...</td>\n",
              "      <td>...</td>\n",
              "      <td>...</td>\n",
              "      <td>...</td>\n",
              "      <td>...</td>\n",
              "      <td>...</td>\n",
              "      <td>...</td>\n",
              "      <td>...</td>\n",
              "      <td>...</td>\n",
              "      <td>...</td>\n",
              "      <td>...</td>\n",
              "      <td>...</td>\n",
              "      <td>...</td>\n",
              "      <td>...</td>\n",
              "      <td>...</td>\n",
              "      <td>...</td>\n",
              "      <td>...</td>\n",
              "      <td>...</td>\n",
              "      <td>...</td>\n",
              "      <td>...</td>\n",
              "      <td>...</td>\n",
              "      <td>...</td>\n",
              "      <td>...</td>\n",
              "      <td>...</td>\n",
              "      <td>...</td>\n",
              "      <td>...</td>\n",
              "      <td>...</td>\n",
              "      <td>...</td>\n",
              "      <td>...</td>\n",
              "      <td>...</td>\n",
              "      <td>...</td>\n",
              "      <td>...</td>\n",
              "      <td>...</td>\n",
              "      <td>...</td>\n",
              "      <td>...</td>\n",
              "      <td>...</td>\n",
              "      <td>...</td>\n",
              "      <td>...</td>\n",
              "      <td>...</td>\n",
              "      <td>...</td>\n",
              "      <td>...</td>\n",
              "      <td>...</td>\n",
              "      <td>...</td>\n",
              "      <td>...</td>\n",
              "      <td>...</td>\n",
              "      <td>...</td>\n",
              "      <td>...</td>\n",
              "      <td>...</td>\n",
              "      <td>...</td>\n",
              "      <td>...</td>\n",
              "      <td>...</td>\n",
              "      <td>...</td>\n",
              "      <td>...</td>\n",
              "      <td>...</td>\n",
              "      <td>...</td>\n",
              "      <td>...</td>\n",
              "      <td>...</td>\n",
              "      <td>...</td>\n",
              "      <td>...</td>\n",
              "      <td>...</td>\n",
              "      <td>...</td>\n",
              "      <td>...</td>\n",
              "      <td>...</td>\n",
              "      <td>...</td>\n",
              "    </tr>\n",
              "    <tr>\n",
              "      <th>2020-04-24</th>\n",
              "      <td>0.0</td>\n",
              "      <td>12.0</td>\n",
              "      <td>84</td>\n",
              "      <td>34.0</td>\n",
              "      <td>19.0</td>\n",
              "      <td>157</td>\n",
              "      <td>0.0</td>\n",
              "      <td>0.0</td>\n",
              "      <td>0.0</td>\n",
              "      <td>3.0</td>\n",
              "      <td>3.0</td>\n",
              "      <td>0.0</td>\n",
              "      <td>0.0</td>\n",
              "      <td>30.0</td>\n",
              "      <td>0.0</td>\n",
              "      <td>18</td>\n",
              "      <td>62.0</td>\n",
              "      <td>44.0</td>\n",
              "      <td>6.0</td>\n",
              "      <td>0.0</td>\n",
              "      <td>3.0</td>\n",
              "      <td>3.0</td>\n",
              "      <td>0.0</td>\n",
              "      <td>9.0</td>\n",
              "      <td>12.0</td>\n",
              "      <td>6.0</td>\n",
              "      <td>0.0</td>\n",
              "      <td>0.0</td>\n",
              "      <td>0.0</td>\n",
              "      <td>6.0</td>\n",
              "      <td>6.0</td>\n",
              "      <td>0.0</td>\n",
              "      <td>6.0</td>\n",
              "      <td>3.0</td>\n",
              "      <td>0.0</td>\n",
              "      <td>28.0</td>\n",
              "      <td>0.0</td>\n",
              "      <td>10.0</td>\n",
              "      <td>0.0</td>\n",
              "      <td>0.0</td>\n",
              "      <td>...</td>\n",
              "      <td>0.0</td>\n",
              "      <td>0.0</td>\n",
              "      <td>0.0</td>\n",
              "      <td>0.0</td>\n",
              "      <td>0.0</td>\n",
              "      <td>0.0</td>\n",
              "      <td>0.0</td>\n",
              "      <td>0.0</td>\n",
              "      <td>0.0</td>\n",
              "      <td>0.0</td>\n",
              "      <td>0.0</td>\n",
              "      <td>0.0</td>\n",
              "      <td>0.0</td>\n",
              "      <td>0.0</td>\n",
              "      <td>0.0</td>\n",
              "      <td>0.0</td>\n",
              "      <td>0.0</td>\n",
              "      <td>0.0</td>\n",
              "      <td>0.0</td>\n",
              "      <td>0.0</td>\n",
              "      <td>0.0</td>\n",
              "      <td>0.0</td>\n",
              "      <td>0.0</td>\n",
              "      <td>0.0</td>\n",
              "      <td>0.0</td>\n",
              "      <td>0.0</td>\n",
              "      <td>0.0</td>\n",
              "      <td>0.0</td>\n",
              "      <td>0.0</td>\n",
              "      <td>0.0</td>\n",
              "      <td>0.0</td>\n",
              "      <td>0.0</td>\n",
              "      <td>0.0</td>\n",
              "      <td>0.0</td>\n",
              "      <td>0.0</td>\n",
              "      <td>0.0</td>\n",
              "      <td>0.0</td>\n",
              "      <td>0.0</td>\n",
              "      <td>0.0</td>\n",
              "      <td>711</td>\n",
              "    </tr>\n",
              "    <tr>\n",
              "      <th>2020-04-25</th>\n",
              "      <td>0.0</td>\n",
              "      <td>9.0</td>\n",
              "      <td>39</td>\n",
              "      <td>15.0</td>\n",
              "      <td>4.0</td>\n",
              "      <td>111</td>\n",
              "      <td>21.0</td>\n",
              "      <td>0.0</td>\n",
              "      <td>0.0</td>\n",
              "      <td>6.0</td>\n",
              "      <td>3.0</td>\n",
              "      <td>0.0</td>\n",
              "      <td>0.0</td>\n",
              "      <td>6.0</td>\n",
              "      <td>0.0</td>\n",
              "      <td>6</td>\n",
              "      <td>73.0</td>\n",
              "      <td>27.0</td>\n",
              "      <td>0.0</td>\n",
              "      <td>0.0</td>\n",
              "      <td>3.0</td>\n",
              "      <td>0.0</td>\n",
              "      <td>0.0</td>\n",
              "      <td>0.0</td>\n",
              "      <td>6.0</td>\n",
              "      <td>3.0</td>\n",
              "      <td>0.0</td>\n",
              "      <td>0.0</td>\n",
              "      <td>6.0</td>\n",
              "      <td>6.0</td>\n",
              "      <td>6.0</td>\n",
              "      <td>0.0</td>\n",
              "      <td>0.0</td>\n",
              "      <td>0.0</td>\n",
              "      <td>0.0</td>\n",
              "      <td>0.0</td>\n",
              "      <td>0.0</td>\n",
              "      <td>11.0</td>\n",
              "      <td>0.0</td>\n",
              "      <td>0.0</td>\n",
              "      <td>...</td>\n",
              "      <td>0.0</td>\n",
              "      <td>0.0</td>\n",
              "      <td>0.0</td>\n",
              "      <td>0.0</td>\n",
              "      <td>0.0</td>\n",
              "      <td>0.0</td>\n",
              "      <td>0.0</td>\n",
              "      <td>0.0</td>\n",
              "      <td>0.0</td>\n",
              "      <td>0.0</td>\n",
              "      <td>0.0</td>\n",
              "      <td>0.0</td>\n",
              "      <td>0.0</td>\n",
              "      <td>0.0</td>\n",
              "      <td>0.0</td>\n",
              "      <td>0.0</td>\n",
              "      <td>0.0</td>\n",
              "      <td>0.0</td>\n",
              "      <td>0.0</td>\n",
              "      <td>0.0</td>\n",
              "      <td>0.0</td>\n",
              "      <td>0.0</td>\n",
              "      <td>0.0</td>\n",
              "      <td>0.0</td>\n",
              "      <td>0.0</td>\n",
              "      <td>0.0</td>\n",
              "      <td>0.0</td>\n",
              "      <td>0.0</td>\n",
              "      <td>0.0</td>\n",
              "      <td>0.0</td>\n",
              "      <td>0.0</td>\n",
              "      <td>0.0</td>\n",
              "      <td>0.0</td>\n",
              "      <td>0.0</td>\n",
              "      <td>0.0</td>\n",
              "      <td>0.0</td>\n",
              "      <td>0.0</td>\n",
              "      <td>0.0</td>\n",
              "      <td>0.0</td>\n",
              "      <td>463</td>\n",
              "    </tr>\n",
              "    <tr>\n",
              "      <th>2020-04-26</th>\n",
              "      <td>0.0</td>\n",
              "      <td>0.0</td>\n",
              "      <td>42</td>\n",
              "      <td>14.0</td>\n",
              "      <td>10.0</td>\n",
              "      <td>98</td>\n",
              "      <td>6.0</td>\n",
              "      <td>0.0</td>\n",
              "      <td>0.0</td>\n",
              "      <td>0.0</td>\n",
              "      <td>3.0</td>\n",
              "      <td>0.0</td>\n",
              "      <td>0.0</td>\n",
              "      <td>12.0</td>\n",
              "      <td>0.0</td>\n",
              "      <td>3</td>\n",
              "      <td>50.0</td>\n",
              "      <td>40.0</td>\n",
              "      <td>3.0</td>\n",
              "      <td>0.0</td>\n",
              "      <td>0.0</td>\n",
              "      <td>0.0</td>\n",
              "      <td>0.0</td>\n",
              "      <td>3.0</td>\n",
              "      <td>6.0</td>\n",
              "      <td>0.0</td>\n",
              "      <td>0.0</td>\n",
              "      <td>0.0</td>\n",
              "      <td>0.0</td>\n",
              "      <td>3.0</td>\n",
              "      <td>3.0</td>\n",
              "      <td>0.0</td>\n",
              "      <td>0.0</td>\n",
              "      <td>0.0</td>\n",
              "      <td>0.0</td>\n",
              "      <td>27.0</td>\n",
              "      <td>0.0</td>\n",
              "      <td>9.0</td>\n",
              "      <td>0.0</td>\n",
              "      <td>0.0</td>\n",
              "      <td>...</td>\n",
              "      <td>0.0</td>\n",
              "      <td>0.0</td>\n",
              "      <td>0.0</td>\n",
              "      <td>0.0</td>\n",
              "      <td>0.0</td>\n",
              "      <td>0.0</td>\n",
              "      <td>0.0</td>\n",
              "      <td>0.0</td>\n",
              "      <td>0.0</td>\n",
              "      <td>0.0</td>\n",
              "      <td>0.0</td>\n",
              "      <td>0.0</td>\n",
              "      <td>0.0</td>\n",
              "      <td>0.0</td>\n",
              "      <td>0.0</td>\n",
              "      <td>0.0</td>\n",
              "      <td>0.0</td>\n",
              "      <td>0.0</td>\n",
              "      <td>0.0</td>\n",
              "      <td>0.0</td>\n",
              "      <td>0.0</td>\n",
              "      <td>0.0</td>\n",
              "      <td>0.0</td>\n",
              "      <td>0.0</td>\n",
              "      <td>0.0</td>\n",
              "      <td>0.0</td>\n",
              "      <td>0.0</td>\n",
              "      <td>0.0</td>\n",
              "      <td>0.0</td>\n",
              "      <td>0.0</td>\n",
              "      <td>0.0</td>\n",
              "      <td>0.0</td>\n",
              "      <td>0.0</td>\n",
              "      <td>0.0</td>\n",
              "      <td>0.0</td>\n",
              "      <td>0.0</td>\n",
              "      <td>0.0</td>\n",
              "      <td>0.0</td>\n",
              "      <td>0.0</td>\n",
              "      <td>447</td>\n",
              "    </tr>\n",
              "    <tr>\n",
              "      <th>2020-04-27</th>\n",
              "      <td>0.0</td>\n",
              "      <td>3.0</td>\n",
              "      <td>35</td>\n",
              "      <td>9.0</td>\n",
              "      <td>0.0</td>\n",
              "      <td>77</td>\n",
              "      <td>16.0</td>\n",
              "      <td>0.0</td>\n",
              "      <td>0.0</td>\n",
              "      <td>3.0</td>\n",
              "      <td>0.0</td>\n",
              "      <td>0.0</td>\n",
              "      <td>0.0</td>\n",
              "      <td>10.0</td>\n",
              "      <td>0.0</td>\n",
              "      <td>3</td>\n",
              "      <td>34.0</td>\n",
              "      <td>31.0</td>\n",
              "      <td>0.0</td>\n",
              "      <td>0.0</td>\n",
              "      <td>0.0</td>\n",
              "      <td>0.0</td>\n",
              "      <td>0.0</td>\n",
              "      <td>3.0</td>\n",
              "      <td>0.0</td>\n",
              "      <td>16.0</td>\n",
              "      <td>0.0</td>\n",
              "      <td>0.0</td>\n",
              "      <td>3.0</td>\n",
              "      <td>0.0</td>\n",
              "      <td>0.0</td>\n",
              "      <td>0.0</td>\n",
              "      <td>0.0</td>\n",
              "      <td>0.0</td>\n",
              "      <td>0.0</td>\n",
              "      <td>3.0</td>\n",
              "      <td>0.0</td>\n",
              "      <td>6.0</td>\n",
              "      <td>0.0</td>\n",
              "      <td>0.0</td>\n",
              "      <td>...</td>\n",
              "      <td>0.0</td>\n",
              "      <td>0.0</td>\n",
              "      <td>0.0</td>\n",
              "      <td>0.0</td>\n",
              "      <td>0.0</td>\n",
              "      <td>0.0</td>\n",
              "      <td>0.0</td>\n",
              "      <td>0.0</td>\n",
              "      <td>0.0</td>\n",
              "      <td>0.0</td>\n",
              "      <td>0.0</td>\n",
              "      <td>0.0</td>\n",
              "      <td>0.0</td>\n",
              "      <td>0.0</td>\n",
              "      <td>0.0</td>\n",
              "      <td>0.0</td>\n",
              "      <td>0.0</td>\n",
              "      <td>0.0</td>\n",
              "      <td>0.0</td>\n",
              "      <td>0.0</td>\n",
              "      <td>0.0</td>\n",
              "      <td>0.0</td>\n",
              "      <td>0.0</td>\n",
              "      <td>0.0</td>\n",
              "      <td>0.0</td>\n",
              "      <td>0.0</td>\n",
              "      <td>0.0</td>\n",
              "      <td>0.0</td>\n",
              "      <td>0.0</td>\n",
              "      <td>0.0</td>\n",
              "      <td>0.0</td>\n",
              "      <td>0.0</td>\n",
              "      <td>0.0</td>\n",
              "      <td>0.0</td>\n",
              "      <td>0.0</td>\n",
              "      <td>0.0</td>\n",
              "      <td>0.0</td>\n",
              "      <td>0.0</td>\n",
              "      <td>0.0</td>\n",
              "      <td>315</td>\n",
              "    </tr>\n",
              "    <tr>\n",
              "      <th>2020-04-28</th>\n",
              "      <td>0.0</td>\n",
              "      <td>3.0</td>\n",
              "      <td>47</td>\n",
              "      <td>3.0</td>\n",
              "      <td>15.0</td>\n",
              "      <td>46</td>\n",
              "      <td>0.0</td>\n",
              "      <td>0.0</td>\n",
              "      <td>0.0</td>\n",
              "      <td>3.0</td>\n",
              "      <td>3.0</td>\n",
              "      <td>0.0</td>\n",
              "      <td>0.0</td>\n",
              "      <td>11.0</td>\n",
              "      <td>0.0</td>\n",
              "      <td>13</td>\n",
              "      <td>13.0</td>\n",
              "      <td>25.0</td>\n",
              "      <td>0.0</td>\n",
              "      <td>0.0</td>\n",
              "      <td>0.0</td>\n",
              "      <td>0.0</td>\n",
              "      <td>0.0</td>\n",
              "      <td>0.0</td>\n",
              "      <td>0.0</td>\n",
              "      <td>0.0</td>\n",
              "      <td>0.0</td>\n",
              "      <td>0.0</td>\n",
              "      <td>0.0</td>\n",
              "      <td>3.0</td>\n",
              "      <td>0.0</td>\n",
              "      <td>0.0</td>\n",
              "      <td>3.0</td>\n",
              "      <td>0.0</td>\n",
              "      <td>0.0</td>\n",
              "      <td>0.0</td>\n",
              "      <td>0.0</td>\n",
              "      <td>6.0</td>\n",
              "      <td>0.0</td>\n",
              "      <td>0.0</td>\n",
              "      <td>...</td>\n",
              "      <td>0.0</td>\n",
              "      <td>0.0</td>\n",
              "      <td>0.0</td>\n",
              "      <td>0.0</td>\n",
              "      <td>0.0</td>\n",
              "      <td>0.0</td>\n",
              "      <td>0.0</td>\n",
              "      <td>0.0</td>\n",
              "      <td>0.0</td>\n",
              "      <td>3.0</td>\n",
              "      <td>0.0</td>\n",
              "      <td>0.0</td>\n",
              "      <td>0.0</td>\n",
              "      <td>0.0</td>\n",
              "      <td>0.0</td>\n",
              "      <td>0.0</td>\n",
              "      <td>0.0</td>\n",
              "      <td>0.0</td>\n",
              "      <td>0.0</td>\n",
              "      <td>0.0</td>\n",
              "      <td>0.0</td>\n",
              "      <td>0.0</td>\n",
              "      <td>0.0</td>\n",
              "      <td>0.0</td>\n",
              "      <td>0.0</td>\n",
              "      <td>0.0</td>\n",
              "      <td>0.0</td>\n",
              "      <td>0.0</td>\n",
              "      <td>0.0</td>\n",
              "      <td>0.0</td>\n",
              "      <td>0.0</td>\n",
              "      <td>0.0</td>\n",
              "      <td>0.0</td>\n",
              "      <td>0.0</td>\n",
              "      <td>0.0</td>\n",
              "      <td>0.0</td>\n",
              "      <td>0.0</td>\n",
              "      <td>0.0</td>\n",
              "      <td>0.0</td>\n",
              "      <td>251</td>\n",
              "    </tr>\n",
              "  </tbody>\n",
              "</table>\n",
              "<p>181 rows × 174 columns</p>\n",
              "</div>"
            ],
            "text/plain": [
              "              ae    at  cn    de    hk   jp  ...   to   ws   gm   ye   ml  total\n",
              "arrival                                      ...                                \n",
              "2019-10-31   3.0   3.0  20   3.0   6.0    6  ...  0.0  0.0  0.0  0.0  0.0     91\n",
              "2019-11-01   0.0   0.0   6   3.0   0.0    3  ...  0.0  0.0  0.0  0.0  0.0     36\n",
              "2019-11-02   0.0   0.0  26   6.0   3.0    9  ...  0.0  0.0  0.0  0.0  0.0    120\n",
              "2019-11-03   3.0   3.0  30   0.0  12.0   14  ...  0.0  0.0  0.0  0.0  0.0    159\n",
              "2019-11-04  12.0   3.0  40   3.0   3.0   10  ...  0.0  0.0  0.0  0.0  0.0    179\n",
              "...          ...   ...  ..   ...   ...  ...  ...  ...  ...  ...  ...  ...    ...\n",
              "2020-04-24   0.0  12.0  84  34.0  19.0  157  ...  0.0  0.0  0.0  0.0  0.0    711\n",
              "2020-04-25   0.0   9.0  39  15.0   4.0  111  ...  0.0  0.0  0.0  0.0  0.0    463\n",
              "2020-04-26   0.0   0.0  42  14.0  10.0   98  ...  0.0  0.0  0.0  0.0  0.0    447\n",
              "2020-04-27   0.0   3.0  35   9.0   0.0   77  ...  0.0  0.0  0.0  0.0  0.0    315\n",
              "2020-04-28   0.0   3.0  47   3.0  15.0   46  ...  0.0  0.0  0.0  0.0  0.0    251\n",
              "\n",
              "[181 rows x 174 columns]"
            ]
          },
          "metadata": {
            "tags": []
          },
          "execution_count": 5
        }
      ]
    },
    {
      "cell_type": "code",
      "metadata": {
        "id": "p5d941WsmBGY",
        "colab_type": "code",
        "outputId": "bf45aac4-539f-4c09-e4ab-906ddba43dbd",
        "colab": {
          "base_uri": "https://localhost:8080/",
          "height": 526
        }
      },
      "source": [
        "ds_iso.plot(legend=False,figsize=(16,8))"
      ],
      "execution_count": 6,
      "outputs": [
        {
          "output_type": "execute_result",
          "data": {
            "text/plain": [
              "<matplotlib.axes._subplots.AxesSubplot at 0x7f9ed95d05f8>"
            ]
          },
          "metadata": {
            "tags": []
          },
          "execution_count": 6
        },
        {
          "output_type": "display_data",
          "data": {
            "image/png": "[encoded data removed]",
            "text/plain": [
              "<Figure size 1152x576 with 1 Axes>"
            ]
          },
          "metadata": {
            "tags": [],
            "needs_background": "light"
          }
        }
      ]
    },
    {
      "cell_type": "code",
      "metadata": {
        "id": "tu7DF4SEmBGb",
        "colab_type": "code",
        "outputId": "7a1a4e57-b664-4cb6-fefb-afec4e5398f2",
        "colab": {
          "base_uri": "https://localhost:8080/",
          "height": 526
        }
      },
      "source": [
        "# 1.3.2 2주 (14일) 평균 추세 추가.\n",
        "raw_ds = ds_iso.copy()\n",
        "raw_ds['arrival_14ma'] = raw_ds['total'].rolling(window=14, min_periods=0).mean()\n",
        "raw_ds.plot(legend=False,figsize=(16,8))"
      ],
      "execution_count": 7,
      "outputs": [
        {
          "output_type": "execute_result",
          "data": {
            "text/plain": [
              "<matplotlib.axes._subplots.AxesSubplot at 0x7f9f1ab63128>"
            ]
          },
          "metadata": {
            "tags": []
          },
          "execution_count": 7
        },
        {
          "output_type": "display_data",
          "data": {
            "image/png": "[encoded data removed]",
            "text/plain": [
              "<Figure size 1152x576 with 1 Axes>"
            ]
          },
          "metadata": {
            "tags": [],
            "needs_background": "light"
          }
        }
      ]
    },
    {
      "cell_type": "code",
      "metadata": {
        "id": "b0LR0qtFmBGf",
        "colab_type": "code",
        "colab": {}
      },
      "source": [
        "# 1.3.3 Trainingset의 구성\n",
        "\n",
        "# Time-series CNN을 적용하기 위한 전처리\n",
        "# 1D Convolution을 적용하기 위해.\n",
        "\n",
        "import numpy as np\n",
        "\n",
        "# window를 30일로 설정 -> 그냥 잡은 수치\n",
        "window = 30\n",
        "#입력 feature 개수.\n",
        "size = len(raw_ds.columns) - 1 # totoal column 제외\n",
        "#향후 15일 예측\n",
        "forecast_days = 15\n",
        "\n",
        "\n",
        "train_org_y = raw_ds['total'].to_numpy()\n",
        "data = (raw_ds.drop(columns=['total'])).to_numpy()\n",
        "\n",
        "train_x = []\n",
        "train_y = []\n",
        "\n",
        "for i in range(data.shape[0]-window-forecast_days + 1):\n",
        "    sub_x = []\n",
        "    for j in range(window):\n",
        "        sub_x.append(data[i+j,:])\n",
        "    train_x.append(sub_x)\n",
        "\n",
        "    sub_y = []\n",
        "    for z in range(forecast_days):\n",
        "        sub_y.append(train_org_y[i + window + z])\n",
        "    train_y.append(sub_y)\n",
        "\n",
        "#train_x ,train_y의 준비\n",
        "train_x = np.asarray(train_x)\n",
        "train_x = train_x.reshape(-1,window,size)\n",
        "train_y = np.asarray(train_y)\n",
        "\n",
        "test_x = data[data.shape[0]-window:data.shape[0],:]"
      ],
      "execution_count": 0,
      "outputs": []
    },
    {
      "cell_type": "code",
      "metadata": {
        "id": "poDWlNfWmBGj",
        "colab_type": "code",
        "outputId": "3567c743-1430-4d47-9263-5411affa0b55",
        "colab": {
          "base_uri": "https://localhost:8080/",
          "height": 34
        }
      },
      "source": [
        "#train_x ,train_y의 내용 확인.\n",
        "train_x.shape, train_y.shape, test_x.shape"
      ],
      "execution_count": 9,
      "outputs": [
        {
          "output_type": "execute_result",
          "data": {
            "text/plain": [
              "((137, 30, 174), (137, 15), (30, 174))"
            ]
          },
          "metadata": {
            "tags": []
          },
          "execution_count": 9
        }
      ]
    },
    {
      "cell_type": "code",
      "metadata": {
        "id": "SIjqYv4SmBGn",
        "colab_type": "code",
        "outputId": "f2da342d-bebb-4194-ccf2-bb1d8f2d0e78",
        "colab": {
          "base_uri": "https://localhost:8080/",
          "height": 507
        }
      },
      "source": [
        "# 1.4 CNN model 구성 \n",
        "\n",
        "\n",
        "# 이게 최적의 layer 구성인지는 모름... 일반적/직관적으로 layer 설정 \n",
        "import keras\n",
        "from keras.layers import Dense, Activation, Flatten, Conv1D, MaxPooling1D\n",
        "from keras.models import Sequential\n",
        "\n",
        "model = Sequential()\n",
        "model.add(Conv1D(128,4, input_shape=(window, size),padding=\"same\"))\n",
        "model.add(Activation('relu'))\n",
        "model.add(MaxPooling1D(pool_size=2))\n",
        "\n",
        "model.add(Conv1D(64, 4,padding=\"same\"))\n",
        "model.add(Activation('relu'))\n",
        "model.add(MaxPooling1D(pool_size=2))\n",
        "\n",
        "#model.add(Conv1D(32, 4,padding=\"same\"))\n",
        "#model.add(Activation('relu'))\n",
        "#model.add(MaxPooling1D(pool_size=2))\n",
        "\n",
        "model.add(Flatten())\n",
        "model.add(Dense(256))\n",
        "model.add(Dense(forecast_days))\n",
        "model.add(Activation('linear'))\n",
        "\n",
        "model.compile(loss=keras.losses.mean_squared_error, optimizer=keras.optimizers.Adam(),metrics=['mae',r2])\n",
        "\n",
        "model.summary()"
      ],
      "execution_count": 10,
      "outputs": [
        {
          "output_type": "stream",
          "text": [
            "Model: \"sequential_1\"\n",
            "_________________________________________________________________\n",
            "Layer (type)                 Output Shape              Param #   \n",
            "=================================================================\n",
            "conv1d_1 (Conv1D)            (None, 30, 128)           89216     \n",
            "_________________________________________________________________\n",
            "activation_1 (Activation)    (None, 30, 128)           0         \n",
            "_________________________________________________________________\n",
            "max_pooling1d_1 (MaxPooling1 (None, 15, 128)           0         \n",
            "_________________________________________________________________\n",
            "conv1d_2 (Conv1D)            (None, 15, 64)            32832     \n",
            "_________________________________________________________________\n",
            "activation_2 (Activation)    (None, 15, 64)            0         \n",
            "_________________________________________________________________\n",
            "max_pooling1d_2 (MaxPooling1 (None, 7, 64)             0         \n",
            "_________________________________________________________________\n",
            "flatten_1 (Flatten)          (None, 448)               0         \n",
            "_________________________________________________________________\n",
            "dense_1 (Dense)              (None, 256)               114944    \n",
            "_________________________________________________________________\n",
            "dense_2 (Dense)              (None, 15)                3855      \n",
            "_________________________________________________________________\n",
            "activation_3 (Activation)    (None, 15)                0         \n",
            "=================================================================\n",
            "Total params: 240,847\n",
            "Trainable params: 240,847\n",
            "Non-trainable params: 0\n",
            "_________________________________________________________________\n"
          ],
          "name": "stdout"
        }
      ]
    },
    {
      "cell_type": "code",
      "metadata": {
        "id": "ALADXNApmBGr",
        "colab_type": "code",
        "outputId": "025a2cb0-f4da-4307-ec44-2a332fe54e07",
        "colab": {
          "base_uri": "https://localhost:8080/",
          "height": 34
        }
      },
      "source": [
        "# 1.5 model training\n",
        "# 1.5.1 model training\n",
        "\n",
        "#학습 시작...\n",
        "epochs=100\n",
        "hist = model.fit(train_x, train_y, epochs=epochs,verbose=0, callbacks=[VerboseCallback(epochs)])"
      ],
      "execution_count": 11,
      "outputs": [
        {
          "output_type": "stream",
          "text": [
            "learning:[====================================================================================================] 100/100 {'loss': 1728607.1131386862, 'mae': 773.4511, 'r2': 0.98293436}\n"
          ],
          "name": "stdout"
        }
      ]
    },
    {
      "cell_type": "code",
      "metadata": {
        "id": "C_K1iIwcmBGv",
        "colab_type": "code",
        "outputId": "739e31fd-84ca-43d5-b735-07657de84a76",
        "colab": {
          "base_uri": "https://localhost:8080/",
          "height": 573
        }
      },
      "source": [
        "# 1.5.2 학습에 대한 mean_absolute_error 확인.\n",
        "plot_mae(hist)\n",
        "plot_r2(hist) "
      ],
      "execution_count": 12,
      "outputs": [
        {
          "output_type": "display_data",
          "data": {
            "image/png": "[encoded data removed]",
            "text/plain": [
              "<Figure size 432x288 with 1 Axes>"
            ]
          },
          "metadata": {
            "tags": [],
            "needs_background": "light"
          }
        },
        {
          "output_type": "display_data",
          "data": {
            "image/png": "[encoded data removed]",
            "text/plain": [
              "<Figure size 432x288 with 1 Axes>"
            ]
          },
          "metadata": {
            "tags": [],
            "needs_background": "light"
          }
        }
      ]
    },
    {
      "cell_type": "code",
      "metadata": {
        "id": "0LGm6DrZmBG0",
        "colab_type": "code",
        "outputId": "903c219f-9f3d-4340-a2be-b0e28595928b",
        "colab": {
          "base_uri": "https://localhost:8080/",
          "height": 244
        }
      },
      "source": [
        "# 1.5.3 trainset에 의한 과거 data의 예측 입국자 count \n",
        "predit_y = model.predict(train_x)\n",
        "predit_y,predit_y.shape"
      ],
      "execution_count": 13,
      "outputs": [
        {
          "output_type": "execute_result",
          "data": {
            "text/plain": [
              "(array([[19744.611  , 20787.592  , 21676.262  , ..., 22148.918  ,\n",
              "         21947.023  , 21572.984  ],\n",
              "        [20904.203  , 21540.775  , 22507.941  , ..., 23130.725  ,\n",
              "         22753.07   , 22556.17   ],\n",
              "        [21765.453  , 21997.154  , 23066.258  , ..., 23679.04   ,\n",
              "         23058.666  , 23119.443  ],\n",
              "        ...,\n",
              "        [  659.4325 ,   626.9377 ,   631.1884 , ...,   448.6046 ,\n",
              "           420.92975,   397.7034 ],\n",
              "        [  632.4102 ,   596.62396,   618.44104, ...,   438.6385 ,\n",
              "           412.42807,   395.61978],\n",
              "        [  621.0119 ,   597.8577 ,   618.3433 , ...,   423.9543 ,\n",
              "           406.84708,   390.46582]], dtype=float32), (137, 15))"
            ]
          },
          "metadata": {
            "tags": []
          },
          "execution_count": 13
        }
      ]
    },
    {
      "cell_type": "code",
      "metadata": {
        "id": "MVovpNA1mBG3",
        "colab_type": "code",
        "outputId": "b074ec32-2ebe-4990-f9b1-57df9a7a6224",
        "colab": {
          "base_uri": "https://localhost:8080/",
          "height": 508
        }
      },
      "source": [
        "# 1.5.4 과거 Data에서 실등록자 count와 예측 count의 비교 \n",
        "\n",
        "def compare_backdata(predit_y):\n",
        "    predit = []\n",
        "    for forecast in range(forecast_days):\n",
        "        predit.append(list(np.concatenate((np.zeros(window+ forecast), predit_y[:,forecast],np.zeros(forecast_days-forecast-1)), axis=0)))\n",
        "    # 예측치를 chart에 같이 그려서 확인\n",
        "    comp_ds = raw_ds.copy()\n",
        "    comp_ds['predict_arrival_1'] = predit[0]\n",
        "    comp_ds['predict_arrival_15'] = predit[14]\n",
        "    comp_ds.plot(y=['total','predict_arrival_1','predict_arrival_15'],figsize=(16,8))\n",
        "\n",
        "compare_backdata(predit_y)"
      ],
      "execution_count": 14,
      "outputs": [
        {
          "output_type": "display_data",
          "data": {
            "image/png": "[encoded data removed]",
            "text/plain": [
              "<Figure size 1152x576 with 1 Axes>"
            ]
          },
          "metadata": {
            "tags": [],
            "needs_background": "light"
          }
        }
      ]
    },
    {
      "cell_type": "code",
      "metadata": {
        "id": "-bz2ib20mBG6",
        "colab_type": "code",
        "outputId": "f187bffd-26ab-46e8-b53c-71e257000cf0",
        "colab": {
          "base_uri": "https://localhost:8080/",
          "height": 69
        }
      },
      "source": [
        "# 1.6  향후 15일 예측\n",
        "# 1.6.1 testset (마지막 30일)의 inference\n",
        "\n",
        "# trainset의 마지막 날에서 15일까지의 예측\n",
        "# 마지막 30일치 정보를 input으로...\n",
        "\n",
        "test_x = test_x.reshape(-1,window,size)\n",
        "predit_y = model.predict(test_x)\n",
        "predit_y, predit_y.shape"
      ],
      "execution_count": 15,
      "outputs": [
        {
          "output_type": "execute_result",
          "data": {
            "text/plain": [
              "(array([[428.75082, 435.28674, 454.23453, 440.46494, 434.25034, 393.41068,\n",
              "         372.82138, 369.6413 , 354.37943, 346.6425 , 322.77106, 315.60764,\n",
              "         300.39624, 246.35524, 267.94247]], dtype=float32), (1, 15))"
            ]
          },
          "metadata": {
            "tags": []
          },
          "execution_count": 15
        }
      ]
    },
    {
      "cell_type": "code",
      "metadata": {
        "id": "frsKEPVUmBG9",
        "colab_type": "code",
        "outputId": "a7d4e722-8ff3-4603-be94-a9dd66a0e98f",
        "colab": {
          "base_uri": "https://localhost:8080/",
          "height": 855
        }
      },
      "source": [
        "# 1.6.2 로밍등록자 예측 Count에서 실입국자 보정 처리 및 결과 표출\n",
        "\n",
        "display_result(predit_y)"
      ],
      "execution_count": 16,
      "outputs": [
        {
          "output_type": "execute_result",
          "data": {
            "text/html": [
              "<div>\n",
              "<style scoped>\n",
              "    .dataframe tbody tr th:only-of-type {\n",
              "        vertical-align: middle;\n",
              "    }\n",
              "\n",
              "    .dataframe tbody tr th {\n",
              "        vertical-align: top;\n",
              "    }\n",
              "\n",
              "    .dataframe thead th {\n",
              "        text-align: right;\n",
              "    }\n",
              "</style>\n",
              "<table border=\"1\" class=\"dataframe\">\n",
              "  <thead>\n",
              "    <tr style=\"text-align: right;\">\n",
              "      <th></th>\n",
              "      <th>date</th>\n",
              "      <th>roaming register forecate</th>\n",
              "      <th>immigrantion forecast</th>\n",
              "    </tr>\n",
              "  </thead>\n",
              "  <tbody>\n",
              "    <tr>\n",
              "      <th>0</th>\n",
              "      <td>2020-04-29</td>\n",
              "      <td>428.750824</td>\n",
              "      <td>1786</td>\n",
              "    </tr>\n",
              "    <tr>\n",
              "      <th>1</th>\n",
              "      <td>2020-04-30</td>\n",
              "      <td>435.286743</td>\n",
              "      <td>1813</td>\n",
              "    </tr>\n",
              "    <tr>\n",
              "      <th>2</th>\n",
              "      <td>2020-05-01</td>\n",
              "      <td>454.234528</td>\n",
              "      <td>1892</td>\n",
              "    </tr>\n",
              "    <tr>\n",
              "      <th>3</th>\n",
              "      <td>2020-05-02</td>\n",
              "      <td>440.464935</td>\n",
              "      <td>1835</td>\n",
              "    </tr>\n",
              "    <tr>\n",
              "      <th>4</th>\n",
              "      <td>2020-05-03</td>\n",
              "      <td>434.250336</td>\n",
              "      <td>1809</td>\n",
              "    </tr>\n",
              "    <tr>\n",
              "      <th>5</th>\n",
              "      <td>2020-05-04</td>\n",
              "      <td>393.410675</td>\n",
              "      <td>1639</td>\n",
              "    </tr>\n",
              "    <tr>\n",
              "      <th>6</th>\n",
              "      <td>2020-05-05</td>\n",
              "      <td>372.821381</td>\n",
              "      <td>1553</td>\n",
              "    </tr>\n",
              "    <tr>\n",
              "      <th>7</th>\n",
              "      <td>2020-05-06</td>\n",
              "      <td>369.641296</td>\n",
              "      <td>1540</td>\n",
              "    </tr>\n",
              "    <tr>\n",
              "      <th>8</th>\n",
              "      <td>2020-05-07</td>\n",
              "      <td>354.379425</td>\n",
              "      <td>1476</td>\n",
              "    </tr>\n",
              "    <tr>\n",
              "      <th>9</th>\n",
              "      <td>2020-05-08</td>\n",
              "      <td>346.642487</td>\n",
              "      <td>1444</td>\n",
              "    </tr>\n",
              "    <tr>\n",
              "      <th>10</th>\n",
              "      <td>2020-05-09</td>\n",
              "      <td>322.771057</td>\n",
              "      <td>1344</td>\n",
              "    </tr>\n",
              "    <tr>\n",
              "      <th>11</th>\n",
              "      <td>2020-05-10</td>\n",
              "      <td>315.607635</td>\n",
              "      <td>1315</td>\n",
              "    </tr>\n",
              "    <tr>\n",
              "      <th>12</th>\n",
              "      <td>2020-05-11</td>\n",
              "      <td>300.396240</td>\n",
              "      <td>1251</td>\n",
              "    </tr>\n",
              "    <tr>\n",
              "      <th>13</th>\n",
              "      <td>2020-05-12</td>\n",
              "      <td>246.355240</td>\n",
              "      <td>1026</td>\n",
              "    </tr>\n",
              "    <tr>\n",
              "      <th>14</th>\n",
              "      <td>2020-05-13</td>\n",
              "      <td>267.942474</td>\n",
              "      <td>1116</td>\n",
              "    </tr>\n",
              "  </tbody>\n",
              "</table>\n",
              "</div>"
            ],
            "text/plain": [
              "         date  roaming register forecate  immigrantion forecast\n",
              "0  2020-04-29                 428.750824                   1786\n",
              "1  2020-04-30                 435.286743                   1813\n",
              "2  2020-05-01                 454.234528                   1892\n",
              "3  2020-05-02                 440.464935                   1835\n",
              "4  2020-05-03                 434.250336                   1809\n",
              "5  2020-05-04                 393.410675                   1639\n",
              "6  2020-05-05                 372.821381                   1553\n",
              "7  2020-05-06                 369.641296                   1540\n",
              "8  2020-05-07                 354.379425                   1476\n",
              "9  2020-05-08                 346.642487                   1444\n",
              "10 2020-05-09                 322.771057                   1344\n",
              "11 2020-05-10                 315.607635                   1315\n",
              "12 2020-05-11                 300.396240                   1251\n",
              "13 2020-05-12                 246.355240                   1026\n",
              "14 2020-05-13                 267.942474                   1116"
            ]
          },
          "metadata": {
            "tags": []
          },
          "execution_count": 16
        },
        {
          "output_type": "display_data",
          "data": {
            "image/png": "[encoded data removed]",
            "text/plain": [
              "<Figure size 432x288 with 1 Axes>"
            ]
          },
          "metadata": {
            "tags": [],
            "needs_background": "light"
          }
        }
      ]
    },
    {
      "cell_type": "code",
      "metadata": {
        "id": "yZceHHyjmBHA",
        "colab_type": "code",
        "outputId": "df3c7ce2-430e-4425-a43a-6ed8d3618974",
        "colab": {
          "base_uri": "https://localhost:8080/",
          "height": 607
        }
      },
      "source": [
        "\n",
        "# \t2.1 News Data의 load\n",
        "\n",
        "# 뉴스 기사 정보를 읽어서... 나뉘어 있는 Dataset을 합친다.\n",
        "ns1 = pd.read_excel(\"https://raw.githubusercontent.com/dolmani38/ai_corona/master/corona_contest_data_0406/NewsList.xls\")\n",
        "ns2 = pd.read_excel(\"https://raw.githubusercontent.com/dolmani38/ai_corona/master/corona_contest_data_0429/NewsList.xls\")\n",
        "ns =pd.concat([ns1, ns2], ignore_index=True, sort=False)\n",
        "ns"
      ],
      "execution_count": 17,
      "outputs": [
        {
          "output_type": "execute_result",
          "data": {
            "text/html": [
              "<div>\n",
              "<style scoped>\n",
              "    .dataframe tbody tr th:only-of-type {\n",
              "        vertical-align: middle;\n",
              "    }\n",
              "\n",
              "    .dataframe tbody tr th {\n",
              "        vertical-align: top;\n",
              "    }\n",
              "\n",
              "    .dataframe thead th {\n",
              "        text-align: right;\n",
              "    }\n",
              "</style>\n",
              "<table border=\"1\" class=\"dataframe\">\n",
              "  <thead>\n",
              "    <tr style=\"text-align: right;\">\n",
              "      <th></th>\n",
              "      <th>파일명</th>\n",
              "      <th>제목</th>\n",
              "      <th>URL</th>\n",
              "      <th>수집일자</th>\n",
              "      <th>게시일자</th>\n",
              "      <th>채널명</th>\n",
              "      <th>감염병명</th>\n",
              "      <th>분류명</th>\n",
              "    </tr>\n",
              "  </thead>\n",
              "  <tbody>\n",
              "    <tr>\n",
              "      <th>0</th>\n",
              "      <td>AFRO2019120200003</td>\n",
              "      <td>WHO supports Angola’s Government efforts to en...</td>\n",
              "      <td>https://www.afro.who.int/news/who-supports-ang...</td>\n",
              "      <td>2019-12-02 21:00:16.0</td>\n",
              "      <td>2019-12-02 00:00:00</td>\n",
              "      <td>AFRO</td>\n",
              "      <td>Poliomyelitis</td>\n",
              "      <td>Viral</td>\n",
              "    </tr>\n",
              "    <tr>\n",
              "      <th>1</th>\n",
              "      <td>AFRO2019120300001</td>\n",
              "      <td>African First Ladies laud progress against HIV...</td>\n",
              "      <td>https://www.afro.who.int/news/african-first-la...</td>\n",
              "      <td>2019-12-03 00:00:17.0</td>\n",
              "      <td>2019-12-02 00:00:00</td>\n",
              "      <td>AFRO</td>\n",
              "      <td>Acquired immuno deficiency syndrome</td>\n",
              "      <td>Viral</td>\n",
              "    </tr>\n",
              "    <tr>\n",
              "      <th>2</th>\n",
              "      <td>AFRO2019120300002</td>\n",
              "      <td>Eritrea Observed World AIDS Day 2019</td>\n",
              "      <td>https://www.afro.who.int/news/eritrea-observed...</td>\n",
              "      <td>2019-12-03 00:00:18.0</td>\n",
              "      <td>2019-12-02 00:00:00</td>\n",
              "      <td>AFRO</td>\n",
              "      <td>Acquired immuno deficiency syndrome</td>\n",
              "      <td>Viral</td>\n",
              "    </tr>\n",
              "    <tr>\n",
              "      <th>3</th>\n",
              "      <td>AFRO2019120400003</td>\n",
              "      <td>West and Central Africa Expands Access to HIV ...</td>\n",
              "      <td>https://www.afro.who.int/news/west-and-central...</td>\n",
              "      <td>2019-12-04 03:00:14.0</td>\n",
              "      <td>2019-12-03 00:00:00</td>\n",
              "      <td>AFRO</td>\n",
              "      <td>Acquired immuno deficiency syndrome</td>\n",
              "      <td>Viral</td>\n",
              "    </tr>\n",
              "    <tr>\n",
              "      <th>4</th>\n",
              "      <td>AFRO2019120400004</td>\n",
              "      <td>Nearly 23 million voluntary male medical circu...</td>\n",
              "      <td>https://www.afro.who.int/news/nearly-23-millio...</td>\n",
              "      <td>2019-12-04 22:00:14.0</td>\n",
              "      <td>2019-12-04 00:00:00</td>\n",
              "      <td>AFRO</td>\n",
              "      <td>Acquired immuno deficiency syndrome</td>\n",
              "      <td>Viral</td>\n",
              "    </tr>\n",
              "    <tr>\n",
              "      <th>...</th>\n",
              "      <td>...</td>\n",
              "      <td>...</td>\n",
              "      <td>...</td>\n",
              "      <td>...</td>\n",
              "      <td>...</td>\n",
              "      <td>...</td>\n",
              "      <td>...</td>\n",
              "      <td>...</td>\n",
              "    </tr>\n",
              "    <tr>\n",
              "      <th>103822</th>\n",
              "      <td>XWFB2020040900020</td>\n",
              "      <td>Ching Ming remembrance, home country forever! ...</td>\n",
              "      <td>http://wsjkw.sh.gov.cn/xwfb/20200404/2f54e0e14...</td>\n",
              "      <td>2020-04-09 16:05:21.0</td>\n",
              "      <td>2020-04-04 00:00:00</td>\n",
              "      <td>Shanghai Municioal Health Commission</td>\n",
              "      <td>COVID-19</td>\n",
              "      <td>Viral</td>\n",
              "    </tr>\n",
              "    <tr>\n",
              "      <th>103823</th>\n",
              "      <td>ZWYW2020041000002</td>\n",
              "      <td>Guangdong Provincial Health Commission notifie...</td>\n",
              "      <td>http://wsjkw.gd.gov.cn/zwyw_yqxx/content/post_...</td>\n",
              "      <td>2020-04-10 18:00:45.0</td>\n",
              "      <td>2020-04-10 00:00:00</td>\n",
              "      <td>Health Commission of Guangdong Province</td>\n",
              "      <td>Dengue fever</td>\n",
              "      <td>Viral</td>\n",
              "    </tr>\n",
              "    <tr>\n",
              "      <th>103824</th>\n",
              "      <td>ZWYW2020041500002</td>\n",
              "      <td>Guangdong Provincial Health Commission announc...</td>\n",
              "      <td>http://wsjkw.gd.gov.cn/zwyw_yqxx/content/post_...</td>\n",
              "      <td>2020-04-15 23:01:04.0</td>\n",
              "      <td>2020-04-15 00:00:00</td>\n",
              "      <td>Health Commission of Guangdong Province</td>\n",
              "      <td>Influenza</td>\n",
              "      <td>Viral</td>\n",
              "    </tr>\n",
              "    <tr>\n",
              "      <th>103825</th>\n",
              "      <td>ZWYW2020041500003</td>\n",
              "      <td>Guangdong Provincial Health Commission release...</td>\n",
              "      <td>http://wsjkw.gd.gov.cn/zwyw_yqxx/content/post_...</td>\n",
              "      <td>2020-04-15 23:01:13.0</td>\n",
              "      <td>2020-04-15 00:00:00</td>\n",
              "      <td>Health Commission of Guangdong Province</td>\n",
              "      <td>Influenza</td>\n",
              "      <td>Viral</td>\n",
              "    </tr>\n",
              "    <tr>\n",
              "      <th>103826</th>\n",
              "      <td>ZWYW2020041700002</td>\n",
              "      <td>The Guangdong Provincial Health Commission not...</td>\n",
              "      <td>http://wsjkw.gd.gov.cn/zwyw_yqxx/content/post_...</td>\n",
              "      <td>2020-04-17 17:01:02.0</td>\n",
              "      <td>2020-04-17 00:00:00</td>\n",
              "      <td>Health Commission of Guangdong Province</td>\n",
              "      <td>Dengue fever</td>\n",
              "      <td>Viral</td>\n",
              "    </tr>\n",
              "  </tbody>\n",
              "</table>\n",
              "<p>103827 rows × 8 columns</p>\n",
              "</div>"
            ],
            "text/plain": [
              "                      파일명  ...    분류명\n",
              "0       AFRO2019120200003  ...  Viral\n",
              "1       AFRO2019120300001  ...  Viral\n",
              "2       AFRO2019120300002  ...  Viral\n",
              "3       AFRO2019120400003  ...  Viral\n",
              "4       AFRO2019120400004  ...  Viral\n",
              "...                   ...  ...    ...\n",
              "103822  XWFB2020040900020  ...  Viral\n",
              "103823  ZWYW2020041000002  ...  Viral\n",
              "103824  ZWYW2020041500002  ...  Viral\n",
              "103825  ZWYW2020041500003  ...  Viral\n",
              "103826  ZWYW2020041700002  ...  Viral\n",
              "\n",
              "[103827 rows x 8 columns]"
            ]
          },
          "metadata": {
            "tags": []
          },
          "execution_count": 17
        }
      ]
    },
    {
      "cell_type": "code",
      "metadata": {
        "id": "IQvVL88RmBHI",
        "colab_type": "code",
        "outputId": "1df76997-71a0-4f7b-c0c3-244ceaf54a32",
        "colab": {
          "base_uri": "https://localhost:8080/",
          "height": 542
        }
      },
      "source": [
        "# \t2.2 News Data에 대한 EDA\n",
        "# \t\t2.2.1 게시일을 기준으로 News buzz의 합산\n",
        "\n",
        "cov_news = ns.loc[ns['감염병명'] == 'COVID-19']\n",
        "cov_news['게시일자'] =  cov_news['게시일자'].str[:10]\n",
        "cov_buz = pd.DataFrame(cov_news.groupby('게시일자')['감염병명'].count())\n",
        "cov_buz = cov_buz.loc[cov_buz.index >= '2019-10-31']\n",
        "cov_buz['date'] = pd.to_datetime(cov_buz.index, format='%Y-%m-%d')\n",
        "cov_buz = cov_buz.rename(columns={\"감염병명\":\"buz_count\"})\n",
        "cov_buz"
      ],
      "execution_count": 18,
      "outputs": [
        {
          "output_type": "stream",
          "text": [
            "/usr/local/lib/python3.6/dist-packages/ipykernel_launcher.py:3: SettingWithCopyWarning: \n",
            "A value is trying to be set on a copy of a slice from a DataFrame.\n",
            "Try using .loc[row_indexer,col_indexer] = value instead\n",
            "\n",
            "See the caveats in the documentation: https://pandas.pydata.org/pandas-docs/stable/user_guide/indexing.html#returning-a-view-versus-a-copy\n",
            "  This is separate from the ipykernel package so we can avoid doing imports until\n"
          ],
          "name": "stderr"
        },
        {
          "output_type": "execute_result",
          "data": {
            "text/html": [
              "<div>\n",
              "<style scoped>\n",
              "    .dataframe tbody tr th:only-of-type {\n",
              "        vertical-align: middle;\n",
              "    }\n",
              "\n",
              "    .dataframe tbody tr th {\n",
              "        vertical-align: top;\n",
              "    }\n",
              "\n",
              "    .dataframe thead th {\n",
              "        text-align: right;\n",
              "    }\n",
              "</style>\n",
              "<table border=\"1\" class=\"dataframe\">\n",
              "  <thead>\n",
              "    <tr style=\"text-align: right;\">\n",
              "      <th></th>\n",
              "      <th>buz_count</th>\n",
              "      <th>date</th>\n",
              "    </tr>\n",
              "    <tr>\n",
              "      <th>게시일자</th>\n",
              "      <th></th>\n",
              "      <th></th>\n",
              "    </tr>\n",
              "  </thead>\n",
              "  <tbody>\n",
              "    <tr>\n",
              "      <th>2019-12-01</th>\n",
              "      <td>1</td>\n",
              "      <td>2019-12-01</td>\n",
              "    </tr>\n",
              "    <tr>\n",
              "      <th>2019-12-14</th>\n",
              "      <td>2</td>\n",
              "      <td>2019-12-14</td>\n",
              "    </tr>\n",
              "    <tr>\n",
              "      <th>2019-12-30</th>\n",
              "      <td>3</td>\n",
              "      <td>2019-12-30</td>\n",
              "    </tr>\n",
              "    <tr>\n",
              "      <th>2019-12-31</th>\n",
              "      <td>5</td>\n",
              "      <td>2019-12-31</td>\n",
              "    </tr>\n",
              "    <tr>\n",
              "      <th>2020-01-02</th>\n",
              "      <td>1</td>\n",
              "      <td>2020-01-02</td>\n",
              "    </tr>\n",
              "    <tr>\n",
              "      <th>...</th>\n",
              "      <td>...</td>\n",
              "      <td>...</td>\n",
              "    </tr>\n",
              "    <tr>\n",
              "      <th>2020-04-26</th>\n",
              "      <td>1176</td>\n",
              "      <td>2020-04-26</td>\n",
              "    </tr>\n",
              "    <tr>\n",
              "      <th>2020-04-27</th>\n",
              "      <td>1353</td>\n",
              "      <td>2020-04-27</td>\n",
              "    </tr>\n",
              "    <tr>\n",
              "      <th>2020-04-28</th>\n",
              "      <td>999</td>\n",
              "      <td>2020-04-28</td>\n",
              "    </tr>\n",
              "    <tr>\n",
              "      <th>2020-05-02</th>\n",
              "      <td>3</td>\n",
              "      <td>2020-05-02</td>\n",
              "    </tr>\n",
              "    <tr>\n",
              "      <th>2020-05-09</th>\n",
              "      <td>2</td>\n",
              "      <td>2020-05-09</td>\n",
              "    </tr>\n",
              "  </tbody>\n",
              "</table>\n",
              "<p>121 rows × 2 columns</p>\n",
              "</div>"
            ],
            "text/plain": [
              "            buz_count       date\n",
              "게시일자                            \n",
              "2019-12-01          1 2019-12-01\n",
              "2019-12-14          2 2019-12-14\n",
              "2019-12-30          3 2019-12-30\n",
              "2019-12-31          5 2019-12-31\n",
              "2020-01-02          1 2020-01-02\n",
              "...               ...        ...\n",
              "2020-04-26       1176 2020-04-26\n",
              "2020-04-27       1353 2020-04-27\n",
              "2020-04-28        999 2020-04-28\n",
              "2020-05-02          3 2020-05-02\n",
              "2020-05-09          2 2020-05-09\n",
              "\n",
              "[121 rows x 2 columns]"
            ]
          },
          "metadata": {
            "tags": []
          },
          "execution_count": 18
        }
      ]
    },
    {
      "cell_type": "code",
      "metadata": {
        "id": "bJvx56EwmBHK",
        "colab_type": "code",
        "outputId": "1ed28e17-514e-4a87-9130-3f0c3679e544",
        "colab": {
          "base_uri": "https://localhost:8080/",
          "height": 34
        }
      },
      "source": [
        "# \t\t2.2.2 하루 최대 buzz count 추출\n",
        "\n",
        "max_buz_per_day = cov_buz['buz_count'].max()\n",
        "max_buz_per_day"
      ],
      "execution_count": 19,
      "outputs": [
        {
          "output_type": "execute_result",
          "data": {
            "text/plain": [
              "1948"
            ]
          },
          "metadata": {
            "tags": []
          },
          "execution_count": 19
        }
      ]
    },
    {
      "cell_type": "code",
      "metadata": {
        "id": "e3-ZyGammBHN",
        "colab_type": "code",
        "outputId": "6a2e875e-6b69-416c-eb4e-39d5bd140d5a",
        "colab": {
          "base_uri": "https://localhost:8080/",
          "height": 294
        }
      },
      "source": [
        "# \t\t2.2.3 News buzz 추세 Chart\n",
        "\n",
        "cov_buz.plot(x='date',y='buz_count')"
      ],
      "execution_count": 20,
      "outputs": [
        {
          "output_type": "execute_result",
          "data": {
            "text/plain": [
              "<matplotlib.axes._subplots.AxesSubplot at 0x7f9ec9b47128>"
            ]
          },
          "metadata": {
            "tags": []
          },
          "execution_count": 20
        },
        {
          "output_type": "display_data",
          "data": {
            "image/png": "[encoded data removed]",
            "text/plain": [
              "<Figure size 432x288 with 1 Axes>"
            ]
          },
          "metadata": {
            "tags": [],
            "needs_background": "light"
          }
        }
      ]
    },
    {
      "cell_type": "code",
      "metadata": {
        "id": "Pqvsu_jr6oeE",
        "colab_type": "code",
        "outputId": "2f10089c-a277-4b90-91ba-c246cb0da9cb",
        "colab": {
          "base_uri": "https://localhost:8080/",
          "height": 1000
        }
      },
      "source": [
        "# Sentence Transformers: Multilingual Sentence Embeddings using BERT / RoBERTa / XLM-RoBERTa & Co. with PyTorch\n",
        "# https://github.com/UKPLab/sentence-transformers\n",
        "\n",
        "!pip install -U sentence-transformers\n",
        "\n",
        "# BERT Test Code...\n",
        "\n",
        "\"\"\"\n",
        "This is a simple application for sentence embeddings: semantic search\n",
        "We have a corpus with various sentences. Then, for a given query sentence,\n",
        "we want to find the most similar sentence in this corpus.\n",
        "\n",
        "This script outputs for various queries the top 5 most similar sentences in the corpus.\n",
        "\"\"\"\n",
        "\n",
        "from sentence_transformers import SentenceTransformer\n",
        "import scipy.spatial\n",
        "\n",
        "embedder = SentenceTransformer('bert-base-nli-mean-tokens')\n",
        "\n",
        "# Corpus with example sentences\n",
        "corpus = ['A man is eating food.',\n",
        "          'A man is eating a piece of bread.',\n",
        "          'The girl is carrying a baby.',\n",
        "          'A man is riding a horse.',\n",
        "          'A woman is playing violin.',\n",
        "          'Two men pushed carts through the woods.',\n",
        "          'A man is riding a white horse on an enclosed ground.',\n",
        "          'A monkey is playing drums.',\n",
        "          'A cheetah is running behind its prey.'\n",
        "          ]\n",
        "\n",
        "corpus_embeddings = embedder.encode(corpus)\n",
        "\n",
        "# Query sentences:\n",
        "queries = ['A man is eating pasta.', 'Someone in a gorilla costume is playing a set of drums.', 'A cheetah chases prey on across a field.']\n",
        "query_embeddings = embedder.encode(queries)\n",
        "\n",
        "# Find the closest 5 sentences of the corpus for each query sentence based on cosine similarity\n",
        "closest_n = 5\n",
        "\n",
        "for query, query_embedding in zip(queries, query_embeddings):\n",
        "    distances = scipy.spatial.distance.cdist([query_embedding], corpus_embeddings, \"cosine\")[0]\n",
        "\n",
        "    results = zip(range(len(distances)), distances)\n",
        "    results = sorted(results, key=lambda x: x[1])\n",
        "    print(\"\\n\\n======================\\n\\n\")\n",
        "    print(\"Query:\", query)\n",
        "    print(\"\\nTop 5 most similar sentences in corpus:\")\n",
        "    for idx, distance in results[0:closest_n]:\n",
        "        print(corpus[idx].strip(), \"(Score: %.4f)\" % (1-distance))"
      ],
      "execution_count": 21,
      "outputs": [
        {
          "output_type": "stream",
          "text": [
            "Collecting sentence-transformers\n",
            "\u001b[?25l  Downloading https://files.pythonhosted.org/packages/b9/46/b7d6c37d92d1bd65319220beabe4df845434930e3f30e42d3cfaecb74dc4/sentence-transformers-0.2.6.1.tar.gz (55kB)\n",
            "\u001b[K     |████████████████████████████████| 61kB 1.8MB/s \n",
            "\u001b[?25hCollecting transformers>=2.8.0\n",
            "\u001b[?25l  Downloading https://files.pythonhosted.org/packages/a3/78/92cedda05552398352ed9784908b834ee32a0bd071a9b32de287327370b7/transformers-2.8.0-py3-none-any.whl (563kB)\n",
            "\u001b[K     |████████████████████████████████| 573kB 7.4MB/s \n",
            "\u001b[?25hRequirement already satisfied, skipping upgrade: tqdm in /usr/local/lib/python3.6/dist-packages (from sentence-transformers) (4.38.0)\n",
            "Requirement already satisfied, skipping upgrade: torch>=1.0.1 in /usr/local/lib/python3.6/dist-packages (from sentence-transformers) (1.5.0+cu101)\n",
            "Requirement already satisfied, skipping upgrade: numpy in /usr/local/lib/python3.6/dist-packages (from sentence-transformers) (1.18.3)\n",
            "Requirement already satisfied, skipping upgrade: scikit-learn in /usr/local/lib/python3.6/dist-packages (from sentence-transformers) (0.22.2.post1)\n",
            "Requirement already satisfied, skipping upgrade: scipy in /usr/local/lib/python3.6/dist-packages (from sentence-transformers) (1.4.1)\n",
            "Requirement already satisfied, skipping upgrade: nltk in /usr/local/lib/python3.6/dist-packages (from sentence-transformers) (3.2.5)\n",
            "Requirement already satisfied, skipping upgrade: regex!=2019.12.17 in /usr/local/lib/python3.6/dist-packages (from transformers>=2.8.0->sentence-transformers) (2019.12.20)\n",
            "Collecting sacremoses\n",
            "\u001b[?25l  Downloading https://files.pythonhosted.org/packages/7d/34/09d19aff26edcc8eb2a01bed8e98f13a1537005d31e95233fd48216eed10/sacremoses-0.0.43.tar.gz (883kB)\n",
            "\u001b[K     |████████████████████████████████| 890kB 24.1MB/s \n",
            "\u001b[?25hRequirement already satisfied, skipping upgrade: dataclasses; python_version < \"3.7\" in /usr/local/lib/python3.6/dist-packages (from transformers>=2.8.0->sentence-transformers) (0.7)\n",
            "Requirement already satisfied, skipping upgrade: filelock in /usr/local/lib/python3.6/dist-packages (from transformers>=2.8.0->sentence-transformers) (3.0.12)\n",
            "Requirement already satisfied, skipping upgrade: requests in /usr/local/lib/python3.6/dist-packages (from transformers>=2.8.0->sentence-transformers) (2.23.0)\n",
            "Requirement already satisfied, skipping upgrade: boto3 in /usr/local/lib/python3.6/dist-packages (from transformers>=2.8.0->sentence-transformers) (1.13.1)\n",
            "Collecting tokenizers==0.5.2\n",
            "\u001b[?25l  Downloading https://files.pythonhosted.org/packages/d1/3f/73c881ea4723e43c1e9acf317cf407fab3a278daab3a69c98dcac511c04f/tokenizers-0.5.2-cp36-cp36m-manylinux1_x86_64.whl (3.7MB)\n",
            "\u001b[K     |████████████████████████████████| 3.7MB 32.7MB/s \n",
            "\u001b[?25hCollecting sentencepiece\n",
            "\u001b[?25l  Downloading https://files.pythonhosted.org/packages/98/2c/8df20f3ac6c22ac224fff307ebc102818206c53fc454ecd37d8ac2060df5/sentencepiece-0.1.86-cp36-cp36m-manylinux1_x86_64.whl (1.0MB)\n",
            "\u001b[K     |████████████████████████████████| 1.0MB 57.1MB/s \n",
            "\u001b[?25hRequirement already satisfied, skipping upgrade: future in /usr/local/lib/python3.6/dist-packages (from torch>=1.0.1->sentence-transformers) (0.16.0)\n",
            "Requirement already satisfied, skipping upgrade: joblib>=0.11 in /usr/local/lib/python3.6/dist-packages (from scikit-learn->sentence-transformers) (0.14.1)\n",
            "Requirement already satisfied, skipping upgrade: six in /usr/local/lib/python3.6/dist-packages (from nltk->sentence-transformers) (1.12.0)\n",
            "Requirement already satisfied, skipping upgrade: click in /usr/local/lib/python3.6/dist-packages (from sacremoses->transformers>=2.8.0->sentence-transformers) (7.1.2)\n",
            "Requirement already satisfied, skipping upgrade: chardet<4,>=3.0.2 in /usr/local/lib/python3.6/dist-packages (from requests->transformers>=2.8.0->sentence-transformers) (3.0.4)\n",
            "Requirement already satisfied, skipping upgrade: idna<3,>=2.5 in /usr/local/lib/python3.6/dist-packages (from requests->transformers>=2.8.0->sentence-transformers) (2.9)\n",
            "Requirement already satisfied, skipping upgrade: urllib3!=1.25.0,!=1.25.1,<1.26,>=1.21.1 in /usr/local/lib/python3.6/dist-packages (from requests->transformers>=2.8.0->sentence-transformers) (1.24.3)\n",
            "Requirement already satisfied, skipping upgrade: certifi>=2017.4.17 in /usr/local/lib/python3.6/dist-packages (from requests->transformers>=2.8.0->sentence-transformers) (2020.4.5.1)\n",
            "Requirement already satisfied, skipping upgrade: botocore<1.17.0,>=1.16.1 in /usr/local/lib/python3.6/dist-packages (from boto3->transformers>=2.8.0->sentence-transformers) (1.16.1)\n",
            "Requirement already satisfied, skipping upgrade: jmespath<1.0.0,>=0.7.1 in /usr/local/lib/python3.6/dist-packages (from boto3->transformers>=2.8.0->sentence-transformers) (0.9.5)\n",
            "Requirement already satisfied, skipping upgrade: s3transfer<0.4.0,>=0.3.0 in /usr/local/lib/python3.6/dist-packages (from boto3->transformers>=2.8.0->sentence-transformers) (0.3.3)\n",
            "Requirement already satisfied, skipping upgrade: python-dateutil<3.0.0,>=2.1 in /usr/local/lib/python3.6/dist-packages (from botocore<1.17.0,>=1.16.1->boto3->transformers>=2.8.0->sentence-transformers) (2.8.1)\n",
            "Requirement already satisfied, skipping upgrade: docutils<0.16,>=0.10 in /usr/local/lib/python3.6/dist-packages (from botocore<1.17.0,>=1.16.1->boto3->transformers>=2.8.0->sentence-transformers) (0.15.2)\n",
            "Building wheels for collected packages: sentence-transformers, sacremoses\n",
            "  Building wheel for sentence-transformers (setup.py) ... \u001b[?25l\u001b[?25hdone\n",
            "  Created wheel for sentence-transformers: filename=sentence_transformers-0.2.6.1-cp36-none-any.whl size=74031 sha256=bd1da366e8ce0aa140c8395db0315f330106b503eccc2388f1a9135e2228ddad\n",
            "  Stored in directory: /root/.cache/pip/wheels/d7/fa/17/2b081a8cd8b0a86753fb0e9826b3cc19f0207062c0b2da7008\n",
            "  Building wheel for sacremoses (setup.py) ... \u001b[?25l\u001b[?25hdone\n",
            "  Created wheel for sacremoses: filename=sacremoses-0.0.43-cp36-none-any.whl size=893260 sha256=5026b1d3fd5049cbc812879bbaed577af18956579b123bc650d5d07d2a1a9d34\n",
            "  Stored in directory: /root/.cache/pip/wheels/29/3c/fd/7ce5c3f0666dab31a50123635e6fb5e19ceb42ce38d4e58f45\n",
            "Successfully built sentence-transformers sacremoses\n",
            "Installing collected packages: sacremoses, tokenizers, sentencepiece, transformers, sentence-transformers\n",
            "Successfully installed sacremoses-0.0.43 sentence-transformers-0.2.6.1 sentencepiece-0.1.86 tokenizers-0.5.2 transformers-2.8.0\n"
          ],
          "name": "stdout"
        },
        {
          "output_type": "stream",
          "text": [
            "100%|██████████| 405M/405M [01:16<00:00, 5.31MB/s]\n"
          ],
          "name": "stderr"
        },
        {
          "output_type": "stream",
          "text": [
            "\n",
            "\n",
            "======================\n",
            "\n",
            "\n",
            "Query: A man is eating pasta.\n",
            "\n",
            "Top 5 most similar sentences in corpus:\n",
            "A man is eating a piece of bread. (Score: 0.8480)\n",
            "A man is eating food. (Score: 0.7759)\n",
            "Two men pushed carts through the woods. (Score: 0.2095)\n",
            "A monkey is playing drums. (Score: 0.1945)\n",
            "A man is riding a white horse on an enclosed ground. (Score: 0.1586)\n",
            "\n",
            "\n",
            "======================\n",
            "\n",
            "\n",
            "Query: Someone in a gorilla costume is playing a set of drums.\n",
            "\n",
            "Top 5 most similar sentences in corpus:\n",
            "A monkey is playing drums. (Score: 0.7985)\n",
            "A cheetah is running behind its prey. (Score: 0.2860)\n",
            "The girl is carrying a baby. (Score: 0.2351)\n",
            "A man is riding a horse. (Score: 0.2023)\n",
            "A man is riding a white horse on an enclosed ground. (Score: 0.1963)\n",
            "\n",
            "\n",
            "======================\n",
            "\n",
            "\n",
            "Query: A cheetah chases prey on across a field.\n",
            "\n",
            "Top 5 most similar sentences in corpus:\n",
            "A cheetah is running behind its prey. (Score: 0.9007)\n",
            "Two men pushed carts through the woods. (Score: 0.3662)\n",
            "A monkey is playing drums. (Score: 0.3061)\n",
            "A man is riding a horse. (Score: 0.2930)\n",
            "A man is riding a white horse on an enclosed ground. (Score: 0.2718)\n"
          ],
          "name": "stdout"
        }
      ]
    },
    {
      "cell_type": "code",
      "metadata": {
        "id": "VY_PyRm_IftB",
        "colab_type": "code",
        "colab": {
          "base_uri": "https://localhost:8080/",
          "height": 387
        },
        "outputId": "444a224b-c159-4c89-fbba-c1295944f7ea"
      },
      "source": [
        "# dolmani38의 google drive에서 corpus_embeddings.emb 의 다운로드\n",
        "# corpus_embeddings.emb를 직접 만들거면 이 Cell은 실행 안해도 됨\n",
        "\n",
        "!pip install PyDrive\n",
        "import logging\n",
        "logging.getLogger('googleapiclient.discovery_cache').setLevel(logging.ERROR)\n",
        "\n",
        "from pydrive.auth import GoogleAuth\n",
        "from pydrive.drive import GoogleDrive\n",
        "from google.colab import auth\n",
        "from oauth2client.client import GoogleCredentials\n",
        "\n",
        "auth.authenticate_user(clear_output=False)\n",
        "gauth = GoogleAuth()\n",
        "gauth.credentials = GoogleCredentials.get_application_default()\n",
        "drive = GoogleDrive(gauth)\n",
        "\n",
        "downloaded = drive.CreateFile({\"id\":\"1FN7V0RxGACTNkusH9iQgFjXhicv1Lzei\"})   # replace the id with id of file you want to access\n",
        "downloaded.GetContentFile(\"corpus_embeddings.emb\")        # replace the file name with your file\n",
        "\n",
        "import os.path\n",
        "from os import path\n",
        "\n",
        "if path.exists(\"corpus_embeddings.emb\"):\n",
        "    print(\"Download complete!!\")"
      ],
      "execution_count": 22,
      "outputs": [
        {
          "output_type": "stream",
          "text": [
            "Requirement already satisfied: PyDrive in /usr/local/lib/python3.6/dist-packages (1.3.1)\n",
            "Requirement already satisfied: oauth2client>=4.0.0 in /usr/local/lib/python3.6/dist-packages (from PyDrive) (4.1.3)\n",
            "Requirement already satisfied: google-api-python-client>=1.2 in /usr/local/lib/python3.6/dist-packages (from PyDrive) (1.7.12)\n",
            "Requirement already satisfied: PyYAML>=3.0 in /usr/local/lib/python3.6/dist-packages (from PyDrive) (3.13)\n",
            "Requirement already satisfied: httplib2>=0.9.1 in /usr/local/lib/python3.6/dist-packages (from oauth2client>=4.0.0->PyDrive) (0.17.3)\n",
            "Requirement already satisfied: pyasn1>=0.1.7 in /usr/local/lib/python3.6/dist-packages (from oauth2client>=4.0.0->PyDrive) (0.4.8)\n",
            "Requirement already satisfied: pyasn1-modules>=0.0.5 in /usr/local/lib/python3.6/dist-packages (from oauth2client>=4.0.0->PyDrive) (0.2.8)\n",
            "Requirement already satisfied: rsa>=3.1.4 in /usr/local/lib/python3.6/dist-packages (from oauth2client>=4.0.0->PyDrive) (4.0)\n",
            "Requirement already satisfied: six>=1.6.1 in /usr/local/lib/python3.6/dist-packages (from oauth2client>=4.0.0->PyDrive) (1.12.0)\n",
            "Requirement already satisfied: uritemplate<4dev,>=3.0.0 in /usr/local/lib/python3.6/dist-packages (from google-api-python-client>=1.2->PyDrive) (3.0.1)\n",
            "Requirement already satisfied: google-auth-httplib2>=0.0.3 in /usr/local/lib/python3.6/dist-packages (from google-api-python-client>=1.2->PyDrive) (0.0.3)\n",
            "Requirement already satisfied: google-auth>=1.4.1 in /usr/local/lib/python3.6/dist-packages (from google-api-python-client>=1.2->PyDrive) (1.7.2)\n",
            "Requirement already satisfied: cachetools<3.2,>=2.0.0 in /usr/local/lib/python3.6/dist-packages (from google-auth>=1.4.1->google-api-python-client>=1.2->PyDrive) (3.1.1)\n",
            "Requirement already satisfied: setuptools>=40.3.0 in /usr/local/lib/python3.6/dist-packages (from google-auth>=1.4.1->google-api-python-client>=1.2->PyDrive) (46.1.3)\n",
            "Go to the following link in your browser:\n",
            "\n",
            "    https://accounts.google.com/o/oauth2/auth?response_type=code&client_id=32555940559.apps.googleusercontent.com&redirect_uri=urn%3Aietf%3Awg%3Aoauth%3A2.0%3Aoob&scope=openid+https%3A%2F%2Fwww.googleapis.com%2Fauth%2Fuserinfo.email+https%3A%2F%2Fwww.googleapis.com%2Fauth%2Fcloud-platform+https%3A%2F%2Fwww.googleapis.com%2Fauth%2Fappengine.admin+https%3A%2F%2Fwww.googleapis.com%2Fauth%2Fcompute+https%3A%2F%2Fwww.googleapis.com%2Fauth%2Faccounts.reauth+https%3A%2F%2Fwww.googleapis.com%2Fauth%2Fdrive&state=KMydXtEWNvFgFy2N4MtKBX8ru6SXmG&code_challenge=pgx5YoFOFrlV9JWfPBAuPOSmPOe5ekFdEC0hSnSCs_o&prompt=consent&code_challenge_method=S256&access_type=offline\n",
            "\n",
            "Enter verification code: ··········\n",
            "Download complete!!\n"
          ],
          "name": "stdout"
        }
      ]
    },
    {
      "cell_type": "code",
      "metadata": {
        "id": "ypCf9SQWIVLk",
        "colab_type": "code",
        "colab": {
          "base_uri": "https://localhost:8080/",
          "height": 87
        },
        "outputId": "572281a3-3080-44ab-9444-ebe71f71f126"
      },
      "source": [
        "#\t\t\t2.3.1.1 document의 tokenize & tagging\n",
        "# 실 Contents는 사용하지 않고 title만 BERT embedding 처리...\n",
        "import os.path\n",
        "from os import path\n",
        "import dill\n",
        "\n",
        "if path.exists(\"corpus_embeddings.emb\"):\n",
        "    print(\"load from corpus_embeddings file...\")\n",
        "    file = open(\"corpus_embeddings.emb\", 'rb')\n",
        "    corpus_embeddings = dill.load(file)\n",
        "    file.close()\n",
        "    print(\"Complete!!\")\n",
        "else:\n",
        "    temp_ds = cov_news #.head(10)\n",
        "    corpus = []\n",
        "    for row in temp_ds.iterrows():\n",
        "        file_name = row[1][0]\n",
        "        title = str(row[1][1])\n",
        "        pub_datetime = row[1][4]\n",
        "        corpus.append(title.lower())\n",
        "\n",
        "    corpus_embeddings = embedder.encode(corpus,show_progress_bar=True)   \n",
        "\n",
        "    print(\"Wait! saving corpus_embeddings...\")    \n",
        "    file = open(\"corpus_embeddings.emb\", 'wb')\n",
        "    dill.dump(corpus_embeddings, file)\n",
        "    file.close()\n",
        "    print(\"Complete!!\")\n",
        "\n",
        "corpus_embeddings = np.asarray(corpus_embeddings)        \n",
        "print(\"shape of corpus_embeddings : \",corpus_embeddings.shape)\n",
        "\n",
        "temp_ds = cov_news #.head(10)\n",
        "docv_model = {}\n",
        "for i, row in enumerate(temp_ds.iterrows()):\n",
        "    docv_model[row[1][0]] = corpus_embeddings[i]\n",
        "\n",
        "len(docv_model)"
      ],
      "execution_count": 23,
      "outputs": [
        {
          "output_type": "stream",
          "text": [
            "load from corpus_embeddings file...\n",
            "Complete!!\n",
            "shape of corpus_embeddings :  (73752, 768)\n"
          ],
          "name": "stdout"
        },
        {
          "output_type": "execute_result",
          "data": {
            "text/plain": [
              "73306"
            ]
          },
          "metadata": {
            "tags": []
          },
          "execution_count": 23
        }
      ]
    },
    {
      "cell_type": "code",
      "metadata": {
        "id": "WI3xwnQeQURm",
        "colab_type": "code",
        "colab": {
          "base_uri": "https://localhost:8080/",
          "height": 139
        },
        "outputId": "c234e6a9-00a9-4773-f273-86eece574348"
      },
      "source": [
        "#\t\t2.3.4 원시(origin) Trainset의 구성\n",
        "\n",
        "# BERT embedding 처리한 뉴스 원시 학습셋을 구성한다.\n",
        "# 이때, 입국일자을 기준으로 Set을 만드는데...\n",
        "# 입국일에 news가 없을 때도 있어서, 일관성 있는 양질의 학습셋이 되기는 어려울 듯...\n",
        "# 준대로 해야지 어쩔 수 없음.\n",
        "\n",
        "vec_size = corpus_embeddings.shape[1]\n",
        "max_buz_per_day = 300 # 하루에 최대 300개의 뉴스를 본다. 나중에 실재 최대치까지 증가..\n",
        "cov_news['게시일자'] = pd.to_datetime(cov_news['게시일자'], format='%Y-%m-%d')\n",
        "news_metric = []\n",
        "from datetime import datetime, timedelta\n",
        "import numpy as np\n",
        "# 날짜별 구성\n",
        "for row in ar.iterrows():\n",
        "    date = row[1][1]#datetime(2019,12,31)\n",
        "    selected_ns = cov_news.loc[cov_news['게시일자'] >= date].loc[cov_news['게시일자'] < (date + timedelta(days=1))]\n",
        "    #print(date,selected_ns.shape)\n",
        "    if selected_ns.shape[0] == 0:\n",
        "        # news가 없는 경우..\n",
        "        news_metric.append(np.zeros((max_buz_per_day,vec_size)))\n",
        "    else:\n",
        "        docv = []\n",
        "        for nrow in selected_ns.iterrows():\n",
        "            #print('tag name:',nrow[1][0])\n",
        "            if len(docv) < max_buz_per_day:\n",
        "                docv.append(docv_model[nrow[1][0]])\n",
        "        if len(docv) < max_buz_per_day:\n",
        "            for i in range(max_buz_per_day-selected_ns.shape[0]):\n",
        "                docv.append(np.zeros(vec_size))\n",
        "        news_metric.append(docv)\n",
        "        \n",
        "train_temp_x = np.asarray(news_metric)\n",
        "train_temp_x.shape\n"
      ],
      "execution_count": 24,
      "outputs": [
        {
          "output_type": "stream",
          "text": [
            "/usr/local/lib/python3.6/dist-packages/ipykernel_launcher.py:4: SettingWithCopyWarning: \n",
            "A value is trying to be set on a copy of a slice from a DataFrame.\n",
            "Try using .loc[row_indexer,col_indexer] = value instead\n",
            "\n",
            "See the caveats in the documentation: https://pandas.pydata.org/pandas-docs/stable/user_guide/indexing.html#returning-a-view-versus-a-copy\n",
            "  after removing the cwd from sys.path.\n"
          ],
          "name": "stderr"
        },
        {
          "output_type": "execute_result",
          "data": {
            "text/plain": [
              "(181, 300, 768)"
            ]
          },
          "metadata": {
            "tags": []
          },
          "execution_count": 24
        }
      ]
    },
    {
      "cell_type": "code",
      "metadata": {
        "id": "GX59VQ2BRThs",
        "colab_type": "code",
        "colab": {
          "base_uri": "https://localhost:8080/",
          "height": 34
        },
        "outputId": "a341e213-162b-48e4-e62c-3acc85f90ab1"
      },
      "source": [
        "# 학습셋의 label... 원시 train_temp_y의 구성\n",
        "train_temp_y = np.asanyarray(ar['count'])\n",
        "train_temp_y.shape"
      ],
      "execution_count": 25,
      "outputs": [
        {
          "output_type": "execute_result",
          "data": {
            "text/plain": [
              "(181,)"
            ]
          },
          "metadata": {
            "tags": []
          },
          "execution_count": 25
        }
      ]
    },
    {
      "cell_type": "code",
      "metadata": {
        "id": "HMBBHKQaRfMl",
        "colab_type": "code",
        "colab": {
          "base_uri": "https://localhost:8080/",
          "height": 612
        },
        "outputId": "adc985b7-276e-49ba-a287-f5c999e0b40f"
      },
      "source": [
        "#\t2.4 doc2vec에 의한 Regression Test (Not forecast)\n",
        "#\t\t2.4.1 doc2vec의 Timeseries model 구성\n",
        "\n",
        "# 일단, news regression의 설명력을 확인하기 위해...원시 학습을 test 한다.\n",
        "import keras\n",
        "from keras.layers import Dense, Activation, Flatten, Conv1D, MaxPooling1D\n",
        "from keras.models import Sequential\n",
        "\n",
        "model = Sequential()\n",
        "model.add(Conv1D(128,2, input_shape=(max_buz_per_day,vec_size),padding=\"same\"))\n",
        "model.add(Activation('relu'))\n",
        "model.add(MaxPooling1D(pool_size=2))\n",
        "\n",
        "model.add(Conv1D(64, 2,padding=\"same\"))\n",
        "model.add(Activation('relu'))\n",
        "model.add(MaxPooling1D(pool_size=2))\n",
        "\n",
        "model.add(Conv1D(32, 2,padding=\"same\"))\n",
        "model.add(Activation('relu'))\n",
        "model.add(MaxPooling1D(pool_size=2))\n",
        "\n",
        "model.add(Flatten())\n",
        "model.add(Dense(128))\n",
        "model.add(Dense(1))\n",
        "model.add(Activation('linear'))\n",
        "\n",
        "model.compile(loss=keras.losses.mean_squared_error, optimizer=keras.optimizers.Adam(),metrics=['mae',r2])\n",
        "\n",
        "model.summary()"
      ],
      "execution_count": 26,
      "outputs": [
        {
          "output_type": "stream",
          "text": [
            "Model: \"sequential_2\"\n",
            "_________________________________________________________________\n",
            "Layer (type)                 Output Shape              Param #   \n",
            "=================================================================\n",
            "conv1d_3 (Conv1D)            (None, 300, 128)          196736    \n",
            "_________________________________________________________________\n",
            "activation_4 (Activation)    (None, 300, 128)          0         \n",
            "_________________________________________________________________\n",
            "max_pooling1d_3 (MaxPooling1 (None, 150, 128)          0         \n",
            "_________________________________________________________________\n",
            "conv1d_4 (Conv1D)            (None, 150, 64)           16448     \n",
            "_________________________________________________________________\n",
            "activation_5 (Activation)    (None, 150, 64)           0         \n",
            "_________________________________________________________________\n",
            "max_pooling1d_4 (MaxPooling1 (None, 75, 64)            0         \n",
            "_________________________________________________________________\n",
            "conv1d_5 (Conv1D)            (None, 75, 32)            4128      \n",
            "_________________________________________________________________\n",
            "activation_6 (Activation)    (None, 75, 32)            0         \n",
            "_________________________________________________________________\n",
            "max_pooling1d_5 (MaxPooling1 (None, 37, 32)            0         \n",
            "_________________________________________________________________\n",
            "flatten_2 (Flatten)          (None, 1184)              0         \n",
            "_________________________________________________________________\n",
            "dense_3 (Dense)              (None, 128)               151680    \n",
            "_________________________________________________________________\n",
            "dense_4 (Dense)              (None, 1)                 129       \n",
            "_________________________________________________________________\n",
            "activation_7 (Activation)    (None, 1)                 0         \n",
            "=================================================================\n",
            "Total params: 369,121\n",
            "Trainable params: 369,121\n",
            "Non-trainable params: 0\n",
            "_________________________________________________________________\n"
          ],
          "name": "stdout"
        }
      ]
    },
    {
      "cell_type": "code",
      "metadata": {
        "id": "26-Fs8EkRgsk",
        "colab_type": "code",
        "colab": {
          "base_uri": "https://localhost:8080/",
          "height": 34
        },
        "outputId": "56bf9e90-5260-41f3-d55c-10d84f22987a"
      },
      "source": [
        "#\t\t2.4.2 원시(origin) Trainset으로 model training\n",
        "\n",
        "epochs=50\n",
        "hist = model.fit(train_temp_x, train_temp_y, epochs=epochs,verbose=0, callbacks=[VerboseCallback(epochs)])"
      ],
      "execution_count": 27,
      "outputs": [
        {
          "output_type": "stream",
          "text": [
            "learning:[==================================================] 50/50 {'loss': 41690111.77900553, 'mae': 4390.7056, 'r2': 0.5566248}\n"
          ],
          "name": "stdout"
        }
      ]
    },
    {
      "cell_type": "code",
      "metadata": {
        "id": "YPKFSmu5R03N",
        "colab_type": "code",
        "colab": {
          "base_uri": "https://localhost:8080/",
          "height": 573
        },
        "outputId": "40d0650e-e359-4da3-f9e6-1a722c5e8839"
      },
      "source": [
        "#\t\t2.4.3 학습에 대한 mean_absolute_error 확인.\n",
        "\n",
        "plot_mae(hist)\n",
        "plot_r2(hist)"
      ],
      "execution_count": 28,
      "outputs": [
        {
          "output_type": "display_data",
          "data": {
            "image/png": "[encoded data removed]",
            "text/plain": [
              "<Figure size 432x288 with 1 Axes>"
            ]
          },
          "metadata": {
            "tags": [],
            "needs_background": "light"
          }
        },
        {
          "output_type": "display_data",
          "data": {
            "image/png": "[encoded data removed]",
            "text/plain": [
              "<Figure size 432x288 with 1 Axes>"
            ]
          },
          "metadata": {
            "tags": [],
            "needs_background": "light"
          }
        }
      ]
    },
    {
      "cell_type": "code",
      "metadata": {
        "id": "FhJnw0iAR3zR",
        "colab_type": "code",
        "colab": {}
      },
      "source": [
        "#\t\t2.4.4 trainset에 의한 과거 data의 예측 입국자 count \n",
        "predit_y = model.predict(train_temp_x)\n",
        "predit = predit_y.reshape(predit_y.shape[0])"
      ],
      "execution_count": 0,
      "outputs": []
    },
    {
      "cell_type": "code",
      "metadata": {
        "id": "ojTtGIBYR69K",
        "colab_type": "code",
        "colab": {
          "base_uri": "https://localhost:8080/",
          "height": 526
        },
        "outputId": "0dd0d830-9b97-4829-d511-780f154df8c4"
      },
      "source": [
        "#\t\t2.4.5 실등록자 count와 news기반 예측 count의 비교 chart\n",
        "predit_result = ar.copy()\n",
        "predit_result['forecast'] = predit\n",
        "predit_result.plot(x='date',y=['count','forecast'],figsize=(16,8))"
      ],
      "execution_count": 30,
      "outputs": [
        {
          "output_type": "execute_result",
          "data": {
            "text/plain": [
              "<matplotlib.axes._subplots.AxesSubplot at 0x7f9ec519da58>"
            ]
          },
          "metadata": {
            "tags": []
          },
          "execution_count": 30
        },
        {
          "output_type": "display_data",
          "data": {
            "image/png": "[encoded data removed]",
            "text/plain": [
              "<Figure size 1152x576 with 1 Axes>"
            ]
          },
          "metadata": {
            "tags": [],
            "needs_background": "light"
          }
        }
      ]
    },
    {
      "cell_type": "code",
      "metadata": {
        "id": "PFwUh4keSHDo",
        "colab_type": "code",
        "colab": {}
      },
      "source": [
        "#\t2.5 doc2vec에 의한 Forecast regression\n",
        "#\t\t2.5.1 doc2vec의 Window 적용 Timeseries Trainset의 구성\n",
        "\n",
        "# 2D Convolution을 적용하여 마치 Image를 convolution 하듯이 학습할 것임\n",
        "# window의 depth를 image의 channel 처럼 사용\n",
        "# tensorflow는 image의 chennel을 channel_last로 사용, \n",
        "# 이것을 맞추기 위해 moveaxis 를 적용할 것임\n",
        "# 여기 돌다가 colab 다운 잘됨... 다운 되면 처음부터 다시!\n",
        "\n",
        "from numpy import moveaxis\n",
        "# window를 30일로 설정 -> 그냥 잡은 수치\n",
        "news_window = 30\n",
        "#향후 15일 예측\n",
        "news_forecast_days = 15\n",
        "\n",
        "# 원시 trainset의 사용...\n",
        "train_news_org_y = train_temp_y\n",
        "data = train_temp_x\n",
        "\n",
        "train_news_x = []\n",
        "train_news_y = []\n",
        "\n",
        "for i in range(data.shape[0]-news_window-news_forecast_days + 1):\n",
        "    sub_x = []\n",
        "    for j in range(news_window):\n",
        "        sub_x.append(data[i+j,:,:])\n",
        "    # change channels first to channels last format\n",
        "    sub_x = np.asarray(sub_x)\n",
        "    sub_x = moveaxis(sub_x, 0, 2)        \n",
        "    train_news_x.append(sub_x)\n",
        "\n",
        "    sub_y = []\n",
        "    for z in range(news_forecast_days):\n",
        "        sub_y.append(train_news_org_y[i + news_window + z])\n",
        "    train_news_y.append(sub_y)\n",
        "\n",
        "#train_news_x ,train_news_y 준비\n",
        "train_news_x = np.asarray(train_news_x)\n",
        "#train_news_x = train_news_x.reshape(-1,news_window,max_buz_per_day,vec_size)\n",
        "train_news_y = np.asarray(train_news_y)\n",
        "\n",
        "test_news_x = np.asarray(data[data.shape[0]-news_window:data.shape[0],:,:])\n",
        "test_news_x = moveaxis(test_news_x, 0, 2) "
      ],
      "execution_count": 0,
      "outputs": []
    },
    {
      "cell_type": "code",
      "metadata": {
        "id": "FEz_YN1mT3N6",
        "colab_type": "code",
        "colab": {
          "base_uri": "https://localhost:8080/",
          "height": 34
        },
        "outputId": "5c957551-ff5f-467a-8cba-179df2243d7b"
      },
      "source": [
        "#train_news_x ,train_news_y (사실이거는 그냥 train_y와 동일...)의 내용 확인.\n",
        "train_news_x.shape,  train_news_y.shape, test_news_x.shape"
      ],
      "execution_count": 32,
      "outputs": [
        {
          "output_type": "execute_result",
          "data": {
            "text/plain": [
              "((137, 300, 768, 30), (137, 15), (300, 768, 30))"
            ]
          },
          "metadata": {
            "tags": []
          },
          "execution_count": 32
        }
      ]
    },
    {
      "cell_type": "code",
      "metadata": {
        "id": "4-6YOmwqmBH5",
        "colab_type": "code",
        "outputId": "fcc02346-7a27-4e37-8686-6caeb834d0db",
        "colab": {
          "base_uri": "https://localhost:8080/",
          "height": 542
        }
      },
      "source": [
        "#\t\t2.5.2 doc2vec Window 의 Timeseries model 구성\n",
        "\n",
        "# 이게 최적의 layer 구성인지는 모름... 일반적/직관적으로 layer 설정 \n",
        "# 정성적 비정형 데이터로 정량적 수치 데이터를 추정 하기 때문에... overfit 가능성이 큼\n",
        "import keras\n",
        "from keras.layers import Dense, Activation, Flatten, Conv1D, MaxPooling1D, Conv2D, MaxPooling2D, Dropout\n",
        "from keras.models import Sequential\n",
        "\n",
        "#keras.backend.set_image_data_format('channels_last')\n",
        "\n",
        "model = Sequential()\n",
        "model.add(Conv2D(64,(3,3), input_shape=(max_buz_per_day,vec_size,news_window)))\n",
        "model.add(Activation('relu'))\n",
        "model.add(MaxPooling2D(pool_size=(3,3)))\n",
        "\n",
        "model.add(Conv2D(32,(3,3)))\n",
        "model.add(Activation('relu'))\n",
        "model.add(MaxPooling2D(pool_size=(3,3)))\n",
        "\n",
        "model.add(Flatten())\n",
        "model.add(Dense(1024,activation=\"relu\"))\n",
        "#model.add(Dropout(0.3))\n",
        "model.add(Dense(32,activation=\"relu\"))\n",
        "model.add(Dense(news_forecast_days))\n",
        "model.add(Activation('linear'))\n",
        "\n",
        "model.compile(loss=keras.losses.mean_squared_error, optimizer=keras.optimizers.Adam(),metrics=['mae',r2])\n",
        "\n",
        "model.summary()"
      ],
      "execution_count": 33,
      "outputs": [
        {
          "output_type": "stream",
          "text": [
            "Model: \"sequential_3\"\n",
            "_________________________________________________________________\n",
            "Layer (type)                 Output Shape              Param #   \n",
            "=================================================================\n",
            "conv2d_1 (Conv2D)            (None, 298, 766, 64)      17344     \n",
            "_________________________________________________________________\n",
            "activation_8 (Activation)    (None, 298, 766, 64)      0         \n",
            "_________________________________________________________________\n",
            "max_pooling2d_1 (MaxPooling2 (None, 99, 255, 64)       0         \n",
            "_________________________________________________________________\n",
            "conv2d_2 (Conv2D)            (None, 97, 253, 32)       18464     \n",
            "_________________________________________________________________\n",
            "activation_9 (Activation)    (None, 97, 253, 32)       0         \n",
            "_________________________________________________________________\n",
            "max_pooling2d_2 (MaxPooling2 (None, 32, 84, 32)        0         \n",
            "_________________________________________________________________\n",
            "flatten_3 (Flatten)          (None, 86016)             0         \n",
            "_________________________________________________________________\n",
            "dense_5 (Dense)              (None, 1024)              88081408  \n",
            "_________________________________________________________________\n",
            "dense_6 (Dense)              (None, 32)                32800     \n",
            "_________________________________________________________________\n",
            "dense_7 (Dense)              (None, 15)                495       \n",
            "_________________________________________________________________\n",
            "activation_10 (Activation)   (None, 15)                0         \n",
            "=================================================================\n",
            "Total params: 88,150,511\n",
            "Trainable params: 88,150,511\n",
            "Non-trainable params: 0\n",
            "_________________________________________________________________\n"
          ],
          "name": "stdout"
        }
      ]
    },
    {
      "cell_type": "code",
      "metadata": {
        "id": "9IT3hfRLmBH8",
        "colab_type": "code",
        "outputId": "0dd4d539-cde3-46de-e61c-529ec7ce5522",
        "colab": {
          "base_uri": "https://localhost:8080/",
          "height": 34
        }
      },
      "source": [
        "#\t\t2.5.3 doc2vec의 Window 적용 Timeseries Trainset으로 model training\n",
        "\n",
        "epochs=50\n",
        "hist = model.fit(train_news_x, train_news_y, epochs=epochs,verbose=0, callbacks=[VerboseCallback(epochs)])\n"
      ],
      "execution_count": 34,
      "outputs": [
        {
          "output_type": "stream",
          "text": [
            "learning:[==========] 10/10 {'loss': 194349156.78832117, 'mae': 10797.47, 'r2': -1.0323589}\n"
          ],
          "name": "stdout"
        }
      ]
    },
    {
      "cell_type": "code",
      "metadata": {
        "id": "WdfZN45VmBH_",
        "colab_type": "code",
        "outputId": "d058fa84-26ed-4a00-8fe2-3ad783f64d0e",
        "colab": {
          "base_uri": "https://localhost:8080/",
          "height": 573
        }
      },
      "source": [
        "#\t\t2.5.4 학습에 대한 mean_absolute_error 확인.\n",
        "\n",
        "plot_mae(hist)\n",
        "plot_r2(hist)"
      ],
      "execution_count": 35,
      "outputs": [
        {
          "output_type": "display_data",
          "data": {
            "image/png": "[encoded data removed]",
            "text/plain": [
              "<Figure size 432x288 with 1 Axes>"
            ]
          },
          "metadata": {
            "tags": [],
            "needs_background": "light"
          }
        },
        {
          "output_type": "display_data",
          "data": {
            "image/png": "[encoded data removed]",
            "text/plain": [
              "<Figure size 432x288 with 1 Axes>"
            ]
          },
          "metadata": {
            "tags": [],
            "needs_background": "light"
          }
        }
      ]
    },
    {
      "cell_type": "code",
      "metadata": {
        "id": "yhnW5i-TmBIC",
        "colab_type": "code",
        "outputId": "9827819c-f7e5-44d8-91cb-f6554d12908d",
        "colab": {
          "base_uri": "https://localhost:8080/",
          "height": 244
        }
      },
      "source": [
        "#\t\t2.5.5 trainset에 의한 과거 data의 예측 입국자 추정 \n",
        "\n",
        "predit_news_y = model.predict(train_news_x)\n",
        "predit_news_y,predit_news_y.shape"
      ],
      "execution_count": 36,
      "outputs": [
        {
          "output_type": "execute_result",
          "data": {
            "text/plain": [
              "(array([[ 1762.3743 ,  1554.1637 ,  1612.1525 , ...,  1213.4518 ,\n",
              "           798.59076,  1019.7017 ],\n",
              "        [ 1762.3743 ,  1554.1637 ,  1612.1525 , ...,  1213.4518 ,\n",
              "           798.59076,  1019.7017 ],\n",
              "        [ 1893.0986 ,  1654.143  ,  1739.5994 , ...,  1295.8854 ,\n",
              "           843.97784,  1097.1465 ],\n",
              "        ...,\n",
              "        [11466.065  , 11336.799  , 10220.942  , ...,  7959.695  ,\n",
              "          6197.4897 ,  6642.136  ],\n",
              "        [11990.779  , 11807.13   , 10700.562  , ...,  8322.112  ,\n",
              "          6445.1694 ,  6940.798  ],\n",
              "        [12731.846  , 12494.174  , 11362.188  , ...,  8836.032  ,\n",
              "          6809.1523 ,  7369.887  ]], dtype=float32), (137, 15))"
            ]
          },
          "metadata": {
            "tags": []
          },
          "execution_count": 36
        }
      ]
    },
    {
      "cell_type": "code",
      "metadata": {
        "id": "tmtYu_icWxnG",
        "colab_type": "code",
        "colab": {
          "base_uri": "https://localhost:8080/",
          "height": 508
        },
        "outputId": "5c1b94ec-7db4-4826-c322-0d8b6c1dddd1"
      },
      "source": [
        "compare_backdata(predit_news_y)"
      ],
      "execution_count": 38,
      "outputs": [
        {
          "output_type": "display_data",
          "data": {
            "image/png": "[encoded data removed]",
            "text/plain": [
              "<Figure size 1152x576 with 1 Axes>"
            ]
          },
          "metadata": {
            "tags": [],
            "needs_background": "light"
          }
        }
      ]
    },
    {
      "cell_type": "code",
      "metadata": {
        "id": "0YJGLJ8NmBIL",
        "colab_type": "code",
        "outputId": "dea7ae41-949b-4a43-fbca-6dc770a8b437",
        "colab": {
          "base_uri": "https://localhost:8080/",
          "height": 69
        }
      },
      "source": [
        "# \t2.6  향후 15일 예측\n",
        "# \t\t2.6.1 testset (마지막 30일)의 inference\n",
        "\n",
        "test_news_x = test_news_x.reshape(-1,max_buz_per_day,vec_size,news_window)\n",
        "predit_y = model.predict(test_news_x)\n",
        "predit_y,predit_y.shape"
      ],
      "execution_count": 40,
      "outputs": [
        {
          "output_type": "execute_result",
          "data": {
            "text/plain": [
              "(array([[5879.7686, 6232.8286, 5219.9404, 5095.7036, 5000.861 , 4861.056 ,\n",
              "         4530.5464, 4064.9436, 4954.2373, 4354.502 , 4503.6265, 3895.6199,\n",
              "         4035.357 , 3481.6792, 3343.9783]], dtype=float32), (1, 15))"
            ]
          },
          "metadata": {
            "tags": []
          },
          "execution_count": 40
        }
      ]
    },
    {
      "cell_type": "code",
      "metadata": {
        "id": "KKpbqA0CpB8v",
        "colab_type": "code",
        "colab": {
          "base_uri": "https://localhost:8080/",
          "height": 855
        },
        "outputId": "29156bde-7b8b-404a-f0af-ff2d54c5799f"
      },
      "source": [
        "\n",
        "# 1.6.2 로밍등록자 예측 Count에서 실입국자 보정 처리 및 결과 표출\n",
        "\n",
        "display_result(predit_y)"
      ],
      "execution_count": 41,
      "outputs": [
        {
          "output_type": "execute_result",
          "data": {
            "text/html": [
              "<div>\n",
              "<style scoped>\n",
              "    .dataframe tbody tr th:only-of-type {\n",
              "        vertical-align: middle;\n",
              "    }\n",
              "\n",
              "    .dataframe tbody tr th {\n",
              "        vertical-align: top;\n",
              "    }\n",
              "\n",
              "    .dataframe thead th {\n",
              "        text-align: right;\n",
              "    }\n",
              "</style>\n",
              "<table border=\"1\" class=\"dataframe\">\n",
              "  <thead>\n",
              "    <tr style=\"text-align: right;\">\n",
              "      <th></th>\n",
              "      <th>date</th>\n",
              "      <th>roaming register forecate</th>\n",
              "      <th>immigrantion forecast</th>\n",
              "    </tr>\n",
              "  </thead>\n",
              "  <tbody>\n",
              "    <tr>\n",
              "      <th>0</th>\n",
              "      <td>2020-04-29</td>\n",
              "      <td>5879.768555</td>\n",
              "      <td>24499</td>\n",
              "    </tr>\n",
              "    <tr>\n",
              "      <th>1</th>\n",
              "      <td>2020-04-30</td>\n",
              "      <td>6232.828613</td>\n",
              "      <td>25970</td>\n",
              "    </tr>\n",
              "    <tr>\n",
              "      <th>2</th>\n",
              "      <td>2020-05-01</td>\n",
              "      <td>5219.940430</td>\n",
              "      <td>21749</td>\n",
              "    </tr>\n",
              "    <tr>\n",
              "      <th>3</th>\n",
              "      <td>2020-05-02</td>\n",
              "      <td>5095.703613</td>\n",
              "      <td>21232</td>\n",
              "    </tr>\n",
              "    <tr>\n",
              "      <th>4</th>\n",
              "      <td>2020-05-03</td>\n",
              "      <td>5000.860840</td>\n",
              "      <td>20836</td>\n",
              "    </tr>\n",
              "    <tr>\n",
              "      <th>5</th>\n",
              "      <td>2020-05-04</td>\n",
              "      <td>4861.056152</td>\n",
              "      <td>20254</td>\n",
              "    </tr>\n",
              "    <tr>\n",
              "      <th>6</th>\n",
              "      <td>2020-05-05</td>\n",
              "      <td>4530.546387</td>\n",
              "      <td>18877</td>\n",
              "    </tr>\n",
              "    <tr>\n",
              "      <th>7</th>\n",
              "      <td>2020-05-06</td>\n",
              "      <td>4064.943604</td>\n",
              "      <td>16937</td>\n",
              "    </tr>\n",
              "    <tr>\n",
              "      <th>8</th>\n",
              "      <td>2020-05-07</td>\n",
              "      <td>4954.237305</td>\n",
              "      <td>20642</td>\n",
              "    </tr>\n",
              "    <tr>\n",
              "      <th>9</th>\n",
              "      <td>2020-05-08</td>\n",
              "      <td>4354.501953</td>\n",
              "      <td>18143</td>\n",
              "    </tr>\n",
              "    <tr>\n",
              "      <th>10</th>\n",
              "      <td>2020-05-09</td>\n",
              "      <td>4503.626465</td>\n",
              "      <td>18765</td>\n",
              "    </tr>\n",
              "    <tr>\n",
              "      <th>11</th>\n",
              "      <td>2020-05-10</td>\n",
              "      <td>3895.619873</td>\n",
              "      <td>16231</td>\n",
              "    </tr>\n",
              "    <tr>\n",
              "      <th>12</th>\n",
              "      <td>2020-05-11</td>\n",
              "      <td>4035.356934</td>\n",
              "      <td>16813</td>\n",
              "    </tr>\n",
              "    <tr>\n",
              "      <th>13</th>\n",
              "      <td>2020-05-12</td>\n",
              "      <td>3481.679199</td>\n",
              "      <td>14506</td>\n",
              "    </tr>\n",
              "    <tr>\n",
              "      <th>14</th>\n",
              "      <td>2020-05-13</td>\n",
              "      <td>3343.978271</td>\n",
              "      <td>13933</td>\n",
              "    </tr>\n",
              "  </tbody>\n",
              "</table>\n",
              "</div>"
            ],
            "text/plain": [
              "         date  roaming register forecate  immigrantion forecast\n",
              "0  2020-04-29                5879.768555                  24499\n",
              "1  2020-04-30                6232.828613                  25970\n",
              "2  2020-05-01                5219.940430                  21749\n",
              "3  2020-05-02                5095.703613                  21232\n",
              "4  2020-05-03                5000.860840                  20836\n",
              "5  2020-05-04                4861.056152                  20254\n",
              "6  2020-05-05                4530.546387                  18877\n",
              "7  2020-05-06                4064.943604                  16937\n",
              "8  2020-05-07                4954.237305                  20642\n",
              "9  2020-05-08                4354.501953                  18143\n",
              "10 2020-05-09                4503.626465                  18765\n",
              "11 2020-05-10                3895.619873                  16231\n",
              "12 2020-05-11                4035.356934                  16813\n",
              "13 2020-05-12                3481.679199                  14506\n",
              "14 2020-05-13                3343.978271                  13933"
            ]
          },
          "metadata": {
            "tags": []
          },
          "execution_count": 41
        },
        {
          "output_type": "display_data",
          "data": {
            "image/png": "[encoded data removed]",
            "text/plain": [
              "<Figure size 432x288 with 1 Axes>"
            ]
          },
          "metadata": {
            "tags": [],
            "needs_background": "light"
          }
        }
      ]
    },
    {
      "cell_type": "code",
      "metadata": {
        "id": "pgPlcGXrmBIU",
        "colab_type": "code",
        "outputId": "2eea72f7-c647-4a56-844b-7cf1df0a27da",
        "colab": {
          "base_uri": "https://localhost:8080/",
          "height": 34
        }
      },
      "source": [
        "train_x.shape"
      ],
      "execution_count": 43,
      "outputs": [
        {
          "output_type": "execute_result",
          "data": {
            "text/plain": [
              "(137, 30, 174)"
            ]
          },
          "metadata": {
            "tags": []
          },
          "execution_count": 43
        }
      ]
    },
    {
      "cell_type": "code",
      "metadata": {
        "id": "B-wfUj98mBIX",
        "colab_type": "code",
        "outputId": "c2459066-994a-46e8-c95a-6bde89b8a4c9",
        "colab": {
          "base_uri": "https://localhost:8080/",
          "height": 874
        }
      },
      "source": [
        "#\t3.2 Numeric timeseries and unstructured timeseries combined model 구성\n",
        "import keras\n",
        "from keras import Input, Model\n",
        "from keras.layers import Dense, Activation, Flatten, Conv1D, MaxPooling1D, Conv2D, MaxPooling2D, concatenate\n",
        "\n",
        "# custom R2-score metrics for keras backend\n",
        "from keras import backend as K\n",
        "\n",
        "# define two sets of inputs\n",
        "input_roaming = Input(shape=(window, size))\n",
        "input_news = Input(shape=(max_buz_per_day,vec_size,news_window))\n",
        "\n",
        "# 로밍등록자에 대한 1D Convilution layer 구성\n",
        "x = Conv1D(128,4, activation=\"relu\",padding=\"same\")(input_roaming)\n",
        "x = MaxPooling1D(pool_size=2)(x)\n",
        "x = Conv1D(64,4, activation=\"relu\",padding=\"same\")(x)\n",
        "x = MaxPooling1D(pool_size=2)(x)\n",
        "x = Conv1D(32,4, activation=\"relu\",padding=\"same\")(x)\n",
        "x = MaxPooling1D(pool_size=2)(x)\n",
        "x = Flatten()(x)\n",
        "x = Dense(256)(x)\n",
        "x = Model(inputs=input_roaming, outputs=x)\n",
        "\n",
        "\n",
        "# news에 대한 2D Convolution layer 구성\n",
        "y = Conv2D(64,(3,3), activation=\"relu\")(input_news)\n",
        "y = MaxPooling2D(pool_size=(3,3))(y)\n",
        "y = Conv2D(32,(2,2), activation=\"relu\")(y)\n",
        "y = MaxPooling2D(pool_size=(3,3))(y)\n",
        "y = Flatten()(y)\n",
        "y = Dense(1024,activation=\"relu\")(y)\n",
        "#y = Dropout(0.5)(y)\n",
        "y = Dense(32,activation=\"relu\")(y)\n",
        "y = Model(inputs=input_news, outputs=y)\n",
        "\n",
        "# combine the output of the two branches\n",
        "combined = concatenate([x.output, y.output])\n",
        "\n",
        "# apply a FC layer and then a regression prediction on the\n",
        "# combined outputs\n",
        "z = Dense(forecast_days, activation=\"linear\")(combined)\n",
        "\n",
        "# our model will accept the inputs of the two branches and\n",
        "# then output a single value\n",
        "model = Model(inputs=[x.input, y.input], outputs=z)\n",
        "\n",
        "model.compile(loss=keras.losses.mean_squared_error, optimizer=keras.optimizers.Adam(),metrics=['mae',r2])\n",
        "\n",
        "print(model.summary())\n",
        "\n",
        "model_json = model.to_json()\n",
        "with open(\"combined_model.json\", \"w\") as json_file:\n",
        "    json_file.write(model_json)\n",
        "json_file.close()\n",
        "\n",
        "print(\"save to combined_model.json\")"
      ],
      "execution_count": 44,
      "outputs": [
        {
          "output_type": "stream",
          "text": [
            "Model: \"model_3\"\n",
            "__________________________________________________________________________________________________\n",
            "Layer (type)                    Output Shape         Param #     Connected to                     \n",
            "==================================================================================================\n",
            "input_1 (InputLayer)            (None, 30, 174)      0                                            \n",
            "__________________________________________________________________________________________________\n",
            "conv1d_6 (Conv1D)               (None, 30, 128)      89216       input_1[0][0]                    \n",
            "__________________________________________________________________________________________________\n",
            "input_2 (InputLayer)            (None, 300, 768, 30) 0                                            \n",
            "__________________________________________________________________________________________________\n",
            "max_pooling1d_6 (MaxPooling1D)  (None, 15, 128)      0           conv1d_6[0][0]                   \n",
            "__________________________________________________________________________________________________\n",
            "conv2d_3 (Conv2D)               (None, 298, 766, 64) 17344       input_2[0][0]                    \n",
            "__________________________________________________________________________________________________\n",
            "conv1d_7 (Conv1D)               (None, 15, 64)       32832       max_pooling1d_6[0][0]            \n",
            "__________________________________________________________________________________________________\n",
            "max_pooling2d_3 (MaxPooling2D)  (None, 99, 255, 64)  0           conv2d_3[0][0]                   \n",
            "__________________________________________________________________________________________________\n",
            "max_pooling1d_7 (MaxPooling1D)  (None, 7, 64)        0           conv1d_7[0][0]                   \n",
            "__________________________________________________________________________________________________\n",
            "conv2d_4 (Conv2D)               (None, 98, 254, 32)  8224        max_pooling2d_3[0][0]            \n",
            "__________________________________________________________________________________________________\n",
            "conv1d_8 (Conv1D)               (None, 7, 32)        8224        max_pooling1d_7[0][0]            \n",
            "__________________________________________________________________________________________________\n",
            "max_pooling2d_4 (MaxPooling2D)  (None, 32, 84, 32)   0           conv2d_4[0][0]                   \n",
            "__________________________________________________________________________________________________\n",
            "max_pooling1d_8 (MaxPooling1D)  (None, 3, 32)        0           conv1d_8[0][0]                   \n",
            "__________________________________________________________________________________________________\n",
            "flatten_5 (Flatten)             (None, 86016)        0           max_pooling2d_4[0][0]            \n",
            "__________________________________________________________________________________________________\n",
            "flatten_4 (Flatten)             (None, 96)           0           max_pooling1d_8[0][0]            \n",
            "__________________________________________________________________________________________________\n",
            "dense_9 (Dense)                 (None, 1024)         88081408    flatten_5[0][0]                  \n",
            "__________________________________________________________________________________________________\n",
            "dense_8 (Dense)                 (None, 256)          24832       flatten_4[0][0]                  \n",
            "__________________________________________________________________________________________________\n",
            "dense_10 (Dense)                (None, 32)           32800       dense_9[0][0]                    \n",
            "__________________________________________________________________________________________________\n",
            "concatenate_1 (Concatenate)     (None, 288)          0           dense_8[0][0]                    \n",
            "                                                                 dense_10[0][0]                   \n",
            "__________________________________________________________________________________________________\n",
            "dense_11 (Dense)                (None, 15)           4335        concatenate_1[0][0]              \n",
            "==================================================================================================\n",
            "Total params: 88,299,215\n",
            "Trainable params: 88,299,215\n",
            "Non-trainable params: 0\n",
            "__________________________________________________________________________________________________\n",
            "None\n",
            "save to combined_model.json\n"
          ],
          "name": "stdout"
        }
      ]
    },
    {
      "cell_type": "code",
      "metadata": {
        "id": "4NyAuwQvmBId",
        "colab_type": "code",
        "outputId": "52817e45-3782-4989-904e-8e1b65283326",
        "colab": {
          "base_uri": "https://localhost:8080/",
          "height": 52
        }
      },
      "source": [
        "#\t3.3 Numeric timeseries and unstructured timeseries data train\n",
        "\n",
        "def train_combined_model(trial,epochs=30,verbose=0):\n",
        "    from keras.models import model_from_json\n",
        "    json_file = open(\"combined_model.json\", \"r\")\n",
        "    loaded_model_json = json_file.read()\n",
        "    json_file.close()\n",
        "    model = model_from_json(loaded_model_json)\n",
        "    model.compile(loss=keras.losses.mean_squared_error, optimizer=keras.optimizers.Adam(),metrics=['mae','acc'])\n",
        "    #print(model.summary())\n",
        "    print(str(trial),\"th Trial\")\n",
        "    if verbose == 0:\n",
        "        hist = model.fit([train_x,train_news_x], train_y, epochs=epochs,verbose=0,callbacks=[VerboseCallback(epochs)])\n",
        "    else:\n",
        "        hist = model.fit([train_x,train_news_x], train_y, epochs=epochs,verbose=1)\n",
        "    return model,hist\n",
        "\n",
        "model,hist = train_combined_model(1,epochs=10)"
      ],
      "execution_count": 45,
      "outputs": [
        {
          "output_type": "stream",
          "text": [
            "1 th Trial\n",
            "learning:[==========] 10/10 {'loss': 10118841.708029198, 'mae': 2126.8977, 'acc': 0.29927006}\n"
          ],
          "name": "stdout"
        }
      ]
    },
    {
      "cell_type": "code",
      "metadata": {
        "id": "9hY0Op1rmBIh",
        "colab_type": "code",
        "outputId": "f6659ae3-1db4-43b7-c051-54b5c00e3959",
        "colab": {
          "base_uri": "https://localhost:8080/",
          "height": 603
        }
      },
      "source": [
        "#\t\t3.3.1 학습에 대한 mean_absolute_error 확인.\n",
        "\n",
        "plot_mae(hist)\n",
        "plot_r2(hist)"
      ],
      "execution_count": 46,
      "outputs": [
        {
          "output_type": "display_data",
          "data": {
            "image/png": "[encoded data removed]",
            "text/plain": [
              "<Figure size 432x288 with 1 Axes>"
            ]
          },
          "metadata": {
            "tags": [],
            "needs_background": "light"
          }
        },
        {
          "output_type": "error",
          "ename": "KeyError",
          "evalue": "ignored",
          "traceback": [
            "\u001b[0;31m---------------------------------------------------------------------------\u001b[0m",
            "\u001b[0;31mKeyError\u001b[0m                                  Traceback (most recent call last)",
            "\u001b[0;32m<ipython-input-46-064d99dd164d>\u001b[0m in \u001b[0;36m<module>\u001b[0;34m()\u001b[0m\n\u001b[1;32m      1\u001b[0m \u001b[0;34m\u001b[0m\u001b[0m\n\u001b[1;32m      2\u001b[0m \u001b[0mplot_mae\u001b[0m\u001b[0;34m(\u001b[0m\u001b[0mhist\u001b[0m\u001b[0;34m)\u001b[0m\u001b[0;34m\u001b[0m\u001b[0;34m\u001b[0m\u001b[0m\n\u001b[0;32m----> 3\u001b[0;31m \u001b[0mplot_r2\u001b[0m\u001b[0;34m(\u001b[0m\u001b[0mhist\u001b[0m\u001b[0;34m)\u001b[0m\u001b[0;34m\u001b[0m\u001b[0;34m\u001b[0m\u001b[0m\n\u001b[0m",
            "\u001b[0;32m<ipython-input-1-f31556211bc3>\u001b[0m in \u001b[0;36mplot_r2\u001b[0;34m(hist)\u001b[0m\n\u001b[1;32m     22\u001b[0m \u001b[0;34m\u001b[0m\u001b[0m\n\u001b[1;32m     23\u001b[0m \u001b[0;32mdef\u001b[0m \u001b[0mplot_r2\u001b[0m\u001b[0;34m(\u001b[0m\u001b[0mhist\u001b[0m\u001b[0;34m)\u001b[0m\u001b[0;34m:\u001b[0m\u001b[0;34m\u001b[0m\u001b[0;34m\u001b[0m\u001b[0m\n\u001b[0;32m---> 24\u001b[0;31m     \u001b[0mplt\u001b[0m\u001b[0;34m.\u001b[0m\u001b[0mplot\u001b[0m\u001b[0;34m(\u001b[0m\u001b[0mhist\u001b[0m\u001b[0;34m.\u001b[0m\u001b[0mhistory\u001b[0m\u001b[0;34m[\u001b[0m\u001b[0;34m'r2'\u001b[0m\u001b[0;34m]\u001b[0m\u001b[0;34m)\u001b[0m\u001b[0;34m\u001b[0m\u001b[0;34m\u001b[0m\u001b[0m\n\u001b[0m\u001b[1;32m     25\u001b[0m     \u001b[0mplt\u001b[0m\u001b[0;34m.\u001b[0m\u001b[0mtitle\u001b[0m\u001b[0;34m(\u001b[0m\u001b[0;34m'R square'\u001b[0m\u001b[0;34m)\u001b[0m\u001b[0;34m\u001b[0m\u001b[0;34m\u001b[0m\u001b[0m\n\u001b[1;32m     26\u001b[0m     \u001b[0mplt\u001b[0m\u001b[0;34m.\u001b[0m\u001b[0mylabel\u001b[0m\u001b[0;34m(\u001b[0m\u001b[0;34m'R^2'\u001b[0m\u001b[0;34m)\u001b[0m\u001b[0;34m\u001b[0m\u001b[0;34m\u001b[0m\u001b[0m\n",
            "\u001b[0;31mKeyError\u001b[0m: 'r2'"
          ]
        }
      ]
    },
    {
      "cell_type": "code",
      "metadata": {
        "id": "D6jMHP3JmBIl",
        "colab_type": "code",
        "outputId": "b99f1134-2e03-4f5b-ccc8-cb3547d51036",
        "colab": {
          "base_uri": "https://localhost:8080/",
          "height": 244
        }
      },
      "source": [
        "#\t\t3.3.2 trainset에 의한 과거 data의 예측 입국자 count \n",
        "\n",
        "predit_y = model.predict([train_x,train_news_x])\n",
        "predit_y,predit_y.shape"
      ],
      "execution_count": 47,
      "outputs": [
        {
          "output_type": "execute_result",
          "data": {
            "text/plain": [
              "(array([[ 8509.647   ,  8813.012   ,  7503.825   , ...,  8196.768   ,\n",
              "          8614.56    ,  8624.076   ],\n",
              "        [11536.774   , 11957.084   , 10137.21    , ..., 11083.943   ,\n",
              "         11664.147   , 11628.58    ],\n",
              "        [14495.839   , 15102.252   , 12779.602   , ..., 13968.792   ,\n",
              "         14699.5205  , 14645.201   ],\n",
              "        ...,\n",
              "        [  658.8501  ,   616.319   ,   535.1891  , ...,    38.44062 ,\n",
              "           216.36282 ,   142.69402 ],\n",
              "        [  635.7887  ,   601.35754 ,   518.9001  , ...,    40.078392,\n",
              "           220.12561 ,   143.29958 ],\n",
              "        [  619.47974 ,   598.74774 ,   508.88824 , ...,    58.29139 ,\n",
              "           232.22421 ,   150.32776 ]], dtype=float32), (137, 15))"
            ]
          },
          "metadata": {
            "tags": []
          },
          "execution_count": 47
        }
      ]
    },
    {
      "cell_type": "code",
      "metadata": {
        "id": "AVcm1wJ6mBIo",
        "colab_type": "code",
        "outputId": "f0ccafdc-1f81-4e29-d016-b3b8daca06a9",
        "colab": {
          "base_uri": "https://localhost:8080/",
          "height": 508
        }
      },
      "source": [
        "# window와 forecast_days에 의해 실제 날자와 차이나는 부분의 보정 처리...\n",
        "compare_backdata(predit_y)"
      ],
      "execution_count": 48,
      "outputs": [
        {
          "output_type": "display_data",
          "data": {
            "image/png": "[encoded data removed]",
            "text/plain": [
              "<Figure size 1152x576 with 1 Axes>"
            ]
          },
          "metadata": {
            "tags": [],
            "needs_background": "light"
          }
        }
      ]
    },
    {
      "cell_type": "code",
      "metadata": {
        "id": "KZrDFyAjmBIq",
        "colab_type": "code",
        "outputId": "cc2cbbbd-7dc9-471f-b4df-c55907401d59",
        "colab": {
          "base_uri": "https://localhost:8080/",
          "height": 87
        }
      },
      "source": [
        "# \t3.4  향후 15일 예측\n",
        "# \t\t3.4.1 testset (마지막 30일)의 inference\n",
        "\n",
        "predit_y = model.predict([test_x,test_news_x])\n",
        "predit_y,predit_y.shape"
      ],
      "execution_count": 49,
      "outputs": [
        {
          "output_type": "execute_result",
          "data": {
            "text/plain": [
              "(array([[427.75516 , 498.94574 , 398.9718  , 318.7315  , 241.84334 ,\n",
              "         546.5946  , 395.7372  , 267.30627 , 317.04565 , 479.8747  ,\n",
              "         231.41652 , 165.60902 , -29.187752, 147.89886 ,   5.987914]],\n",
              "       dtype=float32), (1, 15))"
            ]
          },
          "metadata": {
            "tags": []
          },
          "execution_count": 49
        }
      ]
    },
    {
      "cell_type": "code",
      "metadata": {
        "id": "mDnBRn2rmBIt",
        "colab_type": "code",
        "outputId": "d9a65a14-6e5d-44fe-cb98-d0e0e5532bb5",
        "colab": {
          "base_uri": "https://localhost:8080/",
          "height": 855
        }
      },
      "source": [
        "# \t\t3.4.2 로밍등록자 예측 Count에서 실입국자 보정 처리 및 결과 표출\n",
        "\n",
        "display_result(predit_y)"
      ],
      "execution_count": 50,
      "outputs": [
        {
          "output_type": "execute_result",
          "data": {
            "text/html": [
              "<div>\n",
              "<style scoped>\n",
              "    .dataframe tbody tr th:only-of-type {\n",
              "        vertical-align: middle;\n",
              "    }\n",
              "\n",
              "    .dataframe tbody tr th {\n",
              "        vertical-align: top;\n",
              "    }\n",
              "\n",
              "    .dataframe thead th {\n",
              "        text-align: right;\n",
              "    }\n",
              "</style>\n",
              "<table border=\"1\" class=\"dataframe\">\n",
              "  <thead>\n",
              "    <tr style=\"text-align: right;\">\n",
              "      <th></th>\n",
              "      <th>date</th>\n",
              "      <th>roaming register forecate</th>\n",
              "      <th>immigrantion forecast</th>\n",
              "    </tr>\n",
              "  </thead>\n",
              "  <tbody>\n",
              "    <tr>\n",
              "      <th>0</th>\n",
              "      <td>2020-04-29</td>\n",
              "      <td>427.755157</td>\n",
              "      <td>1782</td>\n",
              "    </tr>\n",
              "    <tr>\n",
              "      <th>1</th>\n",
              "      <td>2020-04-30</td>\n",
              "      <td>498.945740</td>\n",
              "      <td>2078</td>\n",
              "    </tr>\n",
              "    <tr>\n",
              "      <th>2</th>\n",
              "      <td>2020-05-01</td>\n",
              "      <td>398.971802</td>\n",
              "      <td>1662</td>\n",
              "    </tr>\n",
              "    <tr>\n",
              "      <th>3</th>\n",
              "      <td>2020-05-02</td>\n",
              "      <td>318.731506</td>\n",
              "      <td>1328</td>\n",
              "    </tr>\n",
              "    <tr>\n",
              "      <th>4</th>\n",
              "      <td>2020-05-03</td>\n",
              "      <td>241.843338</td>\n",
              "      <td>1007</td>\n",
              "    </tr>\n",
              "    <tr>\n",
              "      <th>5</th>\n",
              "      <td>2020-05-04</td>\n",
              "      <td>546.594604</td>\n",
              "      <td>2277</td>\n",
              "    </tr>\n",
              "    <tr>\n",
              "      <th>6</th>\n",
              "      <td>2020-05-05</td>\n",
              "      <td>395.737213</td>\n",
              "      <td>1648</td>\n",
              "    </tr>\n",
              "    <tr>\n",
              "      <th>7</th>\n",
              "      <td>2020-05-06</td>\n",
              "      <td>267.306274</td>\n",
              "      <td>1113</td>\n",
              "    </tr>\n",
              "    <tr>\n",
              "      <th>8</th>\n",
              "      <td>2020-05-07</td>\n",
              "      <td>317.045654</td>\n",
              "      <td>1321</td>\n",
              "    </tr>\n",
              "    <tr>\n",
              "      <th>9</th>\n",
              "      <td>2020-05-08</td>\n",
              "      <td>479.874695</td>\n",
              "      <td>1999</td>\n",
              "    </tr>\n",
              "    <tr>\n",
              "      <th>10</th>\n",
              "      <td>2020-05-09</td>\n",
              "      <td>231.416519</td>\n",
              "      <td>964</td>\n",
              "    </tr>\n",
              "    <tr>\n",
              "      <th>11</th>\n",
              "      <td>2020-05-10</td>\n",
              "      <td>165.609024</td>\n",
              "      <td>690</td>\n",
              "    </tr>\n",
              "    <tr>\n",
              "      <th>12</th>\n",
              "      <td>2020-05-11</td>\n",
              "      <td>-29.187752</td>\n",
              "      <td>-121</td>\n",
              "    </tr>\n",
              "    <tr>\n",
              "      <th>13</th>\n",
              "      <td>2020-05-12</td>\n",
              "      <td>147.898865</td>\n",
              "      <td>616</td>\n",
              "    </tr>\n",
              "    <tr>\n",
              "      <th>14</th>\n",
              "      <td>2020-05-13</td>\n",
              "      <td>5.987914</td>\n",
              "      <td>24</td>\n",
              "    </tr>\n",
              "  </tbody>\n",
              "</table>\n",
              "</div>"
            ],
            "text/plain": [
              "         date  roaming register forecate  immigrantion forecast\n",
              "0  2020-04-29                 427.755157                   1782\n",
              "1  2020-04-30                 498.945740                   2078\n",
              "2  2020-05-01                 398.971802                   1662\n",
              "3  2020-05-02                 318.731506                   1328\n",
              "4  2020-05-03                 241.843338                   1007\n",
              "5  2020-05-04                 546.594604                   2277\n",
              "6  2020-05-05                 395.737213                   1648\n",
              "7  2020-05-06                 267.306274                   1113\n",
              "8  2020-05-07                 317.045654                   1321\n",
              "9  2020-05-08                 479.874695                   1999\n",
              "10 2020-05-09                 231.416519                    964\n",
              "11 2020-05-10                 165.609024                    690\n",
              "12 2020-05-11                 -29.187752                   -121\n",
              "13 2020-05-12                 147.898865                    616\n",
              "14 2020-05-13                   5.987914                     24"
            ]
          },
          "metadata": {
            "tags": []
          },
          "execution_count": 50
        },
        {
          "output_type": "display_data",
          "data": {
            "image/png": "[encoded data removed]",
            "text/plain": [
              "<Figure size 432x288 with 1 Axes>"
            ]
          },
          "metadata": {
            "tags": [],
            "needs_background": "light"
          }
        }
      ]
    },
    {
      "cell_type": "code",
      "metadata": {
        "id": "SzoN4nPCmBIv",
        "colab_type": "code",
        "outputId": "c3124ae5-409e-409d-e7a3-32765fa99831",
        "colab": {
          "base_uri": "https://localhost:8080/",
          "height": 52
        }
      },
      "source": [
        "#\t3.5 ensemble에 의한 일관된 결과 예측\n",
        "#\t\t3.5.1 ensemble model 생성\n",
        "\n",
        "# 일관된 예측 결과를 만들기 위해, 동일 모델 10개의 앙상블 처리\n",
        "# 시간 무지 오래 걸림 식사하고 오세요~\n",
        "# 밥먹고 왔는데 중간에 실패 (Resource exhaustion) 되어 있을 수 있음...\n",
        "# 너무 오래 걸리면, epoch=200 을 조정 한다.\n",
        "import dill\n",
        "\n",
        "ensemble = []\n",
        "for i in range(10):\n",
        "  model,hist = train_combined_model(i+1,epochs=50,verbose=0)\n",
        "  ensemble.append(model)\n",
        "    \n",
        "print(\"Wait! saving model...\")    \n",
        "file = open(\"ensemble.mdl\", 'wb')\n",
        "dill.dump(ensemble, file)\n",
        "file.close()\n",
        "        \n",
        "print(\"Complete!!\")\n"
      ],
      "execution_count": 0,
      "outputs": [
        {
          "output_type": "stream",
          "text": [
            "1 th Trial\n",
            "\rlearning:[..................................................] 0/50 []"
          ],
          "name": "stdout"
        }
      ]
    },
    {
      "cell_type": "code",
      "metadata": {
        "id": "W8amtHQxmBI0",
        "colab_type": "code",
        "outputId": "5ccfe8b0-6022-47a3-ca77-a6e0aeb80715",
        "colab": {}
      },
      "source": [
        "if True == 0:\n",
        "    print(\"load from model file...\")\n",
        "    file = open(\"ensemble.mdl\", 'rb')\n",
        "    ensemble = dill.load(file)\n",
        "    file.close()\n",
        "\n",
        "# \t\tensemble_predict method define~\n",
        "def ensemble_predict(input_roam,input_news):\n",
        "\n",
        "    ensemble_predit_y =  np.asarray([m.predict([input_roam,input_news]) for m in ensemble])\n",
        "    predit_y = np.mean(ensemble_predit_y,axis=0)\n",
        "    return predit_y  "
      ],
      "execution_count": 0,
      "outputs": [
        {
          "output_type": "stream",
          "text": [
            "load from model file...\n"
          ],
          "name": "stdout"
        }
      ]
    },
    {
      "cell_type": "code",
      "metadata": {
        "id": "cDrxpZgrmBI5",
        "colab_type": "code",
        "outputId": "ebfb7a02-9797-48b9-c3c7-4ca5625a436c",
        "colab": {}
      },
      "source": [
        "# trainset에 의한 과거 data의 예측 입국자 count \n",
        "\n",
        "predit_y = ensemble_predict(train_x,train_news_x)\n",
        "predit_y,predit_y.shape"
      ],
      "execution_count": 0,
      "outputs": [
        {
          "output_type": "execute_result",
          "data": {
            "text/plain": [
              "(array([[1454.8618, 1341.3677, 1642.5879, ..., 1517.7333, 1477.5427,\n",
              "         1275.5654],\n",
              "        [1881.94  , 1736.8428, 2119.0366, ..., 1988.1199, 1928.3378,\n",
              "         1646.5934],\n",
              "        [2390.962 , 2196.547 , 2680.6392, ..., 2554.4556, 2453.9478,\n",
              "         2121.4321],\n",
              "        ...,\n",
              "        [1690.4011, 1610.4551, 1427.3438, ..., 1220.7158, 1175.4958,\n",
              "         1329.4995],\n",
              "        [1601.1267, 1528.0276, 1360.685 , ..., 1165.6377, 1122.4569,\n",
              "         1260.7192],\n",
              "        [1516.5452, 1458.0227, 1296.9839, ..., 1117.3247, 1073.4426,\n",
              "         1195.729 ]], dtype=float32),\n",
              " (137, 15))"
            ]
          },
          "metadata": {
            "tags": []
          },
          "execution_count": 93
        }
      ]
    },
    {
      "cell_type": "code",
      "metadata": {
        "id": "GWv2JPqvmBJB",
        "colab_type": "code",
        "outputId": "8709e595-6262-45c4-80e4-60086c39eac5",
        "colab": {}
      },
      "source": [
        "compare_backdata(predit_y)"
      ],
      "execution_count": 0,
      "outputs": [
        {
          "output_type": "display_data",
          "data": {
            "image/png": "[encoded data removed]",
            "text/plain": [
              "<Figure size 1152x576 with 1 Axes>"
            ]
          },
          "metadata": {
            "tags": [],
            "needs_background": "light"
          }
        }
      ]
    },
    {
      "cell_type": "code",
      "metadata": {
        "id": "_W0vj27HmBJE",
        "colab_type": "code",
        "outputId": "74e3b0d6-92b5-4f84-c6b3-10e4cb286665",
        "colab": {}
      },
      "source": [
        "# \n",
        "test_x = test_x.reshape(-1,window,size)\n",
        "test_news_x = test_news_x.reshape(-1,max_buz_per_day,vec_size,news_window)\n",
        "\n",
        "predit_y = ensemble_predict(test_x,test_news_x)\n",
        "predit_y, predit_y.shape"
      ],
      "execution_count": 0,
      "outputs": [
        {
          "output_type": "execute_result",
          "data": {
            "text/plain": [
              "(array([[682.4151 , 709.5459 , 620.25616, 255.07553, 449.54132, 558.4869 ,\n",
              "         488.46152, 724.5994 , 557.08655, 596.8591 , 696.68146, 423.2028 ,\n",
              "         453.44028, 647.7956 , 311.1008 ]], dtype=float32),\n",
              " (1, 15))"
            ]
          },
          "metadata": {
            "tags": []
          },
          "execution_count": 73
        }
      ]
    },
    {
      "cell_type": "code",
      "metadata": {
        "id": "VdUURU_omBJI",
        "colab_type": "code",
        "outputId": "21399d47-191b-4dfa-d913-8aa56f72fe89",
        "colab": {}
      },
      "source": [
        "#\t\t3.5.2 최종 결과\n",
        "display_result(predit_y)"
      ],
      "execution_count": 0,
      "outputs": [
        {
          "output_type": "execute_result",
          "data": {
            "text/html": [
              "<div>\n",
              "<style scoped>\n",
              "    .dataframe tbody tr th:only-of-type {\n",
              "        vertical-align: middle;\n",
              "    }\n",
              "\n",
              "    .dataframe tbody tr th {\n",
              "        vertical-align: top;\n",
              "    }\n",
              "\n",
              "    .dataframe thead th {\n",
              "        text-align: right;\n",
              "    }\n",
              "</style>\n",
              "<table border=\"1\" class=\"dataframe\">\n",
              "  <thead>\n",
              "    <tr style=\"text-align: right;\">\n",
              "      <th></th>\n",
              "      <th>date</th>\n",
              "      <th>roaming register forecate</th>\n",
              "      <th>immigrantion forecast</th>\n",
              "    </tr>\n",
              "  </thead>\n",
              "  <tbody>\n",
              "    <tr>\n",
              "      <th>0</th>\n",
              "      <td>2020-04-29</td>\n",
              "      <td>682.415100</td>\n",
              "      <td>2843</td>\n",
              "    </tr>\n",
              "    <tr>\n",
              "      <th>1</th>\n",
              "      <td>2020-04-30</td>\n",
              "      <td>709.545898</td>\n",
              "      <td>2956</td>\n",
              "    </tr>\n",
              "    <tr>\n",
              "      <th>2</th>\n",
              "      <td>2020-05-01</td>\n",
              "      <td>620.256165</td>\n",
              "      <td>2584</td>\n",
              "    </tr>\n",
              "    <tr>\n",
              "      <th>3</th>\n",
              "      <td>2020-05-02</td>\n",
              "      <td>255.075531</td>\n",
              "      <td>1062</td>\n",
              "    </tr>\n",
              "    <tr>\n",
              "      <th>4</th>\n",
              "      <td>2020-05-03</td>\n",
              "      <td>449.541321</td>\n",
              "      <td>1873</td>\n",
              "    </tr>\n",
              "    <tr>\n",
              "      <th>5</th>\n",
              "      <td>2020-05-04</td>\n",
              "      <td>558.486877</td>\n",
              "      <td>2327</td>\n",
              "    </tr>\n",
              "    <tr>\n",
              "      <th>6</th>\n",
              "      <td>2020-05-05</td>\n",
              "      <td>488.461517</td>\n",
              "      <td>2035</td>\n",
              "    </tr>\n",
              "    <tr>\n",
              "      <th>7</th>\n",
              "      <td>2020-05-06</td>\n",
              "      <td>724.599426</td>\n",
              "      <td>3019</td>\n",
              "    </tr>\n",
              "    <tr>\n",
              "      <th>8</th>\n",
              "      <td>2020-05-07</td>\n",
              "      <td>557.086548</td>\n",
              "      <td>2321</td>\n",
              "    </tr>\n",
              "    <tr>\n",
              "      <th>9</th>\n",
              "      <td>2020-05-08</td>\n",
              "      <td>596.859070</td>\n",
              "      <td>2486</td>\n",
              "    </tr>\n",
              "    <tr>\n",
              "      <th>10</th>\n",
              "      <td>2020-05-09</td>\n",
              "      <td>696.681458</td>\n",
              "      <td>2902</td>\n",
              "    </tr>\n",
              "    <tr>\n",
              "      <th>11</th>\n",
              "      <td>2020-05-10</td>\n",
              "      <td>423.202789</td>\n",
              "      <td>1763</td>\n",
              "    </tr>\n",
              "    <tr>\n",
              "      <th>12</th>\n",
              "      <td>2020-05-11</td>\n",
              "      <td>453.440277</td>\n",
              "      <td>1889</td>\n",
              "    </tr>\n",
              "    <tr>\n",
              "      <th>13</th>\n",
              "      <td>2020-05-12</td>\n",
              "      <td>647.795593</td>\n",
              "      <td>2699</td>\n",
              "    </tr>\n",
              "    <tr>\n",
              "      <th>14</th>\n",
              "      <td>2020-05-13</td>\n",
              "      <td>311.100800</td>\n",
              "      <td>1296</td>\n",
              "    </tr>\n",
              "  </tbody>\n",
              "</table>\n",
              "</div>"
            ],
            "text/plain": [
              "         date  roaming register forecate  immigrantion forecast\n",
              "0  2020-04-29                 682.415100                   2843\n",
              "1  2020-04-30                 709.545898                   2956\n",
              "2  2020-05-01                 620.256165                   2584\n",
              "3  2020-05-02                 255.075531                   1062\n",
              "4  2020-05-03                 449.541321                   1873\n",
              "5  2020-05-04                 558.486877                   2327\n",
              "6  2020-05-05                 488.461517                   2035\n",
              "7  2020-05-06                 724.599426                   3019\n",
              "8  2020-05-07                 557.086548                   2321\n",
              "9  2020-05-08                 596.859070                   2486\n",
              "10 2020-05-09                 696.681458                   2902\n",
              "11 2020-05-10                 423.202789                   1763\n",
              "12 2020-05-11                 453.440277                   1889\n",
              "13 2020-05-12                 647.795593                   2699\n",
              "14 2020-05-13                 311.100800                   1296"
            ]
          },
          "metadata": {
            "tags": []
          },
          "execution_count": 74
        },
        {
          "output_type": "display_data",
          "data": {
            "image/png": "[encoded data removed]",
            "text/plain": [
              "<Figure size 432x288 with 1 Axes>"
            ]
          },
          "metadata": {
            "tags": [],
            "needs_background": "light"
          }
        }
      ]
    },
    {
      "cell_type": "code",
      "metadata": {
        "id": "PeRa_8pBmBJK",
        "colab_type": "code",
        "colab": {}
      },
      "source": [
        ""
      ],
      "execution_count": 0,
      "outputs": []
    }
  ]
}