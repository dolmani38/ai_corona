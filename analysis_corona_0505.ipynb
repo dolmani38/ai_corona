{
  "nbformat": 4,
  "nbformat_minor": 0,
  "metadata": {
    "kernelspec": {
      "display_name": "Python 3",
      "language": "python",
      "name": "python3"
    },
    "language_info": {
      "codemirror_mode": {
        "name": "ipython",
        "version": 3
      },
      "file_extension": ".py",
      "mimetype": "text/x-python",
      "name": "python",
      "nbconvert_exporter": "python",
      "pygments_lexer": "ipython3",
      "version": "3.6.8"
    },
    "colab": {
      "name": "analysis_corona_0505.ipynb",
      "provenance": [],
      "include_colab_link": true
    }
  },
  "cells": [
    {
      "cell_type": "markdown",
      "metadata": {
        "id": "view-in-github",
        "colab_type": "text"
      },
      "source": [
        "<a href=\"https://colab.research.google.com/github/dolmani38/ai_corona/blob/master/analysis_corona_0505.ipynb\" target=\"_parent\"><img src=\"https://colab.research.google.com/assets/colab-badge.svg\" alt=\"Open In Colab\"/></a>"
      ]
    },
    {
      "cell_type": "code",
      "metadata": {
        "id": "JPRa4wkjmBFd",
        "colab_type": "code",
        "colab": {
          "base_uri": "https://localhost:8080/",
          "height": 34
        },
        "outputId": "7af3d53f-5137-4ea2-9572-d4954bfa3896"
      },
      "source": [
        "# 1. Forecast with numeric timeseries data\n",
        "# 1.1 Roaming Data의 load\n",
        "\n",
        "import pandas as pd\n",
        "import numpy as np\n",
        "import matplotlib.pyplot as plt\n",
        "\n",
        "import keras\n",
        "# custom R2-score metrics for keras backend\n",
        "from keras import backend as K\n",
        "\n",
        "def r2(y_true, y_pred):\n",
        "    SS_res =  K.sum(K.square(y_true - y_pred)) \n",
        "    SS_tot = K.sum(K.square(y_true - K.mean(y_true))) \n",
        "    return ( 1 - SS_res/(SS_tot + K.epsilon()) )\n",
        "\n",
        "def plot_mae(hist):\n",
        "    plt.plot(hist.history['mae'])\n",
        "    plt.title('mean_absolute_error')\n",
        "    plt.ylabel('mae')\n",
        "    plt.xlabel('Epoch')\n",
        "    plt.legend(['mae'], loc='upper right')\n",
        "    plt.show()\n",
        "\n",
        "def plot_r2(hist):\n",
        "    plt.plot(hist.history['r2'])\n",
        "    plt.title('R square')\n",
        "    plt.ylabel('R^2')\n",
        "    plt.xlabel('Epoch')\n",
        "    #plt.legend(['mae'], loc='upper right')\n",
        "    plt.show()\n",
        "\n",
        "def compare_backdata(predit_y):\n",
        "    predit = []\n",
        "    for forecast in range(forecast_days):\n",
        "        predit.append(list(np.concatenate((np.zeros(window+ forecast), predit_y[:,forecast],np.zeros(forecast_days-forecast-1)), axis=0)))\n",
        "    # 예측치를 chart에 같이 그려서 확인\n",
        "    comp_ds = raw_ds.copy()\n",
        "    comp_ds['predict_arrival_1'] = predit[0]\n",
        "    comp_ds['predict_arrival_15'] = predit[14]\n",
        "    comp_ds.plot(y=['total','predict_arrival_1','predict_arrival_15'],figsize=(16,8))\n",
        "\n",
        "def display_result(predit_y):\n",
        "    predic_ds = []\n",
        "    # 로밍등록자는 실 입국자의 약 24%에 해당되므로.. 이를 보정 처리 한다.\n",
        "    #predit_y1 = predit_y * 100/24\n",
        "    from datetime import datetime, timedelta\n",
        "    last_date = raw_ds.index[-1]\n",
        "    for predict_count in predit_y[0]:\n",
        "        last_date += timedelta(days=1)\n",
        "        predic_ds.append({'date':last_date,'roaming register forecate':predict_count, 'immigrantion forecast':int(predict_count * 100/24)})\n",
        "    predic_ds = pd.DataFrame(predic_ds)\n",
        "    predic_ds.plot(x='date',y='immigrantion forecast',kind='bar')\n",
        "    return predic_ds\n",
        "\n",
        "class VerboseCallback(keras.callbacks.Callback):\n",
        "    def __init__(self,epoch):\n",
        "        self.epoch = epoch\n",
        "        self.progress(\"learning:\",0,[])\n",
        "        \n",
        "    def progress(self,text,current=0,log=None):\n",
        "        pg = ['=' for i in range(current)] + ['.' for i in range(self.epoch-current)]\n",
        "        print(\"\\r\" + str(text) + \"[{}] {}/{} {}\".format(''.join(pg),current,self.epoch, ('' if log is None else log)), end=\"\", flush=True)\n",
        "        if self.epoch-current == 0:\n",
        "            print(\"\")        \n",
        "            \n",
        "    def on_epoch_end(self, epoch, logs=None):\n",
        "        self.progress(\"learning:\",epoch+1,logs)\n",
        "\n"
      ],
      "execution_count": 2,
      "outputs": [
        {
          "output_type": "stream",
          "text": [
            "Using TensorFlow backend.\n"
          ],
          "name": "stderr"
        }
      ]
    },
    {
      "cell_type": "code",
      "metadata": {
        "id": "QHy9ALDgmBGB",
        "colab_type": "code",
        "colab": {
          "base_uri": "https://localhost:8080/",
          "height": 410
        },
        "outputId": "b6c6b6e2-dec8-4c37-a7a7-6506b16c09d7"
      },
      "source": [
        "#공개된 Roaming Dataset을 읽고, 중간 중간 나온것을 합친다.\n",
        "rm1 = pd.read_csv(\"https://raw.githubusercontent.com/dolmani38/ai_corona/master/corona_contest_data_0406/Roaming_data.csv\",encoding=\"utf-8\")\n",
        "rm2 = pd.read_csv(\"https://raw.githubusercontent.com/dolmani38/ai_corona/master/corona_contest_data_0429/Roaming_data.csv\",encoding=\"utf-8\")\n",
        "rm = pd.concat([rm1, rm2], ignore_index=True, sort=False)\n",
        "\n",
        "# 합친 Dataset의 내용 확인\n",
        "rm"
      ],
      "execution_count": 3,
      "outputs": [
        {
          "output_type": "execute_result",
          "data": {
            "text/html": [
              "<div>\n",
              "<style scoped>\n",
              "    .dataframe tbody tr th:only-of-type {\n",
              "        vertical-align: middle;\n",
              "    }\n",
              "\n",
              "    .dataframe tbody tr th {\n",
              "        vertical-align: top;\n",
              "    }\n",
              "\n",
              "    .dataframe thead th {\n",
              "        text-align: right;\n",
              "    }\n",
              "</style>\n",
              "<table border=\"1\" class=\"dataframe\">\n",
              "  <thead>\n",
              "    <tr style=\"text-align: right;\">\n",
              "      <th></th>\n",
              "      <th>return</th>\n",
              "      <th>iso</th>\n",
              "      <th>arrival</th>\n",
              "      <th>departure</th>\n",
              "      <th>count</th>\n",
              "    </tr>\n",
              "  </thead>\n",
              "  <tbody>\n",
              "    <tr>\n",
              "      <th>0</th>\n",
              "      <td>20200131</td>\n",
              "      <td>ad</td>\n",
              "      <td>20200130</td>\n",
              "      <td>20200130</td>\n",
              "      <td>3</td>\n",
              "    </tr>\n",
              "    <tr>\n",
              "      <th>1</th>\n",
              "      <td>20200131</td>\n",
              "      <td>ae</td>\n",
              "      <td>20191231</td>\n",
              "      <td>20200125</td>\n",
              "      <td>3</td>\n",
              "    </tr>\n",
              "    <tr>\n",
              "      <th>2</th>\n",
              "      <td>20200131</td>\n",
              "      <td>ae</td>\n",
              "      <td>20191231</td>\n",
              "      <td>20200131</td>\n",
              "      <td>3</td>\n",
              "    </tr>\n",
              "    <tr>\n",
              "      <th>3</th>\n",
              "      <td>20200131</td>\n",
              "      <td>ae</td>\n",
              "      <td>20200102</td>\n",
              "      <td>20200102</td>\n",
              "      <td>3</td>\n",
              "    </tr>\n",
              "    <tr>\n",
              "      <th>4</th>\n",
              "      <td>20200131</td>\n",
              "      <td>ae</td>\n",
              "      <td>20200104</td>\n",
              "      <td>20200131</td>\n",
              "      <td>3</td>\n",
              "    </tr>\n",
              "    <tr>\n",
              "      <th>...</th>\n",
              "      <td>...</td>\n",
              "      <td>...</td>\n",
              "      <td>...</td>\n",
              "      <td>...</td>\n",
              "      <td>...</td>\n",
              "    </tr>\n",
              "    <tr>\n",
              "      <th>217800</th>\n",
              "      <td>20200401</td>\n",
              "      <td>vn</td>\n",
              "      <td>20200330</td>\n",
              "      <td>20200401</td>\n",
              "      <td>3</td>\n",
              "    </tr>\n",
              "    <tr>\n",
              "      <th>217801</th>\n",
              "      <td>20200401</td>\n",
              "      <td>vn</td>\n",
              "      <td>20200331</td>\n",
              "      <td>20200331</td>\n",
              "      <td>20</td>\n",
              "    </tr>\n",
              "    <tr>\n",
              "      <th>217802</th>\n",
              "      <td>20200401</td>\n",
              "      <td>vn</td>\n",
              "      <td>20200331</td>\n",
              "      <td>20200401</td>\n",
              "      <td>6</td>\n",
              "    </tr>\n",
              "    <tr>\n",
              "      <th>217803</th>\n",
              "      <td>20200401</td>\n",
              "      <td>vn</td>\n",
              "      <td>20200401</td>\n",
              "      <td>20200401</td>\n",
              "      <td>45</td>\n",
              "    </tr>\n",
              "    <tr>\n",
              "      <th>217804</th>\n",
              "      <td>20200401</td>\n",
              "      <td>zm</td>\n",
              "      <td>20200331</td>\n",
              "      <td>20200331</td>\n",
              "      <td>3</td>\n",
              "    </tr>\n",
              "  </tbody>\n",
              "</table>\n",
              "<p>217805 rows × 5 columns</p>\n",
              "</div>"
            ],
            "text/plain": [
              "          return iso   arrival  departure  count\n",
              "0       20200131  ad  20200130   20200130      3\n",
              "1       20200131  ae  20191231   20200125      3\n",
              "2       20200131  ae  20191231   20200131      3\n",
              "3       20200131  ae  20200102   20200102      3\n",
              "4       20200131  ae  20200104   20200131      3\n",
              "...          ...  ..       ...        ...    ...\n",
              "217800  20200401  vn  20200330   20200401      3\n",
              "217801  20200401  vn  20200331   20200331     20\n",
              "217802  20200401  vn  20200331   20200401      6\n",
              "217803  20200401  vn  20200401   20200401     45\n",
              "217804  20200401  zm  20200331   20200331      3\n",
              "\n",
              "[217805 rows x 5 columns]"
            ]
          },
          "metadata": {
            "tags": []
          },
          "execution_count": 3
        }
      ]
    },
    {
      "cell_type": "code",
      "metadata": {
        "id": "uGiXRQLBmBGI",
        "colab_type": "code",
        "colab": {
          "base_uri": "https://localhost:8080/",
          "height": 440
        },
        "outputId": "f9bbca21-2907-413b-e7b1-dbc7b28b712f"
      },
      "source": [
        "# 1.2 Roaming Data에 대한 EDA\n",
        "# 1.2.1 도착일을 기준으로 입국자(로밍등록자)의 합산\n",
        "\n",
        "ar = pd.DataFrame(rm.groupby('arrival')['count'].sum())\n",
        "ar['date'] =  ar.index.astype('object')\n",
        "#date column을 datetime 으로 casting 한다.\n",
        "ar['date'] =  pd.to_datetime(ar['date'], format='%Y%m%d')\n",
        "\n",
        "# 날자별 입국자(로밍등록자) 정리 dataset 확인\n",
        "ar"
      ],
      "execution_count": 4,
      "outputs": [
        {
          "output_type": "execute_result",
          "data": {
            "text/html": [
              "<div>\n",
              "<style scoped>\n",
              "    .dataframe tbody tr th:only-of-type {\n",
              "        vertical-align: middle;\n",
              "    }\n",
              "\n",
              "    .dataframe tbody tr th {\n",
              "        vertical-align: top;\n",
              "    }\n",
              "\n",
              "    .dataframe thead th {\n",
              "        text-align: right;\n",
              "    }\n",
              "</style>\n",
              "<table border=\"1\" class=\"dataframe\">\n",
              "  <thead>\n",
              "    <tr style=\"text-align: right;\">\n",
              "      <th></th>\n",
              "      <th>count</th>\n",
              "      <th>date</th>\n",
              "    </tr>\n",
              "    <tr>\n",
              "      <th>arrival</th>\n",
              "      <th></th>\n",
              "      <th></th>\n",
              "    </tr>\n",
              "  </thead>\n",
              "  <tbody>\n",
              "    <tr>\n",
              "      <th>20191031</th>\n",
              "      <td>91</td>\n",
              "      <td>2019-10-31</td>\n",
              "    </tr>\n",
              "    <tr>\n",
              "      <th>20191101</th>\n",
              "      <td>36</td>\n",
              "      <td>2019-11-01</td>\n",
              "    </tr>\n",
              "    <tr>\n",
              "      <th>20191102</th>\n",
              "      <td>120</td>\n",
              "      <td>2019-11-02</td>\n",
              "    </tr>\n",
              "    <tr>\n",
              "      <th>20191103</th>\n",
              "      <td>159</td>\n",
              "      <td>2019-11-03</td>\n",
              "    </tr>\n",
              "    <tr>\n",
              "      <th>20191104</th>\n",
              "      <td>179</td>\n",
              "      <td>2019-11-04</td>\n",
              "    </tr>\n",
              "    <tr>\n",
              "      <th>...</th>\n",
              "      <td>...</td>\n",
              "      <td>...</td>\n",
              "    </tr>\n",
              "    <tr>\n",
              "      <th>20200424</th>\n",
              "      <td>711</td>\n",
              "      <td>2020-04-24</td>\n",
              "    </tr>\n",
              "    <tr>\n",
              "      <th>20200425</th>\n",
              "      <td>463</td>\n",
              "      <td>2020-04-25</td>\n",
              "    </tr>\n",
              "    <tr>\n",
              "      <th>20200426</th>\n",
              "      <td>447</td>\n",
              "      <td>2020-04-26</td>\n",
              "    </tr>\n",
              "    <tr>\n",
              "      <th>20200427</th>\n",
              "      <td>315</td>\n",
              "      <td>2020-04-27</td>\n",
              "    </tr>\n",
              "    <tr>\n",
              "      <th>20200428</th>\n",
              "      <td>251</td>\n",
              "      <td>2020-04-28</td>\n",
              "    </tr>\n",
              "  </tbody>\n",
              "</table>\n",
              "<p>181 rows × 2 columns</p>\n",
              "</div>"
            ],
            "text/plain": [
              "          count       date\n",
              "arrival                   \n",
              "20191031     91 2019-10-31\n",
              "20191101     36 2019-11-01\n",
              "20191102    120 2019-11-02\n",
              "20191103    159 2019-11-03\n",
              "20191104    179 2019-11-04\n",
              "...         ...        ...\n",
              "20200424    711 2020-04-24\n",
              "20200425    463 2020-04-25\n",
              "20200426    447 2020-04-26\n",
              "20200427    315 2020-04-27\n",
              "20200428    251 2020-04-28\n",
              "\n",
              "[181 rows x 2 columns]"
            ]
          },
          "metadata": {
            "tags": []
          },
          "execution_count": 4
        }
      ]
    },
    {
      "cell_type": "code",
      "metadata": {
        "id": "lc7yrTKFmBGN",
        "colab_type": "code",
        "colab": {
          "base_uri": "https://localhost:8080/",
          "height": 308
        },
        "outputId": "59b1b47c-5764-44bc-ac5c-fcdec949fd61"
      },
      "source": [
        "# 1.2.2 입국자(로밍등록자) 추세 chart 확인\n",
        "ar.plot(x='date',y='count')"
      ],
      "execution_count": 5,
      "outputs": [
        {
          "output_type": "execute_result",
          "data": {
            "text/plain": [
              "<matplotlib.axes._subplots.AxesSubplot at 0x7f2a42c069b0>"
            ]
          },
          "metadata": {
            "tags": []
          },
          "execution_count": 5
        },
        {
          "output_type": "display_data",
          "data": {
            "image/png": "[encoded data removed]",
            "text/plain": [
              "<Figure size 432x288 with 1 Axes>"
            ]
          },
          "metadata": {
            "tags": [],
            "needs_background": "light"
          }
        }
      ]
    },
    {
      "cell_type": "code",
      "metadata": {
        "id": "qWaXh-0gmBGS",
        "colab_type": "code",
        "colab": {
          "base_uri": "https://localhost:8080/",
          "height": 630
        },
        "outputId": "12b4186b-8fe0-4d3d-dc20-534b072ea23c"
      },
      "source": [
        "# 1.3 Roaming Data의 전처리\n",
        "# 1.3.1 iso 별로 재배열\n",
        "\n",
        "ar_iso = pd.DataFrame(rm.groupby(['arrival','iso'])['count'].sum())\n",
        "rows = []\n",
        "date = None\n",
        "r = None\n",
        "for row in ar_iso.iterrows():\n",
        "    if date == row[0][0]:\n",
        "        pass\n",
        "    else:\n",
        "        if not r is None:\n",
        "            rows.append(r)\n",
        "        r = {}\n",
        "    r['arrival'] = row[0][0]\n",
        "    r[row[0][1]] = row[1][0]\n",
        "    date = row[0][0]\n",
        "rows.append(r)\n",
        "ds_iso = pd.DataFrame(rows)\n",
        "ds_iso.fillna(0, inplace=True)\n",
        "ds_iso = ds_iso.set_index('arrival')\n",
        "ds_iso['total'] = ar['count']\n",
        "ds_iso.index =  ds_iso.index.astype('object')\n",
        "#index을 datetime 으로 casting 한다.\n",
        "ds_iso.index =  pd.to_datetime(ds_iso.index, format='%Y%m%d')\n",
        "ds_iso"
      ],
      "execution_count": 6,
      "outputs": [
        {
          "output_type": "execute_result",
          "data": {
            "text/html": [
              "<div>\n",
              "<style scoped>\n",
              "    .dataframe tbody tr th:only-of-type {\n",
              "        vertical-align: middle;\n",
              "    }\n",
              "\n",
              "    .dataframe tbody tr th {\n",
              "        vertical-align: top;\n",
              "    }\n",
              "\n",
              "    .dataframe thead th {\n",
              "        text-align: right;\n",
              "    }\n",
              "</style>\n",
              "<table border=\"1\" class=\"dataframe\">\n",
              "  <thead>\n",
              "    <tr style=\"text-align: right;\">\n",
              "      <th></th>\n",
              "      <th>ae</th>\n",
              "      <th>at</th>\n",
              "      <th>cn</th>\n",
              "      <th>de</th>\n",
              "      <th>hk</th>\n",
              "      <th>jp</th>\n",
              "      <th>kh</th>\n",
              "      <th>kw</th>\n",
              "      <th>la</th>\n",
              "      <th>mm</th>\n",
              "      <th>my</th>\n",
              "      <th>no</th>\n",
              "      <th>pe</th>\n",
              "      <th>ph</th>\n",
              "      <th>pl</th>\n",
              "      <th>th</th>\n",
              "      <th>us</th>\n",
              "      <th>vn</th>\n",
              "      <th>hu</th>\n",
              "      <th>ma</th>\n",
              "      <th>mn</th>\n",
              "      <th>au</th>\n",
              "      <th>ch</th>\n",
              "      <th>fr</th>\n",
              "      <th>gb</th>\n",
              "      <th>in</th>\n",
              "      <th>iq</th>\n",
              "      <th>lk</th>\n",
              "      <th>qa</th>\n",
              "      <th>sg</th>\n",
              "      <th>uz</th>\n",
              "      <th>cz</th>\n",
              "      <th>dk</th>\n",
              "      <th>es</th>\n",
              "      <th>fi</th>\n",
              "      <th>id</th>\n",
              "      <th>nz</th>\n",
              "      <th>ru</th>\n",
              "      <th>sa</th>\n",
              "      <th>sk</th>\n",
              "      <th>...</th>\n",
              "      <th>tp</th>\n",
              "      <th>vu</th>\n",
              "      <th>zw</th>\n",
              "      <th>rs</th>\n",
              "      <th>tk</th>\n",
              "      <th>ug</th>\n",
              "      <th>bz</th>\n",
              "      <th>bo</th>\n",
              "      <th>cy</th>\n",
              "      <th>na</th>\n",
              "      <th>pg</th>\n",
              "      <th>rw</th>\n",
              "      <th>bt</th>\n",
              "      <th>lr</th>\n",
              "      <th>mz</th>\n",
              "      <th>pr</th>\n",
              "      <th>tg</th>\n",
              "      <th>mk</th>\n",
              "      <th>an</th>\n",
              "      <th>cv</th>\n",
              "      <th>tt</th>\n",
              "      <th>md</th>\n",
              "      <th>ad</th>\n",
              "      <th>ga</th>\n",
              "      <th>gn</th>\n",
              "      <th>re</th>\n",
              "      <th>ky</th>\n",
              "      <th>bf</th>\n",
              "      <th>bj</th>\n",
              "      <th>cf</th>\n",
              "      <th>tc</th>\n",
              "      <th>ls</th>\n",
              "      <th>td</th>\n",
              "      <th>mr</th>\n",
              "      <th>to</th>\n",
              "      <th>ws</th>\n",
              "      <th>gm</th>\n",
              "      <th>ye</th>\n",
              "      <th>ml</th>\n",
              "      <th>total</th>\n",
              "    </tr>\n",
              "    <tr>\n",
              "      <th>arrival</th>\n",
              "      <th></th>\n",
              "      <th></th>\n",
              "      <th></th>\n",
              "      <th></th>\n",
              "      <th></th>\n",
              "      <th></th>\n",
              "      <th></th>\n",
              "      <th></th>\n",
              "      <th></th>\n",
              "      <th></th>\n",
              "      <th></th>\n",
              "      <th></th>\n",
              "      <th></th>\n",
              "      <th></th>\n",
              "      <th></th>\n",
              "      <th></th>\n",
              "      <th></th>\n",
              "      <th></th>\n",
              "      <th></th>\n",
              "      <th></th>\n",
              "      <th></th>\n",
              "      <th></th>\n",
              "      <th></th>\n",
              "      <th></th>\n",
              "      <th></th>\n",
              "      <th></th>\n",
              "      <th></th>\n",
              "      <th></th>\n",
              "      <th></th>\n",
              "      <th></th>\n",
              "      <th></th>\n",
              "      <th></th>\n",
              "      <th></th>\n",
              "      <th></th>\n",
              "      <th></th>\n",
              "      <th></th>\n",
              "      <th></th>\n",
              "      <th></th>\n",
              "      <th></th>\n",
              "      <th></th>\n",
              "      <th></th>\n",
              "      <th></th>\n",
              "      <th></th>\n",
              "      <th></th>\n",
              "      <th></th>\n",
              "      <th></th>\n",
              "      <th></th>\n",
              "      <th></th>\n",
              "      <th></th>\n",
              "      <th></th>\n",
              "      <th></th>\n",
              "      <th></th>\n",
              "      <th></th>\n",
              "      <th></th>\n",
              "      <th></th>\n",
              "      <th></th>\n",
              "      <th></th>\n",
              "      <th></th>\n",
              "      <th></th>\n",
              "      <th></th>\n",
              "      <th></th>\n",
              "      <th></th>\n",
              "      <th></th>\n",
              "      <th></th>\n",
              "      <th></th>\n",
              "      <th></th>\n",
              "      <th></th>\n",
              "      <th></th>\n",
              "      <th></th>\n",
              "      <th></th>\n",
              "      <th></th>\n",
              "      <th></th>\n",
              "      <th></th>\n",
              "      <th></th>\n",
              "      <th></th>\n",
              "      <th></th>\n",
              "      <th></th>\n",
              "      <th></th>\n",
              "      <th></th>\n",
              "      <th></th>\n",
              "      <th></th>\n",
              "    </tr>\n",
              "  </thead>\n",
              "  <tbody>\n",
              "    <tr>\n",
              "      <th>2019-10-31</th>\n",
              "      <td>3.0</td>\n",
              "      <td>3.0</td>\n",
              "      <td>20</td>\n",
              "      <td>3.0</td>\n",
              "      <td>6.0</td>\n",
              "      <td>6</td>\n",
              "      <td>3.0</td>\n",
              "      <td>3.0</td>\n",
              "      <td>3.0</td>\n",
              "      <td>3.0</td>\n",
              "      <td>3.0</td>\n",
              "      <td>3.0</td>\n",
              "      <td>3.0</td>\n",
              "      <td>3.0</td>\n",
              "      <td>3.0</td>\n",
              "      <td>8</td>\n",
              "      <td>12.0</td>\n",
              "      <td>3.0</td>\n",
              "      <td>0.0</td>\n",
              "      <td>0.0</td>\n",
              "      <td>0.0</td>\n",
              "      <td>0.0</td>\n",
              "      <td>0.0</td>\n",
              "      <td>0.0</td>\n",
              "      <td>0.0</td>\n",
              "      <td>0.0</td>\n",
              "      <td>0.0</td>\n",
              "      <td>0.0</td>\n",
              "      <td>0.0</td>\n",
              "      <td>0.0</td>\n",
              "      <td>0.0</td>\n",
              "      <td>0.0</td>\n",
              "      <td>0.0</td>\n",
              "      <td>0.0</td>\n",
              "      <td>0.0</td>\n",
              "      <td>0.0</td>\n",
              "      <td>0.0</td>\n",
              "      <td>0.0</td>\n",
              "      <td>0.0</td>\n",
              "      <td>0.0</td>\n",
              "      <td>...</td>\n",
              "      <td>0.0</td>\n",
              "      <td>0.0</td>\n",
              "      <td>0.0</td>\n",
              "      <td>0.0</td>\n",
              "      <td>0.0</td>\n",
              "      <td>0.0</td>\n",
              "      <td>0.0</td>\n",
              "      <td>0.0</td>\n",
              "      <td>0.0</td>\n",
              "      <td>0.0</td>\n",
              "      <td>0.0</td>\n",
              "      <td>0.0</td>\n",
              "      <td>0.0</td>\n",
              "      <td>0.0</td>\n",
              "      <td>0.0</td>\n",
              "      <td>0.0</td>\n",
              "      <td>0.0</td>\n",
              "      <td>0.0</td>\n",
              "      <td>0.0</td>\n",
              "      <td>0.0</td>\n",
              "      <td>0.0</td>\n",
              "      <td>0.0</td>\n",
              "      <td>0.0</td>\n",
              "      <td>0.0</td>\n",
              "      <td>0.0</td>\n",
              "      <td>0.0</td>\n",
              "      <td>0.0</td>\n",
              "      <td>0.0</td>\n",
              "      <td>0.0</td>\n",
              "      <td>0.0</td>\n",
              "      <td>0.0</td>\n",
              "      <td>0.0</td>\n",
              "      <td>0.0</td>\n",
              "      <td>0.0</td>\n",
              "      <td>0.0</td>\n",
              "      <td>0.0</td>\n",
              "      <td>0.0</td>\n",
              "      <td>0.0</td>\n",
              "      <td>0.0</td>\n",
              "      <td>91</td>\n",
              "    </tr>\n",
              "    <tr>\n",
              "      <th>2019-11-01</th>\n",
              "      <td>0.0</td>\n",
              "      <td>0.0</td>\n",
              "      <td>6</td>\n",
              "      <td>3.0</td>\n",
              "      <td>0.0</td>\n",
              "      <td>3</td>\n",
              "      <td>3.0</td>\n",
              "      <td>0.0</td>\n",
              "      <td>0.0</td>\n",
              "      <td>3.0</td>\n",
              "      <td>0.0</td>\n",
              "      <td>0.0</td>\n",
              "      <td>0.0</td>\n",
              "      <td>0.0</td>\n",
              "      <td>0.0</td>\n",
              "      <td>9</td>\n",
              "      <td>0.0</td>\n",
              "      <td>0.0</td>\n",
              "      <td>3.0</td>\n",
              "      <td>3.0</td>\n",
              "      <td>3.0</td>\n",
              "      <td>0.0</td>\n",
              "      <td>0.0</td>\n",
              "      <td>0.0</td>\n",
              "      <td>0.0</td>\n",
              "      <td>0.0</td>\n",
              "      <td>0.0</td>\n",
              "      <td>0.0</td>\n",
              "      <td>0.0</td>\n",
              "      <td>0.0</td>\n",
              "      <td>0.0</td>\n",
              "      <td>0.0</td>\n",
              "      <td>0.0</td>\n",
              "      <td>0.0</td>\n",
              "      <td>0.0</td>\n",
              "      <td>0.0</td>\n",
              "      <td>0.0</td>\n",
              "      <td>0.0</td>\n",
              "      <td>0.0</td>\n",
              "      <td>0.0</td>\n",
              "      <td>...</td>\n",
              "      <td>0.0</td>\n",
              "      <td>0.0</td>\n",
              "      <td>0.0</td>\n",
              "      <td>0.0</td>\n",
              "      <td>0.0</td>\n",
              "      <td>0.0</td>\n",
              "      <td>0.0</td>\n",
              "      <td>0.0</td>\n",
              "      <td>0.0</td>\n",
              "      <td>0.0</td>\n",
              "      <td>0.0</td>\n",
              "      <td>0.0</td>\n",
              "      <td>0.0</td>\n",
              "      <td>0.0</td>\n",
              "      <td>0.0</td>\n",
              "      <td>0.0</td>\n",
              "      <td>0.0</td>\n",
              "      <td>0.0</td>\n",
              "      <td>0.0</td>\n",
              "      <td>0.0</td>\n",
              "      <td>0.0</td>\n",
              "      <td>0.0</td>\n",
              "      <td>0.0</td>\n",
              "      <td>0.0</td>\n",
              "      <td>0.0</td>\n",
              "      <td>0.0</td>\n",
              "      <td>0.0</td>\n",
              "      <td>0.0</td>\n",
              "      <td>0.0</td>\n",
              "      <td>0.0</td>\n",
              "      <td>0.0</td>\n",
              "      <td>0.0</td>\n",
              "      <td>0.0</td>\n",
              "      <td>0.0</td>\n",
              "      <td>0.0</td>\n",
              "      <td>0.0</td>\n",
              "      <td>0.0</td>\n",
              "      <td>0.0</td>\n",
              "      <td>0.0</td>\n",
              "      <td>36</td>\n",
              "    </tr>\n",
              "    <tr>\n",
              "      <th>2019-11-02</th>\n",
              "      <td>0.0</td>\n",
              "      <td>0.0</td>\n",
              "      <td>26</td>\n",
              "      <td>6.0</td>\n",
              "      <td>3.0</td>\n",
              "      <td>9</td>\n",
              "      <td>3.0</td>\n",
              "      <td>0.0</td>\n",
              "      <td>0.0</td>\n",
              "      <td>0.0</td>\n",
              "      <td>0.0</td>\n",
              "      <td>0.0</td>\n",
              "      <td>0.0</td>\n",
              "      <td>3.0</td>\n",
              "      <td>0.0</td>\n",
              "      <td>6</td>\n",
              "      <td>19.0</td>\n",
              "      <td>3.0</td>\n",
              "      <td>0.0</td>\n",
              "      <td>0.0</td>\n",
              "      <td>0.0</td>\n",
              "      <td>6.0</td>\n",
              "      <td>3.0</td>\n",
              "      <td>6.0</td>\n",
              "      <td>3.0</td>\n",
              "      <td>6.0</td>\n",
              "      <td>3.0</td>\n",
              "      <td>3.0</td>\n",
              "      <td>3.0</td>\n",
              "      <td>3.0</td>\n",
              "      <td>3.0</td>\n",
              "      <td>0.0</td>\n",
              "      <td>0.0</td>\n",
              "      <td>0.0</td>\n",
              "      <td>0.0</td>\n",
              "      <td>0.0</td>\n",
              "      <td>0.0</td>\n",
              "      <td>0.0</td>\n",
              "      <td>0.0</td>\n",
              "      <td>0.0</td>\n",
              "      <td>...</td>\n",
              "      <td>0.0</td>\n",
              "      <td>0.0</td>\n",
              "      <td>0.0</td>\n",
              "      <td>0.0</td>\n",
              "      <td>0.0</td>\n",
              "      <td>0.0</td>\n",
              "      <td>0.0</td>\n",
              "      <td>0.0</td>\n",
              "      <td>0.0</td>\n",
              "      <td>0.0</td>\n",
              "      <td>0.0</td>\n",
              "      <td>0.0</td>\n",
              "      <td>0.0</td>\n",
              "      <td>0.0</td>\n",
              "      <td>0.0</td>\n",
              "      <td>0.0</td>\n",
              "      <td>0.0</td>\n",
              "      <td>0.0</td>\n",
              "      <td>0.0</td>\n",
              "      <td>0.0</td>\n",
              "      <td>0.0</td>\n",
              "      <td>0.0</td>\n",
              "      <td>0.0</td>\n",
              "      <td>0.0</td>\n",
              "      <td>0.0</td>\n",
              "      <td>0.0</td>\n",
              "      <td>0.0</td>\n",
              "      <td>0.0</td>\n",
              "      <td>0.0</td>\n",
              "      <td>0.0</td>\n",
              "      <td>0.0</td>\n",
              "      <td>0.0</td>\n",
              "      <td>0.0</td>\n",
              "      <td>0.0</td>\n",
              "      <td>0.0</td>\n",
              "      <td>0.0</td>\n",
              "      <td>0.0</td>\n",
              "      <td>0.0</td>\n",
              "      <td>0.0</td>\n",
              "      <td>120</td>\n",
              "    </tr>\n",
              "    <tr>\n",
              "      <th>2019-11-03</th>\n",
              "      <td>3.0</td>\n",
              "      <td>3.0</td>\n",
              "      <td>30</td>\n",
              "      <td>0.0</td>\n",
              "      <td>12.0</td>\n",
              "      <td>14</td>\n",
              "      <td>0.0</td>\n",
              "      <td>0.0</td>\n",
              "      <td>0.0</td>\n",
              "      <td>0.0</td>\n",
              "      <td>3.0</td>\n",
              "      <td>0.0</td>\n",
              "      <td>0.0</td>\n",
              "      <td>3.0</td>\n",
              "      <td>3.0</td>\n",
              "      <td>13</td>\n",
              "      <td>21.0</td>\n",
              "      <td>6.0</td>\n",
              "      <td>3.0</td>\n",
              "      <td>0.0</td>\n",
              "      <td>0.0</td>\n",
              "      <td>0.0</td>\n",
              "      <td>3.0</td>\n",
              "      <td>0.0</td>\n",
              "      <td>6.0</td>\n",
              "      <td>3.0</td>\n",
              "      <td>0.0</td>\n",
              "      <td>0.0</td>\n",
              "      <td>0.0</td>\n",
              "      <td>0.0</td>\n",
              "      <td>0.0</td>\n",
              "      <td>3.0</td>\n",
              "      <td>3.0</td>\n",
              "      <td>3.0</td>\n",
              "      <td>3.0</td>\n",
              "      <td>3.0</td>\n",
              "      <td>3.0</td>\n",
              "      <td>9.0</td>\n",
              "      <td>3.0</td>\n",
              "      <td>3.0</td>\n",
              "      <td>...</td>\n",
              "      <td>0.0</td>\n",
              "      <td>0.0</td>\n",
              "      <td>0.0</td>\n",
              "      <td>0.0</td>\n",
              "      <td>0.0</td>\n",
              "      <td>0.0</td>\n",
              "      <td>0.0</td>\n",
              "      <td>0.0</td>\n",
              "      <td>0.0</td>\n",
              "      <td>0.0</td>\n",
              "      <td>0.0</td>\n",
              "      <td>0.0</td>\n",
              "      <td>0.0</td>\n",
              "      <td>0.0</td>\n",
              "      <td>0.0</td>\n",
              "      <td>0.0</td>\n",
              "      <td>0.0</td>\n",
              "      <td>0.0</td>\n",
              "      <td>0.0</td>\n",
              "      <td>0.0</td>\n",
              "      <td>0.0</td>\n",
              "      <td>0.0</td>\n",
              "      <td>0.0</td>\n",
              "      <td>0.0</td>\n",
              "      <td>0.0</td>\n",
              "      <td>0.0</td>\n",
              "      <td>0.0</td>\n",
              "      <td>0.0</td>\n",
              "      <td>0.0</td>\n",
              "      <td>0.0</td>\n",
              "      <td>0.0</td>\n",
              "      <td>0.0</td>\n",
              "      <td>0.0</td>\n",
              "      <td>0.0</td>\n",
              "      <td>0.0</td>\n",
              "      <td>0.0</td>\n",
              "      <td>0.0</td>\n",
              "      <td>0.0</td>\n",
              "      <td>0.0</td>\n",
              "      <td>159</td>\n",
              "    </tr>\n",
              "    <tr>\n",
              "      <th>2019-11-04</th>\n",
              "      <td>12.0</td>\n",
              "      <td>3.0</td>\n",
              "      <td>40</td>\n",
              "      <td>3.0</td>\n",
              "      <td>3.0</td>\n",
              "      <td>10</td>\n",
              "      <td>0.0</td>\n",
              "      <td>0.0</td>\n",
              "      <td>0.0</td>\n",
              "      <td>0.0</td>\n",
              "      <td>6.0</td>\n",
              "      <td>0.0</td>\n",
              "      <td>0.0</td>\n",
              "      <td>6.0</td>\n",
              "      <td>0.0</td>\n",
              "      <td>6</td>\n",
              "      <td>24.0</td>\n",
              "      <td>9.0</td>\n",
              "      <td>3.0</td>\n",
              "      <td>0.0</td>\n",
              "      <td>0.0</td>\n",
              "      <td>3.0</td>\n",
              "      <td>0.0</td>\n",
              "      <td>3.0</td>\n",
              "      <td>3.0</td>\n",
              "      <td>0.0</td>\n",
              "      <td>0.0</td>\n",
              "      <td>0.0</td>\n",
              "      <td>0.0</td>\n",
              "      <td>6.0</td>\n",
              "      <td>6.0</td>\n",
              "      <td>3.0</td>\n",
              "      <td>0.0</td>\n",
              "      <td>0.0</td>\n",
              "      <td>3.0</td>\n",
              "      <td>3.0</td>\n",
              "      <td>0.0</td>\n",
              "      <td>6.0</td>\n",
              "      <td>0.0</td>\n",
              "      <td>0.0</td>\n",
              "      <td>...</td>\n",
              "      <td>0.0</td>\n",
              "      <td>0.0</td>\n",
              "      <td>0.0</td>\n",
              "      <td>0.0</td>\n",
              "      <td>0.0</td>\n",
              "      <td>0.0</td>\n",
              "      <td>0.0</td>\n",
              "      <td>0.0</td>\n",
              "      <td>0.0</td>\n",
              "      <td>0.0</td>\n",
              "      <td>0.0</td>\n",
              "      <td>0.0</td>\n",
              "      <td>0.0</td>\n",
              "      <td>0.0</td>\n",
              "      <td>0.0</td>\n",
              "      <td>0.0</td>\n",
              "      <td>0.0</td>\n",
              "      <td>0.0</td>\n",
              "      <td>0.0</td>\n",
              "      <td>0.0</td>\n",
              "      <td>0.0</td>\n",
              "      <td>0.0</td>\n",
              "      <td>0.0</td>\n",
              "      <td>0.0</td>\n",
              "      <td>0.0</td>\n",
              "      <td>0.0</td>\n",
              "      <td>0.0</td>\n",
              "      <td>0.0</td>\n",
              "      <td>0.0</td>\n",
              "      <td>0.0</td>\n",
              "      <td>0.0</td>\n",
              "      <td>0.0</td>\n",
              "      <td>0.0</td>\n",
              "      <td>0.0</td>\n",
              "      <td>0.0</td>\n",
              "      <td>0.0</td>\n",
              "      <td>0.0</td>\n",
              "      <td>0.0</td>\n",
              "      <td>0.0</td>\n",
              "      <td>179</td>\n",
              "    </tr>\n",
              "    <tr>\n",
              "      <th>...</th>\n",
              "      <td>...</td>\n",
              "      <td>...</td>\n",
              "      <td>...</td>\n",
              "      <td>...</td>\n",
              "      <td>...</td>\n",
              "      <td>...</td>\n",
              "      <td>...</td>\n",
              "      <td>...</td>\n",
              "      <td>...</td>\n",
              "      <td>...</td>\n",
              "      <td>...</td>\n",
              "      <td>...</td>\n",
              "      <td>...</td>\n",
              "      <td>...</td>\n",
              "      <td>...</td>\n",
              "      <td>...</td>\n",
              "      <td>...</td>\n",
              "      <td>...</td>\n",
              "      <td>...</td>\n",
              "      <td>...</td>\n",
              "      <td>...</td>\n",
              "      <td>...</td>\n",
              "      <td>...</td>\n",
              "      <td>...</td>\n",
              "      <td>...</td>\n",
              "      <td>...</td>\n",
              "      <td>...</td>\n",
              "      <td>...</td>\n",
              "      <td>...</td>\n",
              "      <td>...</td>\n",
              "      <td>...</td>\n",
              "      <td>...</td>\n",
              "      <td>...</td>\n",
              "      <td>...</td>\n",
              "      <td>...</td>\n",
              "      <td>...</td>\n",
              "      <td>...</td>\n",
              "      <td>...</td>\n",
              "      <td>...</td>\n",
              "      <td>...</td>\n",
              "      <td>...</td>\n",
              "      <td>...</td>\n",
              "      <td>...</td>\n",
              "      <td>...</td>\n",
              "      <td>...</td>\n",
              "      <td>...</td>\n",
              "      <td>...</td>\n",
              "      <td>...</td>\n",
              "      <td>...</td>\n",
              "      <td>...</td>\n",
              "      <td>...</td>\n",
              "      <td>...</td>\n",
              "      <td>...</td>\n",
              "      <td>...</td>\n",
              "      <td>...</td>\n",
              "      <td>...</td>\n",
              "      <td>...</td>\n",
              "      <td>...</td>\n",
              "      <td>...</td>\n",
              "      <td>...</td>\n",
              "      <td>...</td>\n",
              "      <td>...</td>\n",
              "      <td>...</td>\n",
              "      <td>...</td>\n",
              "      <td>...</td>\n",
              "      <td>...</td>\n",
              "      <td>...</td>\n",
              "      <td>...</td>\n",
              "      <td>...</td>\n",
              "      <td>...</td>\n",
              "      <td>...</td>\n",
              "      <td>...</td>\n",
              "      <td>...</td>\n",
              "      <td>...</td>\n",
              "      <td>...</td>\n",
              "      <td>...</td>\n",
              "      <td>...</td>\n",
              "      <td>...</td>\n",
              "      <td>...</td>\n",
              "      <td>...</td>\n",
              "      <td>...</td>\n",
              "    </tr>\n",
              "    <tr>\n",
              "      <th>2020-04-24</th>\n",
              "      <td>0.0</td>\n",
              "      <td>12.0</td>\n",
              "      <td>84</td>\n",
              "      <td>34.0</td>\n",
              "      <td>19.0</td>\n",
              "      <td>157</td>\n",
              "      <td>0.0</td>\n",
              "      <td>0.0</td>\n",
              "      <td>0.0</td>\n",
              "      <td>3.0</td>\n",
              "      <td>3.0</td>\n",
              "      <td>0.0</td>\n",
              "      <td>0.0</td>\n",
              "      <td>30.0</td>\n",
              "      <td>0.0</td>\n",
              "      <td>18</td>\n",
              "      <td>62.0</td>\n",
              "      <td>44.0</td>\n",
              "      <td>6.0</td>\n",
              "      <td>0.0</td>\n",
              "      <td>3.0</td>\n",
              "      <td>3.0</td>\n",
              "      <td>0.0</td>\n",
              "      <td>9.0</td>\n",
              "      <td>12.0</td>\n",
              "      <td>6.0</td>\n",
              "      <td>0.0</td>\n",
              "      <td>0.0</td>\n",
              "      <td>0.0</td>\n",
              "      <td>6.0</td>\n",
              "      <td>6.0</td>\n",
              "      <td>0.0</td>\n",
              "      <td>6.0</td>\n",
              "      <td>3.0</td>\n",
              "      <td>0.0</td>\n",
              "      <td>28.0</td>\n",
              "      <td>0.0</td>\n",
              "      <td>10.0</td>\n",
              "      <td>0.0</td>\n",
              "      <td>0.0</td>\n",
              "      <td>...</td>\n",
              "      <td>0.0</td>\n",
              "      <td>0.0</td>\n",
              "      <td>0.0</td>\n",
              "      <td>0.0</td>\n",
              "      <td>0.0</td>\n",
              "      <td>0.0</td>\n",
              "      <td>0.0</td>\n",
              "      <td>0.0</td>\n",
              "      <td>0.0</td>\n",
              "      <td>0.0</td>\n",
              "      <td>0.0</td>\n",
              "      <td>0.0</td>\n",
              "      <td>0.0</td>\n",
              "      <td>0.0</td>\n",
              "      <td>0.0</td>\n",
              "      <td>0.0</td>\n",
              "      <td>0.0</td>\n",
              "      <td>0.0</td>\n",
              "      <td>0.0</td>\n",
              "      <td>0.0</td>\n",
              "      <td>0.0</td>\n",
              "      <td>0.0</td>\n",
              "      <td>0.0</td>\n",
              "      <td>0.0</td>\n",
              "      <td>0.0</td>\n",
              "      <td>0.0</td>\n",
              "      <td>0.0</td>\n",
              "      <td>0.0</td>\n",
              "      <td>0.0</td>\n",
              "      <td>0.0</td>\n",
              "      <td>0.0</td>\n",
              "      <td>0.0</td>\n",
              "      <td>0.0</td>\n",
              "      <td>0.0</td>\n",
              "      <td>0.0</td>\n",
              "      <td>0.0</td>\n",
              "      <td>0.0</td>\n",
              "      <td>0.0</td>\n",
              "      <td>0.0</td>\n",
              "      <td>711</td>\n",
              "    </tr>\n",
              "    <tr>\n",
              "      <th>2020-04-25</th>\n",
              "      <td>0.0</td>\n",
              "      <td>9.0</td>\n",
              "      <td>39</td>\n",
              "      <td>15.0</td>\n",
              "      <td>4.0</td>\n",
              "      <td>111</td>\n",
              "      <td>21.0</td>\n",
              "      <td>0.0</td>\n",
              "      <td>0.0</td>\n",
              "      <td>6.0</td>\n",
              "      <td>3.0</td>\n",
              "      <td>0.0</td>\n",
              "      <td>0.0</td>\n",
              "      <td>6.0</td>\n",
              "      <td>0.0</td>\n",
              "      <td>6</td>\n",
              "      <td>73.0</td>\n",
              "      <td>27.0</td>\n",
              "      <td>0.0</td>\n",
              "      <td>0.0</td>\n",
              "      <td>3.0</td>\n",
              "      <td>0.0</td>\n",
              "      <td>0.0</td>\n",
              "      <td>0.0</td>\n",
              "      <td>6.0</td>\n",
              "      <td>3.0</td>\n",
              "      <td>0.0</td>\n",
              "      <td>0.0</td>\n",
              "      <td>6.0</td>\n",
              "      <td>6.0</td>\n",
              "      <td>6.0</td>\n",
              "      <td>0.0</td>\n",
              "      <td>0.0</td>\n",
              "      <td>0.0</td>\n",
              "      <td>0.0</td>\n",
              "      <td>0.0</td>\n",
              "      <td>0.0</td>\n",
              "      <td>11.0</td>\n",
              "      <td>0.0</td>\n",
              "      <td>0.0</td>\n",
              "      <td>...</td>\n",
              "      <td>0.0</td>\n",
              "      <td>0.0</td>\n",
              "      <td>0.0</td>\n",
              "      <td>0.0</td>\n",
              "      <td>0.0</td>\n",
              "      <td>0.0</td>\n",
              "      <td>0.0</td>\n",
              "      <td>0.0</td>\n",
              "      <td>0.0</td>\n",
              "      <td>0.0</td>\n",
              "      <td>0.0</td>\n",
              "      <td>0.0</td>\n",
              "      <td>0.0</td>\n",
              "      <td>0.0</td>\n",
              "      <td>0.0</td>\n",
              "      <td>0.0</td>\n",
              "      <td>0.0</td>\n",
              "      <td>0.0</td>\n",
              "      <td>0.0</td>\n",
              "      <td>0.0</td>\n",
              "      <td>0.0</td>\n",
              "      <td>0.0</td>\n",
              "      <td>0.0</td>\n",
              "      <td>0.0</td>\n",
              "      <td>0.0</td>\n",
              "      <td>0.0</td>\n",
              "      <td>0.0</td>\n",
              "      <td>0.0</td>\n",
              "      <td>0.0</td>\n",
              "      <td>0.0</td>\n",
              "      <td>0.0</td>\n",
              "      <td>0.0</td>\n",
              "      <td>0.0</td>\n",
              "      <td>0.0</td>\n",
              "      <td>0.0</td>\n",
              "      <td>0.0</td>\n",
              "      <td>0.0</td>\n",
              "      <td>0.0</td>\n",
              "      <td>0.0</td>\n",
              "      <td>463</td>\n",
              "    </tr>\n",
              "    <tr>\n",
              "      <th>2020-04-26</th>\n",
              "      <td>0.0</td>\n",
              "      <td>0.0</td>\n",
              "      <td>42</td>\n",
              "      <td>14.0</td>\n",
              "      <td>10.0</td>\n",
              "      <td>98</td>\n",
              "      <td>6.0</td>\n",
              "      <td>0.0</td>\n",
              "      <td>0.0</td>\n",
              "      <td>0.0</td>\n",
              "      <td>3.0</td>\n",
              "      <td>0.0</td>\n",
              "      <td>0.0</td>\n",
              "      <td>12.0</td>\n",
              "      <td>0.0</td>\n",
              "      <td>3</td>\n",
              "      <td>50.0</td>\n",
              "      <td>40.0</td>\n",
              "      <td>3.0</td>\n",
              "      <td>0.0</td>\n",
              "      <td>0.0</td>\n",
              "      <td>0.0</td>\n",
              "      <td>0.0</td>\n",
              "      <td>3.0</td>\n",
              "      <td>6.0</td>\n",
              "      <td>0.0</td>\n",
              "      <td>0.0</td>\n",
              "      <td>0.0</td>\n",
              "      <td>0.0</td>\n",
              "      <td>3.0</td>\n",
              "      <td>3.0</td>\n",
              "      <td>0.0</td>\n",
              "      <td>0.0</td>\n",
              "      <td>0.0</td>\n",
              "      <td>0.0</td>\n",
              "      <td>27.0</td>\n",
              "      <td>0.0</td>\n",
              "      <td>9.0</td>\n",
              "      <td>0.0</td>\n",
              "      <td>0.0</td>\n",
              "      <td>...</td>\n",
              "      <td>0.0</td>\n",
              "      <td>0.0</td>\n",
              "      <td>0.0</td>\n",
              "      <td>0.0</td>\n",
              "      <td>0.0</td>\n",
              "      <td>0.0</td>\n",
              "      <td>0.0</td>\n",
              "      <td>0.0</td>\n",
              "      <td>0.0</td>\n",
              "      <td>0.0</td>\n",
              "      <td>0.0</td>\n",
              "      <td>0.0</td>\n",
              "      <td>0.0</td>\n",
              "      <td>0.0</td>\n",
              "      <td>0.0</td>\n",
              "      <td>0.0</td>\n",
              "      <td>0.0</td>\n",
              "      <td>0.0</td>\n",
              "      <td>0.0</td>\n",
              "      <td>0.0</td>\n",
              "      <td>0.0</td>\n",
              "      <td>0.0</td>\n",
              "      <td>0.0</td>\n",
              "      <td>0.0</td>\n",
              "      <td>0.0</td>\n",
              "      <td>0.0</td>\n",
              "      <td>0.0</td>\n",
              "      <td>0.0</td>\n",
              "      <td>0.0</td>\n",
              "      <td>0.0</td>\n",
              "      <td>0.0</td>\n",
              "      <td>0.0</td>\n",
              "      <td>0.0</td>\n",
              "      <td>0.0</td>\n",
              "      <td>0.0</td>\n",
              "      <td>0.0</td>\n",
              "      <td>0.0</td>\n",
              "      <td>0.0</td>\n",
              "      <td>0.0</td>\n",
              "      <td>447</td>\n",
              "    </tr>\n",
              "    <tr>\n",
              "      <th>2020-04-27</th>\n",
              "      <td>0.0</td>\n",
              "      <td>3.0</td>\n",
              "      <td>35</td>\n",
              "      <td>9.0</td>\n",
              "      <td>0.0</td>\n",
              "      <td>77</td>\n",
              "      <td>16.0</td>\n",
              "      <td>0.0</td>\n",
              "      <td>0.0</td>\n",
              "      <td>3.0</td>\n",
              "      <td>0.0</td>\n",
              "      <td>0.0</td>\n",
              "      <td>0.0</td>\n",
              "      <td>10.0</td>\n",
              "      <td>0.0</td>\n",
              "      <td>3</td>\n",
              "      <td>34.0</td>\n",
              "      <td>31.0</td>\n",
              "      <td>0.0</td>\n",
              "      <td>0.0</td>\n",
              "      <td>0.0</td>\n",
              "      <td>0.0</td>\n",
              "      <td>0.0</td>\n",
              "      <td>3.0</td>\n",
              "      <td>0.0</td>\n",
              "      <td>16.0</td>\n",
              "      <td>0.0</td>\n",
              "      <td>0.0</td>\n",
              "      <td>3.0</td>\n",
              "      <td>0.0</td>\n",
              "      <td>0.0</td>\n",
              "      <td>0.0</td>\n",
              "      <td>0.0</td>\n",
              "      <td>0.0</td>\n",
              "      <td>0.0</td>\n",
              "      <td>3.0</td>\n",
              "      <td>0.0</td>\n",
              "      <td>6.0</td>\n",
              "      <td>0.0</td>\n",
              "      <td>0.0</td>\n",
              "      <td>...</td>\n",
              "      <td>0.0</td>\n",
              "      <td>0.0</td>\n",
              "      <td>0.0</td>\n",
              "      <td>0.0</td>\n",
              "      <td>0.0</td>\n",
              "      <td>0.0</td>\n",
              "      <td>0.0</td>\n",
              "      <td>0.0</td>\n",
              "      <td>0.0</td>\n",
              "      <td>0.0</td>\n",
              "      <td>0.0</td>\n",
              "      <td>0.0</td>\n",
              "      <td>0.0</td>\n",
              "      <td>0.0</td>\n",
              "      <td>0.0</td>\n",
              "      <td>0.0</td>\n",
              "      <td>0.0</td>\n",
              "      <td>0.0</td>\n",
              "      <td>0.0</td>\n",
              "      <td>0.0</td>\n",
              "      <td>0.0</td>\n",
              "      <td>0.0</td>\n",
              "      <td>0.0</td>\n",
              "      <td>0.0</td>\n",
              "      <td>0.0</td>\n",
              "      <td>0.0</td>\n",
              "      <td>0.0</td>\n",
              "      <td>0.0</td>\n",
              "      <td>0.0</td>\n",
              "      <td>0.0</td>\n",
              "      <td>0.0</td>\n",
              "      <td>0.0</td>\n",
              "      <td>0.0</td>\n",
              "      <td>0.0</td>\n",
              "      <td>0.0</td>\n",
              "      <td>0.0</td>\n",
              "      <td>0.0</td>\n",
              "      <td>0.0</td>\n",
              "      <td>0.0</td>\n",
              "      <td>315</td>\n",
              "    </tr>\n",
              "    <tr>\n",
              "      <th>2020-04-28</th>\n",
              "      <td>0.0</td>\n",
              "      <td>3.0</td>\n",
              "      <td>47</td>\n",
              "      <td>3.0</td>\n",
              "      <td>15.0</td>\n",
              "      <td>46</td>\n",
              "      <td>0.0</td>\n",
              "      <td>0.0</td>\n",
              "      <td>0.0</td>\n",
              "      <td>3.0</td>\n",
              "      <td>3.0</td>\n",
              "      <td>0.0</td>\n",
              "      <td>0.0</td>\n",
              "      <td>11.0</td>\n",
              "      <td>0.0</td>\n",
              "      <td>13</td>\n",
              "      <td>13.0</td>\n",
              "      <td>25.0</td>\n",
              "      <td>0.0</td>\n",
              "      <td>0.0</td>\n",
              "      <td>0.0</td>\n",
              "      <td>0.0</td>\n",
              "      <td>0.0</td>\n",
              "      <td>0.0</td>\n",
              "      <td>0.0</td>\n",
              "      <td>0.0</td>\n",
              "      <td>0.0</td>\n",
              "      <td>0.0</td>\n",
              "      <td>0.0</td>\n",
              "      <td>3.0</td>\n",
              "      <td>0.0</td>\n",
              "      <td>0.0</td>\n",
              "      <td>3.0</td>\n",
              "      <td>0.0</td>\n",
              "      <td>0.0</td>\n",
              "      <td>0.0</td>\n",
              "      <td>0.0</td>\n",
              "      <td>6.0</td>\n",
              "      <td>0.0</td>\n",
              "      <td>0.0</td>\n",
              "      <td>...</td>\n",
              "      <td>0.0</td>\n",
              "      <td>0.0</td>\n",
              "      <td>0.0</td>\n",
              "      <td>0.0</td>\n",
              "      <td>0.0</td>\n",
              "      <td>0.0</td>\n",
              "      <td>0.0</td>\n",
              "      <td>0.0</td>\n",
              "      <td>0.0</td>\n",
              "      <td>3.0</td>\n",
              "      <td>0.0</td>\n",
              "      <td>0.0</td>\n",
              "      <td>0.0</td>\n",
              "      <td>0.0</td>\n",
              "      <td>0.0</td>\n",
              "      <td>0.0</td>\n",
              "      <td>0.0</td>\n",
              "      <td>0.0</td>\n",
              "      <td>0.0</td>\n",
              "      <td>0.0</td>\n",
              "      <td>0.0</td>\n",
              "      <td>0.0</td>\n",
              "      <td>0.0</td>\n",
              "      <td>0.0</td>\n",
              "      <td>0.0</td>\n",
              "      <td>0.0</td>\n",
              "      <td>0.0</td>\n",
              "      <td>0.0</td>\n",
              "      <td>0.0</td>\n",
              "      <td>0.0</td>\n",
              "      <td>0.0</td>\n",
              "      <td>0.0</td>\n",
              "      <td>0.0</td>\n",
              "      <td>0.0</td>\n",
              "      <td>0.0</td>\n",
              "      <td>0.0</td>\n",
              "      <td>0.0</td>\n",
              "      <td>0.0</td>\n",
              "      <td>0.0</td>\n",
              "      <td>251</td>\n",
              "    </tr>\n",
              "  </tbody>\n",
              "</table>\n",
              "<p>181 rows × 174 columns</p>\n",
              "</div>"
            ],
            "text/plain": [
              "              ae    at  cn    de    hk   jp  ...   to   ws   gm   ye   ml  total\n",
              "arrival                                      ...                                \n",
              "2019-10-31   3.0   3.0  20   3.0   6.0    6  ...  0.0  0.0  0.0  0.0  0.0     91\n",
              "2019-11-01   0.0   0.0   6   3.0   0.0    3  ...  0.0  0.0  0.0  0.0  0.0     36\n",
              "2019-11-02   0.0   0.0  26   6.0   3.0    9  ...  0.0  0.0  0.0  0.0  0.0    120\n",
              "2019-11-03   3.0   3.0  30   0.0  12.0   14  ...  0.0  0.0  0.0  0.0  0.0    159\n",
              "2019-11-04  12.0   3.0  40   3.0   3.0   10  ...  0.0  0.0  0.0  0.0  0.0    179\n",
              "...          ...   ...  ..   ...   ...  ...  ...  ...  ...  ...  ...  ...    ...\n",
              "2020-04-24   0.0  12.0  84  34.0  19.0  157  ...  0.0  0.0  0.0  0.0  0.0    711\n",
              "2020-04-25   0.0   9.0  39  15.0   4.0  111  ...  0.0  0.0  0.0  0.0  0.0    463\n",
              "2020-04-26   0.0   0.0  42  14.0  10.0   98  ...  0.0  0.0  0.0  0.0  0.0    447\n",
              "2020-04-27   0.0   3.0  35   9.0   0.0   77  ...  0.0  0.0  0.0  0.0  0.0    315\n",
              "2020-04-28   0.0   3.0  47   3.0  15.0   46  ...  0.0  0.0  0.0  0.0  0.0    251\n",
              "\n",
              "[181 rows x 174 columns]"
            ]
          },
          "metadata": {
            "tags": []
          },
          "execution_count": 6
        }
      ]
    },
    {
      "cell_type": "code",
      "metadata": {
        "id": "p5d941WsmBGY",
        "colab_type": "code",
        "colab": {
          "base_uri": "https://localhost:8080/",
          "height": 525
        },
        "outputId": "a4467cb9-5742-4f27-d4c9-fbd0153d41b5"
      },
      "source": [
        "ds_iso.plot(legend=False,figsize=(16,8))"
      ],
      "execution_count": 7,
      "outputs": [
        {
          "output_type": "execute_result",
          "data": {
            "text/plain": [
              "<matplotlib.axes._subplots.AxesSubplot at 0x7f2a4188a198>"
            ]
          },
          "metadata": {
            "tags": []
          },
          "execution_count": 7
        },
        {
          "output_type": "display_data",
          "data": {
            "image/png": "[encoded data removed]",
            "text/plain": [
              "<Figure size 1152x576 with 1 Axes>"
            ]
          },
          "metadata": {
            "tags": [],
            "needs_background": "light"
          }
        }
      ]
    },
    {
      "cell_type": "code",
      "metadata": {
        "id": "tu7DF4SEmBGb",
        "colab_type": "code",
        "colab": {
          "base_uri": "https://localhost:8080/",
          "height": 525
        },
        "outputId": "19e73dbc-37d8-4b81-b52d-ab7caacb0bad"
      },
      "source": [
        "# 1.3.2 2주 (14일) 평균 추세 추가.\n",
        "raw_ds = ds_iso.copy()\n",
        "raw_ds['arrival_14ma'] = raw_ds['total'].rolling(window=14, min_periods=0).mean()\n",
        "raw_ds.plot(legend=False,figsize=(16,8))"
      ],
      "execution_count": 8,
      "outputs": [
        {
          "output_type": "execute_result",
          "data": {
            "text/plain": [
              "<matplotlib.axes._subplots.AxesSubplot at 0x7f2a40d008d0>"
            ]
          },
          "metadata": {
            "tags": []
          },
          "execution_count": 8
        },
        {
          "output_type": "display_data",
          "data": {
            "image/png": "[encoded data removed]",
            "text/plain": [
              "<Figure size 1152x576 with 1 Axes>"
            ]
          },
          "metadata": {
            "tags": [],
            "needs_background": "light"
          }
        }
      ]
    },
    {
      "cell_type": "code",
      "metadata": {
        "id": "b0LR0qtFmBGf",
        "colab_type": "code",
        "colab": {}
      },
      "source": [
        "# 1.3.3 Trainingset의 구성\n",
        "\n",
        "# Time-series CNN을 적용하기 위한 전처리\n",
        "# 1D Convolution을 적용하기 위해.\n",
        "\n",
        "import numpy as np\n",
        "\n",
        "# window를 30일로 설정 -> 그냥 잡은 수치\n",
        "window = 30\n",
        "#입력 feature 개수.\n",
        "size = len(raw_ds.columns) - 1 # totoal column 제외\n",
        "#향후 15일 예측\n",
        "forecast_days = 15\n",
        "\n",
        "\n",
        "train_org_y = raw_ds['total'].to_numpy()\n",
        "data = (raw_ds.drop(columns=['total'])).to_numpy()\n",
        "\n",
        "train_x = []\n",
        "train_y = []\n",
        "\n",
        "for i in range(data.shape[0]-window-forecast_days + 1):\n",
        "    sub_x = []\n",
        "    for j in range(window):\n",
        "        sub_x.append(data[i+j,:])\n",
        "    train_x.append(sub_x)\n",
        "\n",
        "    sub_y = []\n",
        "    for z in range(forecast_days):\n",
        "        sub_y.append(train_org_y[i + window + z])\n",
        "    train_y.append(sub_y)\n",
        "\n",
        "#train_x ,train_y의 준비\n",
        "train_x = np.asarray(train_x)\n",
        "train_x = train_x.reshape(-1,window,size)\n",
        "train_y = np.asarray(train_y)\n",
        "\n",
        "test_x = data[data.shape[0]-window:data.shape[0],:]"
      ],
      "execution_count": 0,
      "outputs": []
    },
    {
      "cell_type": "code",
      "metadata": {
        "id": "poDWlNfWmBGj",
        "colab_type": "code",
        "colab": {
          "base_uri": "https://localhost:8080/",
          "height": 34
        },
        "outputId": "67c9e995-c6c8-4ae8-dc62-3cc4ecf773d4"
      },
      "source": [
        "#train_x ,train_y의 내용 확인.\n",
        "train_x.shape, train_y.shape, test_x.shape"
      ],
      "execution_count": 10,
      "outputs": [
        {
          "output_type": "execute_result",
          "data": {
            "text/plain": [
              "((137, 30, 174), (137, 15), (30, 174))"
            ]
          },
          "metadata": {
            "tags": []
          },
          "execution_count": 10
        }
      ]
    },
    {
      "cell_type": "code",
      "metadata": {
        "id": "SIjqYv4SmBGn",
        "colab_type": "code",
        "colab": {
          "base_uri": "https://localhost:8080/",
          "height": 509
        },
        "outputId": "f0042b20-8b33-40ac-c3c0-cf58ffa9f242"
      },
      "source": [
        "# 1.4 CNN model 구성 \n",
        "\n",
        "\n",
        "# 이게 최적의 layer 구성인지는 모름... 일반적/직관적으로 layer 설정 \n",
        "import keras\n",
        "from keras.layers import Dense, Activation, Flatten, Conv1D, MaxPooling1D\n",
        "from keras.models import Sequential\n",
        "\n",
        "model = Sequential()\n",
        "model.add(Conv1D(128,4, input_shape=(window, size),padding=\"same\"))\n",
        "model.add(Activation('relu'))\n",
        "model.add(MaxPooling1D(pool_size=2))\n",
        "\n",
        "model.add(Conv1D(64, 4,padding=\"same\"))\n",
        "model.add(Activation('relu'))\n",
        "model.add(MaxPooling1D(pool_size=2))\n",
        "\n",
        "#model.add(Conv1D(32, 4,padding=\"same\"))\n",
        "#model.add(Activation('relu'))\n",
        "#model.add(MaxPooling1D(pool_size=2))\n",
        "\n",
        "model.add(Flatten())\n",
        "model.add(Dense(256))\n",
        "model.add(Dense(forecast_days))\n",
        "model.add(Activation('linear'))\n",
        "\n",
        "model.compile(loss=keras.losses.mean_squared_error, optimizer=keras.optimizers.Adam(),metrics=['mae',r2])\n",
        "\n",
        "model.summary()"
      ],
      "execution_count": 11,
      "outputs": [
        {
          "output_type": "stream",
          "text": [
            "Model: \"sequential_1\"\n",
            "_________________________________________________________________\n",
            "Layer (type)                 Output Shape              Param #   \n",
            "=================================================================\n",
            "conv1d_1 (Conv1D)            (None, 30, 128)           89216     \n",
            "_________________________________________________________________\n",
            "activation_1 (Activation)    (None, 30, 128)           0         \n",
            "_________________________________________________________________\n",
            "max_pooling1d_1 (MaxPooling1 (None, 15, 128)           0         \n",
            "_________________________________________________________________\n",
            "conv1d_2 (Conv1D)            (None, 15, 64)            32832     \n",
            "_________________________________________________________________\n",
            "activation_2 (Activation)    (None, 15, 64)            0         \n",
            "_________________________________________________________________\n",
            "max_pooling1d_2 (MaxPooling1 (None, 7, 64)             0         \n",
            "_________________________________________________________________\n",
            "flatten_1 (Flatten)          (None, 448)               0         \n",
            "_________________________________________________________________\n",
            "dense_1 (Dense)              (None, 256)               114944    \n",
            "_________________________________________________________________\n",
            "dense_2 (Dense)              (None, 15)                3855      \n",
            "_________________________________________________________________\n",
            "activation_3 (Activation)    (None, 15)                0         \n",
            "=================================================================\n",
            "Total params: 240,847\n",
            "Trainable params: 240,847\n",
            "Non-trainable params: 0\n",
            "_________________________________________________________________\n"
          ],
          "name": "stdout"
        }
      ]
    },
    {
      "cell_type": "code",
      "metadata": {
        "id": "ALADXNApmBGr",
        "colab_type": "code",
        "colab": {
          "base_uri": "https://localhost:8080/",
          "height": 54
        },
        "outputId": "d44475d2-01ad-4a90-bf82-7f034ca1f358"
      },
      "source": [
        "# 1.5 model training\n",
        "# 1.5.1 model training\n",
        "\n",
        "#학습 시작...\n",
        "epochs=100\n",
        "hist = model.fit(train_x, train_y, epochs=epochs,verbose=0, callbacks=[VerboseCallback(epochs)])"
      ],
      "execution_count": 12,
      "outputs": [
        {
          "output_type": "stream",
          "text": [
            "learning:[====================================================================================================] 100/100 {'loss': 1506689.3827554744, 'mae': 765.6697, 'r2': 0.98550034}\n"
          ],
          "name": "stdout"
        }
      ]
    },
    {
      "cell_type": "code",
      "metadata": {
        "id": "C_K1iIwcmBGv",
        "colab_type": "code",
        "colab": {
          "base_uri": "https://localhost:8080/",
          "height": 573
        },
        "outputId": "bb2e4d89-8615-4719-9a0e-b5cbff5718da"
      },
      "source": [
        "# 1.5.2 학습에 대한 mean_absolute_error 확인.\n",
        "plot_mae(hist)\n",
        "plot_r2(hist) "
      ],
      "execution_count": 13,
      "outputs": [
        {
          "output_type": "display_data",
          "data": {
            "image/png": "[encoded data removed]",
            "text/plain": [
              "<Figure size 432x288 with 1 Axes>"
            ]
          },
          "metadata": {
            "tags": [],
            "needs_background": "light"
          }
        },
        {
          "output_type": "display_data",
          "data": {
            "image/png": "[encoded data removed]",
            "text/plain": [
              "<Figure size 432x288 with 1 Axes>"
            ]
          },
          "metadata": {
            "tags": [],
            "needs_background": "light"
          }
        }
      ]
    },
    {
      "cell_type": "code",
      "metadata": {
        "id": "0LGm6DrZmBG0",
        "colab_type": "code",
        "colab": {
          "base_uri": "https://localhost:8080/",
          "height": 245
        },
        "outputId": "8a2e246c-3d2d-48aa-a015-68523dbe3cae"
      },
      "source": [
        "# 1.5.3 trainset에 의한 과거 data의 예측 입국자 count \n",
        "predit_y = model.predict(train_x)\n",
        "predit_y,predit_y.shape"
      ],
      "execution_count": 14,
      "outputs": [
        {
          "output_type": "execute_result",
          "data": {
            "text/plain": [
              "(array([[19629.186  , 20513.42   , 20839.527  , ..., 22938.775  ,\n",
              "         23109.82   , 22026.203  ],\n",
              "        [21368.771  , 21937.957  , 22608.346  , ..., 24099.975  ,\n",
              "         23934.494  , 23499.564  ],\n",
              "        [21376.367  , 21725.914  , 22631.7    , ..., 23432.504  ,\n",
              "         23131.547  , 23101.738  ],\n",
              "        ...,\n",
              "        [  638.6676 ,   627.87354,   593.9469 , ...,   394.84836,\n",
              "           385.47598,   354.27643],\n",
              "        [  619.5053 ,   609.6883 ,   579.90607, ...,   391.16006,\n",
              "           367.08725,   346.4936 ],\n",
              "        [  605.7458 ,   593.10626,   573.1424 , ...,   384.4495 ,\n",
              "           374.15323,   348.6673 ]], dtype=float32), (137, 15))"
            ]
          },
          "metadata": {
            "tags": []
          },
          "execution_count": 14
        }
      ]
    },
    {
      "cell_type": "code",
      "metadata": {
        "id": "MVovpNA1mBG3",
        "colab_type": "code",
        "colab": {
          "base_uri": "https://localhost:8080/",
          "height": 508
        },
        "outputId": "51cd2cf4-49fd-4318-ca55-781001ebb430"
      },
      "source": [
        "# 1.5.4 과거 Data에서 실등록자 count와 예측 count의 비교 \n",
        "\n",
        "def compare_backdata(predit_y):\n",
        "    predit = []\n",
        "    for forecast in range(forecast_days):\n",
        "        predit.append(list(np.concatenate((np.zeros(window+ forecast), predit_y[:,forecast],np.zeros(forecast_days-forecast-1)), axis=0)))\n",
        "    # 예측치를 chart에 같이 그려서 확인\n",
        "    comp_ds = raw_ds.copy()\n",
        "    comp_ds['predict_arrival_1'] = predit[0]\n",
        "    comp_ds['predict_arrival_15'] = predit[14]\n",
        "    comp_ds.plot(y=['total','predict_arrival_1','predict_arrival_15'],figsize=(16,8))\n",
        "\n",
        "compare_backdata(predit_y)"
      ],
      "execution_count": 15,
      "outputs": [
        {
          "output_type": "display_data",
          "data": {
            "image/png": "[encoded data removed]",
            "text/plain": [
              "<Figure size 1152x576 with 1 Axes>"
            ]
          },
          "metadata": {
            "tags": [],
            "needs_background": "light"
          }
        }
      ]
    },
    {
      "cell_type": "code",
      "metadata": {
        "id": "-bz2ib20mBG6",
        "colab_type": "code",
        "colab": {
          "base_uri": "https://localhost:8080/",
          "height": 70
        },
        "outputId": "07e4ba7f-b3b2-4973-e0d8-95e01a2bb7a0"
      },
      "source": [
        "# 1.6  향후 15일 예측\n",
        "# 1.6.1 testset (마지막 30일)의 inference\n",
        "\n",
        "# trainset의 마지막 날에서 15일까지의 예측\n",
        "# 마지막 30일치 정보를 input으로...\n",
        "\n",
        "test_x = test_x.reshape(-1,window,size)\n",
        "predit_y = model.predict(test_x)\n",
        "predit_y, predit_y.shape"
      ],
      "execution_count": 16,
      "outputs": [
        {
          "output_type": "execute_result",
          "data": {
            "text/plain": [
              "(array([[440.4489 , 427.46353, 434.88425, 398.3147 , 388.4964 , 364.70764,\n",
              "         352.16306, 344.0168 , 319.24457, 309.5812 , 299.56473, 248.52821,\n",
              "         246.15495, 240.01086, 244.68347]], dtype=float32), (1, 15))"
            ]
          },
          "metadata": {
            "tags": []
          },
          "execution_count": 16
        }
      ]
    },
    {
      "cell_type": "code",
      "metadata": {
        "id": "frsKEPVUmBG9",
        "colab_type": "code",
        "colab": {
          "base_uri": "https://localhost:8080/",
          "height": 859
        },
        "outputId": "bdf856d0-ec29-444f-868b-3440ddb4590c"
      },
      "source": [
        "# 1.6.2 로밍등록자 예측 Count에서 실입국자 보정 처리 및 결과 표출\n",
        "\n",
        "display_result(predit_y)"
      ],
      "execution_count": 17,
      "outputs": [
        {
          "output_type": "execute_result",
          "data": {
            "text/html": [
              "<div>\n",
              "<style scoped>\n",
              "    .dataframe tbody tr th:only-of-type {\n",
              "        vertical-align: middle;\n",
              "    }\n",
              "\n",
              "    .dataframe tbody tr th {\n",
              "        vertical-align: top;\n",
              "    }\n",
              "\n",
              "    .dataframe thead th {\n",
              "        text-align: right;\n",
              "    }\n",
              "</style>\n",
              "<table border=\"1\" class=\"dataframe\">\n",
              "  <thead>\n",
              "    <tr style=\"text-align: right;\">\n",
              "      <th></th>\n",
              "      <th>date</th>\n",
              "      <th>roaming register forecate</th>\n",
              "      <th>immigrantion forecast</th>\n",
              "    </tr>\n",
              "  </thead>\n",
              "  <tbody>\n",
              "    <tr>\n",
              "      <th>0</th>\n",
              "      <td>2020-04-29</td>\n",
              "      <td>440.448914</td>\n",
              "      <td>1835</td>\n",
              "    </tr>\n",
              "    <tr>\n",
              "      <th>1</th>\n",
              "      <td>2020-04-30</td>\n",
              "      <td>427.463531</td>\n",
              "      <td>1781</td>\n",
              "    </tr>\n",
              "    <tr>\n",
              "      <th>2</th>\n",
              "      <td>2020-05-01</td>\n",
              "      <td>434.884247</td>\n",
              "      <td>1812</td>\n",
              "    </tr>\n",
              "    <tr>\n",
              "      <th>3</th>\n",
              "      <td>2020-05-02</td>\n",
              "      <td>398.314697</td>\n",
              "      <td>1659</td>\n",
              "    </tr>\n",
              "    <tr>\n",
              "      <th>4</th>\n",
              "      <td>2020-05-03</td>\n",
              "      <td>388.496399</td>\n",
              "      <td>1618</td>\n",
              "    </tr>\n",
              "    <tr>\n",
              "      <th>5</th>\n",
              "      <td>2020-05-04</td>\n",
              "      <td>364.707642</td>\n",
              "      <td>1519</td>\n",
              "    </tr>\n",
              "    <tr>\n",
              "      <th>6</th>\n",
              "      <td>2020-05-05</td>\n",
              "      <td>352.163055</td>\n",
              "      <td>1467</td>\n",
              "    </tr>\n",
              "    <tr>\n",
              "      <th>7</th>\n",
              "      <td>2020-05-06</td>\n",
              "      <td>344.016815</td>\n",
              "      <td>1433</td>\n",
              "    </tr>\n",
              "    <tr>\n",
              "      <th>8</th>\n",
              "      <td>2020-05-07</td>\n",
              "      <td>319.244568</td>\n",
              "      <td>1330</td>\n",
              "    </tr>\n",
              "    <tr>\n",
              "      <th>9</th>\n",
              "      <td>2020-05-08</td>\n",
              "      <td>309.581207</td>\n",
              "      <td>1289</td>\n",
              "    </tr>\n",
              "    <tr>\n",
              "      <th>10</th>\n",
              "      <td>2020-05-09</td>\n",
              "      <td>299.564728</td>\n",
              "      <td>1248</td>\n",
              "    </tr>\n",
              "    <tr>\n",
              "      <th>11</th>\n",
              "      <td>2020-05-10</td>\n",
              "      <td>248.528214</td>\n",
              "      <td>1035</td>\n",
              "    </tr>\n",
              "    <tr>\n",
              "      <th>12</th>\n",
              "      <td>2020-05-11</td>\n",
              "      <td>246.154953</td>\n",
              "      <td>1025</td>\n",
              "    </tr>\n",
              "    <tr>\n",
              "      <th>13</th>\n",
              "      <td>2020-05-12</td>\n",
              "      <td>240.010864</td>\n",
              "      <td>1000</td>\n",
              "    </tr>\n",
              "    <tr>\n",
              "      <th>14</th>\n",
              "      <td>2020-05-13</td>\n",
              "      <td>244.683472</td>\n",
              "      <td>1019</td>\n",
              "    </tr>\n",
              "  </tbody>\n",
              "</table>\n",
              "</div>"
            ],
            "text/plain": [
              "         date  roaming register forecate  immigrantion forecast\n",
              "0  2020-04-29                 440.448914                   1835\n",
              "1  2020-04-30                 427.463531                   1781\n",
              "2  2020-05-01                 434.884247                   1812\n",
              "3  2020-05-02                 398.314697                   1659\n",
              "4  2020-05-03                 388.496399                   1618\n",
              "5  2020-05-04                 364.707642                   1519\n",
              "6  2020-05-05                 352.163055                   1467\n",
              "7  2020-05-06                 344.016815                   1433\n",
              "8  2020-05-07                 319.244568                   1330\n",
              "9  2020-05-08                 309.581207                   1289\n",
              "10 2020-05-09                 299.564728                   1248\n",
              "11 2020-05-10                 248.528214                   1035\n",
              "12 2020-05-11                 246.154953                   1025\n",
              "13 2020-05-12                 240.010864                   1000\n",
              "14 2020-05-13                 244.683472                   1019"
            ]
          },
          "metadata": {
            "tags": []
          },
          "execution_count": 17
        },
        {
          "output_type": "display_data",
          "data": {
            "image/png": "[encoded data removed]",
            "text/plain": [
              "<Figure size 432x288 with 1 Axes>"
            ]
          },
          "metadata": {
            "tags": [],
            "needs_background": "light"
          }
        }
      ]
    },
    {
      "cell_type": "code",
      "metadata": {
        "id": "yZceHHyjmBHA",
        "colab_type": "code",
        "colab": {
          "base_uri": "https://localhost:8080/",
          "height": 1000
        },
        "outputId": "3d94c54c-57f9-4b60-ef54-cf22b2cf2077"
      },
      "source": [
        "\n",
        "# \t2.1 News Data의 load\n",
        "\n",
        "# 뉴스 기사 정보를 읽어서... 나뉘어 있는 Dataset을 합친다.\n",
        "ns1 = pd.read_excel(\"https://raw.githubusercontent.com/dolmani38/ai_corona/master/corona_contest_data_0406/NewsList.xls\")\n",
        "ns2 = pd.read_excel(\"https://raw.githubusercontent.com/dolmani38/ai_corona/master/corona_contest_data_0429/NewsList.xls\")\n",
        "ns =pd.concat([ns1, ns2], ignore_index=True, sort=False)\n",
        "ns"
      ],
      "execution_count": 18,
      "outputs": [
        {
          "output_type": "execute_result",
          "data": {
            "text/html": [
              "<div>\n",
              "<style scoped>\n",
              "    .dataframe tbody tr th:only-of-type {\n",
              "        vertical-align: middle;\n",
              "    }\n",
              "\n",
              "    .dataframe tbody tr th {\n",
              "        vertical-align: top;\n",
              "    }\n",
              "\n",
              "    .dataframe thead th {\n",
              "        text-align: right;\n",
              "    }\n",
              "</style>\n",
              "<table border=\"1\" class=\"dataframe\">\n",
              "  <thead>\n",
              "    <tr style=\"text-align: right;\">\n",
              "      <th></th>\n",
              "      <th>파일명</th>\n",
              "      <th>제목</th>\n",
              "      <th>URL</th>\n",
              "      <th>수집일자</th>\n",
              "      <th>게시일자</th>\n",
              "      <th>채널명</th>\n",
              "      <th>감염병명</th>\n",
              "      <th>분류명</th>\n",
              "    </tr>\n",
              "  </thead>\n",
              "  <tbody>\n",
              "    <tr>\n",
              "      <th>0</th>\n",
              "      <td>AFRO2019120200003</td>\n",
              "      <td>WHO supports Angola’s Government efforts to en...</td>\n",
              "      <td>https://www.afro.who.int/news/who-supports-ang...</td>\n",
              "      <td>2019-12-02 21:00:16.0</td>\n",
              "      <td>2019-12-02 00:00:00</td>\n",
              "      <td>AFRO</td>\n",
              "      <td>Poliomyelitis</td>\n",
              "      <td>Viral</td>\n",
              "    </tr>\n",
              "    <tr>\n",
              "      <th>1</th>\n",
              "      <td>AFRO2019120300001</td>\n",
              "      <td>African First Ladies laud progress against HIV...</td>\n",
              "      <td>https://www.afro.who.int/news/african-first-la...</td>\n",
              "      <td>2019-12-03 00:00:17.0</td>\n",
              "      <td>2019-12-02 00:00:00</td>\n",
              "      <td>AFRO</td>\n",
              "      <td>Acquired immuno deficiency syndrome</td>\n",
              "      <td>Viral</td>\n",
              "    </tr>\n",
              "    <tr>\n",
              "      <th>2</th>\n",
              "      <td>AFRO2019120300002</td>\n",
              "      <td>Eritrea Observed World AIDS Day 2019</td>\n",
              "      <td>https://www.afro.who.int/news/eritrea-observed...</td>\n",
              "      <td>2019-12-03 00:00:18.0</td>\n",
              "      <td>2019-12-02 00:00:00</td>\n",
              "      <td>AFRO</td>\n",
              "      <td>Acquired immuno deficiency syndrome</td>\n",
              "      <td>Viral</td>\n",
              "    </tr>\n",
              "    <tr>\n",
              "      <th>3</th>\n",
              "      <td>AFRO2019120400003</td>\n",
              "      <td>West and Central Africa Expands Access to HIV ...</td>\n",
              "      <td>https://www.afro.who.int/news/west-and-central...</td>\n",
              "      <td>2019-12-04 03:00:14.0</td>\n",
              "      <td>2019-12-03 00:00:00</td>\n",
              "      <td>AFRO</td>\n",
              "      <td>Acquired immuno deficiency syndrome</td>\n",
              "      <td>Viral</td>\n",
              "    </tr>\n",
              "    <tr>\n",
              "      <th>4</th>\n",
              "      <td>AFRO2019120400004</td>\n",
              "      <td>Nearly 23 million voluntary male medical circu...</td>\n",
              "      <td>https://www.afro.who.int/news/nearly-23-millio...</td>\n",
              "      <td>2019-12-04 22:00:14.0</td>\n",
              "      <td>2019-12-04 00:00:00</td>\n",
              "      <td>AFRO</td>\n",
              "      <td>Acquired immuno deficiency syndrome</td>\n",
              "      <td>Viral</td>\n",
              "    </tr>\n",
              "    <tr>\n",
              "      <th>...</th>\n",
              "      <td>...</td>\n",
              "      <td>...</td>\n",
              "      <td>...</td>\n",
              "      <td>...</td>\n",
              "      <td>...</td>\n",
              "      <td>...</td>\n",
              "      <td>...</td>\n",
              "      <td>...</td>\n",
              "    </tr>\n",
              "    <tr>\n",
              "      <th>103822</th>\n",
              "      <td>XWFB2020040900020</td>\n",
              "      <td>Ching Ming remembrance, home country forever! ...</td>\n",
              "      <td>http://wsjkw.sh.gov.cn/xwfb/20200404/2f54e0e14...</td>\n",
              "      <td>2020-04-09 16:05:21.0</td>\n",
              "      <td>2020-04-04 00:00:00</td>\n",
              "      <td>Shanghai Municioal Health Commission</td>\n",
              "      <td>COVID-19</td>\n",
              "      <td>Viral</td>\n",
              "    </tr>\n",
              "    <tr>\n",
              "      <th>103823</th>\n",
              "      <td>ZWYW2020041000002</td>\n",
              "      <td>Guangdong Provincial Health Commission notifie...</td>\n",
              "      <td>http://wsjkw.gd.gov.cn/zwyw_yqxx/content/post_...</td>\n",
              "      <td>2020-04-10 18:00:45.0</td>\n",
              "      <td>2020-04-10 00:00:00</td>\n",
              "      <td>Health Commission of Guangdong Province</td>\n",
              "      <td>Dengue fever</td>\n",
              "      <td>Viral</td>\n",
              "    </tr>\n",
              "    <tr>\n",
              "      <th>103824</th>\n",
              "      <td>ZWYW2020041500002</td>\n",
              "      <td>Guangdong Provincial Health Commission announc...</td>\n",
              "      <td>http://wsjkw.gd.gov.cn/zwyw_yqxx/content/post_...</td>\n",
              "      <td>2020-04-15 23:01:04.0</td>\n",
              "      <td>2020-04-15 00:00:00</td>\n",
              "      <td>Health Commission of Guangdong Province</td>\n",
              "      <td>Influenza</td>\n",
              "      <td>Viral</td>\n",
              "    </tr>\n",
              "    <tr>\n",
              "      <th>103825</th>\n",
              "      <td>ZWYW2020041500003</td>\n",
              "      <td>Guangdong Provincial Health Commission release...</td>\n",
              "      <td>http://wsjkw.gd.gov.cn/zwyw_yqxx/content/post_...</td>\n",
              "      <td>2020-04-15 23:01:13.0</td>\n",
              "      <td>2020-04-15 00:00:00</td>\n",
              "      <td>Health Commission of Guangdong Province</td>\n",
              "      <td>Influenza</td>\n",
              "      <td>Viral</td>\n",
              "    </tr>\n",
              "    <tr>\n",
              "      <th>103826</th>\n",
              "      <td>ZWYW2020041700002</td>\n",
              "      <td>The Guangdong Provincial Health Commission not...</td>\n",
              "      <td>http://wsjkw.gd.gov.cn/zwyw_yqxx/content/post_...</td>\n",
              "      <td>2020-04-17 17:01:02.0</td>\n",
              "      <td>2020-04-17 00:00:00</td>\n",
              "      <td>Health Commission of Guangdong Province</td>\n",
              "      <td>Dengue fever</td>\n",
              "      <td>Viral</td>\n",
              "    </tr>\n",
              "  </tbody>\n",
              "</table>\n",
              "<p>103827 rows × 8 columns</p>\n",
              "</div>"
            ],
            "text/plain": [
              "                      파일명  ...    분류명\n",
              "0       AFRO2019120200003  ...  Viral\n",
              "1       AFRO2019120300001  ...  Viral\n",
              "2       AFRO2019120300002  ...  Viral\n",
              "3       AFRO2019120400003  ...  Viral\n",
              "4       AFRO2019120400004  ...  Viral\n",
              "...                   ...  ...    ...\n",
              "103822  XWFB2020040900020  ...  Viral\n",
              "103823  ZWYW2020041000002  ...  Viral\n",
              "103824  ZWYW2020041500002  ...  Viral\n",
              "103825  ZWYW2020041500003  ...  Viral\n",
              "103826  ZWYW2020041700002  ...  Viral\n",
              "\n",
              "[103827 rows x 8 columns]"
            ]
          },
          "metadata": {
            "tags": []
          },
          "execution_count": 18
        }
      ]
    },
    {
      "cell_type": "code",
      "metadata": {
        "id": "IQvVL88RmBHI",
        "colab_type": "code",
        "colab": {
          "base_uri": "https://localhost:8080/",
          "height": 546
        },
        "outputId": "dc383b7a-6135-46f0-f006-2534b6f602bc"
      },
      "source": [
        "# \t2.2 News Data에 대한 EDA\n",
        "# \t\t2.2.1 게시일을 기준으로 News buzz의 합산\n",
        "\n",
        "cov_news = ns.loc[ns['감염병명'] == 'COVID-19']\n",
        "cov_news['게시일자'] =  cov_news['게시일자'].str[:10]\n",
        "cov_buz = pd.DataFrame(cov_news.groupby('게시일자')['감염병명'].count())\n",
        "cov_buz = cov_buz.loc[cov_buz.index >= '2019-10-31']\n",
        "cov_buz['date'] = pd.to_datetime(cov_buz.index, format='%Y-%m-%d')\n",
        "cov_buz = cov_buz.rename(columns={\"감염병명\":\"buz_count\"})\n",
        "cov_buz"
      ],
      "execution_count": 19,
      "outputs": [
        {
          "output_type": "stream",
          "text": [
            "/usr/local/lib/python3.6/dist-packages/ipykernel_launcher.py:3: SettingWithCopyWarning: \n",
            "A value is trying to be set on a copy of a slice from a DataFrame.\n",
            "Try using .loc[row_indexer,col_indexer] = value instead\n",
            "\n",
            "See the caveats in the documentation: https://pandas.pydata.org/pandas-docs/stable/user_guide/indexing.html#returning-a-view-versus-a-copy\n",
            "  This is separate from the ipykernel package so we can avoid doing imports until\n"
          ],
          "name": "stderr"
        },
        {
          "output_type": "execute_result",
          "data": {
            "text/html": [
              "<div>\n",
              "<style scoped>\n",
              "    .dataframe tbody tr th:only-of-type {\n",
              "        vertical-align: middle;\n",
              "    }\n",
              "\n",
              "    .dataframe tbody tr th {\n",
              "        vertical-align: top;\n",
              "    }\n",
              "\n",
              "    .dataframe thead th {\n",
              "        text-align: right;\n",
              "    }\n",
              "</style>\n",
              "<table border=\"1\" class=\"dataframe\">\n",
              "  <thead>\n",
              "    <tr style=\"text-align: right;\">\n",
              "      <th></th>\n",
              "      <th>buz_count</th>\n",
              "      <th>date</th>\n",
              "    </tr>\n",
              "    <tr>\n",
              "      <th>게시일자</th>\n",
              "      <th></th>\n",
              "      <th></th>\n",
              "    </tr>\n",
              "  </thead>\n",
              "  <tbody>\n",
              "    <tr>\n",
              "      <th>2019-12-01</th>\n",
              "      <td>1</td>\n",
              "      <td>2019-12-01</td>\n",
              "    </tr>\n",
              "    <tr>\n",
              "      <th>2019-12-14</th>\n",
              "      <td>2</td>\n",
              "      <td>2019-12-14</td>\n",
              "    </tr>\n",
              "    <tr>\n",
              "      <th>2019-12-30</th>\n",
              "      <td>3</td>\n",
              "      <td>2019-12-30</td>\n",
              "    </tr>\n",
              "    <tr>\n",
              "      <th>2019-12-31</th>\n",
              "      <td>5</td>\n",
              "      <td>2019-12-31</td>\n",
              "    </tr>\n",
              "    <tr>\n",
              "      <th>2020-01-02</th>\n",
              "      <td>1</td>\n",
              "      <td>2020-01-02</td>\n",
              "    </tr>\n",
              "    <tr>\n",
              "      <th>...</th>\n",
              "      <td>...</td>\n",
              "      <td>...</td>\n",
              "    </tr>\n",
              "    <tr>\n",
              "      <th>2020-04-26</th>\n",
              "      <td>1176</td>\n",
              "      <td>2020-04-26</td>\n",
              "    </tr>\n",
              "    <tr>\n",
              "      <th>2020-04-27</th>\n",
              "      <td>1353</td>\n",
              "      <td>2020-04-27</td>\n",
              "    </tr>\n",
              "    <tr>\n",
              "      <th>2020-04-28</th>\n",
              "      <td>999</td>\n",
              "      <td>2020-04-28</td>\n",
              "    </tr>\n",
              "    <tr>\n",
              "      <th>2020-05-02</th>\n",
              "      <td>3</td>\n",
              "      <td>2020-05-02</td>\n",
              "    </tr>\n",
              "    <tr>\n",
              "      <th>2020-05-09</th>\n",
              "      <td>2</td>\n",
              "      <td>2020-05-09</td>\n",
              "    </tr>\n",
              "  </tbody>\n",
              "</table>\n",
              "<p>121 rows × 2 columns</p>\n",
              "</div>"
            ],
            "text/plain": [
              "            buz_count       date\n",
              "게시일자                            \n",
              "2019-12-01          1 2019-12-01\n",
              "2019-12-14          2 2019-12-14\n",
              "2019-12-30          3 2019-12-30\n",
              "2019-12-31          5 2019-12-31\n",
              "2020-01-02          1 2020-01-02\n",
              "...               ...        ...\n",
              "2020-04-26       1176 2020-04-26\n",
              "2020-04-27       1353 2020-04-27\n",
              "2020-04-28        999 2020-04-28\n",
              "2020-05-02          3 2020-05-02\n",
              "2020-05-09          2 2020-05-09\n",
              "\n",
              "[121 rows x 2 columns]"
            ]
          },
          "metadata": {
            "tags": []
          },
          "execution_count": 19
        }
      ]
    },
    {
      "cell_type": "code",
      "metadata": {
        "id": "bJvx56EwmBHK",
        "colab_type": "code",
        "colab": {
          "base_uri": "https://localhost:8080/",
          "height": 34
        },
        "outputId": "0426e930-3375-4e0e-ffa0-c2bc8eb17178"
      },
      "source": [
        "# \t\t2.2.2 하루 최대 buzz count 추출\n",
        "\n",
        "max_buz_per_day = cov_buz['buz_count'].max()\n",
        "max_buz_per_day"
      ],
      "execution_count": 20,
      "outputs": [
        {
          "output_type": "execute_result",
          "data": {
            "text/plain": [
              "1948"
            ]
          },
          "metadata": {
            "tags": []
          },
          "execution_count": 20
        }
      ]
    },
    {
      "cell_type": "code",
      "metadata": {
        "id": "e3-ZyGammBHN",
        "colab_type": "code",
        "colab": {
          "base_uri": "https://localhost:8080/",
          "height": 294
        },
        "outputId": "1a50d86d-8010-4d9e-f2dd-77c002403de3"
      },
      "source": [
        "# \t\t2.2.3 News buzz 추세 Chart\n",
        "\n",
        "cov_buz.plot(x='date',y='buz_count')"
      ],
      "execution_count": 21,
      "outputs": [
        {
          "output_type": "execute_result",
          "data": {
            "text/plain": [
              "<matplotlib.axes._subplots.AxesSubplot at 0x7f2a37c18048>"
            ]
          },
          "metadata": {
            "tags": []
          },
          "execution_count": 21
        },
        {
          "output_type": "display_data",
          "data": {
            "image/png": "[encoded data removed]",
            "text/plain": [
              "<Figure size 432x288 with 1 Axes>"
            ]
          },
          "metadata": {
            "tags": [],
            "needs_background": "light"
          }
        }
      ]
    },
    {
      "cell_type": "code",
      "metadata": {
        "id": "4DRmqdGpmBHQ",
        "colab_type": "code",
        "colab": {
          "base_uri": "https://localhost:8080/",
          "height": 105
        },
        "outputId": "9eff615d-be1d-4618-ff50-ef3b281fbb57"
      },
      "source": [
        "# \t2.3 News Data의 전처리\n",
        "#\t\t2.3.1 News Data의 doc2vec 처리\n",
        "\n",
        "!pip install nltk\n",
        "#Import all the dependencies\n",
        "from gensim.models.doc2vec import Doc2Vec, TaggedDocument\n",
        "from nltk.tokenize import word_tokenize\n",
        "import nltk\n",
        "nltk.download('punkt')"
      ],
      "execution_count": 22,
      "outputs": [
        {
          "output_type": "stream",
          "text": [
            "Requirement already satisfied: nltk in /usr/local/lib/python3.6/dist-packages (3.2.5)\n",
            "Requirement already satisfied: six in /usr/local/lib/python3.6/dist-packages (from nltk) (1.12.0)\n",
            "[nltk_data] Downloading package punkt to /root/nltk_data...\n",
            "[nltk_data]   Unzipping tokenizers/punkt.zip.\n"
          ],
          "name": "stdout"
        },
        {
          "output_type": "execute_result",
          "data": {
            "text/plain": [
              "True"
            ]
          },
          "metadata": {
            "tags": []
          },
          "execution_count": 22
        }
      ]
    },
    {
      "cell_type": "code",
      "metadata": {
        "id": "iOEpeVR4mBHS",
        "colab_type": "code",
        "colab": {
          "base_uri": "https://localhost:8080/",
          "height": 34
        },
        "outputId": "c824cee1-f9cc-4fb1-b895-2e598a429cbc"
      },
      "source": [
        "#\t\t\t2.3.1.1 document의 tokenize & tagging\n",
        "# 실 Contents는 사용하지 않고 title만 doc2vec 처리...\n",
        "tagged_data = []\n",
        "for row in cov_news.iterrows():\n",
        "    file_name = row[1][0]\n",
        "    title = str(row[1][1])\n",
        "    pub_datetime = row[1][4]\n",
        "    tagged_data.append(TaggedDocument(words=word_tokenize(title.lower()), tags=[file_name]))\n",
        "    \n",
        "len(tagged_data)"
      ],
      "execution_count": 23,
      "outputs": [
        {
          "output_type": "execute_result",
          "data": {
            "text/plain": [
              "73752"
            ]
          },
          "metadata": {
            "tags": []
          },
          "execution_count": 23
        }
      ]
    },
    {
      "cell_type": "code",
      "metadata": {
        "id": "Bi3mzi4_mBHV",
        "colab_type": "code",
        "colab": {
          "base_uri": "https://localhost:8080/",
          "height": 265
        },
        "outputId": "4e990718-3e69-462f-c0ee-df7327953083"
      },
      "source": [
        "#\t\t\t2.3.1.2 doc2vec model training\n",
        "# 시간 무지 걸림... 돌리고 커피 한잔 마시기.\n",
        "\n",
        "max_epochs = 10 # 이건 나중에 100 정도로 수정...\n",
        "vec_size = 40 # 나중에 증가 시킨다.contents를 사용하는 경우, 500~1000정도 ?? 하지만 학습시간은 무지 걸릴거임.\n",
        "alpha = 0.025\n",
        "\n",
        "d2v_model = Doc2Vec(vector_size=vec_size,\n",
        "                alpha=alpha, \n",
        "                min_alpha=0.00025,\n",
        "                min_count=1,\n",
        "                dm =1)\n",
        "  \n",
        "d2v_model.build_vocab(tagged_data)\n",
        "\n",
        "for epoch in range(max_epochs):\n",
        "    print('iteration {0}'.format(epoch))\n",
        "    d2v_model.train(tagged_data,\n",
        "                total_examples=d2v_model.corpus_count,\n",
        "                epochs=d2v_model.epochs )\n",
        "    # decrease the learning rate\n",
        "    d2v_model.alpha -= 0.0002\n",
        "    # fix the learning rate, no decay\n",
        "    d2v_model.min_alpha = d2v_model.alpha\n",
        "\n",
        "d2v_model.save(\"d2v.model\")\n",
        "\n",
        "print(\"Model Saved\")"
      ],
      "execution_count": 24,
      "outputs": [
        {
          "output_type": "stream",
          "text": [
            "iteration 0\n",
            "iteration 1\n",
            "iteration 2\n",
            "iteration 3\n",
            "iteration 4\n",
            "iteration 5\n",
            "iteration 6\n",
            "iteration 7\n",
            "iteration 8\n",
            "iteration 9\n"
          ],
          "name": "stdout"
        },
        {
          "output_type": "stream",
          "text": [
            "/usr/local/lib/python3.6/dist-packages/smart_open/smart_open_lib.py:253: UserWarning: This function is deprecated, use smart_open.open instead. See the migration notes for details: https://github.com/RaRe-Technologies/smart_open/blob/master/README.rst#migrating-to-the-new-open-function\n",
            "  'See the migration notes for details: %s' % _MIGRATION_NOTES_URL\n"
          ],
          "name": "stderr"
        },
        {
          "output_type": "stream",
          "text": [
            "Model Saved\n"
          ],
          "name": "stdout"
        }
      ]
    },
    {
      "cell_type": "code",
      "metadata": {
        "id": "UthfIiYHmBHX",
        "colab_type": "code",
        "colab": {
          "base_uri": "https://localhost:8080/",
          "height": 195
        },
        "outputId": "6f11688c-2d8d-4659-a022-cf7be3dc2808"
      },
      "source": [
        "# doc2vec 모델 학습 결과 확인..\n",
        "from gensim.models.doc2vec import Doc2Vec\n",
        "\n",
        "d2v_model= Doc2Vec.load(\"d2v.model\")\n",
        "\n",
        "# to find vector of doc in training data using tags or in other words, printing the vector of document at index 1 in training data\n",
        "print(d2v_model.docvecs['AFRO2020013100001'])"
      ],
      "execution_count": 25,
      "outputs": [
        {
          "output_type": "stream",
          "text": [
            "/usr/local/lib/python3.6/dist-packages/smart_open/smart_open_lib.py:253: UserWarning: This function is deprecated, use smart_open.open instead. See the migration notes for details: https://github.com/RaRe-Technologies/smart_open/blob/master/README.rst#migrating-to-the-new-open-function\n",
            "  'See the migration notes for details: %s' % _MIGRATION_NOTES_URL\n"
          ],
          "name": "stderr"
        },
        {
          "output_type": "stream",
          "text": [
            "[-0.4784521   0.08756325  0.9756568  -0.08308656 -0.34749117  1.4846277\n",
            "  1.5606172  -0.7224288  -1.2590874   0.34851867 -0.08449102  0.15542409\n",
            " -0.49350893 -0.9332885   1.2693937  -0.2596936  -0.39089355 -0.28434712\n",
            "  0.42659447 -0.2039603  -0.85942847 -0.6466132   0.76977324 -0.3634393\n",
            "  0.0826329  -0.33771977  0.21351945  0.34054193 -0.20795508 -0.13243195\n",
            "  0.5847539  -0.18031994  1.0230327   0.49244076 -1.3795542   0.22327934\n",
            "  1.0896813  -0.72125244  0.18504606 -0.30077565]\n"
          ],
          "name": "stdout"
        }
      ]
    },
    {
      "cell_type": "code",
      "metadata": {
        "id": "PD3mtjXamBHb",
        "colab_type": "code",
        "colab": {
          "base_uri": "https://localhost:8080/",
          "height": 140
        },
        "outputId": "b7440fd3-f388-4a86-88b8-51a199721562"
      },
      "source": [
        "#\t\t2.3.4 원시(origin) Trainset의 구성\n",
        "\n",
        "# doc2vec을 feature로 하는 원시 학습셋을 구성한다.\n",
        "# 이때, 입국일자을 기준으로 Set을 만드는데...\n",
        "# 입국일에 news가 없을 때도 있어서, 일관성 있는 양질의 학습셋이 되기는 어려울 듯...\n",
        "# 준대로 해야지 어쩔 수 없음.\n",
        "\n",
        "max_buz_per_day = 300 # 하루에 최대 300개의 뉴스를 본다. 나중에 실재 최대치까지 증가..\n",
        "cov_news['게시일자'] = pd.to_datetime(cov_news['게시일자'], format='%Y-%m-%d')\n",
        "news_metric = []\n",
        "from datetime import datetime, timedelta\n",
        "import numpy as np\n",
        "# 날짜별 (1948,40) 구성\n",
        "for row in ar.iterrows():\n",
        "    date = row[1][1]#datetime(2019,12,31)\n",
        "    selected_ns = cov_news.loc[cov_news['게시일자'] >= date].loc[cov_news['게시일자'] < (date + timedelta(days=1))]\n",
        "    #print(date,selected_ns.shape)\n",
        "    if selected_ns.shape[0] == 0:\n",
        "        # news가 없는 경우..\n",
        "        news_metric.append(np.zeros((max_buz_per_day,vec_size)))\n",
        "    else:\n",
        "        docv = []\n",
        "        for nrow in selected_ns.iterrows():\n",
        "            #print('tag name:',nrow[1][0])\n",
        "            if len(docv) < max_buz_per_day:\n",
        "                docv.append(d2v_model.docvecs[nrow[1][0]])\n",
        "        if len(docv) < max_buz_per_day:\n",
        "            for i in range(max_buz_per_day-selected_ns.shape[0]):\n",
        "                docv.append(np.zeros(vec_size))\n",
        "        news_metric.append(docv)\n",
        "        \n",
        "train_temp_x = np.asarray(news_metric)\n",
        "train_temp_x.shape"
      ],
      "execution_count": 30,
      "outputs": [
        {
          "output_type": "stream",
          "text": [
            "/usr/local/lib/python3.6/dist-packages/ipykernel_launcher.py:3: SettingWithCopyWarning: \n",
            "A value is trying to be set on a copy of a slice from a DataFrame.\n",
            "Try using .loc[row_indexer,col_indexer] = value instead\n",
            "\n",
            "See the caveats in the documentation: https://pandas.pydata.org/pandas-docs/stable/user_guide/indexing.html#returning-a-view-versus-a-copy\n",
            "  This is separate from the ipykernel package so we can avoid doing imports until\n"
          ],
          "name": "stderr"
        },
        {
          "output_type": "execute_result",
          "data": {
            "text/plain": [
              "(181, 300, 40)"
            ]
          },
          "metadata": {
            "tags": []
          },
          "execution_count": 30
        }
      ]
    },
    {
      "cell_type": "code",
      "metadata": {
        "id": "twz8yYjZmBHf",
        "colab_type": "code",
        "colab": {
          "base_uri": "https://localhost:8080/",
          "height": 245
        },
        "outputId": "e50af2e1-0d38-41aa-c9b4-1971ab98a535"
      },
      "source": [
        "# 학습셋의 내용 확인...\n",
        "train_temp_x[162]"
      ],
      "execution_count": 31,
      "outputs": [
        {
          "output_type": "execute_result",
          "data": {
            "text/plain": [
              "array([[ 0.82720584,  0.20333642,  0.83214629, ..., -0.25581348,\n",
              "        -0.00991366,  0.69285524],\n",
              "       [ 0.16599661,  0.07984487,  0.47101194, ...,  0.08681227,\n",
              "         0.10843098, -0.7535243 ],\n",
              "       [ 0.30005604,  0.14496244,  0.24630764, ..., -0.12278109,\n",
              "         0.08017104, -0.21129428],\n",
              "       ...,\n",
              "       [ 0.58632571,  0.10372421,  0.03976285, ...,  0.3564029 ,\n",
              "         0.22607483, -0.6464023 ],\n",
              "       [ 1.3725878 ,  0.89976907,  0.6194002 , ...,  1.42732525,\n",
              "         0.22839159, -0.87070274],\n",
              "       [ 0.57435054,  0.11386118,  0.46425098, ..., -0.09209394,\n",
              "        -0.00717201, -1.39651465]])"
            ]
          },
          "metadata": {
            "tags": []
          },
          "execution_count": 31
        }
      ]
    },
    {
      "cell_type": "code",
      "metadata": {
        "id": "m6WRQlv6mBHh",
        "colab_type": "code",
        "colab": {
          "base_uri": "https://localhost:8080/",
          "height": 34
        },
        "outputId": "69f5f0f7-5416-4481-af81-2d298da03fb4"
      },
      "source": [
        "# 학습셋의 label... 원시 train_temp_y의 구성\n",
        "train_temp_y = np.insert(np.asanyarray(np.diff(ar['count'])),0,0)\n",
        "train_temp_y[1] = 0\n",
        "train_temp_y.shape\n"
      ],
      "execution_count": 42,
      "outputs": [
        {
          "output_type": "execute_result",
          "data": {
            "text/plain": [
              "(181,)"
            ]
          },
          "metadata": {
            "tags": []
          },
          "execution_count": 42
        }
      ]
    },
    {
      "cell_type": "code",
      "metadata": {
        "id": "e-SIFGkpmBHk",
        "colab_type": "code",
        "colab": {
          "base_uri": "https://localhost:8080/",
          "height": 614
        },
        "outputId": "f751f3ba-1261-458a-fd89-b45adeb40907"
      },
      "source": [
        "#\t2.4 doc2vec에 의한 Regression Test (Not forecast)\n",
        "#\t\t2.4.1 doc2vec의 Timeseries model 구성\n",
        "\n",
        "# 일단, news regression의 설명력을 확인하기 위해...원시 학습을 test 한다.\n",
        "import keras\n",
        "from keras.layers import Dense, Activation, Flatten, Conv1D, MaxPooling1D\n",
        "from keras.models import Sequential\n",
        "\n",
        "model = Sequential()\n",
        "model.add(Conv1D(128,2, input_shape=(max_buz_per_day,vec_size),padding=\"same\"))\n",
        "model.add(Activation('relu'))\n",
        "model.add(MaxPooling1D(pool_size=2))\n",
        "\n",
        "model.add(Conv1D(64, 2,padding=\"same\"))\n",
        "model.add(Activation('relu'))\n",
        "model.add(MaxPooling1D(pool_size=2))\n",
        "\n",
        "model.add(Conv1D(32, 2,padding=\"same\"))\n",
        "model.add(Activation('relu'))\n",
        "model.add(MaxPooling1D(pool_size=2))\n",
        "\n",
        "model.add(Flatten())\n",
        "model.add(Dense(128))\n",
        "model.add(Dense(1))\n",
        "model.add(Activation('linear'))\n",
        "\n",
        "model.compile(loss=keras.losses.mean_squared_error, optimizer=keras.optimizers.Adam(),metrics=['mae',r2])\n",
        "\n",
        "model.summary()"
      ],
      "execution_count": 72,
      "outputs": [
        {
          "output_type": "stream",
          "text": [
            "Model: \"sequential_5\"\n",
            "_________________________________________________________________\n",
            "Layer (type)                 Output Shape              Param #   \n",
            "=================================================================\n",
            "conv1d_6 (Conv1D)            (None, 300, 128)          10368     \n",
            "_________________________________________________________________\n",
            "activation_16 (Activation)   (None, 300, 128)          0         \n",
            "_________________________________________________________________\n",
            "max_pooling1d_6 (MaxPooling1 (None, 150, 128)          0         \n",
            "_________________________________________________________________\n",
            "conv1d_7 (Conv1D)            (None, 150, 64)           16448     \n",
            "_________________________________________________________________\n",
            "activation_17 (Activation)   (None, 150, 64)           0         \n",
            "_________________________________________________________________\n",
            "max_pooling1d_7 (MaxPooling1 (None, 75, 64)            0         \n",
            "_________________________________________________________________\n",
            "conv1d_8 (Conv1D)            (None, 75, 32)            4128      \n",
            "_________________________________________________________________\n",
            "activation_18 (Activation)   (None, 75, 32)            0         \n",
            "_________________________________________________________________\n",
            "max_pooling1d_8 (MaxPooling1 (None, 37, 32)            0         \n",
            "_________________________________________________________________\n",
            "flatten_5 (Flatten)          (None, 1184)              0         \n",
            "_________________________________________________________________\n",
            "dense_9 (Dense)              (None, 128)               151680    \n",
            "_________________________________________________________________\n",
            "dense_10 (Dense)             (None, 1)                 129       \n",
            "_________________________________________________________________\n",
            "activation_19 (Activation)   (None, 1)                 0         \n",
            "=================================================================\n",
            "Total params: 182,753\n",
            "Trainable params: 182,753\n",
            "Non-trainable params: 0\n",
            "_________________________________________________________________\n"
          ],
          "name": "stdout"
        }
      ]
    },
    {
      "cell_type": "code",
      "metadata": {
        "id": "Pu1GP1n-mBHo",
        "colab_type": "code",
        "colab": {
          "base_uri": "https://localhost:8080/",
          "height": 54
        },
        "outputId": "5123c39c-d933-4294-8b50-dd0f93b4ded8"
      },
      "source": [
        "#\t\t2.4.2 원시(origin) Trainset으로 model training\n",
        "\n",
        "epochs=100\n",
        "hist = model.fit(train_temp_x, train_temp_y, epochs=epochs,verbose=0, callbacks=[VerboseCallback(epochs)])"
      ],
      "execution_count": 73,
      "outputs": [
        {
          "output_type": "stream",
          "text": [
            "learning:[====================================================================================================] 100/100 {'loss': 754150.585980663, 'mae': 422.195, 'r2': 0.48113963}\n"
          ],
          "name": "stdout"
        }
      ]
    },
    {
      "cell_type": "code",
      "metadata": {
        "id": "EFw3hskVmBHs",
        "colab_type": "code",
        "colab": {
          "base_uri": "https://localhost:8080/",
          "height": 573
        },
        "outputId": "0747c05b-246c-4c57-eddb-db969d81cf0a"
      },
      "source": [
        "#\t\t2.4.3 학습에 대한 mean_absolute_error 확인.\n",
        "\n",
        "plot_mae(hist)\n",
        "plot_r2(hist)"
      ],
      "execution_count": 74,
      "outputs": [
        {
          "output_type": "display_data",
          "data": {
            "image/png": "[encoded data removed]",
            "text/plain": [
              "<Figure size 432x288 with 1 Axes>"
            ]
          },
          "metadata": {
            "tags": [],
            "needs_background": "light"
          }
        },
        {
          "output_type": "display_data",
          "data": {
            "image/png": "[encoded data removed]",
            "text/plain": [
              "<Figure size 432x288 with 1 Axes>"
            ]
          },
          "metadata": {
            "tags": [],
            "needs_background": "light"
          }
        }
      ]
    },
    {
      "cell_type": "code",
      "metadata": {
        "id": "ftbborramBHu",
        "colab_type": "code",
        "colab": {}
      },
      "source": [
        "#\t\t2.4.4 trainset에 의한 과거 data의 예측 입국자 count \n",
        "predit_y = model.predict(train_temp_x)\n"
      ],
      "execution_count": 0,
      "outputs": []
    },
    {
      "cell_type": "code",
      "metadata": {
        "id": "oxsuFUdLmBHx",
        "colab_type": "code",
        "colab": {
          "base_uri": "https://localhost:8080/",
          "height": 285
        },
        "outputId": "a8d7c976-ab68-4894-d041-64f731b05927"
      },
      "source": [
        "#\t\t2.4.5 실등록자 count와 news기반 예측 count의 비교 chart\n",
        "\n",
        "plt.plot(train_temp_y)\n",
        "plt.plot(predit_y)\n"
      ],
      "execution_count": 76,
      "outputs": [
        {
          "output_type": "execute_result",
          "data": {
            "text/plain": [
              "[<matplotlib.lines.Line2D at 0x7f2a1e06a668>]"
            ]
          },
          "metadata": {
            "tags": []
          },
          "execution_count": 76
        },
        {
          "output_type": "display_data",
          "data": {
            "image/png": "[encoded data removed]",
            "text/plain": [
              "<Figure size 432x288 with 1 Axes>"
            ]
          },
          "metadata": {
            "tags": [],
            "needs_background": "light"
          }
        }
      ]
    },
    {
      "cell_type": "code",
      "metadata": {
        "id": "4Gx2LEsCmBH0",
        "colab_type": "code",
        "colab": {}
      },
      "source": [
        "#\t2.5 doc2vec에 의한 Forecast regression\n",
        "#\t\t2.5.1 doc2vec의 Window 적용 Timeseries Trainset의 구성\n",
        "\n",
        "# 2D Convolution을 적용하여 마치 Image를 convolution 하듯이 학습할 것임\n",
        "# window의 depth를 image의 channel 처럼 사용\n",
        "# tensorflow는 image의 chennel을 channel_last로 사용, \n",
        "# 이것을 맞추기 위해 moveaxis 를 적용할 것임\n",
        "# 여기 돌다가 colab 다운 잘됨... 다운 되면 처음부터 다시!\n",
        "\n",
        "from numpy import moveaxis\n",
        "# window를 30일로 설정 -> 그냥 잡은 수치\n",
        "news_window = 30\n",
        "#향후 15일 예측\n",
        "news_forecast_days = 15\n",
        "\n",
        "# 원시 trainset의 사용...\n",
        "train_news_org_y = train_temp_y\n",
        "data = train_temp_x\n",
        "\n",
        "train_news_x = []\n",
        "train_news_y = []\n",
        "\n",
        "for i in range(data.shape[0]-news_window-news_forecast_days + 1):\n",
        "    sub_x = []\n",
        "    for j in range(news_window):\n",
        "        sub_x.append(data[i+j,:,:])\n",
        "    # change channels first to channels last format\n",
        "    sub_x = np.asarray(sub_x)\n",
        "    sub_x = moveaxis(sub_x, 0, 2)        \n",
        "    train_news_x.append(sub_x)\n",
        "\n",
        "    sub_y = []\n",
        "    for z in range(news_forecast_days):\n",
        "        sub_y.append(train_news_org_y[i + news_window + z])\n",
        "    train_news_y.append(sub_y)\n",
        "\n",
        "#train_news_x ,train_news_y 준비\n",
        "train_news_x = np.asarray(train_news_x)\n",
        "#train_news_x = train_news_x.reshape(-1,news_window,max_buz_per_day,vec_size)\n",
        "train_news_y = np.asarray(train_news_y)\n",
        "\n",
        "test_news_x = np.asarray(data[data.shape[0]-news_window:data.shape[0],:,:])\n",
        "test_news_x = moveaxis(test_news_x, 0, 2) "
      ],
      "execution_count": 0,
      "outputs": []
    },
    {
      "cell_type": "code",
      "metadata": {
        "id": "o7rRe3V8mBH2",
        "colab_type": "code",
        "colab": {
          "base_uri": "https://localhost:8080/",
          "height": 34
        },
        "outputId": "6e76ea8c-4a6f-4510-e345-deeb80ecc741"
      },
      "source": [
        "#train_news_x ,train_news_y (사실이거는 그냥 train_y와 동일...)의 내용 확인.\n",
        "train_news_x.shape,  train_news_y.shape, test_news_x.shape"
      ],
      "execution_count": 78,
      "outputs": [
        {
          "output_type": "execute_result",
          "data": {
            "text/plain": [
              "((137, 300, 40, 30), (137, 15), (300, 40, 30))"
            ]
          },
          "metadata": {
            "tags": []
          },
          "execution_count": 78
        }
      ]
    },
    {
      "cell_type": "code",
      "metadata": {
        "id": "4-6YOmwqmBH5",
        "colab_type": "code",
        "colab": {
          "base_uri": "https://localhost:8080/",
          "height": 614
        },
        "outputId": "1fe1fb7b-6d4c-4a43-ba15-9f8888ba8d32"
      },
      "source": [
        "#\t\t2.5.2 doc2vec Window 의 Timeseries model 구성\n",
        "\n",
        "# 이게 최적의 layer 구성인지는 모름... 일반적/직관적으로 layer 설정 \n",
        "# 정성적 비정형 데이터로 정량적 수치 데이터를 추정 하기 때문에... overfit 가능성이 큼\n",
        "import keras\n",
        "from keras.layers import Dense, Activation, Flatten, Conv1D, MaxPooling1D, Conv2D, MaxPooling2D, Dropout\n",
        "from keras.models import Sequential\n",
        "\n",
        "#keras.backend.set_image_data_format('channels_last')\n",
        "\n",
        "model = Sequential()\n",
        "model.add(Conv2D(64,(2,2), input_shape=(max_buz_per_day,vec_size,news_window)))\n",
        "model.add(Activation('relu'))\n",
        "model.add(MaxPooling2D(pool_size=(2,2)))\n",
        "\n",
        "model.add(Conv2D(32,(2,2)))\n",
        "model.add(Activation('relu'))\n",
        "model.add(MaxPooling2D(pool_size=(2,2)))\n",
        "model.add(Conv2D(8,(2,2)))\n",
        "model.add(Activation('relu'))\n",
        "model.add(MaxPooling2D(pool_size=(2,2)))\n",
        "model.add(Flatten())\n",
        "model.add(Dense(64,activation=\"linear\"))\n",
        "#model.add(Dropout(0.3))\n",
        "#model.add(Dense(15))\n",
        "model.add(Dense(news_forecast_days))\n",
        "model.add(Activation('linear'))\n",
        "\n",
        "model.compile(loss=keras.losses.mean_squared_error, optimizer=keras.optimizers.Adam(),metrics=['mae',r2])\n",
        "\n",
        "model.summary()\n"
      ],
      "execution_count": 79,
      "outputs": [
        {
          "output_type": "stream",
          "text": [
            "Model: \"sequential_6\"\n",
            "_________________________________________________________________\n",
            "Layer (type)                 Output Shape              Param #   \n",
            "=================================================================\n",
            "conv2d_7 (Conv2D)            (None, 299, 39, 64)       7744      \n",
            "_________________________________________________________________\n",
            "activation_20 (Activation)   (None, 299, 39, 64)       0         \n",
            "_________________________________________________________________\n",
            "max_pooling2d_7 (MaxPooling2 (None, 149, 19, 64)       0         \n",
            "_________________________________________________________________\n",
            "conv2d_8 (Conv2D)            (None, 148, 18, 32)       8224      \n",
            "_________________________________________________________________\n",
            "activation_21 (Activation)   (None, 148, 18, 32)       0         \n",
            "_________________________________________________________________\n",
            "max_pooling2d_8 (MaxPooling2 (None, 74, 9, 32)         0         \n",
            "_________________________________________________________________\n",
            "conv2d_9 (Conv2D)            (None, 73, 8, 8)          1032      \n",
            "_________________________________________________________________\n",
            "activation_22 (Activation)   (None, 73, 8, 8)          0         \n",
            "_________________________________________________________________\n",
            "max_pooling2d_9 (MaxPooling2 (None, 36, 4, 8)          0         \n",
            "_________________________________________________________________\n",
            "flatten_6 (Flatten)          (None, 1152)              0         \n",
            "_________________________________________________________________\n",
            "dense_11 (Dense)             (None, 64)                73792     \n",
            "_________________________________________________________________\n",
            "dense_12 (Dense)             (None, 15)                975       \n",
            "_________________________________________________________________\n",
            "activation_23 (Activation)   (None, 15)                0         \n",
            "=================================================================\n",
            "Total params: 91,767\n",
            "Trainable params: 91,767\n",
            "Non-trainable params: 0\n",
            "_________________________________________________________________\n"
          ],
          "name": "stdout"
        }
      ]
    },
    {
      "cell_type": "code",
      "metadata": {
        "id": "9IT3hfRLmBH8",
        "colab_type": "code",
        "colab": {
          "base_uri": "https://localhost:8080/",
          "height": 54
        },
        "outputId": "38bd1557-1c59-4919-c1df-d4487c9173c4"
      },
      "source": [
        "#\t\t2.5.3 doc2vec의 Window 적용 Timeseries Trainset으로 model training\n",
        "\n",
        "epochs=100\n",
        "hist = model.fit(train_news_x, train_news_y, epochs=epochs,verbose=0, callbacks=[VerboseCallback(epochs)])\n"
      ],
      "execution_count": 80,
      "outputs": [
        {
          "output_type": "stream",
          "text": [
            "learning:[====================================================================================================] 100/100 {'loss': 1278139.2673357665, 'mae': 654.5101, 'r2': 0.25329348}\n"
          ],
          "name": "stdout"
        }
      ]
    },
    {
      "cell_type": "code",
      "metadata": {
        "id": "WdfZN45VmBH_",
        "colab_type": "code",
        "colab": {
          "base_uri": "https://localhost:8080/",
          "height": 573
        },
        "outputId": "d6b6a069-d7b5-4837-bb11-5fbe411cdb90"
      },
      "source": [
        "#\t\t2.5.4 학습에 대한 mean_absolute_error 확인.\n",
        "\n",
        "plot_mae(hist)\n",
        "plot_r2(hist)"
      ],
      "execution_count": 81,
      "outputs": [
        {
          "output_type": "display_data",
          "data": {
            "image/png": "[encoded data removed]",
            "text/plain": [
              "<Figure size 432x288 with 1 Axes>"
            ]
          },
          "metadata": {
            "tags": [],
            "needs_background": "light"
          }
        },
        {
          "output_type": "display_data",
          "data": {
            "image/png": "[encoded data removed]",
            "text/plain": [
              "<Figure size 432x288 with 1 Axes>"
            ]
          },
          "metadata": {
            "tags": [],
            "needs_background": "light"
          }
        }
      ]
    },
    {
      "cell_type": "code",
      "metadata": {
        "id": "yhnW5i-TmBIC",
        "colab_type": "code",
        "colab": {
          "base_uri": "https://localhost:8080/",
          "height": 263
        },
        "outputId": "e67b1b60-e4fd-4897-bbf9-b75b7afaff4b"
      },
      "source": [
        "#\t\t2.5.5 trainset에 의한 과거 data의 예측 입국자 추정 \n",
        "\n",
        "predit_news_y = model.predict(train_news_x)\n",
        "predit_news_y,predit_news_y.shape"
      ],
      "execution_count": 82,
      "outputs": [
        {
          "output_type": "execute_result",
          "data": {
            "text/plain": [
              "(array([[ 2.7740583e-01,  2.7625597e-01,  2.4080931e-01, ...,\n",
              "          8.0971271e-02, -7.4167088e-02, -1.7609298e-01],\n",
              "        [ 2.7740583e-01,  2.7625597e-01,  2.4080931e-01, ...,\n",
              "          8.0971271e-02, -7.4167088e-02, -1.7609298e-01],\n",
              "        [ 2.0006357e+01,  1.1891543e+01,  2.6340527e+01, ...,\n",
              "         -1.0746023e+02, -1.2800175e+02, -7.9805504e+01],\n",
              "        ...,\n",
              "        [ 2.2179767e+02, -5.0888836e+01, -4.0815998e+01, ...,\n",
              "         -2.1430624e+01, -7.4562256e+01,  3.5047306e+01],\n",
              "        [ 3.0061130e+02, -4.8842705e+01, -9.0683968e+01, ...,\n",
              "         -3.5245876e+01, -7.5273468e+01,  2.7189934e+01],\n",
              "        [ 2.7537506e+02,  1.0225766e+02, -2.1676315e+02, ...,\n",
              "         -6.3805241e+01, -8.5405075e+01, -2.1735107e+01]], dtype=float32),\n",
              " (137, 15))"
            ]
          },
          "metadata": {
            "tags": []
          },
          "execution_count": 82
        }
      ]
    },
    {
      "cell_type": "code",
      "metadata": {
        "id": "_PM9P9T-mBIH",
        "colab_type": "code",
        "colab": {
          "base_uri": "https://localhost:8080/",
          "height": 285
        },
        "outputId": "1f51ff94-a742-4867-9b35-77b059afa9b0"
      },
      "source": [
        "# window와 forecast_days에 의해 실제 날자와 차이나는 부분의 보정 처리...\n",
        "predit = []\n",
        "for forecast in range(forecast_days):\n",
        "    predit.append(list(np.concatenate((np.zeros(window+ forecast), predit_news_y[:,forecast],np.zeros(forecast_days-forecast-1)), axis=0)))\n",
        "    \n",
        "plt.plot(train_temp_y)\n",
        "plt.plot(predit[0])\n",
        "plt.plot(predit[14])\n"
      ],
      "execution_count": 87,
      "outputs": [
        {
          "output_type": "execute_result",
          "data": {
            "text/plain": [
              "[<matplotlib.lines.Line2D at 0x7f2a20727240>]"
            ]
          },
          "metadata": {
            "tags": []
          },
          "execution_count": 87
        },
        {
          "output_type": "display_data",
          "data": {
            "image/png": "[encoded data removed]",
            "text/plain": [
              "<Figure size 432x288 with 1 Axes>"
            ]
          },
          "metadata": {
            "tags": [],
            "needs_background": "light"
          }
        }
      ]
    },
    {
      "cell_type": "code",
      "metadata": {
        "id": "0YJGLJ8NmBIL",
        "colab_type": "code",
        "colab": {},
        "outputId": "bceef066-3f9e-4726-9de0-0d93be206d7c"
      },
      "source": [
        "# \t2.6  향후 15일 예측\n",
        "# \t\t2.6.1 testset (마지막 30일)의 inference\n",
        "\n",
        "test_news_x = test_news_x.reshape(-1,max_buz_per_day,vec_size,news_window)\n",
        "predit_y = model.predict(test_news_x)\n",
        "predit_y,predit_y.shape"
      ],
      "execution_count": 0,
      "outputs": [
        {
          "output_type": "execute_result",
          "data": {
            "text/plain": [
              "(array([[1567.9517, 1430.1058, 1655.1926, 1307.383 , 1456.2682, 1441.3124,\n",
              "         1569.1815, 1392.4769, 1356.2214, 1453.4943, 1262.5428, 1487.7052,\n",
              "         1162.3163, 1429.3203, 1294.0319]], dtype=float32),\n",
              " (1, 15))"
            ]
          },
          "metadata": {
            "tags": []
          },
          "execution_count": 72
        }
      ]
    },
    {
      "cell_type": "code",
      "metadata": {
        "id": "VxeRNXe8mBIP",
        "colab_type": "code",
        "colab": {},
        "outputId": "66e0123e-1815-496d-f634-cedf41d282a5"
      },
      "source": [
        "# \t\t2.6.2 로밍등록자 예측 Count에서 실입국자 보정 처리 및 결과 표출\n",
        "\n",
        "display_result(predit_y)"
      ],
      "execution_count": 0,
      "outputs": [
        {
          "output_type": "execute_result",
          "data": {
            "text/html": [
              "<div>\n",
              "<style scoped>\n",
              "    .dataframe tbody tr th:only-of-type {\n",
              "        vertical-align: middle;\n",
              "    }\n",
              "\n",
              "    .dataframe tbody tr th {\n",
              "        vertical-align: top;\n",
              "    }\n",
              "\n",
              "    .dataframe thead th {\n",
              "        text-align: right;\n",
              "    }\n",
              "</style>\n",
              "<table border=\"1\" class=\"dataframe\">\n",
              "  <thead>\n",
              "    <tr style=\"text-align: right;\">\n",
              "      <th></th>\n",
              "      <th>date</th>\n",
              "      <th>roaming register forecate</th>\n",
              "      <th>immigrantion forecast</th>\n",
              "    </tr>\n",
              "  </thead>\n",
              "  <tbody>\n",
              "    <tr>\n",
              "      <th>0</th>\n",
              "      <td>2020-04-29</td>\n",
              "      <td>4444.367188</td>\n",
              "      <td>18518</td>\n",
              "    </tr>\n",
              "    <tr>\n",
              "      <th>1</th>\n",
              "      <td>2020-04-30</td>\n",
              "      <td>4453.938477</td>\n",
              "      <td>18558</td>\n",
              "    </tr>\n",
              "    <tr>\n",
              "      <th>2</th>\n",
              "      <td>2020-05-01</td>\n",
              "      <td>4599.458496</td>\n",
              "      <td>19164</td>\n",
              "    </tr>\n",
              "    <tr>\n",
              "      <th>3</th>\n",
              "      <td>2020-05-02</td>\n",
              "      <td>4006.129395</td>\n",
              "      <td>16692</td>\n",
              "    </tr>\n",
              "    <tr>\n",
              "      <th>4</th>\n",
              "      <td>2020-05-03</td>\n",
              "      <td>4163.064941</td>\n",
              "      <td>17346</td>\n",
              "    </tr>\n",
              "    <tr>\n",
              "      <th>5</th>\n",
              "      <td>2020-05-04</td>\n",
              "      <td>4310.327148</td>\n",
              "      <td>17959</td>\n",
              "    </tr>\n",
              "    <tr>\n",
              "      <th>6</th>\n",
              "      <td>2020-05-05</td>\n",
              "      <td>4466.792480</td>\n",
              "      <td>18611</td>\n",
              "    </tr>\n",
              "    <tr>\n",
              "      <th>7</th>\n",
              "      <td>2020-05-06</td>\n",
              "      <td>4353.223633</td>\n",
              "      <td>18138</td>\n",
              "    </tr>\n",
              "    <tr>\n",
              "      <th>8</th>\n",
              "      <td>2020-05-07</td>\n",
              "      <td>3785.844727</td>\n",
              "      <td>15774</td>\n",
              "    </tr>\n",
              "    <tr>\n",
              "      <th>9</th>\n",
              "      <td>2020-05-08</td>\n",
              "      <td>3642.043945</td>\n",
              "      <td>15175</td>\n",
              "    </tr>\n",
              "    <tr>\n",
              "      <th>10</th>\n",
              "      <td>2020-05-09</td>\n",
              "      <td>4257.766602</td>\n",
              "      <td>17740</td>\n",
              "    </tr>\n",
              "    <tr>\n",
              "      <th>11</th>\n",
              "      <td>2020-05-10</td>\n",
              "      <td>3679.745850</td>\n",
              "      <td>15332</td>\n",
              "    </tr>\n",
              "    <tr>\n",
              "      <th>12</th>\n",
              "      <td>2020-05-11</td>\n",
              "      <td>3533.683105</td>\n",
              "      <td>14723</td>\n",
              "    </tr>\n",
              "    <tr>\n",
              "      <th>13</th>\n",
              "      <td>2020-05-12</td>\n",
              "      <td>3640.666016</td>\n",
              "      <td>15169</td>\n",
              "    </tr>\n",
              "    <tr>\n",
              "      <th>14</th>\n",
              "      <td>2020-05-13</td>\n",
              "      <td>4077.801758</td>\n",
              "      <td>16990</td>\n",
              "    </tr>\n",
              "  </tbody>\n",
              "</table>\n",
              "</div>"
            ],
            "text/plain": [
              "         date  roaming register forecate  immigrantion forecast\n",
              "0  2020-04-29                4444.367188                  18518\n",
              "1  2020-04-30                4453.938477                  18558\n",
              "2  2020-05-01                4599.458496                  19164\n",
              "3  2020-05-02                4006.129395                  16692\n",
              "4  2020-05-03                4163.064941                  17346\n",
              "5  2020-05-04                4310.327148                  17959\n",
              "6  2020-05-05                4466.792480                  18611\n",
              "7  2020-05-06                4353.223633                  18138\n",
              "8  2020-05-07                3785.844727                  15774\n",
              "9  2020-05-08                3642.043945                  15175\n",
              "10 2020-05-09                4257.766602                  17740\n",
              "11 2020-05-10                3679.745850                  15332\n",
              "12 2020-05-11                3533.683105                  14723\n",
              "13 2020-05-12                3640.666016                  15169\n",
              "14 2020-05-13                4077.801758                  16990"
            ]
          },
          "metadata": {
            "tags": []
          },
          "execution_count": 42
        },
        {
          "output_type": "display_data",
          "data": {
            "image/png": "[encoded data removed]",
            "text/plain": [
              "<Figure size 432x288 with 1 Axes>"
            ]
          },
          "metadata": {
            "tags": [],
            "needs_background": "light"
          }
        }
      ]
    },
    {
      "cell_type": "code",
      "metadata": {
        "id": "fbJDq08dmBIR",
        "colab_type": "code",
        "colab": {}
      },
      "source": [
        "# 이제 긴 학습을 해야 해서..\n",
        "# 돌다가 죽을 것을 대비해서 입출력 dataset을 일단 저장 한다.\n",
        "\n",
        "from numpy import save\n",
        "# define data\n",
        "data = np.asarray([train_x,train_y,test_x,train_news_x,train_news_y,test_news_x])\n",
        "# save to npy file\n",
        "save('dataset.npy', data)"
      ],
      "execution_count": 0,
      "outputs": []
    },
    {
      "cell_type": "code",
      "metadata": {
        "id": "pgPlcGXrmBIU",
        "colab_type": "code",
        "colab": {},
        "outputId": "825cbc43-92dd-42cb-8534-414ee4ca6045"
      },
      "source": [
        "if True==0:\n",
        "    # load numpy array from npy file\n",
        "    from numpy import load\n",
        "    # load dict of arrays\n",
        "    [train_x,train_y,test_x,train_news_x,train_news_y,test_news_x] = load('dataset.npy', allow_pickle=True)\n",
        "\n",
        "train_x.shape"
      ],
      "execution_count": 0,
      "outputs": [
        {
          "output_type": "execute_result",
          "data": {
            "text/plain": [
              "(137, 30, 174)"
            ]
          },
          "metadata": {
            "tags": []
          },
          "execution_count": 74
        }
      ]
    },
    {
      "cell_type": "code",
      "metadata": {
        "id": "B-wfUj98mBIX",
        "colab_type": "code",
        "colab": {},
        "outputId": "1250b63b-6b89-4915-9fe7-d61edf541cc9"
      },
      "source": [
        "#\t3.2 Numeric timeseries and unstructured timeseries combined model 구성\n",
        "import keras\n",
        "from keras import Input, Model\n",
        "from keras.layers import Dense, Activation, Flatten, Conv1D, MaxPooling1D, Conv2D, MaxPooling2D, concatenate\n",
        "\n",
        "# custom R2-score metrics for keras backend\n",
        "from keras import backend as K\n",
        "\n",
        "# define two sets of inputs\n",
        "input_roaming = Input(shape=(window, size))\n",
        "input_news = Input(shape=(max_buz_per_day,vec_size,news_window))\n",
        "\n",
        "# 로밍등록자에 대한 1D Convilution layer 구성\n",
        "x = Conv1D(128,4, activation=\"relu\",padding=\"same\")(input_roaming)\n",
        "x = MaxPooling1D(pool_size=2)(x)\n",
        "x = Conv1D(64,4, activation=\"relu\",padding=\"same\")(x)\n",
        "x = MaxPooling1D(pool_size=2)(x)\n",
        "x = Conv1D(32,4, activation=\"relu\",padding=\"same\")(x)\n",
        "x = MaxPooling1D(pool_size=2)(x)\n",
        "x = Flatten()(x)\n",
        "x = Dense(256)(x)\n",
        "x = Model(inputs=input_roaming, outputs=x)\n",
        "\n",
        "\n",
        "# news에 대한 2D Convolution layer 구성\n",
        "y = Conv2D(64,(3,3), activation=\"relu\")(input_news)\n",
        "y = MaxPooling2D(pool_size=(3,3))(y)\n",
        "y = Conv2D(32,(2,2), activation=\"relu\")(y)\n",
        "y = MaxPooling2D(pool_size=(3,3))(y)\n",
        "y = Flatten()(y)\n",
        "y = Dense(1024,activation=\"relu\")(y)\n",
        "#y = Dropout(0.5)(y)\n",
        "y = Dense(32,activation=\"relu\")(y)\n",
        "y = Model(inputs=input_news, outputs=y)\n",
        "\n",
        "# combine the output of the two branches\n",
        "combined = concatenate([x.output, y.output])\n",
        "\n",
        "# apply a FC layer and then a regression prediction on the\n",
        "# combined outputs\n",
        "z = Dense(forecast_days, activation=\"linear\")(combined)\n",
        "\n",
        "# our model will accept the inputs of the two branches and\n",
        "# then output a single value\n",
        "model = Model(inputs=[x.input, y.input], outputs=z)\n",
        "\n",
        "model.compile(loss=keras.losses.mean_squared_error, optimizer=keras.optimizers.Adam(),metrics=['mae',r2])\n",
        "\n",
        "print(model.summary())\n",
        "\n",
        "model_json = model.to_json()\n",
        "with open(\"combined_model.json\", \"w\") as json_file:\n",
        "    json_file.write(model_json)\n",
        "json_file.close()\n",
        "\n",
        "print(\"save to combined_model.json\")"
      ],
      "execution_count": 0,
      "outputs": [
        {
          "output_type": "stream",
          "text": [
            "Model: \"model_12\"\n",
            "__________________________________________________________________________________________________\n",
            "Layer (type)                    Output Shape         Param #     Connected to                     \n",
            "==================================================================================================\n",
            "input_7 (InputLayer)            (None, 30, 174)      0                                            \n",
            "__________________________________________________________________________________________________\n",
            "conv1d_22 (Conv1D)              (None, 30, 128)      89216       input_7[0][0]                    \n",
            "__________________________________________________________________________________________________\n",
            "input_8 (InputLayer)            (None, 300, 20, 30)  0                                            \n",
            "__________________________________________________________________________________________________\n",
            "max_pooling1d_19 (MaxPooling1D) (None, 15, 128)      0           conv1d_22[0][0]                  \n",
            "__________________________________________________________________________________________________\n",
            "conv2d_9 (Conv2D)               (None, 298, 18, 64)  17344       input_8[0][0]                    \n",
            "__________________________________________________________________________________________________\n",
            "conv1d_23 (Conv1D)              (None, 15, 64)       32832       max_pooling1d_19[0][0]           \n",
            "__________________________________________________________________________________________________\n",
            "max_pooling2d_9 (MaxPooling2D)  (None, 99, 6, 64)    0           conv2d_9[0][0]                   \n",
            "__________________________________________________________________________________________________\n",
            "max_pooling1d_20 (MaxPooling1D) (None, 7, 64)        0           conv1d_23[0][0]                  \n",
            "__________________________________________________________________________________________________\n",
            "conv2d_10 (Conv2D)              (None, 98, 5, 32)    8224        max_pooling2d_9[0][0]            \n",
            "__________________________________________________________________________________________________\n",
            "conv1d_24 (Conv1D)              (None, 7, 32)        8224        max_pooling1d_20[0][0]           \n",
            "__________________________________________________________________________________________________\n",
            "max_pooling2d_10 (MaxPooling2D) (None, 32, 1, 32)    0           conv2d_10[0][0]                  \n",
            "__________________________________________________________________________________________________\n",
            "max_pooling1d_21 (MaxPooling1D) (None, 3, 32)        0           conv1d_24[0][0]                  \n",
            "__________________________________________________________________________________________________\n",
            "flatten_12 (Flatten)            (None, 1024)         0           max_pooling2d_10[0][0]           \n",
            "__________________________________________________________________________________________________\n",
            "flatten_11 (Flatten)            (None, 96)           0           max_pooling1d_21[0][0]           \n",
            "__________________________________________________________________________________________________\n",
            "dense_23 (Dense)                (None, 1024)         1049600     flatten_12[0][0]                 \n",
            "__________________________________________________________________________________________________\n",
            "dense_22 (Dense)                (None, 256)          24832       flatten_11[0][0]                 \n",
            "__________________________________________________________________________________________________\n",
            "dense_24 (Dense)                (None, 32)           32800       dense_23[0][0]                   \n",
            "__________________________________________________________________________________________________\n",
            "concatenate_4 (Concatenate)     (None, 288)          0           dense_22[0][0]                   \n",
            "                                                                 dense_24[0][0]                   \n",
            "__________________________________________________________________________________________________\n",
            "dense_25 (Dense)                (None, 15)           4335        concatenate_4[0][0]              \n",
            "==================================================================================================\n",
            "Total params: 1,267,407\n",
            "Trainable params: 1,267,407\n",
            "Non-trainable params: 0\n",
            "__________________________________________________________________________________________________\n",
            "None\n",
            "save to combined_model.json\n"
          ],
          "name": "stdout"
        }
      ]
    },
    {
      "cell_type": "code",
      "metadata": {
        "id": "4NyAuwQvmBId",
        "colab_type": "code",
        "colab": {},
        "outputId": "78556723-7679-4581-8dcc-b66ebd1f1f7f"
      },
      "source": [
        "#\t3.3 Numeric timeseries and unstructured timeseries data train\n",
        "\n",
        "def train_combined_model(trial,epochs=30,verbose=0):\n",
        "    from keras.models import model_from_json\n",
        "    json_file = open(\"combined_model.json\", \"r\")\n",
        "    loaded_model_json = json_file.read()\n",
        "    json_file.close()\n",
        "    model = model_from_json(loaded_model_json)\n",
        "    model.compile(loss=keras.losses.mean_squared_error, optimizer=keras.optimizers.Adam(),metrics=['mae','acc'])\n",
        "    #print(model.summary())\n",
        "    print(str(trial),\"th Trial\")\n",
        "    if verbose == 0:\n",
        "        hist = model.fit([train_x,train_news_x], train_y, epochs=epochs,verbose=0,callbacks=[VerboseCallback(epochs)])\n",
        "    else:\n",
        "        hist = model.fit([train_x,train_news_x], train_y, epochs=epochs,verbose=1)\n",
        "    return model,hist\n",
        "\n",
        "model,hist = train_combined_model(1,epochs=2)"
      ],
      "execution_count": 0,
      "outputs": [
        {
          "output_type": "stream",
          "text": [
            "1 th Trial\n",
            "learning:[==] 2/2 {'loss': 108401430.42335767, 'mae': 8234.738, 'acc': 0.38686132}\n"
          ],
          "name": "stdout"
        }
      ]
    },
    {
      "cell_type": "code",
      "metadata": {
        "id": "9hY0Op1rmBIh",
        "colab_type": "code",
        "colab": {},
        "outputId": "56ee734c-081a-4b3e-d449-9caefe742525"
      },
      "source": [
        "#\t\t3.3.1 학습에 대한 mean_absolute_error 확인.\n",
        "\n",
        "plot_mae(hist)\n",
        "plot_r2(hist)"
      ],
      "execution_count": 0,
      "outputs": [
        {
          "output_type": "display_data",
          "data": {
            "image/png": "[encoded data removed]",
            "text/plain": [
              "<Figure size 432x288 with 1 Axes>"
            ]
          },
          "metadata": {
            "tags": [],
            "needs_background": "light"
          }
        },
        {
          "output_type": "display_data",
          "data": {
            "image/png": "[encoded data removed]",
            "text/plain": [
              "<Figure size 432x288 with 1 Axes>"
            ]
          },
          "metadata": {
            "tags": [],
            "needs_background": "light"
          }
        }
      ]
    },
    {
      "cell_type": "code",
      "metadata": {
        "id": "D6jMHP3JmBIl",
        "colab_type": "code",
        "colab": {},
        "outputId": "247fc289-0cf7-4052-8702-340a115458a4"
      },
      "source": [
        "#\t\t3.3.2 trainset에 의한 과거 data의 예측 입국자 count \n",
        "\n",
        "predit_y = model.predict([train_x,train_news_x])\n",
        "predit_y,predit_y.shape"
      ],
      "execution_count": 0,
      "outputs": [
        {
          "output_type": "execute_result",
          "data": {
            "text/plain": [
              "(array([[ 8166.213  ,  8175.3535 ,  8809.898  , ...,  9648.949  ,\n",
              "          8905.425  ,  8881.696  ],\n",
              "        [10958.873  , 10957.378  , 11825.8    , ..., 12999.796  ,\n",
              "         11978.215  , 12022.246  ],\n",
              "        [13880.482  , 13869.52   , 15029.928  , ..., 16479.72   ,\n",
              "         15223.743  , 15395.3545 ],\n",
              "        ...,\n",
              "        [  617.5597 ,   639.03894,   628.35315, ...,   405.79144,\n",
              "           364.02985,   325.93152],\n",
              "        [  604.6073 ,   629.00525,   612.1487 , ...,   401.90808,\n",
              "           368.4408 ,   329.87842],\n",
              "        [  592.45044,   616.7271 ,   597.4231 , ...,   399.01672,\n",
              "           369.0478 ,   330.30753]], dtype=float32),\n",
              " (137, 15))"
            ]
          },
          "metadata": {
            "tags": []
          },
          "execution_count": 78
        }
      ]
    },
    {
      "cell_type": "code",
      "metadata": {
        "id": "AVcm1wJ6mBIo",
        "colab_type": "code",
        "colab": {},
        "outputId": "9f040ef7-4489-4e7a-8633-2aac8c00a29d"
      },
      "source": [
        "# window와 forecast_days에 의해 실제 날자와 차이나는 부분의 보정 처리...\n",
        "compare_backdata(predit_y)"
      ],
      "execution_count": 0,
      "outputs": [
        {
          "output_type": "display_data",
          "data": {
            "image/png": "[encoded data removed]",
            "text/plain": [
              "<Figure size 1152x576 with 1 Axes>"
            ]
          },
          "metadata": {
            "tags": [],
            "needs_background": "light"
          }
        }
      ]
    },
    {
      "cell_type": "code",
      "metadata": {
        "id": "KZrDFyAjmBIq",
        "colab_type": "code",
        "colab": {},
        "outputId": "eb212f97-6c94-4e8c-9673-35acb11fd9a7"
      },
      "source": [
        "# \t3.4  향후 15일 예측\n",
        "# \t\t3.4.1 testset (마지막 30일)의 inference\n",
        "\n",
        "predit_y = model.predict([test_x,test_news_x])\n",
        "predit_y,predit_y.shape"
      ],
      "execution_count": 0,
      "outputs": [
        {
          "output_type": "execute_result",
          "data": {
            "text/plain": [
              "(array([[470.35056, 483.44962, 466.5027 , 427.92148, 458.34576, 423.5922 ,\n",
              "         367.374  , 438.0581 , 391.18292, 390.96173, 404.6571 , 372.94894,\n",
              "         335.53146, 343.28748, 321.39862]], dtype=float32),\n",
              " (1, 15))"
            ]
          },
          "metadata": {
            "tags": []
          },
          "execution_count": 80
        }
      ]
    },
    {
      "cell_type": "code",
      "metadata": {
        "id": "mDnBRn2rmBIt",
        "colab_type": "code",
        "colab": {},
        "outputId": "6bfea1bb-cb5d-4b5c-9037-685cbbc894bf"
      },
      "source": [
        "# \t\t3.4.2 로밍등록자 예측 Count에서 실입국자 보정 처리 및 결과 표출\n",
        "\n",
        "display_result(predit_y)"
      ],
      "execution_count": 0,
      "outputs": [
        {
          "output_type": "execute_result",
          "data": {
            "text/html": [
              "<div>\n",
              "<style scoped>\n",
              "    .dataframe tbody tr th:only-of-type {\n",
              "        vertical-align: middle;\n",
              "    }\n",
              "\n",
              "    .dataframe tbody tr th {\n",
              "        vertical-align: top;\n",
              "    }\n",
              "\n",
              "    .dataframe thead th {\n",
              "        text-align: right;\n",
              "    }\n",
              "</style>\n",
              "<table border=\"1\" class=\"dataframe\">\n",
              "  <thead>\n",
              "    <tr style=\"text-align: right;\">\n",
              "      <th></th>\n",
              "      <th>date</th>\n",
              "      <th>roaming register forecate</th>\n",
              "      <th>immigrantion forecast</th>\n",
              "    </tr>\n",
              "  </thead>\n",
              "  <tbody>\n",
              "    <tr>\n",
              "      <th>0</th>\n",
              "      <td>2020-04-29</td>\n",
              "      <td>470.350555</td>\n",
              "      <td>1959</td>\n",
              "    </tr>\n",
              "    <tr>\n",
              "      <th>1</th>\n",
              "      <td>2020-04-30</td>\n",
              "      <td>483.449615</td>\n",
              "      <td>2014</td>\n",
              "    </tr>\n",
              "    <tr>\n",
              "      <th>2</th>\n",
              "      <td>2020-05-01</td>\n",
              "      <td>466.502686</td>\n",
              "      <td>1943</td>\n",
              "    </tr>\n",
              "    <tr>\n",
              "      <th>3</th>\n",
              "      <td>2020-05-02</td>\n",
              "      <td>427.921478</td>\n",
              "      <td>1783</td>\n",
              "    </tr>\n",
              "    <tr>\n",
              "      <th>4</th>\n",
              "      <td>2020-05-03</td>\n",
              "      <td>458.345764</td>\n",
              "      <td>1909</td>\n",
              "    </tr>\n",
              "    <tr>\n",
              "      <th>5</th>\n",
              "      <td>2020-05-04</td>\n",
              "      <td>423.592194</td>\n",
              "      <td>1764</td>\n",
              "    </tr>\n",
              "    <tr>\n",
              "      <th>6</th>\n",
              "      <td>2020-05-05</td>\n",
              "      <td>367.373993</td>\n",
              "      <td>1530</td>\n",
              "    </tr>\n",
              "    <tr>\n",
              "      <th>7</th>\n",
              "      <td>2020-05-06</td>\n",
              "      <td>438.058105</td>\n",
              "      <td>1825</td>\n",
              "    </tr>\n",
              "    <tr>\n",
              "      <th>8</th>\n",
              "      <td>2020-05-07</td>\n",
              "      <td>391.182922</td>\n",
              "      <td>1629</td>\n",
              "    </tr>\n",
              "    <tr>\n",
              "      <th>9</th>\n",
              "      <td>2020-05-08</td>\n",
              "      <td>390.961731</td>\n",
              "      <td>1629</td>\n",
              "    </tr>\n",
              "    <tr>\n",
              "      <th>10</th>\n",
              "      <td>2020-05-09</td>\n",
              "      <td>404.657104</td>\n",
              "      <td>1686</td>\n",
              "    </tr>\n",
              "    <tr>\n",
              "      <th>11</th>\n",
              "      <td>2020-05-10</td>\n",
              "      <td>372.948944</td>\n",
              "      <td>1553</td>\n",
              "    </tr>\n",
              "    <tr>\n",
              "      <th>12</th>\n",
              "      <td>2020-05-11</td>\n",
              "      <td>335.531464</td>\n",
              "      <td>1398</td>\n",
              "    </tr>\n",
              "    <tr>\n",
              "      <th>13</th>\n",
              "      <td>2020-05-12</td>\n",
              "      <td>343.287476</td>\n",
              "      <td>1430</td>\n",
              "    </tr>\n",
              "    <tr>\n",
              "      <th>14</th>\n",
              "      <td>2020-05-13</td>\n",
              "      <td>321.398621</td>\n",
              "      <td>1339</td>\n",
              "    </tr>\n",
              "  </tbody>\n",
              "</table>\n",
              "</div>"
            ],
            "text/plain": [
              "         date  roaming register forecate  immigrantion forecast\n",
              "0  2020-04-29                 470.350555                   1959\n",
              "1  2020-04-30                 483.449615                   2014\n",
              "2  2020-05-01                 466.502686                   1943\n",
              "3  2020-05-02                 427.921478                   1783\n",
              "4  2020-05-03                 458.345764                   1909\n",
              "5  2020-05-04                 423.592194                   1764\n",
              "6  2020-05-05                 367.373993                   1530\n",
              "7  2020-05-06                 438.058105                   1825\n",
              "8  2020-05-07                 391.182922                   1629\n",
              "9  2020-05-08                 390.961731                   1629\n",
              "10 2020-05-09                 404.657104                   1686\n",
              "11 2020-05-10                 372.948944                   1553\n",
              "12 2020-05-11                 335.531464                   1398\n",
              "13 2020-05-12                 343.287476                   1430\n",
              "14 2020-05-13                 321.398621                   1339"
            ]
          },
          "metadata": {
            "tags": []
          },
          "execution_count": 81
        },
        {
          "output_type": "display_data",
          "data": {
            "image/png": "[encoded data removed]",
            "text/plain": [
              "<Figure size 432x288 with 1 Axes>"
            ]
          },
          "metadata": {
            "tags": [],
            "needs_background": "light"
          }
        }
      ]
    },
    {
      "cell_type": "code",
      "metadata": {
        "id": "SzoN4nPCmBIv",
        "colab_type": "code",
        "colab": {},
        "outputId": "50701af6-d3e8-4893-9843-cec928899df1"
      },
      "source": [
        "#\t3.5 ensemble에 의한 일관된 결과 예측\n",
        "#\t\t3.5.1 ensemble model 생성\n",
        "\n",
        "# 일관된 예측 결과를 만들기 위해, 동일 모델 10개의 앙상블 처리\n",
        "# 시간 무지 오래 걸림 식사하고 오세요~\n",
        "# 밥먹고 왔는데 중간에 실패 (Resource exhaustion) 되어 있을 수 있음...\n",
        "# 너무 오래 걸리면, epoch=200 을 조정 한다.\n",
        "import dill\n",
        "\n",
        "ensemble = []\n",
        "for i in range(2):\n",
        "  model,hist = train_combined_model(i+1,epochs=2,verbose=0)\n",
        "  ensemble.append(model)\n",
        "    \n",
        "print(\"Wait! saving model...\")    \n",
        "file = open(\"ensemble.mdl\", 'wb')\n",
        "dill.dump(ensemble, file)\n",
        "file.close()\n",
        "        \n",
        "print(\"Complete!!\")\n"
      ],
      "execution_count": 0,
      "outputs": [
        {
          "output_type": "stream",
          "text": [
            "1 th Trial\n",
            "learning:[==] 2/2 {'loss': 106064724.20437956, 'mae': 8264.592, 'acc': 0.03649635}\n",
            "2 th Trial\n",
            "learning:[==] 2/2 {'loss': 93272686.3649635, 'mae': 7662.4473, 'acc': 0.02189781}94}\n",
            "Wait! saving model...\n",
            "Complete!!\n"
          ],
          "name": "stdout"
        }
      ]
    },
    {
      "cell_type": "code",
      "metadata": {
        "id": "W8amtHQxmBI0",
        "colab_type": "code",
        "colab": {},
        "outputId": "5ccfe8b0-6022-47a3-ca77-a6e0aeb80715"
      },
      "source": [
        "if True == 1:\n",
        "    print(\"load from model file...\")\n",
        "    file = open(\"ensemble.mdl\", 'rb')\n",
        "    ensemble = dill.load(file)\n",
        "    file.close()\n",
        "\n",
        "# \t\tensemble_predict method define~\n",
        "def ensemble_predict(input_roam,input_news):\n",
        "\n",
        "    ensemble_predit_y =  np.asarray([m.predict([input_roam,input_news]) for m in ensemble])\n",
        "    predit_y = np.mean(ensemble_predit_y,axis=0)\n",
        "    return predit_y  "
      ],
      "execution_count": 0,
      "outputs": [
        {
          "output_type": "stream",
          "text": [
            "load from model file...\n"
          ],
          "name": "stdout"
        }
      ]
    },
    {
      "cell_type": "code",
      "metadata": {
        "id": "cDrxpZgrmBI5",
        "colab_type": "code",
        "colab": {},
        "outputId": "ebfb7a02-9797-48b9-c3c7-4ca5625a436c"
      },
      "source": [
        "# trainset에 의한 과거 data의 예측 입국자 count \n",
        "\n",
        "predit_y = ensemble_predict(train_x,train_news_x)\n",
        "predit_y,predit_y.shape"
      ],
      "execution_count": 0,
      "outputs": [
        {
          "output_type": "execute_result",
          "data": {
            "text/plain": [
              "(array([[1454.8618, 1341.3677, 1642.5879, ..., 1517.7333, 1477.5427,\n",
              "         1275.5654],\n",
              "        [1881.94  , 1736.8428, 2119.0366, ..., 1988.1199, 1928.3378,\n",
              "         1646.5934],\n",
              "        [2390.962 , 2196.547 , 2680.6392, ..., 2554.4556, 2453.9478,\n",
              "         2121.4321],\n",
              "        ...,\n",
              "        [1690.4011, 1610.4551, 1427.3438, ..., 1220.7158, 1175.4958,\n",
              "         1329.4995],\n",
              "        [1601.1267, 1528.0276, 1360.685 , ..., 1165.6377, 1122.4569,\n",
              "         1260.7192],\n",
              "        [1516.5452, 1458.0227, 1296.9839, ..., 1117.3247, 1073.4426,\n",
              "         1195.729 ]], dtype=float32),\n",
              " (137, 15))"
            ]
          },
          "metadata": {
            "tags": []
          },
          "execution_count": 93
        }
      ]
    },
    {
      "cell_type": "code",
      "metadata": {
        "id": "GWv2JPqvmBJB",
        "colab_type": "code",
        "colab": {},
        "outputId": "8709e595-6262-45c4-80e4-60086c39eac5"
      },
      "source": [
        "compare_backdata(predit_y)"
      ],
      "execution_count": 0,
      "outputs": [
        {
          "output_type": "display_data",
          "data": {
            "image/png": "[encoded data removed]",
            "text/plain": [
              "<Figure size 1152x576 with 1 Axes>"
            ]
          },
          "metadata": {
            "tags": [],
            "needs_background": "light"
          }
        }
      ]
    },
    {
      "cell_type": "code",
      "metadata": {
        "id": "_W0vj27HmBJE",
        "colab_type": "code",
        "colab": {},
        "outputId": "74e3b0d6-92b5-4f84-c6b3-10e4cb286665"
      },
      "source": [
        "# \n",
        "test_x = test_x.reshape(-1,window,size)\n",
        "test_news_x = test_news_x.reshape(-1,max_buz_per_day,vec_size,news_window)\n",
        "\n",
        "predit_y = ensemble_predict(test_x,test_news_x)\n",
        "predit_y, predit_y.shape"
      ],
      "execution_count": 0,
      "outputs": [
        {
          "output_type": "execute_result",
          "data": {
            "text/plain": [
              "(array([[682.4151 , 709.5459 , 620.25616, 255.07553, 449.54132, 558.4869 ,\n",
              "         488.46152, 724.5994 , 557.08655, 596.8591 , 696.68146, 423.2028 ,\n",
              "         453.44028, 647.7956 , 311.1008 ]], dtype=float32),\n",
              " (1, 15))"
            ]
          },
          "metadata": {
            "tags": []
          },
          "execution_count": 73
        }
      ]
    },
    {
      "cell_type": "code",
      "metadata": {
        "id": "VdUURU_omBJI",
        "colab_type": "code",
        "colab": {},
        "outputId": "21399d47-191b-4dfa-d913-8aa56f72fe89"
      },
      "source": [
        "#\t\t3.5.2 최종 결과\n",
        "display_result(predit_y)"
      ],
      "execution_count": 0,
      "outputs": [
        {
          "output_type": "execute_result",
          "data": {
            "text/html": [
              "<div>\n",
              "<style scoped>\n",
              "    .dataframe tbody tr th:only-of-type {\n",
              "        vertical-align: middle;\n",
              "    }\n",
              "\n",
              "    .dataframe tbody tr th {\n",
              "        vertical-align: top;\n",
              "    }\n",
              "\n",
              "    .dataframe thead th {\n",
              "        text-align: right;\n",
              "    }\n",
              "</style>\n",
              "<table border=\"1\" class=\"dataframe\">\n",
              "  <thead>\n",
              "    <tr style=\"text-align: right;\">\n",
              "      <th></th>\n",
              "      <th>date</th>\n",
              "      <th>roaming register forecate</th>\n",
              "      <th>immigrantion forecast</th>\n",
              "    </tr>\n",
              "  </thead>\n",
              "  <tbody>\n",
              "    <tr>\n",
              "      <th>0</th>\n",
              "      <td>2020-04-29</td>\n",
              "      <td>682.415100</td>\n",
              "      <td>2843</td>\n",
              "    </tr>\n",
              "    <tr>\n",
              "      <th>1</th>\n",
              "      <td>2020-04-30</td>\n",
              "      <td>709.545898</td>\n",
              "      <td>2956</td>\n",
              "    </tr>\n",
              "    <tr>\n",
              "      <th>2</th>\n",
              "      <td>2020-05-01</td>\n",
              "      <td>620.256165</td>\n",
              "      <td>2584</td>\n",
              "    </tr>\n",
              "    <tr>\n",
              "      <th>3</th>\n",
              "      <td>2020-05-02</td>\n",
              "      <td>255.075531</td>\n",
              "      <td>1062</td>\n",
              "    </tr>\n",
              "    <tr>\n",
              "      <th>4</th>\n",
              "      <td>2020-05-03</td>\n",
              "      <td>449.541321</td>\n",
              "      <td>1873</td>\n",
              "    </tr>\n",
              "    <tr>\n",
              "      <th>5</th>\n",
              "      <td>2020-05-04</td>\n",
              "      <td>558.486877</td>\n",
              "      <td>2327</td>\n",
              "    </tr>\n",
              "    <tr>\n",
              "      <th>6</th>\n",
              "      <td>2020-05-05</td>\n",
              "      <td>488.461517</td>\n",
              "      <td>2035</td>\n",
              "    </tr>\n",
              "    <tr>\n",
              "      <th>7</th>\n",
              "      <td>2020-05-06</td>\n",
              "      <td>724.599426</td>\n",
              "      <td>3019</td>\n",
              "    </tr>\n",
              "    <tr>\n",
              "      <th>8</th>\n",
              "      <td>2020-05-07</td>\n",
              "      <td>557.086548</td>\n",
              "      <td>2321</td>\n",
              "    </tr>\n",
              "    <tr>\n",
              "      <th>9</th>\n",
              "      <td>2020-05-08</td>\n",
              "      <td>596.859070</td>\n",
              "      <td>2486</td>\n",
              "    </tr>\n",
              "    <tr>\n",
              "      <th>10</th>\n",
              "      <td>2020-05-09</td>\n",
              "      <td>696.681458</td>\n",
              "      <td>2902</td>\n",
              "    </tr>\n",
              "    <tr>\n",
              "      <th>11</th>\n",
              "      <td>2020-05-10</td>\n",
              "      <td>423.202789</td>\n",
              "      <td>1763</td>\n",
              "    </tr>\n",
              "    <tr>\n",
              "      <th>12</th>\n",
              "      <td>2020-05-11</td>\n",
              "      <td>453.440277</td>\n",
              "      <td>1889</td>\n",
              "    </tr>\n",
              "    <tr>\n",
              "      <th>13</th>\n",
              "      <td>2020-05-12</td>\n",
              "      <td>647.795593</td>\n",
              "      <td>2699</td>\n",
              "    </tr>\n",
              "    <tr>\n",
              "      <th>14</th>\n",
              "      <td>2020-05-13</td>\n",
              "      <td>311.100800</td>\n",
              "      <td>1296</td>\n",
              "    </tr>\n",
              "  </tbody>\n",
              "</table>\n",
              "</div>"
            ],
            "text/plain": [
              "         date  roaming register forecate  immigrantion forecast\n",
              "0  2020-04-29                 682.415100                   2843\n",
              "1  2020-04-30                 709.545898                   2956\n",
              "2  2020-05-01                 620.256165                   2584\n",
              "3  2020-05-02                 255.075531                   1062\n",
              "4  2020-05-03                 449.541321                   1873\n",
              "5  2020-05-04                 558.486877                   2327\n",
              "6  2020-05-05                 488.461517                   2035\n",
              "7  2020-05-06                 724.599426                   3019\n",
              "8  2020-05-07                 557.086548                   2321\n",
              "9  2020-05-08                 596.859070                   2486\n",
              "10 2020-05-09                 696.681458                   2902\n",
              "11 2020-05-10                 423.202789                   1763\n",
              "12 2020-05-11                 453.440277                   1889\n",
              "13 2020-05-12                 647.795593                   2699\n",
              "14 2020-05-13                 311.100800                   1296"
            ]
          },
          "metadata": {
            "tags": []
          },
          "execution_count": 74
        },
        {
          "output_type": "display_data",
          "data": {
            "image/png": "[encoded data removed]",
            "text/plain": [
              "<Figure size 432x288 with 1 Axes>"
            ]
          },
          "metadata": {
            "tags": [],
            "needs_background": "light"
          }
        }
      ]
    },
    {
      "cell_type": "code",
      "metadata": {
        "id": "PeRa_8pBmBJK",
        "colab_type": "code",
        "colab": {}
      },
      "source": [
        ""
      ],
      "execution_count": 0,
      "outputs": []
    }
  ]
}